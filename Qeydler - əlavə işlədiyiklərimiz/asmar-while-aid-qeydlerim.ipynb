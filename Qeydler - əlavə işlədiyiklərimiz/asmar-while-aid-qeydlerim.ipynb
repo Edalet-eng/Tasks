{
 "cells": [
  {
   "cell_type": "markdown",
   "id": "9a74ecc3",
   "metadata": {},
   "source": [
    "# Exercise 1. Movie Tickets: \n",
    "\n",
    "A movie theater charges different ticket prices depending on a person’s age.\n",
    "If a person is under the age of 3, the ticket is free; if they are between 3 and 12, \n",
    "the ticket is $10; and if they are over age 12, the ticket is $15. \n",
    "Write a loop in which you ask users their age, and then tell them the cost of \n",
    "their movie ticket."
   ]
  },
  {
   "cell_type": "code",
   "execution_count": 2,
   "id": "85c15d85",
   "metadata": {},
   "outputs": [
    {
     "name": "stdout",
     "output_type": "stream",
     "text": [
      "Daxil edin: 45\n",
      "The ticket is $15\n"
     ]
    }
   ],
   "source": [
    "age= int(input('Daxil edin: '))\n",
    "if age<=3:\n",
    "    print('The ticket is free')\n",
    "elif 3<age<=12:\n",
    "    print('The ticket is $10')\n",
    "elif age>12:\n",
    "    print('The ticket is $15')"
   ]
  },
  {
   "cell_type": "markdown",
   "id": "9059950a",
   "metadata": {},
   "source": [
    "# Exercise 2. Dream Vacation: \n",
    "\n",
    "Write a program that polls users about their dream vacation. Write a prompt similar to \n",
    "\"If you could visit one place in the world, where would you go?\" \n",
    "Include a block of code that prints the results of the poll."
   ]
  },
  {
   "cell_type": "code",
   "execution_count": 3,
   "id": "c3db4c75",
   "metadata": {},
   "outputs": [
    {
     "name": "stdout",
     "output_type": "stream",
     "text": [
      "If you could visit one place in the world, where would you go?Baku\n",
      "If you could visit one place in the world, where would you go?Isvecre\n",
      "If you could visit one place in the world, where would you go?Roma\n",
      "['Baku', 'Isvecre', 'Roma']\n"
     ]
    }
   ],
   "source": [
    "asmar=input('If you could visit one place in the world, where would you go?')\n",
    "sevinc=input('If you could visit one place in the world, where would you go?')\n",
    "aygun=input('If you could visit one place in the world, where would you go?')\n",
    "neticeler=[]\n",
    "neticeler.append(asmar)\n",
    "neticeler.append(sevinc)\n",
    "neticeler.append(aygun)\n",
    "print(neticeler)"
   ]
  },
  {
   "cell_type": "markdown",
   "id": "6e556aeb",
   "metadata": {},
   "source": [
    "# Exercise 3. Paytaxt\n",
    "\n",
    "Userden Azerbaycanin paytaxtini soruşsunlar, \n",
    "user düz cavab verene kimi sorgu davam elesin. \n",
    "Boyuk, kicik herflere diqqet ele."
   ]
  },
  {
   "cell_type": "code",
   "execution_count": 7,
   "id": "ac5ea893",
   "metadata": {},
   "outputs": [
    {
     "name": "stdout",
     "output_type": "stream",
     "text": [
      "Azərbaycanın paytaxtı haradır? Agsu\n",
      "Azərbaycanın paytaxtı haradır? Oguz\n",
      "Azərbaycanın paytaxtı haradır? Baku\n",
      "Beli, dogrudur\n"
     ]
    }
   ],
   "source": [
    "while True:\n",
    "    user= input('Azərbaycanın paytaxtı haradır? ')\n",
    "    if user=='Baku':\n",
    "        print('Beli, dogrudur')\n",
    "        break\n"
   ]
  },
  {
   "cell_type": "markdown",
   "id": "44df9773",
   "metadata": {},
   "source": [
    "# Exercise 4. Create a program that asks the user to guess a randomly generated secret number \n",
    "\n",
    "(from 1 to 12 inclusive). If the user enters a number that is less or greater than \n",
    "secret number, display corresponding message. The user can guess only 4 times. \n",
    "The program doesn't stop until the user guesses the secret number or the attempt limit is reached. \n",
    "Display the amount of attempts it took for the user to guess the secret number"
   ]
  },
  {
   "cell_type": "code",
   "execution_count": 44,
   "id": "a2149538",
   "metadata": {},
   "outputs": [
    {
     "name": "stdout",
     "output_type": "stream",
     "text": [
      "Texmin edin: 23\n",
      "Asagi yenin\n",
      "Texmin edin: 45\n",
      "Asagi yenin\n",
      "Texmin edin: 7\n",
      "Dogru tapdiniz\n"
     ]
    }
   ],
   "source": [
    "limit=4\n",
    "cehd=0\n",
    "while cehd<limit:\n",
    "    user=int(input('Texmin edin: '))\n",
    "    if user<7:\n",
    "        print('Yuxari qalxin')\n",
    "        break\n",
    "    elif user>7:\n",
    "        print('Asagi yenin')\n",
    "    \n",
    "    else:\n",
    "        print('Dogru tapdiniz') \n",
    "        break\n",
    "    cehd+=1\n",
    "if cehd==limit:\n",
    "    print('Siz uduzdunuz')\n",
    "        "
   ]
  },
  {
   "cell_type": "code",
   "execution_count": 45,
   "id": "818a7817",
   "metadata": {},
   "outputs": [
    {
     "name": "stdout",
     "output_type": "stream",
     "text": [
      "Texmin edin: 34\n",
      "Asagi yenin\n",
      "Texmin edin: 23\n",
      "Asagi yenin\n",
      "Texmin edin: 45\n",
      "Asagi yenin\n",
      "Texmin edin: 23\n",
      "Asagi yenin\n",
      "Siz uduzdunuz\n"
     ]
    }
   ],
   "source": [
    "limit=4\n",
    "cehd=0\n",
    "while cehd<limit:\n",
    "    user=int(input('Texmin edin: '))\n",
    "    if user<7:\n",
    "        print('Yuxari qalxin')\n",
    "        break\n",
    "    elif user>7:\n",
    "        print('Asagi yenin')\n",
    "    \n",
    "    else:\n",
    "        print('Dogru tapdiniz') \n",
    "        break\n",
    "    cehd+=1\n",
    "if cehd==limit:\n",
    "    print('Siz uduzdunuz')\n",
    "   "
   ]
  },
  {
   "cell_type": "markdown",
   "id": "db4a23dc",
   "metadata": {},
   "source": [
    "# Exercise 5. Bankomat sistemi \n",
    "\n",
    "Müəyyən balansın olsun, və pin kodun olsun. \n",
    "Pin kodu düz yazsan, səndən nə eləmək istədiyini sorussun, \n",
    "1 basanda karta mueyyen pul yukleme, 2 basanda kartdan mueyyen balans cixma, \n",
    "3 basanda proqrami umumi baglamaq olsun. pin sehv yazdiqda, \n",
    "yeniden sorussun pini. bu biraz cox alqoritm teleb edecek. diqqetli ol"
   ]
  },
  {
   "cell_type": "code",
   "execution_count": 52,
   "id": "98cefeea",
   "metadata": {},
   "outputs": [
    {
     "name": "stdout",
     "output_type": "stream",
     "text": [
      "Kodu daxil edin: esm\n",
      "Kodu daxil edin: esmer\n",
      "Kodu daxil edin: varliesmer\n",
      "Bir duymeye basin: 2\n",
      "199800\n"
     ]
    }
   ],
   "source": [
    "Balans_azn = 200000\n",
    "pin = 'varliesmer'\n",
    "while True:\n",
    "    user=input('Kodu daxil edin: ')\n",
    "    if user==pin:\n",
    "        secin=int(input('Bir duymeye basin: '))\n",
    "        if secin==1:\n",
    "            print(Balans_azn+200)\n",
    "            break\n",
    "        elif secin==2:\n",
    "            print(Balans_azn-200)\n",
    "            break\n",
    "        elif secin==3:\n",
    "            print('proqrami umumi baglansin')\n",
    "            break"
   ]
  },
  {
   "cell_type": "markdown",
   "id": "7b8b0e87",
   "metadata": {},
   "source": [
    "# Exercise 6.   0-la quit: \n",
    "\n",
    "userden nese sorus, cavabi 0 olsa quit ele, dayandir"
   ]
  },
  {
   "cell_type": "code",
   "execution_count": 55,
   "id": "e682ca10",
   "metadata": {},
   "outputs": [
    {
     "name": "stdout",
     "output_type": "stream",
     "text": [
      "Elementin uzvluk derecesi neçedir? 3\n",
      "Elementin uzvluk derecesi neçedir? 4\n",
      "Elementin uzvluk derecesi neçedir? 5\n",
      "Elementin uzvluk derecesi neçedir? 0\n",
      "Dogrudur\n"
     ]
    }
   ],
   "source": [
    "while True:\n",
    "    user=input('Elementin uzvluk derecesi neçedir? ')\n",
    "    if user=='0':\n",
    "        print('Dogrudur')\n",
    "        break"
   ]
  },
  {
   "cell_type": "markdown",
   "id": "c11e002d",
   "metadata": {},
   "source": [
    "# Exercise 7.  Create a simple calculator \n",
    "\n",
    "that repeatedly asks the user for two numbers and an operation (add, subtract, multiply, divide) \n",
    "to perform on them. The loop should continue until the user chooses to exit. \n",
    "Operations: [1] Add [2] Subtract [3] Multiply [4] Divide [5] Exit"
   ]
  },
  {
   "cell_type": "code",
   "execution_count": 58,
   "id": "54ca55d6",
   "metadata": {},
   "outputs": [
    {
     "name": "stdout",
     "output_type": "stream",
     "text": [
      "Daxil edin birinci ededi: 12\n",
      "Daxil edin ikinci ededi: 23\n",
      "Istediyiniz emeliyyatdi daxil edin (+,-,*,/):  +\n",
      "35\n"
     ]
    }
   ],
   "source": [
    "number1=int(input('Daxil edin birinci ededi: '))\n",
    "number2=int(input('Daxil edin ikinci ededi: '))\n",
    "emeliyyat=input('Istediyiniz emeliyyatdi daxil edin (+,-,*,/):  ')\n",
    "while True:\n",
    "    if emeliyyat=='+':\n",
    "        print(number1+number2)\n",
    "        break\n",
    "    elif emeliyyat=='-':\n",
    "        print(number1-number2)\n",
    "    elif emeliyyat=='*':\n",
    "        print(number1a*number2)\n",
    "    elif emeliyyat=='/':\n",
    "        print(number1/number2)\n",
    "        user=input('Cixmaq isteyirsiniz? ')\n",
    "    elif emeliyyat=='exit':\n",
    "        print('Cixdiniz')\n",
    "        break"
   ]
  },
  {
   "cell_type": "code",
   "execution_count": 60,
   "id": "732c34b9",
   "metadata": {},
   "outputs": [
    {
     "name": "stdout",
     "output_type": "stream",
     "text": [
      "Daxil edin birinci ededi: 12\n",
      "Daxil edin ikinci ededi: 23\n",
      "Istediyiniz emeliyyatdi daxil edin (+,-,*,/):  exit\n",
      "Cixdiniz\n"
     ]
    }
   ],
   "source": [
    "number1=int(input('Daxil edin birinci ededi: '))\n",
    "number2=int(input('Daxil edin ikinci ededi: '))\n",
    "emeliyyat=input('Istediyiniz emeliyyatdi daxil edin (+,-,*,/):  ')\n",
    "while True:\n",
    "    if emeliyyat=='+':\n",
    "        print(number1+number2)\n",
    "        break\n",
    "    elif emeliyyat=='-':\n",
    "        print(number1-number2)\n",
    "    elif emeliyyat=='*':\n",
    "        print(number1a*number2)\n",
    "    elif emeliyyat=='/':\n",
    "        print(number1/number2)\n",
    "        user=input('Cixmaq isteyirsiniz? ')\n",
    "    elif emeliyyat=='exit':\n",
    "        print('Cixdiniz')\n",
    "        break"
   ]
  },
  {
   "cell_type": "markdown",
   "id": "3fe9fd56",
   "metadata": {},
   "source": [
    "# Exercise 8: Sum of Squares of Even Numbers\n",
    "\n",
    "Write a Python program that calculates the sum of the squares \n",
    "of all even numbers between 1 and 100. Use a `while` loop to iterate \n",
    "through the numbers and keep a running total of the squares of the even numbers. \n",
    "The program should print the final sum once the loop completes."
   ]
  },
  {
   "cell_type": "code",
   "execution_count": 99,
   "id": "f178ac7c",
   "metadata": {},
   "outputs": [
    {
     "name": "stdout",
     "output_type": "stream",
     "text": [
      "171700\n"
     ]
    }
   ],
   "source": [
    "cem=0\n",
    "cut=2\n",
    "while cut<=100:  \n",
    "    x= cut**2\n",
    "    cem+=x\n",
    "    cut+=2\n",
    "print(cem)\n",
    "    "
   ]
  },
  {
   "cell_type": "markdown",
   "id": "b51791c8",
   "metadata": {},
   "source": [
    "# Exercise 9: Sum of Digits Until Single Digit\n",
    "\n",
    "Write a Python program that repeatedly sums the digits of a given \n",
    "positive integer until the result is a single digit. For example, if the input is\n",
    "9875, the program should calculate 9 + 8 + 7 + 5 = 29, then 2 + 9 = 11, \n",
    "and finally 1 + 1 = 2. Use a `while` \n",
    "loop to perform the repeated summation and print the final single-digit result."
   ]
  },
  {
   "cell_type": "markdown",
   "id": "53b0aec8",
   "metadata": {},
   "source": [
    "Nəticə tək rəqəm olana qədər verilmiş müsbət tam ədədin rəqəmlərini təkrar-təkrar cəmləyən Python proqramı yazın. Məsələn, giriş 9875-dirsə, proqram 9 + 8 + 7 + 5 = 29, sonra 2 + 9 = 11 və nəhayət 1 + 1 = 2 hesablamalıdır. Təkrar toplamanı yerinə yetirmək üçün \"while\" döngəsindən istifadə edin və son birrəqəmli nəticəni çap edin."
   ]
  },
  {
   "cell_type": "code",
   "execution_count": 111,
   "id": "3a9a67b6",
   "metadata": {},
   "outputs": [
    {
     "name": "stdout",
     "output_type": "stream",
     "text": [
      "Daxil edin: 23\n"
     ]
    },
    {
     "ename": "TypeError",
     "evalue": "unsupported operand type(s) for +=: 'int' and 'list'",
     "output_type": "error",
     "traceback": [
      "\u001b[1;31m---------------------------------------------------------------------------\u001b[0m",
      "\u001b[1;31mTypeError\u001b[0m                                 Traceback (most recent call last)",
      "Cell \u001b[1;32mIn[111], line 6\u001b[0m\n\u001b[0;32m      4\u001b[0m \u001b[38;5;28;01mwhile\u001b[39;00m \u001b[38;5;28;01mTrue\u001b[39;00m:\n\u001b[0;32m      5\u001b[0m     cemler\u001b[38;5;241m.\u001b[39mappend(user)\n\u001b[1;32m----> 6\u001b[0m     cem \u001b[38;5;241m+\u001b[39m\u001b[38;5;241m=\u001b[39m cemler\n\u001b[0;32m      7\u001b[0m \u001b[38;5;28mprint\u001b[39m(cem)\n",
      "\u001b[1;31mTypeError\u001b[0m: unsupported operand type(s) for +=: 'int' and 'list'"
     ]
    }
   ],
   "source": [
    "user=int(input('Daxil edin: '))\n",
    "cem=0\n",
    "cemler=''\n",
    "while True:\n",
    "    cemler.append(user)\n",
    "    cem += cemler\n",
    "print(cem)"
   ]
  },
  {
   "cell_type": "markdown",
   "id": "6e47209e",
   "metadata": {},
   "source": [
    "# Exercise 10. Sum of Odd Numbers: \n",
    "\n",
    "Write a program to find the sum of all odd numbers between 1 and 100."
   ]
  },
  {
   "cell_type": "code",
   "execution_count": 125,
   "id": "1446f034",
   "metadata": {},
   "outputs": [
    {
     "name": "stdout",
     "output_type": "stream",
     "text": [
      "2500\n"
     ]
    }
   ],
   "source": [
    "cem=0\n",
    "tek=1\n",
    "while tek<=100:\n",
    "    cem+=tek\n",
    "    tek+=2\n",
    "print(cem)"
   ]
  },
  {
   "cell_type": "markdown",
   "id": "ab049018",
   "metadata": {},
   "source": [
    "# Exercise 11. Sum of Even Numbers: \n",
    "\n",
    "Write a program to find the sum of all even numbers between 1 and 100."
   ]
  },
  {
   "cell_type": "code",
   "execution_count": 126,
   "id": "809341e8",
   "metadata": {},
   "outputs": [
    {
     "name": "stdout",
     "output_type": "stream",
     "text": [
      "2550\n"
     ]
    }
   ],
   "source": [
    "cem=0\n",
    "cut=2\n",
    "while cut<=100:\n",
    "    cem+=cut\n",
    "    cut+=2\n",
    "print(cem)"
   ]
  },
  {
   "cell_type": "markdown",
   "id": "69be17a6",
   "metadata": {},
   "source": [
    "# Exercise 12. Power Calculation: \n",
    "\n",
    "Write a program to calculate the power of a number using repeated multiplication."
   ]
  },
  {
   "cell_type": "code",
   "execution_count": 130,
   "id": "be8729e1",
   "metadata": {},
   "outputs": [
    {
     "name": "stdout",
     "output_type": "stream",
     "text": [
      "Ededi daxil edin: 3\n",
      "Quvveti daxil edin: 3\n",
      "27\n"
     ]
    }
   ],
   "source": [
    "user=int(input('Ededi daxil edin: '))\n",
    "quvvet=int(input('Quvveti daxil edin: '))\n",
    "hasil=1\n",
    "while True:\n",
    "    hasil=user**quvvet\n",
    "    print(hasil)\n",
    "    break"
   ]
  },
  {
   "cell_type": "markdown",
   "id": "12ff1fd8",
   "metadata": {},
   "source": [
    "# Exercise 13. Remove Vowels:  !!!\n",
    "\n",
    "Write a program to remove all vowels from a given string."
   ]
  },
  {
   "cell_type": "code",
   "execution_count": 137,
   "id": "f54ad5fa",
   "metadata": {},
   "outputs": [
    {
     "name": "stdout",
     "output_type": "stream",
     "text": [
      "Daxil edin: esm\n"
     ]
    },
    {
     "ename": "KeyboardInterrupt",
     "evalue": "",
     "output_type": "error",
     "traceback": [
      "\u001b[1;31m---------------------------------------------------------------------------\u001b[0m",
      "\u001b[1;31mKeyboardInterrupt\u001b[0m                         Traceback (most recent call last)",
      "Cell \u001b[1;32mIn[137], line 4\u001b[0m\n\u001b[0;32m      2\u001b[0m saitler\u001b[38;5;241m=\u001b[39m\u001b[38;5;124m'\u001b[39m\u001b[38;5;124maieöüouıə\u001b[39m\u001b[38;5;124m'\u001b[39m\n\u001b[0;32m      3\u001b[0m a\u001b[38;5;241m=\u001b[39m[]\n\u001b[1;32m----> 4\u001b[0m \u001b[38;5;28;01mwhile\u001b[39;00m \u001b[38;5;28;01mTrue\u001b[39;00m:\n\u001b[0;32m      5\u001b[0m     \u001b[38;5;28;01mif\u001b[39;00m user \u001b[38;5;129;01min\u001b[39;00m \u001b[38;5;124m'\u001b[39m\u001b[38;5;124maieöüouıə\u001b[39m\u001b[38;5;124m'\u001b[39m:\n\u001b[0;32m      6\u001b[0m         a\u001b[38;5;241m.\u001b[39mremove(user)\n",
      "\u001b[1;31mKeyboardInterrupt\u001b[0m: "
     ]
    }
   ],
   "source": [
    "user=input('Daxil edin: ')\n",
    "saitler='aieöüouıə'\n",
    "a=[]\n",
    "while True:\n",
    "    if user in 'aieöüouıə':\n",
    "        a.remove(user)\n",
    "print(a)"
   ]
  },
  {
   "cell_type": "markdown",
   "id": "b6b47d3c",
   "metadata": {},
   "source": [
    "# Exercise 12. !!!\n",
    "\n",
    "user input girsin iki dene, ilk inputdan diger inputa qeder her seyi vursun"
   ]
  },
  {
   "cell_type": "code",
   "execution_count": 147,
   "id": "e5e3dea8",
   "metadata": {},
   "outputs": [
    {
     "name": "stdout",
     "output_type": "stream",
     "text": [
      "Ededi daxil edin: 34\n",
      "Quvveti daxil edin: 23\n",
      "1\n"
     ]
    }
   ],
   "source": [
    "eded1=int(input('Ededi daxil edin: '))\n",
    "eded2=int(input('Quvveti daxil edin: '))\n",
    "\n",
    "\n",
    "while eded1<=i<=eded2:\n",
    "    n= i + 1\n",
    "    hasil=i*(i+n)\n",
    "    \n",
    "print(hasil)"
   ]
  },
  {
   "cell_type": "code",
   "execution_count": null,
   "id": "d9cf7d00",
   "metadata": {},
   "outputs": [],
   "source": []
  }
 ],
 "metadata": {
  "kernelspec": {
   "display_name": "Python 3 (ipykernel)",
   "language": "python",
   "name": "python3"
  },
  "language_info": {
   "codemirror_mode": {
    "name": "ipython",
    "version": 3
   },
   "file_extension": ".py",
   "mimetype": "text/x-python",
   "name": "python",
   "nbconvert_exporter": "python",
   "pygments_lexer": "ipython3",
   "version": "3.11.5"
  }
 },
 "nbformat": 4,
 "nbformat_minor": 5
}
