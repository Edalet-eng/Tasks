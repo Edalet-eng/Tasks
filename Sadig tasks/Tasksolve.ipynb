{
 "cells": [
  {
   "cell_type": "markdown",
   "id": "ff792960",
   "metadata": {},
   "source": [
    "## Variables, user-input, arithmetical operators."
   ]
  },
  {
   "cell_type": "markdown",
   "id": "20bbdb54",
   "metadata": {},
   "source": [
    "Iki dəyişən yaradin (ədədlər), onların cəmini tapıb, göstərin."
   ]
  },
  {
   "cell_type": "code",
   "execution_count": null,
   "id": "fee42555",
   "metadata": {},
   "outputs": [],
   "source": [
    "a = 5\n",
    "b = 10\n",
    "print(a+b)"
   ]
  },
  {
   "cell_type": "markdown",
   "id": "b3d3e899",
   "metadata": {},
   "source": [
    "Bir dəyişən yaradın (ədəd), növbəti ədədi göstərin."
   ]
  },
  {
   "cell_type": "code",
   "execution_count": null,
   "id": "d9a4dc7e",
   "metadata": {},
   "outputs": [],
   "source": [
    "a = 5\n",
    "a = 7\n",
    "print(a)"
   ]
  },
  {
   "cell_type": "markdown",
   "id": "05bd9e01",
   "metadata": {},
   "source": [
    "User-in adını soruşun. Daxil olunan qiyməti dəyişəndə saxlayıb, göstərin."
   ]
  },
  {
   "cell_type": "code",
   "execution_count": null,
   "id": "cebef3e7",
   "metadata": {},
   "outputs": [],
   "source": [
    "ad = input(\"Your Name: \")\n",
    "print(ad)"
   ]
  },
  {
   "cell_type": "markdown",
   "id": "ccc267f9",
   "metadata": {},
   "source": [
    "İki dəyişən yaradın (ədədlər). Onların qiymətini user müəyyən edir. İki ədədin cəmini göstərin"
   ]
  },
  {
   "cell_type": "code",
   "execution_count": null,
   "id": "24d749e4",
   "metadata": {},
   "outputs": [],
   "source": [
    "a = int(input(\"Number one: \"))\n",
    "b = int(input(\"Number two: \"))\n",
    "print(a+b)"
   ]
  },
  {
   "cell_type": "markdown",
   "id": "bd324e92",
   "metadata": {},
   "source": [
    "Bir dəyişən yaradın. Onun içində saat (vaxt) sayını daxil edin (məsələn: 4). Saatı dəqiqələrə çevirib, göstərin."
   ]
  },
  {
   "cell_type": "code",
   "execution_count": null,
   "id": "ae4ab704",
   "metadata": {},
   "outputs": [],
   "source": [
    "a = int(input(\"Hour: \"))\n",
    "print(\"given hour is\", a*60, \"minute\")"
   ]
  },
  {
   "cell_type": "markdown",
   "id": "8ebabc9f",
   "metadata": {},
   "source": [
    "Bir dəyişən yaradın. Onun içində dəqiqələrin sayını daxil edin (məsələn: 15). Dəqiqələri saniyələrə çevirin."
   ]
  },
  {
   "cell_type": "code",
   "execution_count": null,
   "id": "d7c909be",
   "metadata": {},
   "outputs": [],
   "source": [
    "a = int(input(\"Minute: \"))\n",
    "print(\"given minute is\", a*60, \"second\")"
   ]
  },
  {
   "cell_type": "markdown",
   "id": "33e60a0e",
   "metadata": {},
   "source": [
    "User-dən yaş inputunu götürün. Onu ədədə çevirib, ekrana göstərin."
   ]
  },
  {
   "cell_type": "code",
   "execution_count": null,
   "id": "a2b1fd35",
   "metadata": {},
   "outputs": [],
   "source": [
    "age = input(\"age: \")\n",
    "print(int(age))"
   ]
  },
  {
   "cell_type": "markdown",
   "id": "b64ebafb",
   "metadata": {},
   "source": [
    "Bir dəyişən yaradın, onun qiyməti user-in yaşına bərabər olsun. Göstərin user neçə gün yaşayıb."
   ]
  },
  {
   "cell_type": "code",
   "execution_count": null,
   "id": "ca8d14b4",
   "metadata": {},
   "outputs": [],
   "source": [
    "age = 20\n",
    "print(age*365)"
   ]
  },
  {
   "cell_type": "markdown",
   "id": "2dcf4bcd",
   "metadata": {},
   "source": [
    "İki rəqəmin bölmə qaliğını göstərin."
   ]
  },
  {
   "cell_type": "code",
   "execution_count": null,
   "id": "1f4c9370",
   "metadata": {},
   "outputs": [],
   "source": [
    "print(10%7)"
   ]
  },
  {
   "cell_type": "markdown",
   "id": "c16e303c",
   "metadata": {},
   "source": [
    "Iki dəyişən yaradın. User iki ədəd daxil edəcək. birinci ədədi ikinci ədədin güvvəsinə qaldırın.\n",
    "\n",
    "Məslən: 2 üstü 4 bərabərdir 16"
   ]
  },
  {
   "cell_type": "code",
   "execution_count": null,
   "id": "ab0d85dc",
   "metadata": {},
   "outputs": [],
   "source": [
    "num1 = int(input(\"Number one: \"))\n",
    "num2 = int(input(\"Number two: \"))\n",
    "print(num1**num2)"
   ]
  },
  {
   "cell_type": "markdown",
   "id": "2db1cc82",
   "metadata": {},
   "source": [
    "İki dəyişən yaradın. Birinci dəyişənə saatların sayını daxil edin. İkinci dəyişənə dəqiqələrin sayını daxil edin. Hər iki qiyməti saniyələrə çevirib, cəmini tapın."
   ]
  },
  {
   "cell_type": "code",
   "execution_count": null,
   "id": "911cd275",
   "metadata": {},
   "outputs": [],
   "source": [
    "hour = int(input(\"Hours: \"))\n",
    "minute = int(input(\"Minutes: \"))\n",
    "print(hour*3600+minute*60)"
   ]
  },
  {
   "cell_type": "markdown",
   "id": "9c2a706e",
   "metadata": {},
   "source": [
    "İki dəyişən yaradın. Onlara ixtiyari ədəd qiymətini verin. Proqram onların bərabər olduğunu, ya olmağını göstərməlidir.\n",
    "\n",
    "2, 4 -> bərabər deyil\n",
    "\n",
    "16, 16 -> bərabərdir"
   ]
  },
  {
   "cell_type": "code",
   "execution_count": null,
   "id": "1145a296",
   "metadata": {},
   "outputs": [],
   "source": [
    "a = int(input(\"Number one: \"))\n",
    "b = int(input(\"Number two: \"))\n",
    "\n",
    "if a==b:\n",
    "    print(\"equal\")\n",
    "else:\n",
    "    print(\"not equal\")\n"
   ]
  },
  {
   "cell_type": "markdown",
   "id": "e2c0433a",
   "metadata": {},
   "source": [
    "1Bir dəyişən yaradın. User-dən ədəd soruşun, və göstərin, verilən ədəd sifırdan kiçikdir, bərabərdir, yoxsa böyükdür."
   ]
  },
  {
   "cell_type": "code",
   "execution_count": null,
   "id": "b775b257",
   "metadata": {},
   "outputs": [],
   "source": [
    "a = int(input(\"Number: \"))\n",
    "\n",
    "if a == 0:\n",
    "    print(a,\"equal 0\")\n",
    "elif a>0:\n",
    "    print(a,\"high than 0\")\n",
    "else:\n",
    "    print(a,\"less than 0\")\n"
   ]
  },
  {
   "cell_type": "markdown",
   "id": "54c95201",
   "metadata": {},
   "source": [
    "İki dəyişən yaradın. Onlara ixtiyari ədəd qiymətini verin. Göstərin, onların cəmi 100-dən kiçikdir, bərabərdir, yoxsa böyükdür."
   ]
  },
  {
   "cell_type": "code",
   "execution_count": null,
   "id": "e6821408",
   "metadata": {},
   "outputs": [],
   "source": [
    "a = int(input(\"Number one: \"))\n",
    "b = int(input(\"Number two: \"))\n",
    "\n",
    "if a+b==100:\n",
    "    print(a+b,\"equal 100\")\n",
    "elif a+b>100:\n",
    "    print(a+b,\"high than 100\")\n",
    "else:\n",
    "    print(a+b,\"less than 100\")\n"
   ]
  },
  {
   "cell_type": "markdown",
   "id": "de38384b",
   "metadata": {},
   "source": [
    "Bir dəyişən yaradın. User-dən ədəd sorşun. Göstərin, verilən ədəd 100-ə tam bölünür ya yox."
   ]
  },
  {
   "cell_type": "code",
   "execution_count": null,
   "id": "910d5742",
   "metadata": {},
   "outputs": [],
   "source": [
    "a = int(input(\"Number: \"))\n",
    "\n",
    "if a%100==0:\n",
    "    print(\"is completely divided\")\n",
    "else:\n",
    "    print(\"is not completely divided\")\n"
   ]
  },
  {
   "cell_type": "markdown",
   "id": "7d18ffbd",
   "metadata": {},
   "source": [
    "İki dəyişən yaradın. Onlara dördbucağın tərəflərini daxil edin. Dördbucağın permetrini və sahəsini göstərin."
   ]
  },
  {
   "cell_type": "code",
   "execution_count": null,
   "id": "74d39060",
   "metadata": {},
   "outputs": [],
   "source": [
    "a = int(input(\"Number one: \"))\n",
    "b = int(input(\"Number two: \"))\n",
    "print(\"Perimetr: \",2*(a+b))\n",
    "print(\"Sahe: \",a*b)"
   ]
  },
  {
   "cell_type": "markdown",
   "id": "464815db",
   "metadata": {},
   "source": [
    "Bir dəyişən yaradın. Ona boolean(True, False) qiymətini verin. O qiymətini göstərin."
   ]
  },
  {
   "cell_type": "code",
   "execution_count": 34,
   "id": "24d03f54",
   "metadata": {},
   "outputs": [
    {
     "name": "stdout",
     "output_type": "stream",
     "text": [
      "1\n"
     ]
    }
   ],
   "source": [
    "a=True\n",
    "print(int(a))"
   ]
  },
  {
   "cell_type": "markdown",
   "id": "1ef28dac",
   "metadata": {},
   "source": [
    "Bir dəyişən yaradın. Ona boolean qiymətini verin. Proqram qiymətin əksini göstərməlidir (Əgər dəyişənə True verilibsə, False göstərməlidir. Əgər dəyişənə False verilibsə, True göstərməlidir)"
   ]
  },
  {
   "cell_type": "code",
   "execution_count": 35,
   "id": "6b16595b",
   "metadata": {},
   "outputs": [
    {
     "name": "stdout",
     "output_type": "stream",
     "text": [
      "False\n"
     ]
    }
   ],
   "source": [
    "a = True\n",
    "print(not a)"
   ]
  },
  {
   "cell_type": "markdown",
   "id": "3c8cdf38",
   "metadata": {},
   "source": [
    "Bir dəyişən yaradın. User-dən ədəd soruşun. Daxil ediyi ədədin cüt ya tək olmasını göstrərin."
   ]
  },
  {
   "cell_type": "code",
   "execution_count": null,
   "id": "6137c170",
   "metadata": {},
   "outputs": [],
   "source": [
    "a = int(input(\"Number: \"))\n",
    "if a%2==0:\n",
    "    print(\"Even\")\n",
    "else:\n",
    "    print(\"Odd\")"
   ]
  },
  {
   "cell_type": "markdown",
   "id": "edbb0e49",
   "metadata": {},
   "source": [
    "Bir dəyişən yaradın. User-dən ədəd soruşun. Proqram göstərməlidir, daxil edilən rəqəm 5-ə və 8-ə qaliqsiz bölünür ya yox."
   ]
  },
  {
   "cell_type": "code",
   "execution_count": null,
   "id": "94cf2c8f",
   "metadata": {},
   "outputs": [],
   "source": [
    "a = int(input(\"Number: \"))\n",
    "if a%40==0:\n",
    "    print(\"is completely divided to 5 and 8\")\n",
    "else:\n",
    "    print(\"is not completely divided 5 and 8\")"
   ]
  },
  {
   "cell_type": "markdown",
   "id": "816ff65d",
   "metadata": {},
   "source": [
    "Bir dəyişən yaradin. User-dən şifrəni soruşun. Əgər şifrə \"anonim\" ya \"secret\" olsa ekrana \"Xoş gəlmisiniz\" göstərin. Əks xalda ekrana \"HACKER\" göstərin"
   ]
  },
  {
   "cell_type": "code",
   "execution_count": null,
   "id": "13181b42",
   "metadata": {},
   "outputs": [],
   "source": [
    "password = input(\"Password: \")\n",
    "if password==\"anonim\" or password==\"secret\":\n",
    "    print(\"Welcome\")\n",
    "else:\n",
    "    print(\"HACKER\")"
   ]
  },
  {
   "cell_type": "markdown",
   "id": "dd19b31a",
   "metadata": {},
   "source": [
    "## Loops"
   ]
  },
  {
   "cell_type": "markdown",
   "id": "b79c7616",
   "metadata": {},
   "source": [
    "0-dan 10-a qədər rəqəmləri göstərin."
   ]
  },
  {
   "cell_type": "code",
   "execution_count": 6,
   "id": "5262fc44",
   "metadata": {},
   "outputs": [],
   "source": [
    "for i in range(0,10):\n",
    "    print(i)\n",
    "    "
   ]
  },
  {
   "cell_type": "markdown",
   "id": "ce7c313c",
   "metadata": {},
   "source": [
    "0-dan 100-ə qədər hər 4-cü ədədi göstərin."
   ]
  },
  {
   "cell_type": "code",
   "execution_count": 4,
   "id": "6843232b",
   "metadata": {},
   "outputs": [],
   "source": [
    "for i in range(0,100,4):\n",
    "    print(i)\n",
    "    "
   ]
  },
  {
   "cell_type": "markdown",
   "id": "291519d8",
   "metadata": {},
   "source": [
    "Bir dəyişən yaradın. User-dən ədəd soruşun. Proqram 0-dan user daxil etdiyi ədədə qədər, ədədləri göstərməlidir"
   ]
  },
  {
   "cell_type": "code",
   "execution_count": null,
   "id": "0b35fc59",
   "metadata": {},
   "outputs": [],
   "source": [
    "a = int(input(\"Number: \"))\n",
    "\n",
    "for i in range(0,a):\n",
    "    print(i)\n",
    "    "
   ]
  },
  {
   "cell_type": "markdown",
   "id": "e14e874f",
   "metadata": {},
   "source": [
    "İki dəyişən yaradın. User hər dəyişənə ədəd verir. Proqram bu iki ədəd arasında ədədləri göstərir."
   ]
  },
  {
   "cell_type": "code",
   "execution_count": null,
   "id": "00c2427c",
   "metadata": {},
   "outputs": [],
   "source": [
    "a = int(input(\"Number one: \"))\n",
    "b = int(input(\"Number two: \"))\n",
    "\n",
    "for i in range(a+1,b):\n",
    "    print(i)\n"
   ]
  },
  {
   "cell_type": "markdown",
   "id": "360b3a66",
   "metadata": {},
   "source": [
    "Bir dəyişən yaradın. Dəyişənin ilkin qəymətini 0 daxil edin. 0-dan 100-ə qədər ədədlərin cəmini göstərin."
   ]
  },
  {
   "cell_type": "code",
   "execution_count": 9,
   "id": "dc476390",
   "metadata": {},
   "outputs": [
    {
     "name": "stdout",
     "output_type": "stream",
     "text": [
      "5050\n"
     ]
    }
   ],
   "source": [
    "a = 0\n",
    "\n",
    "for i in range(101):\n",
    "    a += i\n",
    "print(a)\n"
   ]
  },
  {
   "cell_type": "markdown",
   "id": "cab92b22",
   "metadata": {},
   "source": [
    "0-dan 100-ə qədər 5-ə və 3-ə bölünən ədələri göstərin"
   ]
  },
  {
   "cell_type": "code",
   "execution_count": 19,
   "id": "4c6337c3",
   "metadata": {},
   "outputs": [
    {
     "name": "stdout",
     "output_type": "stream",
     "text": [
      "15\n",
      "30\n",
      "45\n",
      "60\n",
      "75\n",
      "90\n"
     ]
    }
   ],
   "source": [
    "a = 0\n",
    "\n",
    "for i in range(101):\n",
    "    if i==0:\n",
    "        continue\n",
    "    if i%15==0:\n",
    "        print(i)\n",
    "        "
   ]
  },
  {
   "cell_type": "markdown",
   "id": "32685783",
   "metadata": {},
   "source": [
    "Bir dəyişən yaradın. User-dən ədəd soruşun. 0-dan 100-ə qədər user daxil etdiyi ədədə bölünən ədədləri göstərin."
   ]
  },
  {
   "cell_type": "code",
   "execution_count": 24,
   "id": "317b44d2",
   "metadata": {},
   "outputs": [
    {
     "name": "stdin",
     "output_type": "stream",
     "text": [
      "Number:  99\n"
     ]
    },
    {
     "name": "stdout",
     "output_type": "stream",
     "text": [
      "99\n"
     ]
    }
   ],
   "source": [
    "a = int(input(\"Number: \"))\n",
    "\n",
    "for i in range(101):\n",
    "    if i==0:\n",
    "        continue\n",
    "    if i%a==0:\n",
    "        print(i)\n",
    "        "
   ]
  },
  {
   "cell_type": "markdown",
   "id": "676806e2",
   "metadata": {},
   "source": [
    "Üç dəyişən yaradın. User hər dəyişənə ədəd verir. Birinci və ikinci ədəd aranı göstərir. Bu arada üçüncü ədədə bölünən ədələri göstərin. "
   ]
  },
  {
   "cell_type": "code",
   "execution_count": null,
   "id": "44278e79",
   "metadata": {},
   "outputs": [],
   "source": [
    "a = int(input(\"Number one: \"))\n",
    "b = int(input(\"Number two: \"))\n",
    "c = int(input(\"Number three: \"))\n",
    "\n",
    "for i in range(a,b):\n",
    "    if i==0:\n",
    "        continue\n",
    "    if i%c==0:\n",
    "        print(i)\n",
    "        "
   ]
  },
  {
   "cell_type": "markdown",
   "id": "d801b0ad",
   "metadata": {},
   "source": [
    "100-dən başlayaraq 0-a qədər ədədləri göstərin. "
   ]
  },
  {
   "cell_type": "code",
   "execution_count": 31,
   "id": "4cb40d7f",
   "metadata": {},
   "outputs": [
    {
     "name": "stdout",
     "output_type": "stream",
     "text": [
      "0\n"
     ]
    }
   ],
   "source": [
    "a = 100\n",
    "\n",
    "while a>=0:\n",
    "    print(a)\n",
    "    a-=1"
   ]
  },
  {
   "cell_type": "markdown",
   "id": "c94328f0",
   "metadata": {},
   "source": [
    "150-dən 10-a qədər hər 5-ci ədədi göstərin."
   ]
  },
  {
   "cell_type": "code",
   "execution_count": 33,
   "id": "dcf66707",
   "metadata": {},
   "outputs": [],
   "source": [
    "a = 150\n",
    "\n",
    "while a>=10:\n",
    "    print(a)\n",
    "    a-=5"
   ]
  },
  {
   "cell_type": "markdown",
   "id": "1df688de",
   "metadata": {},
   "source": [
    "## List"
   ]
  },
  {
   "cell_type": "markdown",
   "id": "641f3135",
   "metadata": {},
   "source": [
    "Dəyişən yaradın. Dəyişənə list verin, listə özünüz(loop isifadə etməyərək) 3 ixtiyari ədəd daxil edin. Listi ekrana göstərin"
   ]
  },
  {
   "cell_type": "code",
   "execution_count": null,
   "id": "86cd30d6",
   "metadata": {},
   "outputs": [],
   "source": [
    "a = [12,43,21]\n",
    "print(a)"
   ]
  },
  {
   "cell_type": "markdown",
   "id": "a3a59ffd",
   "metadata": {},
   "source": [
    "Dəyişən yaradın. Dəyişənə list verin, listə özünüz(loop isifadə etməyərək) 4 ixtiyari ədəd daxil edin. Hər elementi index-i istifadə edərək(loop isifadə etməyərək) göstərin."
   ]
  },
  {
   "cell_type": "code",
   "execution_count": 40,
   "id": "3b3e5059",
   "metadata": {},
   "outputs": [
    {
     "name": "stdout",
     "output_type": "stream",
     "text": [
      "12 43 53 1\n"
     ]
    }
   ],
   "source": [
    "a = [12,43,53,1]\n",
    "print(a[0],a[1],a[2],a[3])"
   ]
  },
  {
   "cell_type": "markdown",
   "id": "d986ba9c",
   "metadata": {},
   "source": [
    "Dəyişən yaradın. Dəyişənə list verin, listə özünüz(loop isifadə etməyərək) 5 ixtiyari ədəd daxil edin. Listdə sıfırıncı index-dən 3-cü indeksə qədər ədədləri göstərin (loop isifadə etməyərək)."
   ]
  },
  {
   "cell_type": "code",
   "execution_count": null,
   "id": "6fe1a050",
   "metadata": {},
   "outputs": [],
   "source": [
    "a = [12,43,53,1,222]\n",
    "print(a[0:3])"
   ]
  },
  {
   "cell_type": "markdown",
   "id": "4f850d4d",
   "metadata": {},
   "source": [
    "Dəyişən yaradın. Dəyişənə list verin, listə özünüz(loop isifadə etməyərək) 5 ixtiyari ad daxil edin(string). For loop-nan listin bütün elementlərini göstərin"
   ]
  },
  {
   "cell_type": "code",
   "execution_count": null,
   "id": "edb31fd9",
   "metadata": {},
   "outputs": [],
   "source": [
    "a = [\"Sadiq\",\"Saleh\",\"Teymur\",\"Sahib\",\"Nizmai\"]\n",
    "for i in a:\n",
    "    print(i)"
   ]
  },
  {
   "cell_type": "markdown",
   "id": "19d1d44a",
   "metadata": {},
   "source": [
    "Dəyişən yaradın. Dəyişənə list verin, listə özünüz(loop isifadə etməyərək) 3 ədəd daxil edin. For loop-nan listin bütün elementlərinin index-ni istifadə edərək göstərin."
   ]
  },
  {
   "cell_type": "code",
   "execution_count": null,
   "id": "f0400e26",
   "metadata": {},
   "outputs": [],
   "source": [
    "a = [12,43,21]\n",
    "for i in a:\n",
    "    print(i)"
   ]
  },
  {
   "cell_type": "markdown",
   "id": "87ed46fe",
   "metadata": {},
   "source": [
    "Dəyişən yaradın. Dəyişənə list verin, listə özünüz(loop isifadə etməyərək) 5 ədəd daxil edin. For loop-nan listin axrından başlayaraq bütün elementləri göstərin."
   ]
  },
  {
   "cell_type": "code",
   "execution_count": 42,
   "id": "ae84ab2e",
   "metadata": {},
   "outputs": [
    {
     "name": "stdout",
     "output_type": "stream",
     "text": [
      "222\n",
      "1\n",
      "53\n",
      "43\n",
      "12\n"
     ]
    }
   ],
   "source": [
    "a = [12,43,53,1,222]\n",
    "for i in a[::-1]:\n",
    "    print(i)"
   ]
  },
  {
   "cell_type": "markdown",
   "id": "31c85ba6",
   "metadata": {},
   "source": [
    "Deyişəndə boş list yaradın. For loop-nan, append funksiyasını istifadə edərək 0-dan 10-a qədər bütün ədədləri list-ə doldurun."
   ]
  },
  {
   "cell_type": "code",
   "execution_count": 44,
   "id": "b15c75e6",
   "metadata": {},
   "outputs": [
    {
     "name": "stdout",
     "output_type": "stream",
     "text": [
      "[0, 1, 2, 3, 4, 5, 6, 7, 8, 9]\n"
     ]
    }
   ],
   "source": [
    "a = []\n",
    "for i in range(0,10):\n",
    "    a.append(i)\n",
    "print(a)"
   ]
  },
  {
   "cell_type": "markdown",
   "id": "5fad67af",
   "metadata": {},
   "source": [
    "İki dəyişən yaradın. Birinci dəyişənə boş list verin. İkinci dəyişənə user ədəd verir. For loop-nan 0-dan user verdiyi ədədə qədər, bütün ədələri list-ə doldurun."
   ]
  },
  {
   "cell_type": "code",
   "execution_count": 45,
   "id": "454d57e7",
   "metadata": {},
   "outputs": [
    {
     "name": "stdin",
     "output_type": "stream",
     "text": [
      "Number:  5\n"
     ]
    },
    {
     "name": "stdout",
     "output_type": "stream",
     "text": [
      "[0, 1, 2, 3, 4]\n"
     ]
    }
   ],
   "source": [
    "a = []\n",
    "b = int(input(\"Number: \"))\n",
    "for i in range(0,b):\n",
    "    a.append(i)\n",
    "print(a)"
   ]
  },
  {
   "cell_type": "markdown",
   "id": "058a9dbc",
   "metadata": {},
   "source": [
    "Üç dəyişən yaradın. Birinci dəyişənə boş list verin. İkinci və üçüncü dəyişənlərə user ədəd verir. For loop-nan user verdiyi arada, bütün cüt ədələri list-ə doldurun."
   ]
  },
  {
   "cell_type": "code",
   "execution_count": null,
   "id": "1068aa7b",
   "metadata": {},
   "outputs": [],
   "source": [
    "a = []\n",
    "b = int(input(\"Number one: \"))\n",
    "c = int(input(\"Number two: \"))\n",
    "\n",
    "for i in range(b,c):\n",
    "    if i%2==0:\n",
    "        a.append(i)\n",
    "print(a)\n"
   ]
  },
  {
   "cell_type": "markdown",
   "id": "3a42821c",
   "metadata": {},
   "source": [
    "Boş list yaradın, 0-dan 100-ə qədər ədədlərnən onu doldurun. Sonra user-dən ədəd soruşun və onu fərqli dəyişənə yazın. index() istifadə edərək listdə user daxil editiyi ədədin indexini göstərin."
   ]
  },
  {
   "cell_type": "code",
   "execution_count": 46,
   "id": "3348be6c",
   "metadata": {},
   "outputs": [],
   "source": [
    "a = []\n",
    "for i in range(0,100):\n",
    "    a.append(i)\n",
    "\n",
    "b = int(input(\"Nmber: \"))\n",
    "print(a.index(b))\n"
   ]
  },
  {
   "cell_type": "markdown",
   "id": "1cf9a595",
   "metadata": {},
   "source": [
    "Boş list yaradın, 0-dan 100-ə qədər ədədlərnən onu doldurun. For loop-nan remove() funksiyanı istifadə edərək listdə 5-ə bölünən ədədləri silin. Axırda list-i göstərin."
   ]
  },
  {
   "cell_type": "code",
   "execution_count": 47,
   "id": "65b9e92d",
   "metadata": {},
   "outputs": [
    {
     "name": "stdout",
     "output_type": "stream",
     "text": [
      "[1, 2, 3, 4, 6, 7, 8, 9, 11, 12, 13, 14, 16, 17, 18, 19, 21, 22, 23, 24, 26, 27, 28, 29, 31, 32, 33, 34, 36, 37, 38, 39, 41, 42, 43, 44, 46, 47, 48, 49, 51, 52, 53, 54, 56, 57, 58, 59, 61, 62, 63, 64, 66, 67, 68, 69, 71, 72, 73, 74, 76, 77, 78, 79, 81, 82, 83, 84, 86, 87, 88, 89, 91, 92, 93, 94, 96, 97, 98, 99]\n"
     ]
    }
   ],
   "source": [
    "a = []\n",
    "for i in range(0,100):\n",
    "    a.append(i)\n",
    "\n",
    "for i in a:\n",
    "    if i%5==0:\n",
    "        a.remove(i)\n",
    "print(a)"
   ]
  },
  {
   "cell_type": "code",
   "execution_count": null,
   "id": "991c14c5-4cfc-43a8-9cfb-38c9adf13638",
   "metadata": {},
   "outputs": [],
   "source": []
  }
 ],
 "metadata": {
  "kernelspec": {
   "display_name": "Python 3 (ipykernel)",
   "language": "python",
   "name": "python3"
  },
  "language_info": {
   "codemirror_mode": {
    "name": "ipython",
    "version": 3
   },
   "file_extension": ".py",
   "mimetype": "text/x-python",
   "name": "python",
   "nbconvert_exporter": "python",
   "pygments_lexer": "ipython3",
   "version": "3.11.7"
  }
 },
 "nbformat": 4,
 "nbformat_minor": 5
}
