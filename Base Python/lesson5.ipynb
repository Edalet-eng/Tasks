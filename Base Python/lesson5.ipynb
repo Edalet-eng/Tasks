{
 "cells": [
  {
   "cell_type": "code",
   "execution_count": 3,
   "id": "0de52cfd-fcea-48a4-b691-8bc2c36435ba",
   "metadata": {},
   "outputs": [
    {
     "name": "stdin",
     "output_type": "stream",
     "text": [
      " 20\n",
      " 15\n",
      " 17\n",
      " Xeyale\n",
      " Asmar\n",
      " Nicat\n"
     ]
    },
    {
     "name": "stdout",
     "output_type": "stream",
     "text": [
      "Asmar qalibdir\n"
     ]
    }
   ],
   "source": [
    "a=int(input(\"\"))\n",
    "b=int(input(\"\"))\n",
    "c=int(input(\"\"))\n",
    "a1=input(\"\")\n",
    "b1=input(\"\")\n",
    "c1=input(\"\")\n",
    "if a<b and a<c:\n",
    "    print(f\"{a1} qalibdir\")\n",
    "elif b<a and b<c:\n",
    "    print(f\"{b1} qalibdir\")\n",
    "else:\n",
    "    print(f\"{c1} qalibdir\")"
   ]
  },
  {
   "cell_type": "code",
   "execution_count": 4,
   "id": "332666c0-bec3-4504-97d5-23c1322410ee",
   "metadata": {},
   "outputs": [
    {
     "name": "stdout",
     "output_type": "stream",
     "text": [
      "[6, 12, 4]\n"
     ]
    }
   ],
   "source": [
    "a=[[3,6,9,12],[1,4,7,9]]\n",
    "b=[]\n",
    "for i in a:\n",
    "    for x in i:\n",
    "        if x%2==0:\n",
    "            b.append(x)\n",
    "print(b)"
   ]
  },
  {
   "cell_type": "code",
   "execution_count": null,
   "id": "d48c45ae-b9ac-4bd8-adae-5a8882b4f8bd",
   "metadata": {},
   "outputs": [],
   "source": []
  },
  {
   "cell_type": "code",
   "execution_count": 9,
   "id": "03b391af-73c2-44a9-9f20-f2d8856db7e9",
   "metadata": {},
   "outputs": [
    {
     "name": "stdout",
     "output_type": "stream",
     "text": [
      "[3, 1]\n"
     ]
    }
   ],
   "source": [
    "a=[[3,6,9,12],[1,4,7,9]]\n",
    "b=[]\n",
    "for i in a:\n",
    "    min=i[0]\n",
    "    for x in i:\n",
    "        if x>min:\n",
    "            x=min\n",
    "    b.append(x)\n",
    "print(b)"
   ]
  },
  {
   "cell_type": "code",
   "execution_count": null,
   "id": "eea56923-aa2c-4ea5-9894-b93313c115d5",
   "metadata": {},
   "outputs": [],
   "source": []
  },
  {
   "cell_type": "code",
   "execution_count": 19,
   "id": "c4c907cb-3e7e-417a-aeb6-ec65bda7cbf1",
   "metadata": {},
   "outputs": [
    {
     "name": "stdout",
     "output_type": "stream",
     "text": [
      "Xeyale\n",
      "Esmer\n",
      "Sadiq\n",
      "Nicat\n"
     ]
    }
   ],
   "source": [
    "a=[\"xeyale\",\"esmer\",\"sadiq\",\"nicat\"]\n",
    "for i in a:\n",
    "    i=i.capitalize()\n",
    "    print(i)"
   ]
  },
  {
   "cell_type": "code",
   "execution_count": null,
   "id": "95570485-e5b4-426e-ab8f-655745591493",
   "metadata": {},
   "outputs": [],
   "source": []
  },
  {
   "cell_type": "code",
   "execution_count": 25,
   "id": "f9e4e224-d7ee-44e6-ad6b-d8a62685cb7f",
   "metadata": {},
   "outputs": [
    {
     "name": "stdin",
     "output_type": "stream",
     "text": [
      " Aydan\n"
     ]
    },
    {
     "name": "stdout",
     "output_type": "stream",
     "text": [
      "aydn\n"
     ]
    }
   ],
   "source": [
    "text=input(\"\")\n",
    "a=''\n",
    "for i in text:\n",
    "    i=i.lower()\n",
    "    if i not in a:\n",
    "        a+=i\n",
    "print(a)"
   ]
  },
  {
   "cell_type": "code",
   "execution_count": null,
   "id": "c248068b-b1da-42b8-950e-63621850d9fb",
   "metadata": {},
   "outputs": [],
   "source": []
  },
  {
   "cell_type": "code",
   "execution_count": null,
   "id": "9b9bf968-0d60-4604-af93-ed0dc160a454",
   "metadata": {},
   "outputs": [],
   "source": []
  },
  {
   "cell_type": "code",
   "execution_count": null,
   "id": "74412ba4-da9c-444c-afb4-c718c677f61b",
   "metadata": {},
   "outputs": [],
   "source": []
  },
  {
   "cell_type": "code",
   "execution_count": null,
   "id": "7a7a50a5-c032-43b8-95a3-43a8e8c2f29c",
   "metadata": {},
   "outputs": [],
   "source": []
  },
  {
   "cell_type": "code",
   "execution_count": null,
   "id": "550b6787-a908-4711-93a1-f75a644dba18",
   "metadata": {},
   "outputs": [],
   "source": []
  }
 ],
 "metadata": {
  "kernelspec": {
   "display_name": "Python 3 (ipykernel)",
   "language": "python",
   "name": "python3"
  },
  "language_info": {
   "codemirror_mode": {
    "name": "ipython",
    "version": 3
   },
   "file_extension": ".py",
   "mimetype": "text/x-python",
   "name": "python",
   "nbconvert_exporter": "python",
   "pygments_lexer": "ipython3",
   "version": "3.11.7"
  }
 },
 "nbformat": 4,
 "nbformat_minor": 5
}
