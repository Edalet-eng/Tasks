{
 "cells": [
  {
   "cell_type": "code",
   "execution_count": 6,
   "id": "7558f035",
   "metadata": {},
   "outputs": [
    {
     "name": "stdout",
     "output_type": "stream",
     "text": [
      "add a text: salam nicat salam\n",
      "3 DD\n"
     ]
    }
   ],
   "source": [
    "txt = input('add a text: ')\n",
    "# 70-80 - A\n",
    "# 60-70 - B\n",
    "# 50-60 - C\n",
    "# 0-50 - D\n",
    "\n",
    "say = 1\n",
    "bos = ''\n",
    "for i in txt:\n",
    "    if i == ' ':\n",
    "        say+=1\n",
    "        if 70<say<80:\n",
    "            bos+='A'\n",
    "        elif 60<say<70:\n",
    "            bos+='B'\n",
    "        elif 50<say<60:\n",
    "            bos+='C'\n",
    "        elif 0<say<50:\n",
    "            bos+='D'\n",
    "print(say, bos)"
   ]
  },
  {
   "cell_type": "code",
   "execution_count": 13,
   "id": "c7f872d7",
   "metadata": {},
   "outputs": [
    {
     "data": {
      "text/plain": [
       "[96, 58]"
      ]
     },
     "execution_count": 13,
     "metadata": {},
     "output_type": "execute_result"
    }
   ],
   "source": [
    "listim = [[41,5,8,9,9,7,8,3,6], [4,9,9,3,8,7,9,2,3,4]]\n",
    "sumof = []\n",
    "\n",
    "for i in listim:\n",
    "    cem = 0\n",
    "    for x in i:\n",
    "        cem += x\n",
    "    sumof.append(cem)\n",
    "sumof"
   ]
  },
  {
   "cell_type": "code",
   "execution_count": 18,
   "id": "568d02ab",
   "metadata": {},
   "outputs": [
    {
     "data": {
      "text/plain": [
       "[10.666666666666666, 5.8]"
      ]
     },
     "execution_count": 18,
     "metadata": {},
     "output_type": "execute_result"
    }
   ],
   "source": [
    "listim = [[41,5,8,9,9,7,8,3,6], [4,9,9,3,8,7,9,2,3,4]]\n",
    "orta = []\n",
    "\n",
    "for i in listim:\n",
    "    cem = 0\n",
    "    for x in i:\n",
    "        cem += x\n",
    "        aaaaa = cem / len(i)\n",
    "    orta.append(aaaaa)\n",
    "orta"
   ]
  },
  {
   "cell_type": "code",
   "execution_count": 21,
   "id": "0f2cb8aa",
   "metadata": {},
   "outputs": [
    {
     "name": "stdout",
     "output_type": "stream",
     "text": [
      "sentence: 20 yaim va\n",
      "20"
     ]
    }
   ],
   "source": [
    "cumle = input('sentence: ')\n",
    "cavab = ''\n",
    "for i in cumle:\n",
    "    if i.isdigit():\n",
    "        print(i, end = '')"
   ]
  },
  {
   "cell_type": "code",
   "execution_count": 23,
   "id": "c830836f",
   "metadata": {},
   "outputs": [
    {
     "name": "stdout",
     "output_type": "stream",
     "text": [
      "teref: 5\n",
      "teref: 3\n",
      "teref: 7\n",
      "teref: 3\n",
      "yaz yeniden\n",
      "teref: 4\n",
      "teref: 4\n",
      "teref: 4\n",
      "teref: 4\n",
      "duzgun 4 bucaqlidi\n"
     ]
    }
   ],
   "source": [
    "while True:\n",
    "    t1 = int(input('teref: '))\n",
    "    t2 = int(input('teref: '))\n",
    "    t3 = int(input('teref: '))\n",
    "    t4 = int(input('teref: '))\n",
    "    \n",
    "    if (t1 == t2 and t3==t4) or (t2 == t3 and t1==t4) or (t3 == t1 and t2==t4):\n",
    "        print('duzgun 4 bucaqlidi')\n",
    "        break\n",
    "    else:\n",
    "        print('yaz yeniden')"
   ]
  },
  {
   "cell_type": "code",
   "execution_count": null,
   "id": "d640a713",
   "metadata": {},
   "outputs": [],
   "source": []
  }
 ],
 "metadata": {
  "kernelspec": {
   "display_name": "Python 3 (ipykernel)",
   "language": "python",
   "name": "python3"
  },
  "language_info": {
   "codemirror_mode": {
    "name": "ipython",
    "version": 3
   },
   "file_extension": ".py",
   "mimetype": "text/x-python",
   "name": "python",
   "nbconvert_exporter": "python",
   "pygments_lexer": "ipython3",
   "version": "3.11.5"
  }
 },
 "nbformat": 4,
 "nbformat_minor": 5
}
