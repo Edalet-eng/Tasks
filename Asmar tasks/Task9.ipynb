{
 "cells": [
  {
   "cell_type": "code",
   "execution_count": 2,
   "id": "be6b62fe",
   "metadata": {},
   "outputs": [],
   "source": [
    "import numpy as np"
   ]
  },
  {
   "cell_type": "markdown",
   "id": "641f3135",
   "metadata": {},
   "source": [
    "Create a 1D numpy array"
   ]
  },
  {
   "cell_type": "code",
   "execution_count": 3,
   "id": "86cd30d6",
   "metadata": {},
   "outputs": [
    {
     "data": {
      "text/plain": [
       "array([1, 3, 5])"
      ]
     },
     "execution_count": 3,
     "metadata": {},
     "output_type": "execute_result"
    }
   ],
   "source": [
    "np.array([1,3,5])"
   ]
  },
  {
   "cell_type": "markdown",
   "id": "a3a59ffd",
   "metadata": {},
   "source": [
    "Create a 2D numpy array"
   ]
  },
  {
   "cell_type": "code",
   "execution_count": 5,
   "id": "3b3e5059",
   "metadata": {},
   "outputs": [
    {
     "data": {
      "text/plain": [
       "array([[ 1,  3,  5],\n",
       "       [ 7,  9, 11]])"
      ]
     },
     "execution_count": 5,
     "metadata": {},
     "output_type": "execute_result"
    }
   ],
   "source": [
    "np.array([[1,3,5],[7,9,11]])"
   ]
  },
  {
   "cell_type": "markdown",
   "id": "4c92e4a6",
   "metadata": {},
   "source": [
    "Create a 10D numpy array"
   ]
  },
  {
   "cell_type": "code",
   "execution_count": 8,
   "id": "8a3d7633",
   "metadata": {},
   "outputs": [
    {
     "data": {
      "text/plain": [
       "array([[[[[[[[[[1, 3, 5]]]]]]]]]])"
      ]
     },
     "execution_count": 8,
     "metadata": {},
     "output_type": "execute_result"
    }
   ],
   "source": [
    "np.array([1,3,5], ndmin=10)"
   ]
  },
  {
   "cell_type": "markdown",
   "id": "d986ba9c",
   "metadata": {},
   "source": [
    "Create an array of 10 zeros"
   ]
  },
  {
   "cell_type": "code",
   "execution_count": 9,
   "id": "6fe1a050",
   "metadata": {},
   "outputs": [
    {
     "data": {
      "text/plain": [
       "array([0., 0., 0., 0., 0., 0., 0., 0., 0., 0.])"
      ]
     },
     "execution_count": 9,
     "metadata": {},
     "output_type": "execute_result"
    }
   ],
   "source": [
    "np.zeros(10)"
   ]
  },
  {
   "cell_type": "markdown",
   "id": "4f850d4d",
   "metadata": {},
   "source": [
    "Create an array of (5,2) ones\n",
    "\n"
   ]
  },
  {
   "cell_type": "code",
   "execution_count": 10,
   "id": "edb31fd9",
   "metadata": {},
   "outputs": [
    {
     "data": {
      "text/plain": [
       "array([[1., 1.],\n",
       "       [1., 1.],\n",
       "       [1., 1.],\n",
       "       [1., 1.],\n",
       "       [1., 1.]])"
      ]
     },
     "execution_count": 10,
     "metadata": {},
     "output_type": "execute_result"
    }
   ],
   "source": [
    "np.ones((5,2))"
   ]
  },
  {
   "cell_type": "markdown",
   "id": "19d1d44a",
   "metadata": {},
   "source": [
    "Create an array of 10 threes"
   ]
  },
  {
   "cell_type": "code",
   "execution_count": 11,
   "id": "652c1112",
   "metadata": {},
   "outputs": [
    {
     "data": {
      "text/plain": [
       "array([[[[[[[[[[3]]]]]]]]]])"
      ]
     },
     "execution_count": 11,
     "metadata": {},
     "output_type": "execute_result"
    }
   ],
   "source": [
    "np.array(3, ndmin=10)"
   ]
  },
  {
   "cell_type": "markdown",
   "id": "e61bb523",
   "metadata": {},
   "source": [
    "Create an array of integers in range from 10 to 100"
   ]
  },
  {
   "cell_type": "code",
   "execution_count": 12,
   "id": "0099a08a",
   "metadata": {},
   "outputs": [
    {
     "data": {
      "text/plain": [
       "array([10, 11, 12, 13, 14, 15, 16, 17, 18, 19, 20, 21, 22, 23, 24, 25, 26,\n",
       "       27, 28, 29, 30, 31, 32, 33, 34, 35, 36, 37, 38, 39, 40, 41, 42, 43,\n",
       "       44, 45, 46, 47, 48, 49, 50, 51, 52, 53, 54, 55, 56, 57, 58, 59, 60,\n",
       "       61, 62, 63, 64, 65, 66, 67, 68, 69, 70, 71, 72, 73, 74, 75, 76, 77,\n",
       "       78, 79, 80, 81, 82, 83, 84, 85, 86, 87, 88, 89, 90, 91, 92, 93, 94,\n",
       "       95, 96, 97, 98, 99], dtype=int32)"
      ]
     },
     "execution_count": 12,
     "metadata": {},
     "output_type": "execute_result"
    }
   ],
   "source": [
    "np.arange(10,100, dtype=\"i\")"
   ]
  },
  {
   "cell_type": "markdown",
   "id": "100d2d02",
   "metadata": {},
   "source": [
    "Create an array of evenly spaced numbers from 1 to 10"
   ]
  },
  {
   "cell_type": "code",
   "execution_count": 19,
   "id": "ece1a269",
   "metadata": {},
   "outputs": [
    {
     "data": {
      "text/plain": [
       "array([ 1.,  4.,  7., 10.])"
      ]
     },
     "execution_count": 19,
     "metadata": {},
     "output_type": "execute_result"
    }
   ],
   "source": [
    "np.linspace(start=1,stop=10,num=4)"
   ]
  },
  {
   "cell_type": "markdown",
   "id": "5033cb61",
   "metadata": {},
   "source": [
    "Create an array of 10 random numbers"
   ]
  },
  {
   "cell_type": "code",
   "execution_count": 32,
   "id": "a8dc85f8",
   "metadata": {},
   "outputs": [
    {
     "data": {
      "text/plain": [
       "array([0.10838471, 0.79143788, 0.27103294, 0.64394533, 0.32369556,\n",
       "       0.47221871, 0.22376198, 0.81102927, 0.88592348, 0.92977333])"
      ]
     },
     "execution_count": 32,
     "metadata": {},
     "output_type": "execute_result"
    }
   ],
   "source": [
    "np.random.rand(10)"
   ]
  },
  {
   "cell_type": "markdown",
   "id": "8401f816",
   "metadata": {},
   "source": [
    "\n",
    "Create a 5x2 zero matrix"
   ]
  },
  {
   "cell_type": "code",
   "execution_count": 28,
   "id": "62045493",
   "metadata": {},
   "outputs": [
    {
     "data": {
      "text/plain": [
       "array([[0., 0.],\n",
       "       [0., 0.],\n",
       "       [0., 0.],\n",
       "       [0., 0.],\n",
       "       [0., 0.]])"
      ]
     },
     "execution_count": 28,
     "metadata": {},
     "output_type": "execute_result"
    }
   ],
   "source": [
    "np.zeros((5,2))"
   ]
  },
  {
   "cell_type": "markdown",
   "id": "fc40ad74",
   "metadata": {},
   "source": [
    "Create a 10x10 matrix of ones"
   ]
  },
  {
   "cell_type": "code",
   "execution_count": 29,
   "id": "de4b1d69",
   "metadata": {},
   "outputs": [
    {
     "data": {
      "text/plain": [
       "array([[1., 1., 1., 1., 1., 1., 1., 1., 1., 1.],\n",
       "       [1., 1., 1., 1., 1., 1., 1., 1., 1., 1.],\n",
       "       [1., 1., 1., 1., 1., 1., 1., 1., 1., 1.],\n",
       "       [1., 1., 1., 1., 1., 1., 1., 1., 1., 1.],\n",
       "       [1., 1., 1., 1., 1., 1., 1., 1., 1., 1.],\n",
       "       [1., 1., 1., 1., 1., 1., 1., 1., 1., 1.],\n",
       "       [1., 1., 1., 1., 1., 1., 1., 1., 1., 1.],\n",
       "       [1., 1., 1., 1., 1., 1., 1., 1., 1., 1.],\n",
       "       [1., 1., 1., 1., 1., 1., 1., 1., 1., 1.],\n",
       "       [1., 1., 1., 1., 1., 1., 1., 1., 1., 1.]])"
      ]
     },
     "execution_count": 29,
     "metadata": {},
     "output_type": "execute_result"
    }
   ],
   "source": [
    "np.ones((10,10))"
   ]
  },
  {
   "cell_type": "markdown",
   "id": "17f78943",
   "metadata": {},
   "source": [
    "Create a 5x5 matrix of random numbers"
   ]
  },
  {
   "cell_type": "code",
   "execution_count": 55,
   "id": "71972615",
   "metadata": {},
   "outputs": [
    {
     "data": {
      "text/plain": [
       "array([[0.74726014, 0.09925412, 0.33051141, 0.15563487, 0.87067514],\n",
       "       [0.93085917, 0.76217756, 0.48198331, 0.02480256, 0.7699138 ],\n",
       "       [0.9341088 , 0.92701784, 0.32011818, 0.05153829, 0.32719638],\n",
       "       [0.31698636, 0.15346679, 0.56209098, 0.9388364 , 0.46076079],\n",
       "       [0.19941272, 0.32744743, 0.72483987, 0.99855153, 0.40140774]])"
      ]
     },
     "execution_count": 55,
     "metadata": {},
     "output_type": "execute_result"
    }
   ],
   "source": [
    "np.random.rand(5,5)"
   ]
  },
  {
   "cell_type": "markdown",
   "id": "862633a1",
   "metadata": {},
   "source": [
    "Create an array of 5 numbers and display each of its elements"
   ]
  },
  {
   "cell_type": "code",
   "execution_count": 34,
   "id": "845a04d9",
   "metadata": {},
   "outputs": [
    {
     "data": {
      "text/plain": [
       "array([1, 2, 3, 4, 5])"
      ]
     },
     "execution_count": 34,
     "metadata": {},
     "output_type": "execute_result"
    }
   ],
   "source": [
    "arr= np.array([1,2,3,4,5])\n",
    "arr"
   ]
  },
  {
   "cell_type": "markdown",
   "id": "a88eeda1",
   "metadata": {},
   "source": [
    "Create a 3x3 matrix of random numbers and display all numbers\n",
    "\n",
    "\n",
    "[[1, 2, 3],\n",
    "[4, 5, 6],\n",
    "[7, 8, 9]]\n",
    "\n",
    "OUTPUT: 1 2 3 4 5 6 7 8 9"
   ]
  },
  {
   "cell_type": "code",
   "execution_count": 62,
   "id": "ef363a92",
   "metadata": {},
   "outputs": [
    {
     "name": "stdout",
     "output_type": "stream",
     "text": [
      "41 39 78\n",
      "66 53 3\n",
      "66 63 84\n"
     ]
    }
   ],
   "source": [
    "arr= np.random.randint(1, 100, size=(3, 3))\n",
    "for i in arr:\n",
    "    print(\" \".join(map(str, i)))"
   ]
  },
  {
   "cell_type": "markdown",
   "id": "76e07842",
   "metadata": {},
   "source": [
    "Create a 3x4 array filled with values from 24 to 32"
   ]
  },
  {
   "cell_type": "code",
   "execution_count": 70,
   "id": "3eb5efb4",
   "metadata": {},
   "outputs": [
    {
     "data": {
      "text/plain": [
       "array([[24, 25, 26, 27],\n",
       "       [28, 29, 30, 31],\n",
       "       [32, 33, 34, 35]])"
      ]
     },
     "execution_count": 70,
     "metadata": {},
     "output_type": "execute_result"
    }
   ],
   "source": [
    "arr= np.arange(24, 36).reshape(3,4)\n",
    "arr"
   ]
  },
  {
   "cell_type": "markdown",
   "id": "a7b2c864",
   "metadata": {},
   "source": [
    "Create a 3x4 array of evenly distributed numbers between 0 and 1. Display its shape and the number of dimensions."
   ]
  },
  {
   "cell_type": "code",
   "execution_count": 73,
   "id": "cd474154",
   "metadata": {},
   "outputs": [
    {
     "ename": "ValueError",
     "evalue": "cannot reshape array of size 50 into shape (3,4)",
     "output_type": "error",
     "traceback": [
      "\u001b[1;31m---------------------------------------------------------------------------\u001b[0m",
      "\u001b[1;31mValueError\u001b[0m                                Traceback (most recent call last)",
      "Cell \u001b[1;32mIn[73], line 1\u001b[0m\n\u001b[1;32m----> 1\u001b[0m arr\u001b[38;5;241m=\u001b[39m np\u001b[38;5;241m.\u001b[39mlinspace(\u001b[38;5;241m0\u001b[39m,\u001b[38;5;241m1\u001b[39m)\u001b[38;5;241m.\u001b[39mreshape(\u001b[38;5;241m3\u001b[39m,\u001b[38;5;241m4\u001b[39m)\n\u001b[0;32m      2\u001b[0m arr\n",
      "\u001b[1;31mValueError\u001b[0m: cannot reshape array of size 50 into shape (3,4)"
     ]
    }
   ],
   "source": [
    "arr= np.linspace(0,1).reshape(3,4)\n",
    "arr"
   ]
  },
  {
   "cell_type": "markdown",
   "id": "1ff891c9",
   "metadata": {},
   "source": [
    "Create a 5x5 identity matrix"
   ]
  },
  {
   "cell_type": "code",
   "execution_count": 75,
   "id": "d364f9d9",
   "metadata": {},
   "outputs": [
    {
     "data": {
      "text/plain": [
       "array([[1., 0., 0., 0., 0.],\n",
       "       [0., 1., 0., 0., 0.],\n",
       "       [0., 0., 1., 0., 0.],\n",
       "       [0., 0., 0., 1., 0.],\n",
       "       [0., 0., 0., 0., 1.]])"
      ]
     },
     "execution_count": 75,
     "metadata": {},
     "output_type": "execute_result"
    }
   ],
   "source": [
    "arr= np.eye(5)\n",
    "arr"
   ]
  },
  {
   "cell_type": "markdown",
   "id": "33ec5d48",
   "metadata": {},
   "source": [
    "\n",
    "Create a 6x6 zero matrix with elements on the main diagonal equal to 1, 2, 3, 4, 5, 6."
   ]
  },
  {
   "cell_type": "code",
   "execution_count": null,
   "id": "20a7cfff",
   "metadata": {},
   "outputs": [],
   "source": []
  },
  {
   "cell_type": "markdown",
   "id": "12b2cef1",
   "metadata": {},
   "source": [
    "Reshape a 9x4 matrix into a 2x18 matrix"
   ]
  },
  {
   "cell_type": "code",
   "execution_count": 79,
   "id": "b8818cc9",
   "metadata": {},
   "outputs": [
    {
     "data": {
      "text/plain": [
       "array([[0.5915911 , 0.35446109, 0.21429164, 0.13882892, 0.66931038,\n",
       "        0.1635599 , 0.01707412, 0.30395352, 0.18384931, 0.02426117,\n",
       "        0.95072233, 0.43984143, 0.31288627, 0.75530044, 0.22527959,\n",
       "        0.89231202, 0.11336556, 0.88304372],\n",
       "       [0.42070607, 0.80751273, 0.06767366, 0.38448432, 0.2356086 ,\n",
       "        0.81230454, 0.88241002, 0.49131139, 0.5123907 , 0.98070378,\n",
       "        0.55032454, 0.83800745, 0.10797875, 0.95370058, 0.54389716,\n",
       "        0.53911734, 0.01529641, 0.8775936 ]])"
      ]
     },
     "execution_count": 79,
     "metadata": {},
     "output_type": "execute_result"
    }
   ],
   "source": [
    "arr= np.random.rand(9, 4)\n",
    "yeni= arr.reshape(2,18)\n",
    "yeni"
   ]
  },
  {
   "cell_type": "markdown",
   "id": "db1cf39e",
   "metadata": {},
   "source": [
    "Create a 3x4 matrix of random numbers and transpose it."
   ]
  },
  {
   "cell_type": "code",
   "execution_count": 83,
   "id": "90beec9a",
   "metadata": {},
   "outputs": [
    {
     "data": {
      "text/plain": [
       "array([[0.63972707, 0.49400476, 0.43822114],\n",
       "       [0.19050106, 0.46890982, 0.3544362 ],\n",
       "       [0.81006019, 0.37744345, 0.77644606],\n",
       "       [0.69385462, 0.5279986 , 0.85837236]])"
      ]
     },
     "execution_count": 83,
     "metadata": {},
     "output_type": "execute_result"
    }
   ],
   "source": [
    "arr= np.random.rand(3,4)\n",
    "yeni= arr.transpose()\n",
    "yeni"
   ]
  },
  {
   "cell_type": "markdown",
   "id": "497bab33",
   "metadata": {},
   "source": [
    "Create a 5x5 matrix of evenly 25 evenly distributed numebrs between 0 and 25. Find the sum of all elements, sum of all rows, sum of all columns.(hem for-la yazin hem for-suz yazin)"
   ]
  },
  {
   "cell_type": "code",
   "execution_count": 113,
   "id": "6b574d5d",
   "metadata": {},
   "outputs": [
    {
     "name": "stdout",
     "output_type": "stream",
     "text": [
      "cem; 312.5\n",
      "setirlerin cemi; [ 10.41666667  36.45833333  62.5         88.54166667 114.58333333] \n",
      "sutunlarin cemi; [52.08333333 57.29166667 62.5        67.70833333 72.91666667] \n"
     ]
    }
   ],
   "source": [
    "arr= np.linspace(0,25,25)\n",
    "yeni= arr.reshape(5,5)\n",
    "topla= np.sum(yeni)\n",
    "print(f\"cem; {topla}\")\n",
    "setir=np.sum(yeni, axis=1)\n",
    "print(f\"setirlerin cemi; {setir} \")\n",
    "sutun=np.sum(yeni, axis=0)\n",
    "print(f\"sutunlarin cemi; {sutun} \")\n"
   ]
  },
  {
   "cell_type": "markdown",
   "id": "1f98396f",
   "metadata": {},
   "source": [
    "Create a vector and find its magnitude"
   ]
  },
  {
   "cell_type": "code",
   "execution_count": 89,
   "id": "bbef63d7",
   "metadata": {},
   "outputs": [
    {
     "data": {
      "text/plain": [
       "5.916079783099616"
      ]
     },
     "execution_count": 89,
     "metadata": {},
     "output_type": "execute_result"
    }
   ],
   "source": [
    "arr= np.array([1,3,5])\n",
    "np.linalg.norm(arr)"
   ]
  },
  {
   "cell_type": "markdown",
   "id": "512ebd08",
   "metadata": {},
   "source": [
    "Create a vector of 100 random integers and display unqiue values"
   ]
  },
  {
   "cell_type": "code",
   "execution_count": 97,
   "id": "1db9416f",
   "metadata": {},
   "outputs": [
    {
     "name": "stdout",
     "output_type": "stream",
     "text": [
      "[50 64 51 68 72 66 43 14 99 11  2 53 83 53 25 70 61  7 58 12  4 12 48 58\n",
      " 75 92 63 55 79 24 47 10 53 78 72  7 35 80 67 18 35 63 70 47 73 31 98 64\n",
      "  5 36 30 32 57 86 33 88 72 11 71 69 16 15 10 30 84 83 91 78 43 24 92 82\n",
      " 56 97  7 41 32 68  3 55 65 38  7 37 11 31 38  3 77 49 66 11 65 42 37 89\n",
      " 77 26 49  3]\n",
      "[ 2  3  4  5  7 10 11 12 14 15 16 18 24 25 26 30 31 32 33 35 36 37 38 41\n",
      " 42 43 47 48 49 50 51 53 55 56 57 58 61 63 64 65 66 67 68 69 70 71 72 73\n",
      " 75 77 78 79 80 82 83 84 86 88 89 91 92 97 98 99]\n"
     ]
    }
   ],
   "source": [
    "arr = np.random.randint(0, 100, 100)\n",
    "un=np.unique(arr)\n",
    "print(arr)\n",
    "print(un)"
   ]
  },
  {
   "cell_type": "markdown",
   "id": "453ebd41",
   "metadata": {},
   "source": [
    "Create a 5x5 vector of random integers and find the product of all elements, product of all columns, product of all rows."
   ]
  },
  {
   "cell_type": "code",
   "execution_count": 110,
   "id": "0a785afe",
   "metadata": {},
   "outputs": [
    {
     "name": "stdout",
     "output_type": "stream",
     "text": [
      "cem; 11.582612112439966\n",
      "setirlerin cemi; [1.98911156 2.1625793  1.40368083 3.07059139 2.95664904] \n",
      "sutunlarin cemi; [3.0238255  2.01034311 2.14730239 2.62980615 1.77133496] \n"
     ]
    }
   ],
   "source": [
    "arr = np.random.rand(5,5)\n",
    "topla= np.sum(arr)\n",
    "print(f\"cem; {topla}\")\n",
    "setir=np.sum(arr, axis=1)\n",
    "print(f\"setirlerin cemi; {setir} \")\n",
    "sutun=np.sum(arr, axis=0)\n",
    "print(f\"sutunlarin cemi; {sutun} \")"
   ]
  },
  {
   "cell_type": "markdown",
   "id": "c85517ae",
   "metadata": {},
   "source": [
    "Create a random array and display it as an image"
   ]
  },
  {
   "cell_type": "code",
   "execution_count": null,
   "id": "362c51d8",
   "metadata": {},
   "outputs": [],
   "source": []
  }
 ],
 "metadata": {
  "kernelspec": {
   "display_name": "Python 3 (ipykernel)",
   "language": "python",
   "name": "python3"
  },
  "language_info": {
   "codemirror_mode": {
    "name": "ipython",
    "version": 3
   },
   "file_extension": ".py",
   "mimetype": "text/x-python",
   "name": "python",
   "nbconvert_exporter": "python",
   "pygments_lexer": "ipython3",
   "version": "3.11.5"
  }
 },
 "nbformat": 4,
 "nbformat_minor": 5
}
