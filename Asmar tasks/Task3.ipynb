{
 "cells": [
  {
   "cell_type": "markdown",
   "id": "641f3135",
   "metadata": {},
   "source": [
    "Create a list of animals and display them in one line"
   ]
  },
  {
   "cell_type": "code",
   "execution_count": 27,
   "id": "86cd30d6",
   "metadata": {},
   "outputs": [
    {
     "name": "stdout",
     "output_type": "stream",
     "text": [
      "zebra,aslan,at,ceyran,zurafe\n"
     ]
    }
   ],
   "source": [
    "heyvanlar = ['zebra', 'aslan', 'at','ceyran','zurafe']\n",
    "print(\",\" .join(heyvanlar))"
   ]
  },
  {
   "cell_type": "code",
   "execution_count": null,
   "id": "48a3bd09",
   "metadata": {},
   "outputs": [],
   "source": []
  },
  {
   "cell_type": "code",
   "execution_count": null,
   "id": "8e17e273",
   "metadata": {},
   "outputs": [],
   "source": []
  },
  {
   "cell_type": "markdown",
   "id": "a3a59ffd",
   "metadata": {},
   "source": [
    "Create a program that finds; minum, maximum, average number in a list of random numbers.\n",
    "\n",
    "YOU ARE NOT ALLOWED TO USE BUILT-IN FUNCTIONS LIKE max(), min(), avg()"
   ]
  },
  {
   "cell_type": "code",
   "execution_count": 1,
   "id": "3b3e5059",
   "metadata": {},
   "outputs": [],
   "source": [
    "a = [12,23,34,45,56,67,78,89,90,100]"
   ]
  },
  {
   "cell_type": "code",
   "execution_count": 9,
   "id": "2d8c9aa7",
   "metadata": {},
   "outputs": [
    {
     "name": "stdout",
     "output_type": "stream",
     "text": [
      "12\n"
     ]
    }
   ],
   "source": [
    "minimum= a[0]\n",
    "for i in range(0,len(a)):\n",
    "    if a[i] < minimum:\n",
    "        minimum = a[i]\n",
    "print(minimum)"
   ]
  },
  {
   "cell_type": "code",
   "execution_count": 10,
   "id": "8a3d7633",
   "metadata": {},
   "outputs": [
    {
     "name": "stdout",
     "output_type": "stream",
     "text": [
      "100\n"
     ]
    }
   ],
   "source": [
    "maximum= a[0]\n",
    "for i in range(0,len(a)):\n",
    "    if a[i] > maximum:\n",
    "        maximum = a[i]\n",
    "print(maximum)"
   ]
  },
  {
   "cell_type": "code",
   "execution_count": 11,
   "id": "61d6a2ed",
   "metadata": {},
   "outputs": [
    {
     "name": "stdout",
     "output_type": "stream",
     "text": [
      "59.4\n"
     ]
    }
   ],
   "source": [
    "cem = 0\n",
    "say = len(a)\n",
    "for i in a:\n",
    "    cem += i\n",
    "    orta= cem / say\n",
    "print(orta)"
   ]
  },
  {
   "cell_type": "markdown",
   "id": "d986ba9c",
   "metadata": {},
   "source": [
    "You are given a nested list, display its elements in this manner\n",
    "\n",
    "Example\n",
    "\n",
    "List: [[1], [1, 2], [1, 2, 3]]\n",
    "\n",
    "OUTPUT:\n",
    "\n",
    "[1] -> 1\n",
    "\n",
    "[1, 2] -> 1, 2\n",
    "\n",
    "[1, 2, 3] -> 1, 2, 3"
   ]
  },
  {
   "cell_type": "code",
   "execution_count": 18,
   "id": "6fe1a050",
   "metadata": {},
   "outputs": [],
   "source": [
    "a = [[1], [1,2],[1,2,3]]\n",
    "for i in a:\n",
    "    for x in i:\n",
    "        "
   ]
  },
  {
   "cell_type": "code",
   "execution_count": null,
   "id": "0aa34d0c",
   "metadata": {},
   "outputs": [],
   "source": []
  },
  {
   "cell_type": "code",
   "execution_count": null,
   "id": "fa1c0908",
   "metadata": {},
   "outputs": [],
   "source": []
  },
  {
   "cell_type": "code",
   "execution_count": null,
   "id": "a3e1eeb6",
   "metadata": {},
   "outputs": [],
   "source": []
  },
  {
   "cell_type": "code",
   "execution_count": null,
   "id": "a386e478",
   "metadata": {},
   "outputs": [],
   "source": []
  },
  {
   "cell_type": "markdown",
   "id": "4f850d4d",
   "metadata": {},
   "source": [
    "You are given a nested list, create a new list which elements are the average of lists in a given nested list\n",
    "\n",
    "Example\n",
    "\n",
    "List: [[1, 6, 8], [1, 2], [10, 12, 13]]\n",
    "\n",
    "OUTPUT:\n",
    "\n",
    "[7.5, 1.5, 11.66666]"
   ]
  },
  {
   "cell_type": "code",
   "execution_count": 39,
   "id": "edb31fd9",
   "metadata": {},
   "outputs": [],
   "source": []
  },
  {
   "cell_type": "code",
   "execution_count": 109,
   "id": "d88bb335",
   "metadata": {},
   "outputs": [
    {
     "name": "stdout",
     "output_type": "stream",
     "text": [
      "5.0\n",
      "1.5\n",
      "11.666666666666666\n"
     ]
    }
   ],
   "source": [
    "List= [ [1, 6, 8],  [1, 2],  [10, 12, 13] ]\n",
    "\n",
    "a=[]\n",
    "cem = 0\n",
    "\n",
    "\n",
    "for i in List[0]:\n",
    "\n",
    "        cem += i\n",
    "        say= len(List[0])\n",
    "        orta1= cem / say\n",
    "        \n",
    "        \n",
    "print(orta1)\n",
    "\n",
    "a=[]\n",
    "cem = 0\n",
    "for i in List[1]:\n",
    "\n",
    "        cem += i\n",
    "        say= len(List[1])\n",
    "        orta2= cem / say\n",
    "        \n",
    "print(orta2)\n",
    "\n",
    "a=[]\n",
    "cem = 0\n",
    "for i in List[2]:\n",
    "\n",
    "        cem += i\n",
    "        say= len(List[2])\n",
    "        orta3= cem / say\n",
    "\n",
    "print(orta3)\n",
    "\n",
    "\n"
   ]
  },
  {
   "cell_type": "code",
   "execution_count": null,
   "id": "75614917",
   "metadata": {},
   "outputs": [],
   "source": []
  },
  {
   "cell_type": "code",
   "execution_count": 104,
   "id": "173baa08",
   "metadata": {},
   "outputs": [
    {
     "name": "stdout",
     "output_type": "stream",
     "text": [
      "[5.0, 1.5, 11.666666666666666]\n"
     ]
    }
   ],
   "source": [
    "List= [ [1, 6, 8],  [1, 2],  [10, 12, 13] ]\n",
    "\n",
    "a=[]\n",
    "\n",
    "for i in List:\n",
    "    cem = 0\n",
    "    for x in i:\n",
    "        cem+=x\n",
    "        say= len(i)\n",
    "    orta= cem / say\n",
    "    \n",
    "    a.append(orta)\n",
    "    \n",
    "print(a)\n"
   ]
  },
  {
   "cell_type": "code",
   "execution_count": null,
   "id": "a6b40c94",
   "metadata": {},
   "outputs": [],
   "source": []
  },
  {
   "cell_type": "code",
   "execution_count": null,
   "id": "fbc31e3b",
   "metadata": {},
   "outputs": [],
   "source": []
  },
  {
   "cell_type": "markdown",
   "id": "19d1d44a",
   "metadata": {},
   "source": [
    "Create a program that loops through a nested list and removes all elements divisible by n (n is given by the user).\n",
    "\n",
    "Example\n",
    "\n",
    "List: [[56, 43, 21], [98, 65, 41], [44, 41], [22]]\n",
    "\n",
    "n: 2\n",
    "\n",
    "OUTPUT:\n",
    "\n",
    "[[43, 12], [65, 41], [41], []]"
   ]
  },
  {
   "cell_type": "code",
   "execution_count": 108,
   "id": "652c1112",
   "metadata": {},
   "outputs": [
    {
     "name": "stdout",
     "output_type": "stream",
     "text": [
      "Eded daxil edin:3\n",
      "[[56, 43], [98, 65, 41], [44, 41], [22]]\n"
     ]
    }
   ],
   "source": [
    "a =  [[56, 43, 21], [98, 65, 41], [44, 41], [22]]\n",
    "n = int(input('Eded daxil edin:'))\n",
    "\n",
    "\n",
    "\n",
    "for i in a:\n",
    "    for x in i:\n",
    "        if x%n==0:\n",
    "            i.remove(x)\n",
    "            \n",
    "print(a)\n",
    "        "
   ]
  },
  {
   "cell_type": "markdown",
   "id": "aa7496d7",
   "metadata": {},
   "source": []
  },
  {
   "cell_type": "code",
   "execution_count": null,
   "id": "ada308cd",
   "metadata": {},
   "outputs": [],
   "source": []
  },
  {
   "cell_type": "code",
   "execution_count": null,
   "id": "07bf4e06",
   "metadata": {},
   "outputs": [],
   "source": []
  },
  {
   "cell_type": "code",
   "execution_count": null,
   "id": "aa17bdff",
   "metadata": {},
   "outputs": [],
   "source": []
  }
 ],
 "metadata": {
  "kernelspec": {
   "display_name": "Python 3 (ipykernel)",
   "language": "python",
   "name": "python3"
  },
  "language_info": {
   "codemirror_mode": {
    "name": "ipython",
    "version": 3
   },
   "file_extension": ".py",
   "mimetype": "text/x-python",
   "name": "python",
   "nbconvert_exporter": "python",
   "pygments_lexer": "ipython3",
   "version": "3.11.5"
  }
 },
 "nbformat": 4,
 "nbformat_minor": 5
}
