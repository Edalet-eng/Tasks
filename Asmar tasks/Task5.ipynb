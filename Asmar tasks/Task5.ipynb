{
 "cells": [
  {
   "cell_type": "markdown",
   "id": "641f3135",
   "metadata": {},
   "source": [
    "\n",
    "Create a program that gets from user 4 inputs that represent the expenses (\"Transportation\", \"Eating out\", \"Groceries\", \"Health and cosmetics\"). The program should calculate the total expense.\n",
    "\n"
   ]
  },
  {
   "cell_type": "code",
   "execution_count": 2,
   "id": "24aeb019",
   "metadata": {},
   "outputs": [
    {
     "name": "stdout",
     "output_type": "stream",
     "text": [
      "Daxil edin: 23\n",
      "Daxil edin: 34\n",
      "Daxil edin: 6\n",
      "Daxil edin: 43\n",
      "106\n"
     ]
    }
   ],
   "source": [
    "Transportation=int(input('Daxil edin: '))\n",
    "Eating=int(input('Daxil edin: '))\n",
    "Groceries=int(input('Daxil edin: '))\n",
    "Health=int(input('Daxil edin: '))\n",
    "total=0\n",
    "while True:\n",
    "    total=Transportation+Eating+Groceries+Health\n",
    "    print(total)\n",
    "    break"
   ]
  },
  {
   "cell_type": "markdown",
   "id": "a3a59ffd",
   "metadata": {},
   "source": [
    "Create a program where user enters a password. If the password is \"bigsecret\" display \"Access granted\", otherwise display \"Access denied\"."
   ]
  },
  {
   "cell_type": "code",
   "execution_count": 7,
   "id": "3b3e5059",
   "metadata": {},
   "outputs": [
    {
     "name": "stdout",
     "output_type": "stream",
     "text": [
      "Daxil edin: bigsecret\n",
      "Access granted\n"
     ]
    }
   ],
   "source": [
    "password=input('Daxil edin: ')\n",
    "while True:\n",
    "    if password==\"bigsecret\":\n",
    "        print('Access granted')\n",
    "        break\n",
    "    else:\n",
    "        print('Access denied')\n",
    "        break"
   ]
  },
  {
   "cell_type": "markdown",
   "id": "4c92e4a6",
   "metadata": {},
   "source": [
    "Create a program that asks user a question until the user answers it correctly."
   ]
  },
  {
   "cell_type": "code",
   "execution_count": 16,
   "id": "8a3d7633",
   "metadata": {},
   "outputs": [
    {
     "name": "stdout",
     "output_type": "stream",
     "text": [
      "Saat necedir?: 3 dur\n",
      "Saat necedir?: 8 dir\n",
      "Saat necedir?: Saat 5 dir\n",
      "Dogrudur\n"
     ]
    }
   ],
   "source": [
    "while True:\n",
    "    answer=input('Saat necedir?: ')\n",
    "    if answer=='Saat 5 dir':\n",
    "        print('Dogrudur')\n",
    "        break"
   ]
  },
  {
   "cell_type": "markdown",
   "id": "d986ba9c",
   "metadata": {},
   "source": [
    "Create a program that takes two inputs from a user: username and password. The program should ask for these inputs until each field is valid. The username must be at least 6 characters long. Password must be at least 8 characters long and contain a word \"anonim\" or \"anon\" in it."
   ]
  },
  {
   "cell_type": "code",
   "execution_count": 19,
   "id": "6fe1a050",
   "metadata": {},
   "outputs": [
    {
     "name": "stdout",
     "output_type": "stream",
     "text": [
      "Daxil edin: esmerler\n",
      "Daxil edin: anonim\n",
      "Qebul edildiniz\n"
     ]
    }
   ],
   "source": [
    "while True:\n",
    "    password=input('Daxil edin: ')\n",
    "    username=input('Daxil edin: ')\n",
    "    if len(password)>=8 and len(username)>=6 and ('anonim'==username or 'anon'==username):\n",
    "        print('Qebul edildiniz')\n",
    "        break\n",
    "    else:\n",
    "        print('Yeniden cehd edin')\n",
    "        "
   ]
  },
  {
   "cell_type": "markdown",
   "id": "4f850d4d",
   "metadata": {},
   "source": [
    "Write a program that displays how many thousands, hundreds, tens, ones (units) are in the number given by user (Assume that user always enters integers).\n",
    "\n",
    "Example:\n",
    "\n",
    "Number: 1437\n",
    "\n",
    "Thousands: 1\n",
    "\n",
    "Hundreds: 4\n",
    "\n",
    "Tens: 3\n",
    "\n",
    "Ones: 7\n",
    "\n",
    "**Bu Task While-a aid deyil**"
   ]
  },
  {
   "cell_type": "code",
   "execution_count": 2,
   "id": "edb31fd9",
   "metadata": {},
   "outputs": [
    {
     "name": "stdout",
     "output_type": "stream",
     "text": [
      "Daxil edin: 1234\n",
      " Thousands= [1] , Hundreds= [12] , Tens= [123] , Ones= [1234]\n"
     ]
    }
   ],
   "source": [
    "number=int(input('Daxil edin: '))\n",
    "\n",
    "Thousands=[]\n",
    "Hundreds=[]\n",
    "Tens=[]\n",
    "Ones=[]\n",
    "\n",
    "a=number//1000\n",
    "Thousands.append(a)\n",
    "\n",
    "b=number//100\n",
    "Hundreds.append(b)\n",
    "\n",
    "c=number//10\n",
    "Tens.append(c)\n",
    "\n",
    "d=number//1\n",
    "Ones.append(d)\n",
    "\n",
    "print(f\" Thousands= {Thousands} , Hundreds= {Hundreds} , Tens= {Tens} , Ones= {Ones}\" )"
   ]
  },
  {
   "cell_type": "code",
   "execution_count": null,
   "id": "47029e6b",
   "metadata": {},
   "outputs": [],
   "source": []
  },
  {
   "cell_type": "markdown",
   "id": "19d1d44a",
   "metadata": {},
   "source": [
    "Write a program that displays all odd numbers between 0 and 100\n",
    "\n",
    "VERSION 2\n",
    "\n",
    "The end point is determined by the user\n",
    "\n",
    "VERSION 3\n",
    "\n",
    "Display the amount of odd numbers as well"
   ]
  },
  {
   "cell_type": "code",
   "execution_count": 7,
   "id": "e8f770f4",
   "metadata": {},
   "outputs": [
    {
     "name": "stdout",
     "output_type": "stream",
     "text": [
      "Daxil edin: 23\n",
      "1\n",
      "3\n",
      "5\n",
      "7\n",
      "9\n",
      "11\n",
      "13\n",
      "15\n",
      "17\n",
      "19\n",
      "21\n",
      "23\n"
     ]
    }
   ],
   "source": [
    "# elave qeyd. user dediyi edede qeder tek ededleri gostersin\n",
    "\n",
    "user=int(input('Daxil edin: '))\n",
    "i=-1\n",
    "while i<user:\n",
    "    i+=2\n",
    "    print(i)"
   ]
  },
  {
   "cell_type": "code",
   "execution_count": 16,
   "id": "7ffe7e86",
   "metadata": {},
   "outputs": [
    {
     "name": "stdout",
     "output_type": "stream",
     "text": [
      "Daxil edin: 23\n",
      "20\n",
      "17\n",
      "14\n",
      "11\n",
      "8\n",
      "5\n",
      "2\n"
     ]
    }
   ],
   "source": [
    "# user dediyi ededden geriye 3-3 azalsin amma menfi qiymetler almasin.\n",
    "\n",
    "user = int(input(\"Daxil edin: \"))\n",
    "\n",
    "while user > 0:\n",
    "    user -= 3\n",
    "    if user >= 0:\n",
    "        print(user)"
   ]
  },
  {
   "cell_type": "code",
   "execution_count": null,
   "id": "652c1112",
   "metadata": {},
   "outputs": [],
   "source": [
    "#version 1 --- Write a program that displays all odd numbers between 0 and 100\n",
    "i=0\n",
    "while i<100:\n",
    "    i+=1\n",
    "    print(i)\n",
    "    "
   ]
  },
  {
   "cell_type": "code",
   "execution_count": 51,
   "id": "d10ba997",
   "metadata": {},
   "outputs": [
    {
     "name": "stdout",
     "output_type": "stream",
     "text": [
      "daxil edin: 23\n",
      "1\n",
      "2\n",
      "3\n",
      "4\n",
      "5\n",
      "6\n",
      "7\n",
      "8\n",
      "9\n",
      "10\n",
      "11\n",
      "12\n",
      "13\n",
      "14\n",
      "15\n",
      "16\n",
      "17\n",
      "18\n",
      "19\n",
      "20\n",
      "21\n",
      "22\n",
      "23\n"
     ]
    }
   ],
   "source": [
    "# version 2  --- the end point is determined by the user\n",
    "user=int(input('daxil edin: '))\n",
    "i=0\n",
    "while i<user:\n",
    "    i+=1\n",
    "    print(i)\n",
    "    \n"
   ]
  },
  {
   "cell_type": "code",
   "execution_count": 23,
   "id": "05de9fad",
   "metadata": {},
   "outputs": [
    {
     "name": "stdout",
     "output_type": "stream",
     "text": [
      "Daxil edin: 23\n",
      "Tek ededlerin sayi: 12\n"
     ]
    }
   ],
   "source": [
    "#version 3 --- Display the amount of odd numbers as well\n",
    "user = int(input(\"Daxil edin: \"))\n",
    "i=1\n",
    "cem=0\n",
    "while i<=user:\n",
    "    if i%2==1:\n",
    "        cem+=1\n",
    "    i+=1\n",
    "print(f\"Tek ededlerin sayi: {cem}\")\n"
   ]
  },
  {
   "cell_type": "markdown",
   "id": "e61bb523",
   "metadata": {},
   "source": [
    "Write a program that adds all numbers until 20 inclusive\n",
    "\n",
    "1 + 2 + 3 + 4 ... + 20 = 210"
   ]
  },
  {
   "cell_type": "code",
   "execution_count": 45,
   "id": "0099a08a",
   "metadata": {},
   "outputs": [
    {
     "name": "stdout",
     "output_type": "stream",
     "text": [
      "276\n"
     ]
    }
   ],
   "source": [
    "i=0\n",
    "cem=0\n",
    "while i<23:\n",
    "    i+=1\n",
    "    cem+=i\n",
    "print(cem)"
   ]
  },
  {
   "cell_type": "markdown",
   "id": "100d2d02",
   "metadata": {},
   "source": [
    "Write a program that takes three numbers as an input (a, b, c) and checks how many numbers between a and b are divisible by c.\n",
    "\n",
    "Example:\n",
    "\n",
    "a: 0\n",
    "\n",
    "b: 10\n",
    "\n",
    "c: 2\n",
    "\n",
    "There are 5 numbers divisible by 2 between 0 and 10"
   ]
  },
  {
   "cell_type": "code",
   "execution_count": 10,
   "id": "ece1a269",
   "metadata": {},
   "outputs": [
    {
     "name": "stdout",
     "output_type": "stream",
     "text": [
      "daxil edin: 0\n",
      "daxil edin: 10\n",
      "daxil edin: 2\n",
      "5\n"
     ]
    }
   ],
   "source": [
    "a=int(input('daxil edin: '))\n",
    "b=int(input('daxil edin: '))\n",
    "c=int(input('daxil edin: '))\n",
    "say=0\n",
    "for i in range(a,b):\n",
    "    if i%c==0:\n",
    "        say+=1\n",
    "print(say)\n",
    "            "
   ]
  },
  {
   "cell_type": "markdown",
   "id": "5033cb61",
   "metadata": {},
   "source": [
    "Create a program that asks user to enter a password. The password must me at least 6 characters long. The program does not stop until user enters a valid password\n",
    "\n",
    "Example:\n",
    "\n",
    "Password: 123\n",
    "\n",
    "Invalid password, try again... Password: 123456\n",
    "\n",
    "Success"
   ]
  },
  {
   "cell_type": "code",
   "execution_count": 14,
   "id": "a8dc85f8",
   "metadata": {},
   "outputs": [
    {
     "name": "stdout",
     "output_type": "stream",
     "text": [
      "Daxil edin: 123\n",
      "Yeniden cehd edin\n",
      "Daxil edin: 123456\n",
      "Dogrudur\n"
     ]
    }
   ],
   "source": [
    "while True:\n",
    "    user= input ('Daxil edin: ')\n",
    "    if len(str(user))>=6:\n",
    "        print('Dogrudur')\n",
    "        break\n",
    "    else: \n",
    "        print('Yeniden cehd edin')"
   ]
  },
  {
   "cell_type": "markdown",
   "id": "8401f816",
   "metadata": {},
   "source": [
    "Write a program that tells whether a triangle with given sides exists or not.\n",
    "\n",
    "\n",
    "Example\n",
    "\n",
    "Side a: 5\n",
    "\n",
    "Side b: 6\n",
    "\n",
    "Side c: 7\n",
    "\n",
    "Triangle with sides 5, 6, 7 exists\n",
    "\n",
    "Side a: 10\n",
    "\n",
    "Side b: 4\n",
    "\n",
    "Side c: 3\n",
    "\n",
    "Triangle with sides 10, 4, 3 DOES NOT exist"
   ]
  },
  {
   "cell_type": "code",
   "execution_count": 15,
   "id": "62045493",
   "metadata": {},
   "outputs": [
    {
     "name": "stdout",
     "output_type": "stream",
     "text": [
      "Daxil edin a: 3\n",
      "Daxil edin b: 4\n",
      "Daxil edin c: 5\n",
      "Belə üçbucaq mövcuddur.\n"
     ]
    }
   ],
   "source": [
    "while True:\n",
    "    a = int(input('Daxil edin a: '))\n",
    "    b = int(input('Daxil edin b: '))\n",
    "    c = int(input('Daxil edin c: '))\n",
    "    \n",
    "    if (a+b>c) and (b+c>a) and (a+c>b):\n",
    "        print(\"Belə üçbucaq mövcuddur.\")\n",
    "        break\n",
    "    else:\n",
    "        print(\"Belə üçbucaq mövcud deyil.\")"
   ]
  },
  {
   "cell_type": "markdown",
   "id": "fc40ad74",
   "metadata": {},
   "source": [
    "Create a program that asks the user to guess a randomly generated secret number (from 1 to 12 inclusive). If the user enters a number that is less or greater than secret number, display corresponding message. The user can guess only 4 times. The program doesn't stop until the user guesses the secret number or the attempt limit is reached. Display the amount of attempts it took for the user to guess the secret number.\n",
    "\n",
    "Example:\n",
    "\n",
    "Your guess: 5\n",
    "\n",
    "Go higher\n",
    "\n",
    "Your guess: 12\n",
    "\n",
    "Go lower\n",
    "\n",
    "Your guess: 10\n",
    "\n",
    "You won!\n",
    "\n",
    "It took you 3 attempts to win the game\n",
    "\n",
    "Another example:\n",
    "\n",
    "Your guess: 2\n",
    "\n",
    "Go higher\n",
    "\n",
    "Your guess: 3\n",
    "\n",
    "Go higher\n",
    "\n",
    "Your guess: 12\n",
    "\n",
    "Go lower\n",
    "\n",
    "Your guess: 11\n",
    "\n",
    "You lost... the secret number is 10"
   ]
  },
  {
   "cell_type": "code",
   "execution_count": 31,
   "id": "de4b1d69",
   "metadata": {},
   "outputs": [
    {
     "name": "stdout",
     "output_type": "stream",
     "text": [
      "Sizin təxmininiz: 45\n",
      "Asagi enin\n",
      "Sizin təxmininiz: 67\n",
      "Asagi enin\n",
      "Sizin təxmininiz: 56\n",
      "Asagi enin\n",
      "Sizin təxmininiz: 78\n",
      "Asagi enin\n",
      "Siz uduzdunuz\n"
     ]
    }
   ],
   "source": [
    "limit=4\n",
    "cehd=0\n",
    "while cehd<limit:\n",
    "    a = int(input('Sizin təxmininiz: '))\n",
    "    b=23\n",
    "    if a<b:\n",
    "        print('Yuxari qalxin')\n",
    "    if a>b:\n",
    "        print('Asagi enin')\n",
    "    elif a==b:\n",
    "        print('Siz dogru tapdiniz!')\n",
    "    cehd+=1\n",
    "        \n",
    "        \n",
    "if cehd==limit:\n",
    "    print('Siz uduzdunuz')"
   ]
  },
  {
   "cell_type": "code",
   "execution_count": 33,
   "id": "5ad05841",
   "metadata": {},
   "outputs": [
    {
     "name": "stdout",
     "output_type": "stream",
     "text": [
      "Sizin təxmininiz: 45\n",
      "Asagi enin\n",
      "Sizin təxmininiz: 56\n",
      "Asagi enin\n",
      "Sizin təxmininiz: 23\n",
      "Siz dogru tapdiniz!\n"
     ]
    },
    {
     "ename": "KeyboardInterrupt",
     "evalue": "Interrupted by user",
     "output_type": "error",
     "traceback": [
      "\u001b[1;31m---------------------------------------------------------------------------\u001b[0m",
      "\u001b[1;31mKeyboardInterrupt\u001b[0m                         Traceback (most recent call last)",
      "Cell \u001b[1;32mIn[33], line 4\u001b[0m\n\u001b[0;32m      2\u001b[0m cehd\u001b[38;5;241m=\u001b[39m\u001b[38;5;241m0\u001b[39m\n\u001b[0;32m      3\u001b[0m \u001b[38;5;28;01mwhile\u001b[39;00m cehd\u001b[38;5;241m<\u001b[39mlimit:\n\u001b[1;32m----> 4\u001b[0m     a \u001b[38;5;241m=\u001b[39m \u001b[38;5;28mint\u001b[39m(\u001b[38;5;28minput\u001b[39m(\u001b[38;5;124m'\u001b[39m\u001b[38;5;124mSizin təxmininiz: \u001b[39m\u001b[38;5;124m'\u001b[39m))\n\u001b[0;32m      5\u001b[0m     b\u001b[38;5;241m=\u001b[39m\u001b[38;5;241m23\u001b[39m\n\u001b[0;32m      6\u001b[0m     \u001b[38;5;28;01mif\u001b[39;00m a\u001b[38;5;241m<\u001b[39mb:\n",
      "File \u001b[1;32mC:\\ProgramData\\anaconda3\\Lib\\site-packages\\ipykernel\\kernelbase.py:1202\u001b[0m, in \u001b[0;36mKernel.raw_input\u001b[1;34m(self, prompt)\u001b[0m\n\u001b[0;32m   1200\u001b[0m     msg \u001b[38;5;241m=\u001b[39m \u001b[38;5;124m\"\u001b[39m\u001b[38;5;124mraw_input was called, but this frontend does not support input requests.\u001b[39m\u001b[38;5;124m\"\u001b[39m\n\u001b[0;32m   1201\u001b[0m     \u001b[38;5;28;01mraise\u001b[39;00m StdinNotImplementedError(msg)\n\u001b[1;32m-> 1202\u001b[0m \u001b[38;5;28;01mreturn\u001b[39;00m \u001b[38;5;28mself\u001b[39m\u001b[38;5;241m.\u001b[39m_input_request(\n\u001b[0;32m   1203\u001b[0m     \u001b[38;5;28mstr\u001b[39m(prompt),\n\u001b[0;32m   1204\u001b[0m     \u001b[38;5;28mself\u001b[39m\u001b[38;5;241m.\u001b[39m_parent_ident[\u001b[38;5;124m\"\u001b[39m\u001b[38;5;124mshell\u001b[39m\u001b[38;5;124m\"\u001b[39m],\n\u001b[0;32m   1205\u001b[0m     \u001b[38;5;28mself\u001b[39m\u001b[38;5;241m.\u001b[39mget_parent(\u001b[38;5;124m\"\u001b[39m\u001b[38;5;124mshell\u001b[39m\u001b[38;5;124m\"\u001b[39m),\n\u001b[0;32m   1206\u001b[0m     password\u001b[38;5;241m=\u001b[39m\u001b[38;5;28;01mFalse\u001b[39;00m,\n\u001b[0;32m   1207\u001b[0m )\n",
      "File \u001b[1;32mC:\\ProgramData\\anaconda3\\Lib\\site-packages\\ipykernel\\kernelbase.py:1245\u001b[0m, in \u001b[0;36mKernel._input_request\u001b[1;34m(self, prompt, ident, parent, password)\u001b[0m\n\u001b[0;32m   1242\u001b[0m \u001b[38;5;28;01mexcept\u001b[39;00m \u001b[38;5;167;01mKeyboardInterrupt\u001b[39;00m:\n\u001b[0;32m   1243\u001b[0m     \u001b[38;5;66;03m# re-raise KeyboardInterrupt, to truncate traceback\u001b[39;00m\n\u001b[0;32m   1244\u001b[0m     msg \u001b[38;5;241m=\u001b[39m \u001b[38;5;124m\"\u001b[39m\u001b[38;5;124mInterrupted by user\u001b[39m\u001b[38;5;124m\"\u001b[39m\n\u001b[1;32m-> 1245\u001b[0m     \u001b[38;5;28;01mraise\u001b[39;00m \u001b[38;5;167;01mKeyboardInterrupt\u001b[39;00m(msg) \u001b[38;5;28;01mfrom\u001b[39;00m \u001b[38;5;28;01mNone\u001b[39;00m\n\u001b[0;32m   1246\u001b[0m \u001b[38;5;28;01mexcept\u001b[39;00m \u001b[38;5;167;01mException\u001b[39;00m:\n\u001b[0;32m   1247\u001b[0m     \u001b[38;5;28mself\u001b[39m\u001b[38;5;241m.\u001b[39mlog\u001b[38;5;241m.\u001b[39mwarning(\u001b[38;5;124m\"\u001b[39m\u001b[38;5;124mInvalid Message:\u001b[39m\u001b[38;5;124m\"\u001b[39m, exc_info\u001b[38;5;241m=\u001b[39m\u001b[38;5;28;01mTrue\u001b[39;00m)\n",
      "\u001b[1;31mKeyboardInterrupt\u001b[0m: Interrupted by user"
     ]
    }
   ],
   "source": [
    "limit=4\n",
    "cehd=0\n",
    "while cehd<limit:\n",
    "    a = int(input('Sizin təxmininiz: '))\n",
    "    b=23\n",
    "    if a<b:\n",
    "        print('Yuxari qalxin')\n",
    "    if a>b:\n",
    "        print('Asagi enin')\n",
    "    elif a==b:\n",
    "        print('Siz dogru tapdiniz!')\n",
    "    cehd+=1\n",
    "        \n",
    "        \n",
    "if cehd==limit:\n",
    "    print('Siz uduzdunuz')"
   ]
  },
  {
   "cell_type": "code",
   "execution_count": null,
   "id": "b15318b9",
   "metadata": {},
   "outputs": [],
   "source": []
  }
 ],
 "metadata": {
  "kernelspec": {
   "display_name": "Python 3 (ipykernel)",
   "language": "python",
   "name": "python3"
  },
  "language_info": {
   "codemirror_mode": {
    "name": "ipython",
    "version": 3
   },
   "file_extension": ".py",
   "mimetype": "text/x-python",
   "name": "python",
   "nbconvert_exporter": "python",
   "pygments_lexer": "ipython3",
   "version": "3.11.5"
  }
 },
 "nbformat": 4,
 "nbformat_minor": 5
}
