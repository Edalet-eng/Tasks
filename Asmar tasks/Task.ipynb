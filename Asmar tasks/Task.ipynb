{
 "cells": [
  {
   "cell_type": "markdown",
   "id": "ff792960",
   "metadata": {},
   "source": [
    "## Variables, user-input, arithmetical operators."
   ]
  },
  {
   "cell_type": "markdown",
   "id": "20bbdb54",
   "metadata": {},
   "source": [
    "Iki dəyişən yaradin (ədədlər), onların cəmini tapıb, göstərin."
   ]
  },
  {
   "cell_type": "code",
   "execution_count": 1,
   "id": "23ebe60c",
   "metadata": {},
   "outputs": [],
   "source": [
    "x=10\n",
    "y=15"
   ]
  },
  {
   "cell_type": "code",
   "execution_count": 2,
   "id": "33b834b5",
   "metadata": {},
   "outputs": [
    {
     "name": "stdout",
     "output_type": "stream",
     "text": [
      "25\n"
     ]
    }
   ],
   "source": [
    "print(x+y)"
   ]
  },
  {
   "cell_type": "markdown",
   "id": "b3d3e899",
   "metadata": {},
   "source": [
    "Bir dəyişən yaradın (ədəd), növbəti ədədi göstərin."
   ]
  },
  {
   "cell_type": "code",
   "execution_count": 3,
   "id": "d9a4dc7e",
   "metadata": {},
   "outputs": [
    {
     "data": {
      "text/plain": [
       "11"
      ]
     },
     "execution_count": 3,
     "metadata": {},
     "output_type": "execute_result"
    }
   ],
   "source": [
    "x=10\n",
    "x+=1\n",
    "x"
   ]
  },
  {
   "cell_type": "markdown",
   "id": "05bd9e01",
   "metadata": {},
   "source": [
    "User-in adını soruşun. Daxil olunan qiyməti dəyişəndə saxlayıb, göstərin."
   ]
  },
  {
   "cell_type": "code",
   "execution_count": 1,
   "id": "147389c8",
   "metadata": {},
   "outputs": [
    {
     "name": "stdout",
     "output_type": "stream",
     "text": [
      "Adınızı daxil edin:esmer\n",
      "esmer\n"
     ]
    }
   ],
   "source": [
    "ad = input(\"Adınızı daxil edin:\")\n",
    "print(ad)"
   ]
  },
  {
   "cell_type": "markdown",
   "id": "ccc267f9",
   "metadata": {},
   "source": [
    "İki dəyişən yaradın (ədədlər). Onların qiymətini user müəyyən edir. İki ədədin cəmini göstərin"
   ]
  },
  {
   "cell_type": "code",
   "execution_count": 2,
   "id": "5b85f8d9",
   "metadata": {},
   "outputs": [
    {
     "name": "stdout",
     "output_type": "stream",
     "text": [
      "Ədəd daxil edin:4\n",
      "Ədəd daxil edin:8\n",
      "12\n"
     ]
    }
   ],
   "source": [
    "a=int(input(\"Ədəd daxil edin:\"))\n",
    "b=int(input(\"Ədəd daxil edin:\"))\n",
    "print(a+b)"
   ]
  },
  {
   "cell_type": "markdown",
   "id": "bd324e92",
   "metadata": {},
   "source": [
    "Bir dəyişən yaradın. Onun içində saat (vaxt) sayını daxil edin (məsələn: 4). Saatı dəqiqələrə çevirib, göstərin."
   ]
  },
  {
   "cell_type": "code",
   "execution_count": 3,
   "id": "ae4ab704",
   "metadata": {},
   "outputs": [
    {
     "data": {
      "text/plain": [
       "180"
      ]
     },
     "execution_count": 3,
     "metadata": {},
     "output_type": "execute_result"
    }
   ],
   "source": [
    "saat=3\n",
    "deqiqe=60\n",
    "saat*deqiqe"
   ]
  },
  {
   "cell_type": "markdown",
   "id": "8ebabc9f",
   "metadata": {},
   "source": [
    "Bir dəyişən yaradın. Onun içində dəqiqələrin sayını daxil edin (məsələn: 15). Dəqiqələri saniyələrə çevirin."
   ]
  },
  {
   "cell_type": "code",
   "execution_count": 4,
   "id": "d7c909be",
   "metadata": {},
   "outputs": [
    {
     "data": {
      "text/plain": [
       "1200"
      ]
     },
     "execution_count": 4,
     "metadata": {},
     "output_type": "execute_result"
    }
   ],
   "source": [
    "deqiqe=20\n",
    "saniye=60\n",
    "deqiqe*saniye"
   ]
  },
  {
   "cell_type": "markdown",
   "id": "33e60a0e",
   "metadata": {},
   "source": [
    "User-dən yaş inputunu götürün. Onu ədədə çevirib, ekrana göstərin."
   ]
  },
  {
   "cell_type": "code",
   "execution_count": 5,
   "id": "a2b1fd35",
   "metadata": {},
   "outputs": [
    {
     "name": "stdout",
     "output_type": "stream",
     "text": [
      "Yaşınızı daxil edin:21\n",
      "21\n"
     ]
    }
   ],
   "source": [
    "yas=int(input(\"Yaşınızı daxil edin:\"))\n",
    "print(yas)"
   ]
  },
  {
   "cell_type": "markdown",
   "id": "b64ebafb",
   "metadata": {},
   "source": [
    "Bir dəyişən yaradın, onun qiyməti user-in yaşına bərabər olsun. Göstərin user neçə gün yaşayıb."
   ]
  },
  {
   "cell_type": "code",
   "execution_count": 6,
   "id": "ca8d14b4",
   "metadata": {},
   "outputs": [
    {
     "data": {
      "text/plain": [
       "7665"
      ]
     },
     "execution_count": 6,
     "metadata": {},
     "output_type": "execute_result"
    }
   ],
   "source": [
    "yaşı=21\n",
    "biril=365\n",
    "yaşı*biril"
   ]
  },
  {
   "cell_type": "markdown",
   "id": "2dcf4bcd",
   "metadata": {},
   "source": [
    "İki rəqəmin bölmə qaliğını göstərin."
   ]
  },
  {
   "cell_type": "code",
   "execution_count": 7,
   "id": "1f4c9370",
   "metadata": {},
   "outputs": [
    {
     "data": {
      "text/plain": [
       "1"
      ]
     },
     "execution_count": 7,
     "metadata": {},
     "output_type": "execute_result"
    }
   ],
   "source": [
    "7%2"
   ]
  },
  {
   "cell_type": "markdown",
   "id": "c16e303c",
   "metadata": {},
   "source": [
    "Iki dəyişən yaradın. User iki ədəd daxil edəcək. birinci ədədi ikinci ədədin güvvəsinə qaldırın.\n",
    "\n",
    "Məslən: 2 üstü 4 bərabərdir 16"
   ]
  },
  {
   "cell_type": "code",
   "execution_count": 8,
   "id": "ab0d85dc",
   "metadata": {},
   "outputs": [
    {
     "name": "stdout",
     "output_type": "stream",
     "text": [
      "Ədəd daxil edin:34\n",
      "Ədəd daxil edin:2\n"
     ]
    },
    {
     "data": {
      "text/plain": [
       "1156"
      ]
     },
     "execution_count": 8,
     "metadata": {},
     "output_type": "execute_result"
    }
   ],
   "source": [
    "a=int(input(\"Ədəd daxil edin:\"))\n",
    "b=int(input(\"Ədəd daxil edin:\"))\n",
    "a**b"
   ]
  },
  {
   "cell_type": "markdown",
   "id": "2db1cc82",
   "metadata": {},
   "source": [
    "İki dəyişən yaradın. Birinci dəyişənə saatların sayını daxil edin. İkinci dəyişənə dəqiqələrin sayını daxil edin. Hər iki qiyməti saniyələrə çevirib, cəmini tapın."
   ]
  },
  {
   "cell_type": "code",
   "execution_count": 129,
   "id": "911cd275",
   "metadata": {},
   "outputs": [
    {
     "name": "stdout",
     "output_type": "stream",
     "text": [
      "10800\n"
     ]
    }
   ],
   "source": [
    "saat=2\n",
    "saniye=3600\n",
    "a= saat*saniye\n",
    "\n",
    "deqiqe= 60\n",
    "saniye=60\n",
    "b = deqiqe*saniye\n",
    "\n",
    "\n",
    "print(a+b)\n",
    "\n"
   ]
  },
  {
   "cell_type": "markdown",
   "id": "d9bd0809",
   "metadata": {},
   "source": [
    "## Conditional statements"
   ]
  },
  {
   "cell_type": "markdown",
   "id": "9c2a706e",
   "metadata": {},
   "source": [
    "İki dəyişən yaradın. Onlara ixtiyari ədəd qiymətini verin. Proqram onların bərabər olduğunu, ya olmağını göstərməlidir.\n",
    "\n",
    "2, 4 -> bərabər deyil\n",
    "\n",
    "16, 16 -> bərabərdir"
   ]
  },
  {
   "cell_type": "code",
   "execution_count": 16,
   "id": "1145a296",
   "metadata": {},
   "outputs": [
    {
     "name": "stdout",
     "output_type": "stream",
     "text": [
      "Beraber deyil\n"
     ]
    }
   ],
   "source": [
    "a=20\n",
    "b=32\n",
    "if a==b:\n",
    "    print(\"Beraberdir\")\n",
    "else:\n",
    "    print(\"Beraber deyil\")"
   ]
  },
  {
   "cell_type": "markdown",
   "id": "e2c0433a",
   "metadata": {},
   "source": [
    "1Bir dəyişən yaradın. User-dən ədəd soruşun, və göstərin, verilən ədəd sifırdan kiçikdir, bərabərdir, yoxsa böyükdür."
   ]
  },
  {
   "cell_type": "code",
   "execution_count": 17,
   "id": "b775b257",
   "metadata": {},
   "outputs": [
    {
     "name": "stdout",
     "output_type": "stream",
     "text": [
      "Ədəd daxil edin:23\n",
      "Boyukdur\n"
     ]
    }
   ],
   "source": [
    "x=int(input(\"Ədəd daxil edin:\"))\n",
    "if x<0:\n",
    "    print(\"Kicikdir\")\n",
    "elif x==0:\n",
    "    print(\"Beraberdir\")\n",
    "else:\n",
    "    print(\"Boyukdur\")"
   ]
  },
  {
   "cell_type": "markdown",
   "id": "54c95201",
   "metadata": {},
   "source": [
    "İki dəyişən yaradın. Onlara ixtiyari ədəd qiymətini verin. Göstərin, onların cəmi 100-dən kiçikdir, bərabərdir, yoxsa böyükdür."
   ]
  },
  {
   "cell_type": "code",
   "execution_count": 18,
   "id": "e6821408",
   "metadata": {},
   "outputs": [
    {
     "name": "stdout",
     "output_type": "stream",
     "text": [
      "Kicikdir\n"
     ]
    }
   ],
   "source": [
    "x=25\n",
    "y=34\n",
    "z=x+y\n",
    "if z<100:\n",
    "    print(\"Kicikdir\")\n",
    "elif z==100:\n",
    "    print(\"Beraberdir\")\n",
    "else:\n",
    "    print(\"Boyukdur\")"
   ]
  },
  {
   "cell_type": "markdown",
   "id": "de38384b",
   "metadata": {},
   "source": [
    "Bir dəyişən yaradın. User-dən ədəd sorşun. Göstərin, verilən ədəd 100-ə tam bölünür ya yox."
   ]
  },
  {
   "cell_type": "code",
   "execution_count": 19,
   "id": "910d5742",
   "metadata": {},
   "outputs": [
    {
     "name": "stdout",
     "output_type": "stream",
     "text": [
      "Eded daxil edin:300\n",
      "Bolunur\n"
     ]
    }
   ],
   "source": [
    "eded=int(input(\"Eded daxil edin:\"))\n",
    "if eded%100==0:\n",
    "    print(\"Bolunur\")\n",
    "else:\n",
    "    print(\"Bolunmur\")"
   ]
  },
  {
   "cell_type": "markdown",
   "id": "7d18ffbd",
   "metadata": {},
   "source": [
    "İki dəyişən yaradın. Onlara dördbucağın tərəflərini daxil edin. Dördbucağın permetrini və sahəsini göstərin."
   ]
  },
  {
   "cell_type": "code",
   "execution_count": 21,
   "id": "74d39060",
   "metadata": {},
   "outputs": [
    {
     "name": "stdout",
     "output_type": "stream",
     "text": [
      "120\n",
      "500\n"
     ]
    }
   ],
   "source": [
    "en=10\n",
    "uzunluq=50\n",
    "Parametr=2*(en+uzunluq)\n",
    "print(Parametr)\n",
    "\n",
    "Sahe=en*uzunluq\n",
    "print(Sahe)"
   ]
  },
  {
   "cell_type": "markdown",
   "id": "464815db",
   "metadata": {},
   "source": [
    "Bir dəyişən yaradın. Ona boolean(True, False) qiymətini verin. O qiymətini göstərin."
   ]
  },
  {
   "cell_type": "code",
   "execution_count": 22,
   "id": "24d03f54",
   "metadata": {},
   "outputs": [
    {
     "name": "stdout",
     "output_type": "stream",
     "text": [
      "True\n"
     ]
    }
   ],
   "source": [
    "x=567\n",
    "print(bool(x))"
   ]
  },
  {
   "cell_type": "markdown",
   "id": "1ef28dac",
   "metadata": {},
   "source": [
    "Bir dəyişən yaradın. Ona boolean qiymətini verin. Proqram qiymətin əksini göstərməlidir (Əgər dəyişənə True verilibsə, False göstərməlidir. Əgər dəyişənə False verilibsə, True göstərməlidir)"
   ]
  },
  {
   "cell_type": "code",
   "execution_count": 23,
   "id": "6b16595b",
   "metadata": {},
   "outputs": [
    {
     "name": "stdout",
     "output_type": "stream",
     "text": [
      "True\n"
     ]
    }
   ],
   "source": [
    "x=0\n",
    "print(not bool(x))"
   ]
  },
  {
   "cell_type": "markdown",
   "id": "3c8cdf38",
   "metadata": {},
   "source": [
    "Bir dəyişən yaradın. User-dən ədəd soruşun. Daxil ediyi ədədin cüt ya tək olmasını göstrərin."
   ]
  },
  {
   "cell_type": "code",
   "execution_count": 130,
   "id": "6137c170",
   "metadata": {},
   "outputs": [
    {
     "name": "stdout",
     "output_type": "stream",
     "text": [
      "Ədəd daxil edin:23\n",
      "Tekdir\n"
     ]
    }
   ],
   "source": [
    "x=int(input(\"Ədəd daxil edin:\"))\n",
    "if x%2==0:\n",
    "    print('Cutdur')\n",
    "else:\n",
    "    print('Tekdir')"
   ]
  },
  {
   "cell_type": "markdown",
   "id": "edbb0e49",
   "metadata": {},
   "source": [
    "Bir dəyişən yaradın. User-dən ədəd soruşun. Proqram göstərməlidir, daxil edilən rəqəm 5-ə və 8-ə qaliqsiz bölünür ya yox."
   ]
  },
  {
   "cell_type": "code",
   "execution_count": 25,
   "id": "94cf2c8f",
   "metadata": {},
   "outputs": [
    {
     "name": "stdout",
     "output_type": "stream",
     "text": [
      "Ədəd daxil edin:345\n",
      "Bu eded qaliqli bolunur\n"
     ]
    }
   ],
   "source": [
    "a=int(input(\"Ədəd daxil edin:\"))\n",
    "if a%5==0 and a%8==0:\n",
    "    print(\"Bu eded 5-e ve 8-e qaliqsiz bolunur\")\n",
    "else:\n",
    "    print(\"Bu eded qaliqli bolunur\")"
   ]
  },
  {
   "cell_type": "markdown",
   "id": "816ff65d",
   "metadata": {},
   "source": [
    "Bir dəyişən yaradin. User-dən şifrəni soruşun. Əgər şifrə \"anonim\" ya \"secret\" olsa ekrana \"Xoş gəlmisiniz\" göstərin. Əks xalda ekrana \"HACKER\" göstərin"
   ]
  },
  {
   "cell_type": "code",
   "execution_count": 26,
   "id": "13181b42",
   "metadata": {},
   "outputs": [
    {
     "name": "stdout",
     "output_type": "stream",
     "text": [
      "Sifreni daxil edin:anonim\n",
      "Xos gelmisiniz\n"
     ]
    }
   ],
   "source": [
    "a=input('Sifreni daxil edin:')\n",
    "if a=='anonim' or a=='secret':\n",
    "    print('Xos gelmisiniz')\n",
    "else:\n",
    "    print('HACKER')"
   ]
  },
  {
   "cell_type": "markdown",
   "id": "dd19b31a",
   "metadata": {},
   "source": [
    "## Loops"
   ]
  },
  {
   "cell_type": "markdown",
   "id": "b79c7616",
   "metadata": {},
   "source": [
    "0-dan 10-a qədər rəqəmləri göstərin."
   ]
  },
  {
   "cell_type": "code",
   "execution_count": 29,
   "id": "5262fc44",
   "metadata": {},
   "outputs": [
    {
     "name": "stdout",
     "output_type": "stream",
     "text": [
      "0\n",
      "1\n",
      "2\n",
      "3\n",
      "4\n",
      "5\n",
      "6\n",
      "7\n",
      "8\n",
      "9\n"
     ]
    }
   ],
   "source": [
    "for i in range(0,10):\n",
    "    print(i)"
   ]
  },
  {
   "cell_type": "markdown",
   "id": "ce7c313c",
   "metadata": {},
   "source": [
    "0-dan 100-ə qədər hər 4-cü ədədi göstərin."
   ]
  },
  {
   "cell_type": "code",
   "execution_count": 32,
   "id": "6843232b",
   "metadata": {},
   "outputs": [
    {
     "name": "stdout",
     "output_type": "stream",
     "text": [
      "0\n",
      "4\n",
      "8\n",
      "12\n",
      "16\n",
      "20\n",
      "24\n",
      "28\n",
      "32\n",
      "36\n",
      "40\n",
      "44\n",
      "48\n",
      "52\n",
      "56\n",
      "60\n",
      "64\n",
      "68\n",
      "72\n",
      "76\n",
      "80\n",
      "84\n",
      "88\n",
      "92\n",
      "96\n"
     ]
    }
   ],
   "source": [
    "for i in range(0,100,4):\n",
    "    print(i)"
   ]
  },
  {
   "cell_type": "markdown",
   "id": "291519d8",
   "metadata": {},
   "source": [
    "Bir dəyişən yaradın. User-dən ədəd soruşun. Proqram 0-dan user daxil etdiyi ədədə qədər, ədədləri göstərməlidir"
   ]
  },
  {
   "cell_type": "code",
   "execution_count": 33,
   "id": "0b35fc59",
   "metadata": {},
   "outputs": [
    {
     "name": "stdout",
     "output_type": "stream",
     "text": [
      "Ədəd daxil edin:43\n",
      "0\n",
      "1\n",
      "2\n",
      "3\n",
      "4\n",
      "5\n",
      "6\n",
      "7\n",
      "8\n",
      "9\n",
      "10\n",
      "11\n",
      "12\n",
      "13\n",
      "14\n",
      "15\n",
      "16\n",
      "17\n",
      "18\n",
      "19\n",
      "20\n",
      "21\n",
      "22\n",
      "23\n",
      "24\n",
      "25\n",
      "26\n",
      "27\n",
      "28\n",
      "29\n",
      "30\n",
      "31\n",
      "32\n",
      "33\n",
      "34\n",
      "35\n",
      "36\n",
      "37\n",
      "38\n",
      "39\n",
      "40\n",
      "41\n",
      "42\n"
     ]
    }
   ],
   "source": [
    "a=int(input(\"Ədəd daxil edin:\"))\n",
    "for i in range(0,a):\n",
    "    print(i)"
   ]
  },
  {
   "cell_type": "markdown",
   "id": "e14e874f",
   "metadata": {},
   "source": [
    "İki dəyişən yaradın. User hər dəyişənə ədəd verir. Proqram bu iki ədəd arasında ədədləri göstərir."
   ]
  },
  {
   "cell_type": "code",
   "execution_count": 34,
   "id": "00c2427c",
   "metadata": {},
   "outputs": [
    {
     "name": "stdout",
     "output_type": "stream",
     "text": [
      "Ədəd daxil edin:25\n",
      "Ədəd daxil edin:33\n",
      "25\n",
      "26\n",
      "27\n",
      "28\n",
      "29\n",
      "30\n",
      "31\n",
      "32\n"
     ]
    }
   ],
   "source": [
    "a=int(input(\"Ədəd daxil edin:\"))\n",
    "b=int(input(\"Ədəd daxil edin:\"))\n",
    "for i in range(a,b):\n",
    "    print(i)"
   ]
  },
  {
   "cell_type": "markdown",
   "id": "360b3a66",
   "metadata": {},
   "source": [
    "Bir dəyişən yaradın. Dəyişənin ilkin qəymətini 0 daxil edin. 0-dan 100-ə qədər ədədlərin cəmini göstərin."
   ]
  },
  {
   "cell_type": "code",
   "execution_count": 55,
   "id": "dc476390",
   "metadata": {},
   "outputs": [
    {
     "name": "stdout",
     "output_type": "stream",
     "text": [
      "4950\n"
     ]
    }
   ],
   "source": [
    "a = 0 \n",
    "for i in range(a,100): \n",
    "    a+= i \n",
    "print(a) "
   ]
  },
  {
   "cell_type": "markdown",
   "id": "cab92b22",
   "metadata": {},
   "source": [
    "0-dan 100-ə qədər 5-ə və 3-ə bölünən ədələri göstərin"
   ]
  },
  {
   "cell_type": "code",
   "execution_count": 131,
   "id": "4c6337c3",
   "metadata": {},
   "outputs": [
    {
     "name": "stdout",
     "output_type": "stream",
     "text": [
      "0\n",
      "15\n",
      "30\n",
      "45\n",
      "60\n",
      "75\n",
      "90\n"
     ]
    }
   ],
   "source": [
    "for i in range(0,100):\n",
    "    if i%3==0 and i%5==0:\n",
    "            print(i)"
   ]
  },
  {
   "cell_type": "markdown",
   "id": "32685783",
   "metadata": {},
   "source": [
    "Bir dəyişən yaradın. User-dən ədəd soruşun. 0-dan 100-ə qədər user daxil etdiyi ədədə bölünən ədədləri göstərin."
   ]
  },
  {
   "cell_type": "code",
   "execution_count": 73,
   "id": "317b44d2",
   "metadata": {},
   "outputs": [
    {
     "name": "stdout",
     "output_type": "stream",
     "text": [
      "Ədəd daxil edin:30\n",
      "0\n",
      "30\n",
      "60\n",
      "90\n"
     ]
    }
   ],
   "source": [
    "a=int(input(\"Ədəd daxil edin:\"))\n",
    "for i in range(0,100):\n",
    "    if i%a==0:\n",
    "        print(i)"
   ]
  },
  {
   "cell_type": "markdown",
   "id": "676806e2",
   "metadata": {},
   "source": [
    "Üç dəyişən yaradın. User hər dəyişənə ədəd verir. Birinci və ikinci ədəd aranı göstərir. Bu arada üçüncü ədədə bölünən ədələri göstərin. "
   ]
  },
  {
   "cell_type": "code",
   "execution_count": 75,
   "id": "191d1355",
   "metadata": {},
   "outputs": [
    {
     "name": "stdout",
     "output_type": "stream",
     "text": [
      "Ədəd daxil edin:30\n",
      "Ədəd daxil edin:67\n",
      "Ədəd daxil edin:6\n",
      "30\n",
      "36\n",
      "42\n",
      "48\n",
      "54\n",
      "60\n",
      "66\n"
     ]
    }
   ],
   "source": [
    "a=int(input(\"Ədəd daxil edin:\"))\n",
    "b=int(input(\"Ədəd daxil edin:\"))\n",
    "c=int(input(\"Ədəd daxil edin:\"))\n",
    "for i in range(a,b):\n",
    "    if i%c==0:\n",
    "        print(i)"
   ]
  },
  {
   "cell_type": "markdown",
   "id": "d801b0ad",
   "metadata": {},
   "source": [
    "100-dən başlayaraq 0-a qədər ədədləri göstərin. "
   ]
  },
  {
   "cell_type": "code",
   "execution_count": 80,
   "id": "5b9a7954",
   "metadata": {},
   "outputs": [
    {
     "name": "stdout",
     "output_type": "stream",
     "text": [
      "99\n",
      "98\n",
      "97\n",
      "96\n",
      "95\n",
      "94\n",
      "93\n",
      "92\n",
      "91\n",
      "90\n",
      "89\n",
      "88\n",
      "87\n",
      "86\n",
      "85\n",
      "84\n",
      "83\n",
      "82\n",
      "81\n",
      "80\n",
      "79\n",
      "78\n",
      "77\n",
      "76\n",
      "75\n",
      "74\n",
      "73\n",
      "72\n",
      "71\n",
      "70\n",
      "69\n",
      "68\n",
      "67\n",
      "66\n",
      "65\n",
      "64\n",
      "63\n",
      "62\n",
      "61\n",
      "60\n",
      "59\n",
      "58\n",
      "57\n",
      "56\n",
      "55\n",
      "54\n",
      "53\n",
      "52\n",
      "51\n",
      "50\n",
      "49\n",
      "48\n",
      "47\n",
      "46\n",
      "45\n",
      "44\n",
      "43\n",
      "42\n",
      "41\n",
      "40\n",
      "39\n",
      "38\n",
      "37\n",
      "36\n",
      "35\n",
      "34\n",
      "33\n",
      "32\n",
      "31\n",
      "30\n",
      "29\n",
      "28\n",
      "27\n",
      "26\n",
      "25\n",
      "24\n",
      "23\n",
      "22\n",
      "21\n",
      "20\n",
      "19\n",
      "18\n",
      "17\n",
      "16\n",
      "15\n",
      "14\n",
      "13\n",
      "12\n",
      "11\n",
      "10\n",
      "9\n",
      "8\n",
      "7\n",
      "6\n",
      "5\n",
      "4\n",
      "3\n",
      "2\n",
      "1\n",
      "0\n"
     ]
    }
   ],
   "source": [
    "for i in reversed(range(0,100)):\n",
    "    print(i)"
   ]
  },
  {
   "cell_type": "markdown",
   "id": "c94328f0",
   "metadata": {},
   "source": [
    "150-dən 10-a qədər hər 5-ci ədədi göstərin."
   ]
  },
  {
   "cell_type": "code",
   "execution_count": 132,
   "id": "dcf66707",
   "metadata": {},
   "outputs": [
    {
     "name": "stdout",
     "output_type": "stream",
     "text": [
      "145\n",
      "140\n",
      "135\n",
      "130\n",
      "125\n",
      "120\n",
      "115\n",
      "110\n",
      "105\n",
      "100\n",
      "95\n",
      "90\n",
      "85\n",
      "80\n",
      "75\n",
      "70\n",
      "65\n",
      "60\n",
      "55\n",
      "50\n",
      "45\n",
      "40\n",
      "35\n",
      "30\n",
      "25\n",
      "20\n",
      "15\n",
      "10\n"
     ]
    }
   ],
   "source": [
    "for i in reversed(range(10,150,5)):\n",
    "    print(i)"
   ]
  },
  {
   "cell_type": "markdown",
   "id": "1df688de",
   "metadata": {},
   "source": [
    "## List"
   ]
  },
  {
   "cell_type": "markdown",
   "id": "641f3135",
   "metadata": {},
   "source": [
    "Dəyişən yaradın. Dəyişənə list verin, listə özünüz(loop isifadə etməyərək) 3 ixtiyari ədəd daxil edin. Listi ekrana göstərin"
   ]
  },
  {
   "cell_type": "code",
   "execution_count": 82,
   "id": "86cd30d6",
   "metadata": {},
   "outputs": [
    {
     "data": {
      "text/plain": [
       "[1, 2, 3]"
      ]
     },
     "execution_count": 82,
     "metadata": {},
     "output_type": "execute_result"
    }
   ],
   "source": [
    "a=[1,2,3]\n",
    "a"
   ]
  },
  {
   "cell_type": "markdown",
   "id": "a3a59ffd",
   "metadata": {},
   "source": [
    "Dəyişən yaradın. Dəyişənə list verin, listə özünüz(loop isifadə etməyərək) 4 ixtiyari ədəd daxil edin. Hər elementi index-i istifadə edərək(loop isifadə etməyərək) göstərin."
   ]
  },
  {
   "cell_type": "code",
   "execution_count": 84,
   "id": "3b3e5059",
   "metadata": {},
   "outputs": [
    {
     "data": {
      "text/plain": [
       "4"
      ]
     },
     "execution_count": 84,
     "metadata": {},
     "output_type": "execute_result"
    }
   ],
   "source": [
    "a=[4,5,6,8]\n",
    "a[0]"
   ]
  },
  {
   "cell_type": "code",
   "execution_count": 85,
   "id": "6edd990e",
   "metadata": {},
   "outputs": [
    {
     "data": {
      "text/plain": [
       "5"
      ]
     },
     "execution_count": 85,
     "metadata": {},
     "output_type": "execute_result"
    }
   ],
   "source": [
    "a[1]"
   ]
  },
  {
   "cell_type": "code",
   "execution_count": 86,
   "id": "3ac68d1f",
   "metadata": {},
   "outputs": [
    {
     "data": {
      "text/plain": [
       "6"
      ]
     },
     "execution_count": 86,
     "metadata": {},
     "output_type": "execute_result"
    }
   ],
   "source": [
    "a[2]"
   ]
  },
  {
   "cell_type": "code",
   "execution_count": 87,
   "id": "18f8fd0e",
   "metadata": {},
   "outputs": [
    {
     "data": {
      "text/plain": [
       "8"
      ]
     },
     "execution_count": 87,
     "metadata": {},
     "output_type": "execute_result"
    }
   ],
   "source": [
    "a[3]"
   ]
  },
  {
   "cell_type": "markdown",
   "id": "d986ba9c",
   "metadata": {},
   "source": [
    "Dəyişən yaradın. Dəyişənə list verin, listə özünüz(loop isifadə etməyərək) 5 ixtiyari ədəd daxil edin. Listdə sıfırıncı index-dən 3-cü indeksə qədər ədədləri göstərin (loop isifadə etməyərək)."
   ]
  },
  {
   "cell_type": "code",
   "execution_count": 90,
   "id": "6fe1a050",
   "metadata": {},
   "outputs": [
    {
     "data": {
      "text/plain": [
       "[45, 32, 56]"
      ]
     },
     "execution_count": 90,
     "metadata": {},
     "output_type": "execute_result"
    }
   ],
   "source": [
    "a=[45,32,56,34,23]\n",
    "a[0:3]"
   ]
  },
  {
   "cell_type": "markdown",
   "id": "4f850d4d",
   "metadata": {},
   "source": [
    "Dəyişən yaradın. Dəyişənə list verin, listə özünüz(loop isifadə etməyərək) 5 ixtiyari ad daxil edin(string). For loop-nan listin bütün elementlərini göstərin"
   ]
  },
  {
   "cell_type": "code",
   "execution_count": 91,
   "id": "edb31fd9",
   "metadata": {},
   "outputs": [
    {
     "name": "stdout",
     "output_type": "stream",
     "text": [
      "ok\n",
      "tmm\n",
      "oldu\n",
      "okay\n",
      "goruldu\n"
     ]
    }
   ],
   "source": [
    "a=['ok','tmm','oldu','okay','goruldu']\n",
    "for elementler in a:\n",
    "    print(elementler)"
   ]
  },
  {
   "cell_type": "markdown",
   "id": "19d1d44a",
   "metadata": {},
   "source": [
    "Dəyişən yaradın. Dəyişənə list verin, listə özünüz(loop isifadə etməyərək) 3 ədəd daxil edin. For loop-nan listin bütün elementlərinin index-ni istifadə edərək göstərin."
   ]
  },
  {
   "cell_type": "code",
   "execution_count": 105,
   "id": "f0400e26",
   "metadata": {},
   "outputs": [
    {
     "name": "stdout",
     "output_type": "stream",
     "text": [
      " 5 -ci elemetin indexi: 0\n",
      " 15 -ci elemetin indexi: 1\n",
      " 35 -ci elemetin indexi: 2\n"
     ]
    }
   ],
   "source": [
    "a = [5, 15, 35]\n",
    "for index in range(0,3):\n",
    "    print(f\" {a[index]} -ci elemetin indexi: {index}\")\n"
   ]
  },
  {
   "cell_type": "markdown",
   "id": "87ed46fe",
   "metadata": {},
   "source": [
    "Dəyişən yaradın. Dəyişənə list verin, listə özünüz(loop isifadə etməyərək) 5 ədəd daxil edin. For loop-nan listin axrından başlayaraq bütün elementləri göstərin."
   ]
  },
  {
   "cell_type": "code",
   "execution_count": 108,
   "id": "ae84ab2e",
   "metadata": {},
   "outputs": [
    {
     "name": "stdout",
     "output_type": "stream",
     "text": [
      "48\n",
      "23\n",
      "67\n",
      "45\n",
      "22\n"
     ]
    }
   ],
   "source": [
    "a = [22,45,67,23,48]\n",
    "for i in reversed(a):\n",
    "    print(i)"
   ]
  },
  {
   "cell_type": "markdown",
   "id": "31c85ba6",
   "metadata": {},
   "source": [
    "Deyişəndə boş list yaradın. For loop-nan, append funksiyasını istifadə edərək 0-dan 10-a qədər bütün ədədləri list-ə doldurun."
   ]
  },
  {
   "cell_type": "code",
   "execution_count": 139,
   "id": "b15c75e6",
   "metadata": {},
   "outputs": [
    {
     "name": "stdout",
     "output_type": "stream",
     "text": [
      "[0, 1, 2, 3, 4, 5, 6, 7, 8, 9]\n"
     ]
    }
   ],
   "source": [
    "a=[]\n",
    "for x in range(0,10):\n",
    "    a.append(x)\n",
    "    \n",
    "print(a)\n",
    "    "
   ]
  },
  {
   "cell_type": "markdown",
   "id": "5fad67af",
   "metadata": {},
   "source": [
    "İki dəyişən yaradın. Birinci dəyişənə boş list verin. İkinci dəyişənə user ədəd verir. For loop-nan 0-dan user verdiyi ədədə qədər, bütün ədələri list-ə doldurun."
   ]
  },
  {
   "cell_type": "code",
   "execution_count": 140,
   "id": "454d57e7",
   "metadata": {},
   "outputs": [
    {
     "name": "stdout",
     "output_type": "stream",
     "text": [
      "Ədəd daxil edin:33\n",
      "[0, 1, 2, 3, 4, 5, 6, 7, 8, 9, 10, 11, 12, 13, 14, 15, 16, 17, 18, 19, 20, 21, 22, 23, 24, 25, 26, 27, 28, 29, 30, 31, 32]\n"
     ]
    }
   ],
   "source": [
    "my_list= []\n",
    "b=int(input(\"Ədəd daxil edin:\"))\n",
    "\n",
    "for x in range(0,b):\n",
    "    my_list.append(x)\n",
    "    \n",
    "print(my_list)"
   ]
  },
  {
   "cell_type": "markdown",
   "id": "058a9dbc",
   "metadata": {},
   "source": [
    "Üç dəyişən yaradın. Birinci dəyişənə boş list verin. İkinci və üçüncü dəyişənlərə user ədəd verir. For loop-nan user verdiyi arada, bütün cüt ədələri list-ə doldurun."
   ]
  },
  {
   "cell_type": "code",
   "execution_count": 142,
   "id": "1068aa7b",
   "metadata": {},
   "outputs": [
    {
     "name": "stdout",
     "output_type": "stream",
     "text": [
      "Ədəd daxil edin:12\n",
      "Ədəd daxil edin:23\n",
      "[12, 14, 16, 18, 20, 22]\n"
     ]
    }
   ],
   "source": [
    "a= []\n",
    "b=int(input(\"Ədəd daxil edin:\"))\n",
    "c=int(input(\"Ədəd daxil edin:\"))\n",
    "\n",
    "for x in range(b,c):\n",
    "    if x%2==0:\n",
    "        a.append(x)\n",
    "print(a)"
   ]
  },
  {
   "cell_type": "markdown",
   "id": "3a42821c",
   "metadata": {},
   "source": [
    "Boş list yaradın, 0-dan 100-ə qədər ədədlərnən onu doldurun. Sonra user-dən ədəd soruşun və onu fərqli dəyişənə yazın. index() istifadə edərək listdə user daxil editiyi ədədin indexini göstərin."
   ]
  },
  {
   "cell_type": "code",
   "execution_count": 151,
   "id": "3348be6c",
   "metadata": {},
   "outputs": [
    {
     "name": "stdout",
     "output_type": "stream",
     "text": [
      "[0, 1, 2, 3, 4, 5, 6, 7, 8, 9, 10, 11, 12, 13, 14, 15, 16, 17, 18, 19, 20, 21, 22, 23, 24, 25, 26, 27, 28, 29, 30, 31, 32, 33, 34, 35, 36, 37, 38, 39, 40, 41, 42, 43, 44, 45, 46, 47, 48, 49, 50, 51, 52, 53, 54, 55, 56, 57, 58, 59, 60, 61, 62, 63, 64, 65, 66, 67, 68, 69, 70, 71, 72, 73, 74, 75, 76, 77, 78, 79, 80, 81, 82, 83, 84, 85, 86, 87, 88, 89, 90, 91, 92, 93, 94, 95, 96, 97, 98, 99]\n",
      "Ədəd daxil edin:22\n",
      "22\n"
     ]
    }
   ],
   "source": [
    "a =[]\n",
    "for x in range(0,100):\n",
    "    a.append(x)\n",
    "print(a)\n",
    "\n",
    "b=int(input(\"Ədəd daxil edin:\"))\n",
    "\n",
    "print(a.index(b))"
   ]
  },
  {
   "cell_type": "markdown",
   "id": "1cf9a595",
   "metadata": {},
   "source": [
    "Boş list yaradın, 0-dan 100-ə qədər ədədlərnən onu doldurun. For loop-nan remove() funksiyanı istifadə edərək listdə 5-ə bölünən ədədləri silin. Axırda list-i göstərin."
   ]
  },
  {
   "cell_type": "code",
   "execution_count": 160,
   "id": "65b9e92d",
   "metadata": {},
   "outputs": [
    {
     "name": "stdout",
     "output_type": "stream",
     "text": [
      "[1, 2, 3, 4, 6, 7, 8, 9, 11, 12, 13, 14, 16, 17, 18, 19, 21, 22, 23, 24, 26, 27, 28, 29, 31, 32, 33, 34, 36, 37, 38, 39, 41, 42, 43, 44, 46, 47, 48, 49, 51, 52, 53, 54, 56, 57, 58, 59, 61, 62, 63, 64, 66, 67, 68, 69, 71, 72, 73, 74, 76, 77, 78, 79, 81, 82, 83, 84, 86, 87, 88, 89, 91, 92, 93, 94, 96, 97, 98, 99]\n"
     ]
    }
   ],
   "source": [
    "a=[]\n",
    "for x in range(0,100):\n",
    "    a.append(x)\n",
    "\n",
    "\n",
    "for i in a:\n",
    "    if i%5==0:\n",
    "        a.remove(i)\n",
    "print(a)"
   ]
  },
  {
   "cell_type": "code",
   "execution_count": null,
   "id": "e7e4b9d7",
   "metadata": {},
   "outputs": [],
   "source": []
  },
  {
   "cell_type": "code",
   "execution_count": 1,
   "id": "a64c1a89",
   "metadata": {},
   "outputs": [
    {
     "name": "stdout",
     "output_type": "stream",
     "text": [
      "Eded daxil edin:22\n",
      "0\n",
      "5\n",
      "10\n",
      "15\n",
      "20\n"
     ]
    }
   ],
   "source": [
    "a= int(input(\"Eded daxil edin:\"))\n",
    "for i in range(0,a):\n",
    "    if i%5==0:\n",
    "        print(i)"
   ]
  },
  {
   "cell_type": "code",
   "execution_count": 3,
   "id": "017a7d09",
   "metadata": {},
   "outputs": [
    {
     "name": "stdout",
     "output_type": "stream",
     "text": [
      "['esmer', 'nicat', 'xeyale', 'sadiq']\n"
     ]
    }
   ],
   "source": [
    "a=['esmer','nicat','xeyale','fuad','sadiq']\n",
    "for i in a:\n",
    "    if i[-1]=='d':\n",
    "        a.remove(i)\n",
    "print(a)\n",
    "        "
   ]
  },
  {
   "cell_type": "code",
   "execution_count": 4,
   "id": "84663de6",
   "metadata": {},
   "outputs": [
    {
     "name": "stdout",
     "output_type": "stream",
     "text": [
      "r\n",
      "t\n",
      "e\n",
      "d\n",
      "q\n"
     ]
    }
   ],
   "source": [
    "a=['esmer','nicat','xeyale','fuad','sadiq']\n",
    "for i in a:\n",
    "    print(i[-1])"
   ]
  },
  {
   "cell_type": "code",
   "execution_count": null,
   "id": "ba3439a9",
   "metadata": {},
   "outputs": [],
   "source": []
  },
  {
   "cell_type": "code",
   "execution_count": 15,
   "id": "d2af2e4b",
   "metadata": {},
   "outputs": [
    {
     "name": "stdout",
     "output_type": "stream",
     "text": [
      "['nicat', 'xeyale', 'fuad', 'sadiq']\n"
     ]
    }
   ],
   "source": [
    "a = []\n",
    "b = ['esmer','nicat','xeyale','fuad','sadiq']\n",
    "\n",
    "for i in b:\n",
    "    if 'a' in i:\n",
    "        a.append(i)\n",
    "print(a)\n",
    "\n"
   ]
  },
  {
   "cell_type": "code",
   "execution_count": null,
   "id": "d037716e",
   "metadata": {},
   "outputs": [],
   "source": []
  },
  {
   "cell_type": "code",
   "execution_count": 31,
   "id": "9beeda87",
   "metadata": {},
   "outputs": [
    {
     "name": "stdout",
     "output_type": "stream",
     "text": [
      "6\n"
     ]
    }
   ],
   "source": [
    "a = [23,13,43,65,76,980,6]\n",
    "minimum = a[0]\n",
    "for i in range(0,len(a)):\n",
    "    if a[i] < minimum:\n",
    "        minimum = a[i]\n",
    "print(minimum)"
   ]
  },
  {
   "cell_type": "code",
   "execution_count": null,
   "id": "e270a2f2",
   "metadata": {},
   "outputs": [],
   "source": []
  },
  {
   "cell_type": "code",
   "execution_count": null,
   "id": "81182df1",
   "metadata": {},
   "outputs": [],
   "source": []
  },
  {
   "cell_type": "code",
   "execution_count": null,
   "id": "eb97a18c",
   "metadata": {},
   "outputs": [],
   "source": []
  },
  {
   "cell_type": "code",
   "execution_count": null,
   "id": "0c3fa7f2",
   "metadata": {},
   "outputs": [],
   "source": []
  },
  {
   "cell_type": "code",
   "execution_count": null,
   "id": "fc12addc",
   "metadata": {},
   "outputs": [],
   "source": []
  }
 ],
 "metadata": {
  "kernelspec": {
   "display_name": "Python 3 (ipykernel)",
   "language": "python",
   "name": "python3"
  },
  "language_info": {
   "codemirror_mode": {
    "name": "ipython",
    "version": 3
   },
   "file_extension": ".py",
   "mimetype": "text/x-python",
   "name": "python",
   "nbconvert_exporter": "python",
   "pygments_lexer": "ipython3",
   "version": "3.11.5"
  }
 },
 "nbformat": 4,
 "nbformat_minor": 5
}
