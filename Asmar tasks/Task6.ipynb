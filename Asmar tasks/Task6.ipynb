{
 "cells": [
  {
   "cell_type": "markdown",
   "id": "e9320453",
   "metadata": {},
   "source": [
    "Qiymet listində qiymət və valyutanı ayır.  Valyutası USD olanları 1.7-ə, valyutası EUR olanları 1.82-ə vur, AZN olanları isə olduğu kimi saxla. Hər bir qiyməti AZN-lə ifadə et.\n",
    "\n",
    "\n",
    "qiymet = ['47500 AZN', '49900 USD', '25900 USD', '305000\tAZN', '49900 AZN', '15300 EUR', '14520 USD', '2100 EUR', '23000 USD']"
   ]
  },
  {
   "cell_type": "code",
   "execution_count": 56,
   "id": "97029ea4",
   "metadata": {},
   "outputs": [
    {
     "name": "stdout",
     "output_type": "stream",
     "text": [
      "qiymetler: 47500, valyuta: AZN\n",
      "qiymetler: 49900, valyuta: USD\n",
      "qiymetler: 25900, valyuta: USD\n",
      "qiymetler: 305000, valyuta: AZN\n",
      "qiymetler: 49900, valyuta: AZN\n",
      "qiymetler: 15300, valyuta: EUR\n",
      "qiymetler: 14520, valyuta: USD\n",
      "qiymetler: 2100, valyuta: EUR\n",
      "qiymetler: 23000, valyuta: USD\n",
      "[47500.0, 84830.0, 44030.0, 305000.0, 49900.0, 27846.0, 24684.0, 3822.0, 39100.0]\n"
     ]
    }
   ],
   "source": [
    "qiymet = ['47500 AZN', '49900 USD', '25900 USD', '305000 AZN', '49900 AZN', '15300 EUR', '14520 USD', '2100 EUR', '23000 USD']\n",
    "qiymetler_azn_ile=[]\n",
    "for i in qiymet:\n",
    "    a, b = i.split()\n",
    "    print(f\"qiymetler: {a}, valyuta: {b}\")\n",
    "    a=float(a)\n",
    "    if 'USD' in b:\n",
    "        usd=a*1.7\n",
    "        qiymetler_azn_ile.append(usd)\n",
    "        \n",
    "    elif 'EUR' in b:\n",
    "        eur=a*1.82\n",
    "        qiymetler_azn_ile.append(eur) \n",
    "        \n",
    "    elif 'AZN' in b:\n",
    "        qiymetler_azn_ile.append(a)\n",
    "print(qiymetler_azn_ile)\n",
    "\n"
   ]
  },
  {
   "cell_type": "markdown",
   "id": "919ba12e",
   "metadata": {},
   "source": [
    "Yaş sütunu verilmiş listdə 60 yaşdan kiçik və 23 yaşdan böyük olan yaşları listdə saxla.\n",
    "\n",
    "age = [23,34,34,45,54,67,63,69,41,32,78,80,82,14,18,26,39,73,21,48]"
   ]
  },
  {
   "cell_type": "code",
   "execution_count": 63,
   "id": "0d3d0aac",
   "metadata": {},
   "outputs": [
    {
     "name": "stdout",
     "output_type": "stream",
     "text": [
      "[23, 34, 34, 45, 54, 41, 32, 26, 39, 48]\n"
     ]
    }
   ],
   "source": [
    "yaslar=[]\n",
    "age = [23,34,34,45,54,67,63,69,41,32,78,80,82,14,18,26,39,73,21,48]\n",
    "for i in age:\n",
    "    if 23<=i<=60:\n",
    "        yaslar.append(i)\n",
    "print(yaslar)"
   ]
  },
  {
   "cell_type": "markdown",
   "id": "eb12c193",
   "metadata": {},
   "source": [
    "Listin daxilindəki elementlər arasındakı boşluğu altdan çəkilmiş xətlə əvəzlə\n",
    "Bütün elementləri kiçik hərflə yaz\n",
    "Elementlərdə ola biləcək potensial boşluqları sil\n",
    "\n",
    "['İdentifikasiya Nömrəsi', 'Şəhər ', 'Növ', 'Marka', 'Model', 'Buraxılış İli', 'Rəng', 'Mühərrik', 'At Gücü', 'Yanacaq Növü', 'Yürüş',  'Sürət Qutusu', 'Yeni ', 'Ötürücü', 'Qiymət', 'Elan Tarixi', 'Baxış Sayı', 'Şəkil Linki ', 'Elan Linki', 'Salon Maşını ']"
   ]
  },
  {
   "cell_type": "code",
   "execution_count": 117,
   "id": "2ce4fc41",
   "metadata": {},
   "outputs": [
    {
     "name": "stdout",
     "output_type": "stream",
     "text": [
      "['i̇dentifikasiya_nömrəsi', 'şəhər', 'növ', 'marka', 'model', 'buraxılış_i̇li', 'rəng', 'mühərrik', 'at_gücü', 'yanacaq_növü', 'yürüş', 'sürət_qutusu', 'yeni', 'ötürücü', 'qiymət', 'elan_tarixi', 'baxış_sayı', 'şəkil_linki', 'elan_linki', 'salon_maşını']\n"
     ]
    }
   ],
   "source": [
    "a= ['İdentifikasiya Nömrəsi', 'Şəhər ', 'Növ', 'Marka', 'Model', 'Buraxılış İli', 'Rəng', 'Mühərrik', 'At Gücü', 'Yanacaq Növü', 'Yürüş',  'Sürət Qutusu', 'Yeni ', 'Ötürücü', 'Qiymət', 'Elan Tarixi', 'Baxış Sayı', 'Şəkil Linki ', 'Elan Linki', 'Salon Maşını ']\n",
    "b=[]\n",
    "for i in a:\n",
    "    i=i.strip()\n",
    "    i=i.replace(' ','_')\n",
    "    i=i.lower()\n",
    "    b.append(i)\n",
    "print(b)"
   ]
  },
  {
   "cell_type": "code",
   "execution_count": null,
   "id": "b078183d",
   "metadata": {},
   "outputs": [],
   "source": []
  }
 ],
 "metadata": {
  "kernelspec": {
   "display_name": "Python 3 (ipykernel)",
   "language": "python",
   "name": "python3"
  },
  "language_info": {
   "codemirror_mode": {
    "name": "ipython",
    "version": 3
   },
   "file_extension": ".py",
   "mimetype": "text/x-python",
   "name": "python",
   "nbconvert_exporter": "python",
   "pygments_lexer": "ipython3",
   "version": "3.11.5"
  }
 },
 "nbformat": 4,
 "nbformat_minor": 5
}
