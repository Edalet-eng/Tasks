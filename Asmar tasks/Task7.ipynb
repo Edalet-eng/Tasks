{
 "cells": [
  {
   "cell_type": "markdown",
   "id": "641f3135",
   "metadata": {},
   "source": [
    "Create a function named hello that displays \"Hello World\" message when called"
   ]
  },
  {
   "cell_type": "code",
   "execution_count": 3,
   "id": "86cd30d6",
   "metadata": {},
   "outputs": [
    {
     "data": {
      "text/plain": [
       "'Hello World'"
      ]
     },
     "execution_count": 3,
     "metadata": {},
     "output_type": "execute_result"
    }
   ],
   "source": [
    "def func(name):\n",
    "    return name\n",
    "func(\"Hello World\")"
   ]
  },
  {
   "cell_type": "markdown",
   "id": "a3a59ffd",
   "metadata": {},
   "source": [
    "Create a fucntion that gets a name as an argument and displays a greeting message like \"Hello David\""
   ]
  },
  {
   "cell_type": "code",
   "execution_count": 187,
   "id": "3b3e5059",
   "metadata": {},
   "outputs": [
    {
     "data": {
      "text/plain": [
       "'Hello David'"
      ]
     },
     "execution_count": 187,
     "metadata": {},
     "output_type": "execute_result"
    }
   ],
   "source": [
    "def func(name):\n",
    "    return 'Hello David'\n",
    "\n",
    "func(name)"
   ]
  },
  {
   "cell_type": "markdown",
   "id": "4c92e4a6",
   "metadata": {},
   "source": [
    "Create a function that takes two numbers and returns their sum"
   ]
  },
  {
   "cell_type": "code",
   "execution_count": 7,
   "id": "8a3d7633",
   "metadata": {},
   "outputs": [
    {
     "data": {
      "text/plain": [
       "11"
      ]
     },
     "execution_count": 7,
     "metadata": {},
     "output_type": "execute_result"
    }
   ],
   "source": [
    "def func(a,b):\n",
    "    return a+b\n",
    "func(5,6)"
   ]
  },
  {
   "cell_type": "markdown",
   "id": "d986ba9c",
   "metadata": {},
   "source": [
    "Create a function that takes three arguments, the first two are numbers and the third argument is an operation(+, -, :, *). Function returns the result of the calculation based on the operation."
   ]
  },
  {
   "cell_type": "code",
   "execution_count": 8,
   "id": "6fe1a050",
   "metadata": {},
   "outputs": [
    {
     "data": {
      "text/plain": [
       "300"
      ]
     },
     "execution_count": 8,
     "metadata": {},
     "output_type": "execute_result"
    }
   ],
   "source": [
    "def func(a,b,c):\n",
    "    if c==\"+\":\n",
    "        return a+b\n",
    "    elif c==\"-\":\n",
    "        return a-b\n",
    "    elif c==\"*\":\n",
    "        return a*b\n",
    "    elif c==\"/\":\n",
    "        return a/b\n",
    "func(100,3,'*')"
   ]
  },
  {
   "cell_type": "markdown",
   "id": "4f850d4d",
   "metadata": {},
   "source": [
    "Create a function that takes one list as an arguments and returns the sum of all elements"
   ]
  },
  {
   "cell_type": "code",
   "execution_count": 1,
   "id": "edb31fd9",
   "metadata": {},
   "outputs": [
    {
     "data": {
      "text/plain": [
       "105"
      ]
     },
     "execution_count": 1,
     "metadata": {},
     "output_type": "execute_result"
    }
   ],
   "source": [
    "def func(list_):\n",
    "    cem=0\n",
    "    for i in list_:\n",
    "        cem+=i\n",
    "        i+=1\n",
    "    return cem\n",
    "list_=[23,34,45,2,1]\n",
    "func(list_)"
   ]
  },
  {
   "cell_type": "markdown",
   "id": "19d1d44a",
   "metadata": {},
   "source": [
    "Create a function that takes one list as an arguments and returns maximum elements in the list"
   ]
  },
  {
   "cell_type": "code",
   "execution_count": 50,
   "id": "652c1112",
   "metadata": {},
   "outputs": [
    {
     "data": {
      "text/plain": [
       "45"
      ]
     },
     "execution_count": 50,
     "metadata": {},
     "output_type": "execute_result"
    }
   ],
   "source": [
    "def func(arg):\n",
    "    maximum= arg[0]\n",
    "    for i in range(0,len(arg)):\n",
    "        if arg[i] > maximum:\n",
    "            maximum = arg[i]\n",
    "    return maximum\n",
    "\n",
    "arg=[23,34,45,2,1]\n",
    "func(arg)"
   ]
  },
  {
   "cell_type": "code",
   "execution_count": 33,
   "id": "a9b51f68",
   "metadata": {},
   "outputs": [
    {
     "data": {
      "text/plain": [
       "3.0"
      ]
     },
     "execution_count": 33,
     "metadata": {},
     "output_type": "execute_result"
    }
   ],
   "source": [
    "def func(*arg):\n",
    "    cem=0\n",
    "    orta=0\n",
    "    for i in arg:\n",
    "        cem+=i\n",
    "        orta=cem/len(arg)\n",
    "    return orta\n",
    "    \n",
    "func(1,2,3,4,5)"
   ]
  },
  {
   "cell_type": "markdown",
   "id": "100d2d02",
   "metadata": {},
   "source": [
    "Create a function that returns the area of a circle based on its radiu"
   ]
  },
  {
   "cell_type": "code",
   "execution_count": 34,
   "id": "ece1a269",
   "metadata": {},
   "outputs": [
    {
     "data": {
      "text/plain": [
       "108"
      ]
     },
     "execution_count": 34,
     "metadata": {},
     "output_type": "execute_result"
    }
   ],
   "source": [
    "def func(radius):\n",
    "    pi=3\n",
    "    sahe=pi*radius**2\n",
    "    return sahe\n",
    "func(6)"
   ]
  },
  {
   "cell_type": "markdown",
   "id": "5033cb61",
   "metadata": {},
   "source": [
    "Create a function that returns the circumference of the circle based on its radius"
   ]
  },
  {
   "cell_type": "code",
   "execution_count": 36,
   "id": "a8dc85f8",
   "metadata": {},
   "outputs": [
    {
     "data": {
      "text/plain": [
       "36"
      ]
     },
     "execution_count": 36,
     "metadata": {},
     "output_type": "execute_result"
    }
   ],
   "source": [
    "def func(radius):\n",
    "    pi=3\n",
    "    uzunluq=pi*radius*2\n",
    "    return uzunluq\n",
    "func(6)"
   ]
  },
  {
   "cell_type": "markdown",
   "id": "8401f816",
   "metadata": {},
   "source": [
    "Create a function that takes a name as an argument and returns the first letter of the name."
   ]
  },
  {
   "cell_type": "code",
   "execution_count": 38,
   "id": "62045493",
   "metadata": {},
   "outputs": [
    {
     "data": {
      "text/plain": [
       "'s'"
      ]
     },
     "execution_count": 38,
     "metadata": {},
     "output_type": "execute_result"
    }
   ],
   "source": [
    "def func(a):\n",
    "    return a[0]\n",
    "func('salam')"
   ]
  },
  {
   "cell_type": "markdown",
   "id": "fc40ad74",
   "metadata": {},
   "source": [
    "Create a function that accepts an age argument and returns how much years left until it reaches 100."
   ]
  },
  {
   "cell_type": "code",
   "execution_count": 188,
   "id": "de4b1d69",
   "metadata": {},
   "outputs": [
    {
     "data": {
      "text/plain": [
       "77"
      ]
     },
     "execution_count": 188,
     "metadata": {},
     "output_type": "execute_result"
    }
   ],
   "source": [
    "def func(yas):\n",
    "    return 100-yas\n",
    "func(23)  "
   ]
  },
  {
   "cell_type": "markdown",
   "id": "17f78943",
   "metadata": {},
   "source": [
    "Create a function that given x returns the value of a function\n",
    "# y = e^x"
   ]
  },
  {
   "cell_type": "code",
   "execution_count": 41,
   "id": "71972615",
   "metadata": {},
   "outputs": [
    {
     "data": {
      "text/plain": [
       "9"
      ]
     },
     "execution_count": 41,
     "metadata": {},
     "output_type": "execute_result"
    }
   ],
   "source": [
    "def func(x):\n",
    "    e=3\n",
    "    y=e**x\n",
    "    return y\n",
    "func(2)"
   ]
  },
  {
   "cell_type": "markdown",
   "id": "862633a1",
   "metadata": {},
   "source": [
    "Create a function that takes two lists as arguments and returns their c."
   ]
  },
  {
   "cell_type": "code",
   "execution_count": 95,
   "id": "845a04d9",
   "metadata": {},
   "outputs": [
    {
     "data": {
      "text/plain": [
       "[45, 99]"
      ]
     },
     "execution_count": 95,
     "metadata": {},
     "output_type": "execute_result"
    }
   ],
   "source": [
    "def func(a,b):\n",
    "    intersection=[]\n",
    "    for i in a:\n",
    "        for x in b:\n",
    "            if x==i:\n",
    "                intersection.append(x)\n",
    "    return intersection\n",
    "\n",
    "a=[23,34,45,2,99]\n",
    "b=[25,45,77,89,99]\n",
    "\n",
    "func(a,b)"
   ]
  },
  {
   "cell_type": "markdown",
   "id": "a88eeda1",
   "metadata": {},
   "source": [
    "Create a function that takes one number as an argument and returns true if the number is prime, otherwise it returs false"
   ]
  },
  {
   "cell_type": "code",
   "execution_count": 211,
   "id": "ef363a92",
   "metadata": {},
   "outputs": [
    {
     "data": {
      "text/plain": [
       "'True'"
      ]
     },
     "execution_count": 211,
     "metadata": {},
     "output_type": "execute_result"
    }
   ],
   "source": [
    "def func(number):\n",
    "    if number<2:\n",
    "        return \"False\"\n",
    "    elif number==2:\n",
    "        return \"True\"\n",
    "    elif number%2==0:\n",
    "        return \"False\"\n",
    "    \n",
    "    for i in range(3, int((number)**1/2)+1 ,2):\n",
    "        if number%i==0:\n",
    "            return \"False\"\n",
    "    return \"True\"\n",
    "func(101)"
   ]
  },
  {
   "cell_type": "code",
   "execution_count": 5,
   "id": "5928c254",
   "metadata": {},
   "outputs": [
    {
     "data": {
      "text/plain": [
       "'False'"
      ]
     },
     "execution_count": 5,
     "metadata": {},
     "output_type": "execute_result"
    }
   ],
   "source": [
    "def func(number):\n",
    "    if number<2:\n",
    "        return \"False\"\n",
    "    elif number==2:\n",
    "        return \"True\"\n",
    "    elif number%2==0:\n",
    "        return \"False\"\n",
    "    \n",
    "    for i in range(2, number):\n",
    "        if number%i==0:\n",
    "            return \"False\"\n",
    "    return \"True\"\n",
    "func(35)"
   ]
  },
  {
   "cell_type": "markdown",
   "id": "76e07842",
   "metadata": {},
   "source": [
    "Create a function that takes a number as an argument(n). The function returns a list of first n odd numbers."
   ]
  },
  {
   "cell_type": "code",
   "execution_count": 9,
   "id": "3eb5efb4",
   "metadata": {},
   "outputs": [
    {
     "data": {
      "text/plain": [
       "[1, 3, 5, 7, 9, 11, 13, 15, 17, 19, 21]"
      ]
     },
     "execution_count": 9,
     "metadata": {},
     "output_type": "execute_result"
    }
   ],
   "source": [
    "def func(n):\n",
    "    tek_eded=[]\n",
    "    for i in range(1,n,2):\n",
    "        tek_eded.append(i)\n",
    "    return tek_eded\n",
    "func(23)"
   ]
  },
  {
   "cell_type": "markdown",
   "id": "a7b2c864",
   "metadata": {},
   "source": [
    "Create a function that takes a number as an argument (n). The function returns a list of n prime numbers."
   ]
  },
  {
   "cell_type": "code",
   "execution_count": 19,
   "id": "cd474154",
   "metadata": {},
   "outputs": [
    {
     "data": {
      "text/plain": [
       "[2, 4, 6, 8, 10, 12, 14, 16, 18, 20, 22]"
      ]
     },
     "execution_count": 19,
     "metadata": {},
     "output_type": "execute_result"
    }
   ],
   "source": [
    "def func(n):\n",
    "    cut_eded=[]\n",
    "    for i in range(2,n,2):\n",
    "        cut_eded.append(i)\n",
    "    return cut_eded\n",
    "func(23)"
   ]
  },
  {
   "cell_type": "markdown",
   "id": "1ff891c9",
   "metadata": {},
   "source": [
    "Create a function that reverses a string."
   ]
  },
  {
   "cell_type": "code",
   "execution_count": 127,
   "id": "d364f9d9",
   "metadata": {},
   "outputs": [
    {
     "name": "stdout",
     "output_type": "stream",
     "text": [
      "r\n",
      "e\n",
      "m\n",
      "s\n",
      "e\n"
     ]
    }
   ],
   "source": [
    "def func(strings):\n",
    "    for i in reversed(strings):\n",
    "        print(i)\n",
    "func('esmer' )"
   ]
  },
  {
   "cell_type": "markdown",
   "id": "33ec5d48",
   "metadata": {},
   "source": [
    "Create a function that takes a word as an arguments and returns true if the word is a polyndrome, otherwise it returns false."
   ]
  },
  {
   "cell_type": "code",
   "execution_count": 149,
   "id": "20a7cfff",
   "metadata": {},
   "outputs": [
    {
     "data": {
      "text/plain": [
       "False"
      ]
     },
     "execution_count": 149,
     "metadata": {},
     "output_type": "execute_result"
    }
   ],
   "source": [
    "def func(soz):\n",
    "    if soz==soz[::-1]:\n",
    "        return True\n",
    "    return False\n",
    "func('sesli')"
   ]
  },
  {
   "cell_type": "code",
   "execution_count": 150,
   "id": "edf45c32",
   "metadata": {},
   "outputs": [
    {
     "data": {
      "text/plain": [
       "True"
      ]
     },
     "execution_count": 150,
     "metadata": {},
     "output_type": "execute_result"
    }
   ],
   "source": [
    "def func(soz):\n",
    "    if soz==soz[::-1]:\n",
    "        return True\n",
    "    return False\n",
    "func('ses')"
   ]
  },
  {
   "cell_type": "markdown",
   "id": "12b2cef1",
   "metadata": {},
   "source": [
    "Create a function that calculates the factorial of the number argument."
   ]
  },
  {
   "cell_type": "code",
   "execution_count": 175,
   "id": "b8818cc9",
   "metadata": {},
   "outputs": [
    {
     "data": {
      "text/plain": [
       "120"
      ]
     },
     "execution_count": 175,
     "metadata": {},
     "output_type": "execute_result"
    }
   ],
   "source": [
    "def func(number):\n",
    "    fakto=1\n",
    "    for i in range(1,number+1,1):\n",
    "        fakto*=i\n",
    "    return fakto\n",
    "\n",
    "func(5)"
   ]
  },
  {
   "cell_type": "markdown",
   "id": "db1cf39e",
   "metadata": {},
   "source": [
    "Create a function that takes a list as an argument and returns the unique elements of a list."
   ]
  },
  {
   "cell_type": "code",
   "execution_count": 212,
   "id": "90beec9a",
   "metadata": {},
   "outputs": [
    {
     "data": {
      "text/plain": [
       "[1, 2, 3, 'elminaz', 'sema', 4, 5, 'esmer']"
      ]
     },
     "execution_count": 212,
     "metadata": {},
     "output_type": "execute_result"
    }
   ],
   "source": [
    "def func(unikal):\n",
    "    no_dublicat=set(unikal)\n",
    "    return list(no_dublicat)\n",
    "\n",
    "unikal=['esmer','elminaz','esmer','sema','sema',1,2,3,3,4,5,5]\n",
    "func(unikal)"
   ]
  },
  {
   "cell_type": "markdown",
   "id": "497bab33",
   "metadata": {},
   "source": [
    "Create a function that takes a list as an argument and returns the sorted list."
   ]
  },
  {
   "cell_type": "code",
   "execution_count": 179,
   "id": "6b574d5d",
   "metadata": {},
   "outputs": [
    {
     "data": {
      "text/plain": [
       "[1, 2, 3, 4, 5, 9, 78]"
      ]
     },
     "execution_count": 179,
     "metadata": {},
     "output_type": "execute_result"
    }
   ],
   "source": [
    "def func(sort):\n",
    "    return sorted(sort)\n",
    "sort=[1,2,4,5,78,9,3]\n",
    "func(sort)"
   ]
  },
  {
   "cell_type": "markdown",
   "id": "1f98396f",
   "metadata": {},
   "source": [
    "Create a function that takes three arguments. The first argument is a tuple, the second argument represents an index, the third argument represents the value. The function must change the tuple value at specified index with specified value."
   ]
  },
  {
   "cell_type": "code",
   "execution_count": 214,
   "id": "bbef63d7",
   "metadata": {},
   "outputs": [
    {
     "data": {
      "text/plain": [
       "(1, 2, 8, 4, 5, 6, 7)"
      ]
     },
     "execution_count": 214,
     "metadata": {},
     "output_type": "execute_result"
    }
   ],
   "source": [
    "def func(tuplee,index,value):\n",
    "    list_tuple=list(tuplee)\n",
    "    list_tuple[index]=value\n",
    "    return tuple(list_tuple)\n",
    "\n",
    "tuplee=(1,2,3,4,5,6,7)\n",
    "index=2\n",
    "value=8\n",
    "func(tuplee,index,value)"
   ]
  },
  {
   "cell_type": "code",
   "execution_count": null,
   "id": "5b3b25de",
   "metadata": {},
   "outputs": [],
   "source": []
  }
 ],
 "metadata": {
  "kernelspec": {
   "display_name": "Python 3 (ipykernel)",
   "language": "python",
   "name": "python3"
  },
  "language_info": {
   "codemirror_mode": {
    "name": "ipython",
    "version": 3
   },
   "file_extension": ".py",
   "mimetype": "text/x-python",
   "name": "python",
   "nbconvert_exporter": "python",
   "pygments_lexer": "ipython3",
   "version": "3.11.5"
  }
 },
 "nbformat": 4,
 "nbformat_minor": 5
}
