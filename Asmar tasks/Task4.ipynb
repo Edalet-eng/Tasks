{
 "cells": [
  {
   "cell_type": "markdown",
   "id": "01537a9c",
   "metadata": {},
   "source": [
    "## Easy"
   ]
  },
  {
   "cell_type": "markdown",
   "id": "594808d6",
   "metadata": {},
   "source": [
    "Task1\n",
    "Get the user's name and display how many letters are in the name."
   ]
  },
  {
   "cell_type": "code",
   "execution_count": 11,
   "id": "1681661b",
   "metadata": {},
   "outputs": [
    {
     "name": "stdout",
     "output_type": "stream",
     "text": [
      "Daxil edin: esmer\n",
      "5\n"
     ]
    }
   ],
   "source": [
    "user= input('Daxil edin: ')\n",
    "letter=0\n",
    "for i in user:\n",
    "    letter+=len(i)\n",
    "print(letter)"
   ]
  },
  {
   "cell_type": "markdown",
   "id": "a76edb42",
   "metadata": {},
   "source": [
    "Task2 \n",
    "Get the user's favourite movie and display each letter on new line."
   ]
  },
  {
   "cell_type": "code",
   "execution_count": 12,
   "id": "78bc11b9",
   "metadata": {},
   "outputs": [
    {
     "name": "stdout",
     "output_type": "stream",
     "text": [
      "Daxil edin: Delibal\n",
      "D\n",
      "e\n",
      "l\n",
      "i\n",
      "b\n",
      "a\n",
      "l\n"
     ]
    }
   ],
   "source": [
    "user= input('Daxil edin: ')\n",
    "for i in user:\n",
    "    print(i)"
   ]
  },
  {
   "cell_type": "markdown",
   "id": "6d059250",
   "metadata": {},
   "source": [
    "Task3\n",
    "Ask a user for a sentence. Display each word of the sentence on new line."
   ]
  },
  {
   "cell_type": "code",
   "execution_count": 7,
   "id": "d68c1ff5",
   "metadata": {},
   "outputs": [
    {
     "name": "stdout",
     "output_type": "stream",
     "text": [
      "Cumleni daxil edin: Asmar Hummat\n",
      "Asmar\n",
      "Hummat\n"
     ]
    }
   ],
   "source": [
    "user = input(\"Cumleni daxil edin: \")\n",
    "i = user.split()\n",
    "for x in i:\n",
    "    print(x)"
   ]
  },
  {
   "cell_type": "markdown",
   "id": "c4f1fb20",
   "metadata": {},
   "source": [
    "Task4 Ask a user for a text. Display each sentence of the text on new line."
   ]
  },
  {
   "cell_type": "code",
   "execution_count": 2,
   "id": "80e41406",
   "metadata": {},
   "outputs": [
    {
     "name": "stdout",
     "output_type": "stream",
     "text": [
      "Cumleni daxil edin: Bu tapsiriqlari hell etdim. Hamisi menim ucun asan idi\n",
      "Bu tapsiriqlari hell etdim\n",
      " Hamisi menim ucun asan idi\n"
     ]
    }
   ],
   "source": [
    "user = input(\"Cumleni daxil edin: \")\n",
    "i = user.split(\".\")\n",
    "for x in i:\n",
    "    print(x)"
   ]
  },
  {
   "cell_type": "markdown",
   "id": "18bd9e56",
   "metadata": {},
   "source": [
    "As a user for a text and count the amount of vowels and consonants in the text."
   ]
  },
  {
   "cell_type": "code",
   "execution_count": 63,
   "id": "2cdb14b7",
   "metadata": {},
   "outputs": [
    {
     "name": "stdout",
     "output_type": "stream",
     "text": [
      "Daxil edin: esmer\n",
      "Saitlerin sayi: 2 , Samitlerin sayi: 3\n"
     ]
    }
   ],
   "source": [
    "user= input('Daxil edin: ')\n",
    "vowels = 'aieöüouıə'\n",
    "consonants = 'cçdfgğhxjkqlmnprsştvyz'\n",
    "\n",
    "vowel_count = 0\n",
    "consonant_count = 0\n",
    "\n",
    "for i in user:\n",
    "    if i in vowels:\n",
    "        vowel_count += 1\n",
    "    elif i in consonants:\n",
    "        consonant_count += 1\n",
    "print(f\"Saitlerin sayi: {vowel_count} , Samitlerin sayi: {consonant_count}\")"
   ]
  },
  {
   "cell_type": "markdown",
   "id": "3ef0dd3c",
   "metadata": {},
   "source": [
    "As a user for a sentence and display how many special characters (?, ., ', *, etc.) are in the sentence."
   ]
  },
  {
   "cell_type": "code",
   "execution_count": 45,
   "id": "3ef2d8d2",
   "metadata": {},
   "outputs": [
    {
     "name": "stdout",
     "output_type": "stream",
     "text": [
      "Daxil edin: esm.\n",
      "1\n"
     ]
    }
   ],
   "source": [
    "user= input('Daxil edin: ')\n",
    "characters = ''\n",
    "for i in user:\n",
    "    if i in '.,*!':\n",
    "        if i not in characters:                  \n",
    "            characters += i\n",
    "print(user.count(characters))"
   ]
  },
  {
   "cell_type": "markdown",
   "id": "3a2aab12",
   "metadata": {},
   "source": [
    "You are given a list. Join the elements of a list into one string value and display it."
   ]
  },
  {
   "cell_type": "code",
   "execution_count": 67,
   "id": "b839bb4f",
   "metadata": {},
   "outputs": [],
   "source": [
    "\"\"\"\n",
    "LIST 1\n",
    "\"\"\"\n",
    "values = [\"Hello\", \"100\", \"spartans\", \"lost\", \"the\", \"battle\", \"in\", \"100\", \"BC\",\"23\"]\n"
   ]
  },
  {
   "cell_type": "code",
   "execution_count": 2,
   "id": "d6c3abdd",
   "metadata": {},
   "outputs": [],
   "source": [
    "\"\"\"\n",
    "LIST 2\n",
    "\"\"\"\n",
    "values = [\"Hello\", 100, \"spartans\", \"lost\", \"the\", \"battle\", \"in\", 100, \"BC\"]"
   ]
  },
  {
   "cell_type": "markdown",
   "id": "2945df8e",
   "metadata": {},
   "source": [
    "The user inputs an integer value. Display how many digits are in the integer."
   ]
  },
  {
   "cell_type": "code",
   "execution_count": 57,
   "id": "e6fd8e05",
   "metadata": {},
   "outputs": [
    {
     "name": "stdout",
     "output_type": "stream",
     "text": [
      "Daxil edin: 1234\n",
      "4\n"
     ]
    }
   ],
   "source": [
    "user= int(input('Daxil edin: '))\n",
    "cem=0\n",
    "for i in str(user):\n",
    "    cem+=1\n",
    "print(cem)"
   ]
  },
  {
   "cell_type": "markdown",
   "id": "ec71c5a3",
   "metadata": {},
   "source": [
    "Ask a user for a text input and extract all digits to a new string.\n",
    "\n",
    "Example\n",
    "\n",
    "Input: I am 20 years old\n",
    "\n",
    "Output: 20"
   ]
  },
  {
   "cell_type": "code",
   "execution_count": 114,
   "id": "aab62ad3",
   "metadata": {},
   "outputs": [
    {
     "name": "stdout",
     "output_type": "stream",
     "text": [
      "Daxil edin:salam, menim 21 yasim var\n",
      "21\n"
     ]
    }
   ],
   "source": [
    "a= input(\"Daxil edin:\")\n",
    "reqemler=''\n",
    "for i in a:\n",
    "    if i.isdigit():\n",
    "        reqemler += i\n",
    "print(reqemler)"
   ]
  },
  {
   "cell_type": "markdown",
   "id": "d31d062e",
   "metadata": {},
   "source": [
    "### Intermediate"
   ]
  },
  {
   "cell_type": "markdown",
   "id": "57a752db",
   "metadata": {},
   "source": [
    "The user inputs a text and then one letter. There must be only one letter. Get the user's letter input while condition is unsatisfied. The program must count the amount of occurances of this letter in the inputted text."
   ]
  },
  {
   "cell_type": "code",
   "execution_count": null,
   "id": "5620cb70",
   "metadata": {},
   "outputs": [],
   "source": []
  },
  {
   "cell_type": "markdown",
   "id": "dc687f06",
   "metadata": {},
   "source": [
    "Get a text input from a user. And replace all \"e\" letters to \"$\". Display the result."
   ]
  },
  {
   "cell_type": "code",
   "execution_count": 129,
   "id": "74471d79",
   "metadata": {},
   "outputs": [
    {
     "name": "stdout",
     "output_type": "stream",
     "text": [
      "Daxil edin:esmer\n",
      "$\n",
      "s\n",
      "m\n",
      "$\n",
      "r\n"
     ]
    }
   ],
   "source": [
    "a= input(\"Daxil edin:\")\n",
    "for i in a:\n",
    "    if i=='e':\n",
    "        i='$'\n",
    "    print(i)"
   ]
  },
  {
   "cell_type": "markdown",
   "id": "b3a213fd",
   "metadata": {},
   "source": [
    "Get a two word input from the user, seperated by whitespace. Swap the first letters of each word.\n",
    "\n",
    "Example\n",
    "\n",
    "Sample String : 'rat founder'\n",
    "\n",
    "Expected Result : 'fat rounder'"
   ]
  },
  {
   "cell_type": "code",
   "execution_count": 26,
   "id": "2cfc8aaf",
   "metadata": {},
   "outputs": [
    {
     "name": "stdout",
     "output_type": "stream",
     "text": [
      "Daxil edin: dalam sunya\n",
      "salam dunya\n"
     ]
    }
   ],
   "source": [
    "user = input(\"Daxil edin: \")\n",
    "\n",
    "words = user.split()\n",
    "\n",
    "new_words= words[1][0] + words[0][1:] + ' ' + words[0][0] + words[1][1:]\n",
    "\n",
    "print(new_words)"
   ]
  },
  {
   "cell_type": "code",
   "execution_count": 13,
   "id": "29bc3b71",
   "metadata": {},
   "outputs": [
    {
     "data": {
      "text/plain": [
       "'e'"
      ]
     },
     "execution_count": 13,
     "metadata": {},
     "output_type": "execute_result"
    }
   ],
   "source": [
    "a= 'esmer salam'\n",
    "word= a.split()\n",
    "\n",
    "word[0][0]"
   ]
  },
  {
   "cell_type": "code",
   "execution_count": null,
   "id": "aa1054d5",
   "metadata": {},
   "outputs": [],
   "source": []
  },
  {
   "cell_type": "code",
   "execution_count": null,
   "id": "a6d21cf8",
   "metadata": {},
   "outputs": [],
   "source": []
  },
  {
   "cell_type": "markdown",
   "id": "ae75790b",
   "metadata": {},
   "source": [
    "Get user input in the form of text. And find the longest word in the text."
   ]
  },
  {
   "cell_type": "code",
   "execution_count": 4,
   "id": "ff9ddf9f",
   "metadata": {},
   "outputs": [
    {
     "name": "stdout",
     "output_type": "stream",
     "text": [
      "Daxil edin: Biz Bakiya gedirik\n",
      "En uzun soz budur: gedirik \n"
     ]
    }
   ],
   "source": [
    "a = input('Daxil edin: ')\n",
    "words = a.split(' ')\n",
    "maks = words[0] \n",
    "\n",
    "for i in words:\n",
    "    if len(i) > len(maks):\n",
    "        maks = i\n",
    "\n",
    "print(f\"En uzun soz budur: {maks} \")"
   ]
  },
  {
   "cell_type": "markdown",
   "id": "d09839ca",
   "metadata": {},
   "source": [
    "Ask the user for a float input and display all digits upto 2 decimal places with a sign\n",
    "\n",
    "Example\n",
    "\n",
    "Input: 78885.93198123\n",
    "\n",
    "Output: 78885.93"
   ]
  },
  {
   "cell_type": "code",
   "execution_count": 63,
   "id": "e2bdb2bf",
   "metadata": {},
   "outputs": [
    {
     "name": "stdout",
     "output_type": "stream",
     "text": [
      "Daxil edin:34.54\n"
     ]
    },
    {
     "ename": "AttributeError",
     "evalue": "'float' object has no attribute 'rstrip'",
     "output_type": "error",
     "traceback": [
      "\u001b[1;31m---------------------------------------------------------------------------\u001b[0m",
      "\u001b[1;31mAttributeError\u001b[0m                            Traceback (most recent call last)",
      "Cell \u001b[1;32mIn[63], line 2\u001b[0m\n\u001b[0;32m      1\u001b[0m a\u001b[38;5;241m=\u001b[39m \u001b[38;5;28mfloat\u001b[39m(\u001b[38;5;28minput\u001b[39m(\u001b[38;5;124m\"\u001b[39m\u001b[38;5;124mDaxil edin:\u001b[39m\u001b[38;5;124m\"\u001b[39m))\n\u001b[1;32m----> 2\u001b[0m yuvarlaq\u001b[38;5;241m=\u001b[39m a\u001b[38;5;241m.\u001b[39mrstrip()\n\u001b[0;32m      3\u001b[0m yuvarlaq\n",
      "\u001b[1;31mAttributeError\u001b[0m: 'float' object has no attribute 'rstrip'"
     ]
    }
   ],
   "source": [
    "a= float(input(\"Daxil edin:\"))\n",
    "yuvarlaq= a.rstrip()\n"
   ]
  },
  {
   "cell_type": "code",
   "execution_count": null,
   "id": "717b3e50",
   "metadata": {},
   "outputs": [],
   "source": []
  },
  {
   "cell_type": "code",
   "execution_count": null,
   "id": "fe4d887b",
   "metadata": {},
   "outputs": [],
   "source": []
  },
  {
   "cell_type": "code",
   "execution_count": null,
   "id": "535668ea",
   "metadata": {},
   "outputs": [],
   "source": []
  },
  {
   "cell_type": "markdown",
   "id": "ada6a490",
   "metadata": {},
   "source": [
    "Ask a user for an input and reverse it.\n",
    "\n",
    "Example\n",
    "\n",
    "Input: Science\n",
    "\n",
    "Output: Ecneics"
   ]
  },
  {
   "cell_type": "code",
   "execution_count": 5,
   "id": "61286b8c",
   "metadata": {},
   "outputs": [
    {
     "name": "stdout",
     "output_type": "stream",
     "text": [
      "Daxil edin: esmer\n"
     ]
    },
    {
     "ename": "IndexError",
     "evalue": "list index out of range",
     "output_type": "error",
     "traceback": [
      "\u001b[1;31m---------------------------------------------------------------------------\u001b[0m",
      "\u001b[1;31mIndexError\u001b[0m                                Traceback (most recent call last)",
      "Cell \u001b[1;32mIn[5], line 4\u001b[0m\n\u001b[0;32m      2\u001b[0m words \u001b[38;5;241m=\u001b[39m user\u001b[38;5;241m.\u001b[39msplit()\n\u001b[0;32m      3\u001b[0m \u001b[38;5;28;01mfor\u001b[39;00m i \u001b[38;5;129;01min\u001b[39;00m \u001b[38;5;28mrange\u001b[39m(\u001b[38;5;28mlen\u001b[39m(user)):\n\u001b[1;32m----> 4\u001b[0m     new_words\u001b[38;5;241m=\u001b[39m words[i][\u001b[38;5;241m0\u001b[39m] \u001b[38;5;241m+\u001b[39m words[\u001b[38;5;241m1\u001b[39m:][\u001b[38;5;241m0\u001b[39m] \n\u001b[0;32m      6\u001b[0m \u001b[38;5;28mprint\u001b[39m(new_words)\n",
      "\u001b[1;31mIndexError\u001b[0m: list index out of range"
     ]
    }
   ],
   "source": [
    "user = input(\"Daxil edin: \")\n",
    "words = user.split()\n",
    "for i in range(len(user)):\n",
    "    new_words= words[i][0] + words[1:][0] \n",
    "\n",
    "print(new_words)"
   ]
  },
  {
   "cell_type": "code",
   "execution_count": null,
   "id": "c52d635e",
   "metadata": {},
   "outputs": [],
   "source": []
  },
  {
   "cell_type": "code",
   "execution_count": 82,
   "id": "465889a0",
   "metadata": {},
   "outputs": [
    {
     "name": "stdout",
     "output_type": "stream",
     "text": [
      "add a text: salam\n"
     ]
    },
    {
     "data": {
      "text/plain": [
       "'malas'"
      ]
     },
     "execution_count": 82,
     "metadata": {},
     "output_type": "execute_result"
    }
   ],
   "source": [
    "a = input('add a text: ')\n",
    "x = ''\n",
    "\n",
    "for i in a:\n",
    "    x = i + x\n",
    "x\n"
   ]
  },
  {
   "cell_type": "code",
   "execution_count": null,
   "id": "d66d17f7",
   "metadata": {},
   "outputs": [],
   "source": []
  },
  {
   "cell_type": "code",
   "execution_count": null,
   "id": "d7efd41e",
   "metadata": {},
   "outputs": [],
   "source": []
  },
  {
   "cell_type": "markdown",
   "id": "54885dbb",
   "metadata": {},
   "source": [
    "Ask a user for an integer input and find the sum of its digits.\n",
    "\n",
    "Example\n",
    "\n",
    "Input: 2536\n",
    "\n",
    "Output: 2+5+3+6 = 16"
   ]
  },
  {
   "cell_type": "code",
   "execution_count": 89,
   "id": "d3f9d8be",
   "metadata": {},
   "outputs": [
    {
     "name": "stdout",
     "output_type": "stream",
     "text": [
      "add a text: 34\n",
      "7\n"
     ]
    }
   ],
   "source": [
    "a = int(input('add a text: '))\n",
    "cem=0\n",
    "for i in str(a):\n",
    "    i=int(i)\n",
    "    cem+=i\n",
    "print(cem)\n"
   ]
  },
  {
   "cell_type": "markdown",
   "id": "975c5fbf",
   "metadata": {},
   "source": [
    "Ask a user for an input and remove all consecutive duplicate occurences.\n",
    "\n",
    "Example\n",
    "\n",
    "Input: Ladder\n",
    "\n",
    "Output: Lader"
   ]
  },
  {
   "cell_type": "code",
   "execution_count": 96,
   "id": "1d970ae2",
   "metadata": {},
   "outputs": [
    {
     "name": "stdout",
     "output_type": "stream",
     "text": [
      "Daxil edin: essi\n",
      "esi\n"
     ]
    }
   ],
   "source": [
    "user=input('Daxil edin: ')\n",
    "x=''\n",
    "for i in user:\n",
    "    if i not in x:\n",
    "        x+=i\n",
    "print(x)"
   ]
  },
  {
   "cell_type": "markdown",
   "id": "7931f544",
   "metadata": {},
   "source": [
    "Write a Python program that will check if all of the letters of the first string are in second string. Your code should ignore whitespace.\n",
    "\n",
    "Example:\n",
    "\n",
    "First: Tom Marvolo Riddle\n",
    "\n",
    "Second: IamLordVoldemort\n",
    "\n",
    "Condition is satisfied\n",
    "\n",
    "First: code\n",
    "\n",
    "Second: Decode\n",
    "\n",
    "Condition is satisfied\n",
    "\n",
    "First: Decode\n",
    "\n",
    "Second: code\n",
    "\n",
    "Condition is not satisfied"
   ]
  },
  {
   "cell_type": "code",
   "execution_count": 7,
   "id": "281eb2a3",
   "metadata": {},
   "outputs": [
    {
     "name": "stdout",
     "output_type": "stream",
     "text": [
      "esmer\n",
      "asmar\n",
      "Condition is not satisfied\n"
     ]
    }
   ],
   "source": [
    "ilk =input('')\n",
    "ikinci =input('')\n",
    "\n",
    "for i in ikinci.split():\n",
    "    if ilk in i:\n",
    "        print('Condition is satisfied')\n",
    "    elif i not in x:\n",
    "        print('Condition is not satisfied')"
   ]
  },
  {
   "cell_type": "markdown",
   "id": "93c780a7",
   "metadata": {},
   "source": [
    "Display unique characters in a user-inputted string.\n",
    "\n",
    "Example\n",
    "\n",
    "Input: I like flowers\n",
    "\n",
    "Output: i, l, k, e, f, o, w, r, s"
   ]
  },
  {
   "cell_type": "code",
   "execution_count": 62,
   "id": "c345ace1",
   "metadata": {},
   "outputs": [
    {
     "name": "stdout",
     "output_type": "stream",
     "text": [
      "Daxil edin: i like python\n",
      "['i', ' ', 'l', 'k', 'e', 'p', 'y', 't', 'h', 'o', 'n']\n"
     ]
    }
   ],
   "source": [
    "user = input(\"Daxil edin: \")\n",
    "a=[]\n",
    "for i in user:\n",
    "    if i not in a:\n",
    "        a.append(i)\n",
    "print(a)"
   ]
  },
  {
   "cell_type": "markdown",
   "id": "c4c5afd6",
   "metadata": {},
   "source": [
    "Recreate the following pattern\n",
    "\n",
    "1\n",
    "\n",
    "1 1\n",
    "\n",
    "1 1 1\n",
    "\n",
    "1 1 1 1\n",
    "\n",
    "1 1 1 1 1\n",
    "\n",
    "1 1 1 1\n",
    "\n",
    "1 1 1\n",
    "\n",
    "1 1\n",
    "\n",
    "1"
   ]
  },
  {
   "cell_type": "code",
   "execution_count": null,
   "id": "06368590",
   "metadata": {},
   "outputs": [],
   "source": []
  },
  {
   "cell_type": "code",
   "execution_count": null,
   "id": "2277898a",
   "metadata": {},
   "outputs": [],
   "source": []
  }
 ],
 "metadata": {
  "kernelspec": {
   "display_name": "Python 3 (ipykernel)",
   "language": "python",
   "name": "python3"
  },
  "language_info": {
   "codemirror_mode": {
    "name": "ipython",
    "version": 3
   },
   "file_extension": ".py",
   "mimetype": "text/x-python",
   "name": "python",
   "nbconvert_exporter": "python",
   "pygments_lexer": "ipython3",
   "version": "3.11.5"
  }
 },
 "nbformat": 4,
 "nbformat_minor": 5
}
