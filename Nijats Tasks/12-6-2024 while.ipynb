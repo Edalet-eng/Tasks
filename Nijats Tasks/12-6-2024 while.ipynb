{
 "cells": [
  {
   "cell_type": "code",
   "execution_count": 7,
   "id": "ed8437d2",
   "metadata": {},
   "outputs": [
    {
     "name": "stdout",
     "output_type": "stream",
     "text": [
      "add a txt: sa\n",
      "sehv\n",
      "add a txt: sal\n",
      "sehv\n",
      "add a txt: sala\n",
      "sehv\n",
      "add a txt: salamm\n",
      "duzdu\n"
     ]
    }
   ],
   "source": [
    "while True:\n",
    "    a = input('add a txt: ')\n",
    "    if len(a)>5:\n",
    "        print('duzdu')\n",
    "        break\n",
    "    else:\n",
    "        print('sehv')"
   ]
  },
  {
   "cell_type": "code",
   "execution_count": 28,
   "id": "a19058d6",
   "metadata": {},
   "outputs": [
    {
     "name": "stdout",
     "output_type": "stream",
     "text": [
      "add angle 1 90\n",
      "add angle 2 60\n",
      "add angle 3 30\n",
      "duz\n"
     ]
    }
   ],
   "source": [
    "while True:\n",
    "    b1 = int(input('add angle 1 '))\n",
    "    b2 = int(input('add angle 2 '))\n",
    "    b3 = int(input('add angle 3 '))\n",
    "    cem = b1+b2+b3\n",
    "    if cem == 180:\n",
    "        print('duz')\n",
    "        break\n",
    "    else:\n",
    "        print('sehv')"
   ]
  },
  {
   "cell_type": "code",
   "execution_count": null,
   "id": "ed0d4874",
   "metadata": {},
   "outputs": [],
   "source": []
  },
  {
   "cell_type": "code",
   "execution_count": null,
   "id": "f2dd960e",
   "metadata": {},
   "outputs": [],
   "source": []
  },
  {
   "cell_type": "code",
   "execution_count": null,
   "id": "6fdb3e20",
   "metadata": {},
   "outputs": [],
   "source": []
  },
  {
   "cell_type": "code",
   "execution_count": null,
   "id": "3acfe1fb",
   "metadata": {},
   "outputs": [],
   "source": []
  },
  {
   "cell_type": "code",
   "execution_count": null,
   "id": "d65c1141",
   "metadata": {},
   "outputs": [],
   "source": []
  },
  {
   "cell_type": "code",
   "execution_count": null,
   "id": "2d1a19ac",
   "metadata": {},
   "outputs": [],
   "source": []
  },
  {
   "cell_type": "code",
   "execution_count": null,
   "id": "37428da1",
   "metadata": {},
   "outputs": [],
   "source": []
  },
  {
   "cell_type": "code",
   "execution_count": null,
   "id": "19289aca",
   "metadata": {},
   "outputs": [],
   "source": []
  },
  {
   "cell_type": "code",
   "execution_count": null,
   "id": "ef35d113",
   "metadata": {},
   "outputs": [],
   "source": []
  }
 ],
 "metadata": {
  "kernelspec": {
   "display_name": "Python 3 (ipykernel)",
   "language": "python",
   "name": "python3"
  },
  "language_info": {
   "codemirror_mode": {
    "name": "ipython",
    "version": 3
   },
   "file_extension": ".py",
   "mimetype": "text/x-python",
   "name": "python",
   "nbconvert_exporter": "python",
   "pygments_lexer": "ipython3",
   "version": "3.11.5"
  }
 },
 "nbformat": 4,
 "nbformat_minor": 5
}
