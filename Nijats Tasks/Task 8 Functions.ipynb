{
 "cells": [
  {
   "cell_type": "markdown",
   "id": "e9320453",
   "metadata": {
    "id": "e9320453"
   },
   "source": [
    "Create a recursive function that find a sum of first n numbers"
   ]
  },
  {
   "cell_type": "code",
   "execution_count": 2,
   "id": "97029ea4",
   "metadata": {
    "colab": {
     "base_uri": "https://localhost:8080/"
    },
    "id": "97029ea4",
    "outputId": "ed8dc62f-5641-439d-b259-4294f6d02e88"
   },
   "outputs": [
    {
     "data": {
      "text/plain": [
       "15"
      ]
     },
     "execution_count": 2,
     "metadata": {},
     "output_type": "execute_result"
    }
   ],
   "source": [
    "def sumof(a):\n",
    "    Cem=0\n",
    "    for i in range(0, a+1):\n",
    "        Cem+=i\n",
    "    return Cem\n",
    "\n",
    "sumof(5)"
   ]
  },
  {
   "cell_type": "markdown",
   "id": "919ba12e",
   "metadata": {
    "id": "919ba12e"
   },
   "source": [
    "Create a recursive function that find a factorial of a number"
   ]
  },
  {
   "cell_type": "code",
   "execution_count": null,
   "id": "0d3d0aac",
   "metadata": {
    "colab": {
     "base_uri": "https://localhost:8080/"
    },
    "id": "0d3d0aac",
    "outputId": "678a77eb-72d6-4ee0-ce77-71d8a093d06e"
   },
   "outputs": [
    {
     "data": {
      "text/plain": [
       "120"
      ]
     },
     "execution_count": 9,
     "metadata": {},
     "output_type": "execute_result"
    }
   ],
   "source": [
    "def f(a):\n",
    "    Fact=1\n",
    "    for i in range(1, a+1):\n",
    "        Fact*=i\n",
    "    return Fact\n",
    "\n",
    "f(5)"
   ]
  },
  {
   "cell_type": "markdown",
   "id": "eb12c193",
   "metadata": {
    "id": "eb12c193"
   },
   "source": [
    "Create a recursive function that calculates the sum of the positive integers of n+(n-2)+(n-4)... (until n-x =< 0).\n",
    "\n",
    "Example:\n",
    "\n",
    "6 -> 6 + 4 + 2 -> 12"
   ]
  },
  {
   "cell_type": "code",
   "execution_count": null,
   "id": "dc9cc18d",
   "metadata": {
    "id": "dc9cc18d"
   },
   "outputs": [],
   "source": []
  },
  {
   "cell_type": "markdown",
   "id": "3dcaccde",
   "metadata": {
    "id": "3dcaccde"
   },
   "source": [
    "Create a recursive function that returns the n-th element of the Fibonacci sequence. Each number in the sequence is the sum of the two numbers that precede it.\n",
    "\n",
    "Fibonacci sequence: 0, 1, 1, 2, 3, 5, 8, 13, 21, 34, 55"
   ]
  },
  {
   "cell_type": "code",
   "execution_count": null,
   "id": "d5f50c30",
   "metadata": {
    "id": "d5f50c30"
   },
   "outputs": [],
   "source": []
  },
  {
   "cell_type": "markdown",
   "id": "30ae63c1",
   "metadata": {
    "id": "30ae63c1"
   },
   "source": [
    "Create a recursive function that finds a power of a number."
   ]
  },
  {
   "cell_type": "code",
   "execution_count": null,
   "id": "e906d0ec",
   "metadata": {
    "colab": {
     "base_uri": "https://localhost:8080/"
    },
    "id": "e906d0ec",
    "outputId": "bc95f2c5-2eb3-4143-864c-9ddf1ce766be"
   },
   "outputs": [
    {
     "data": {
      "text/plain": [
       "43.559999999999995"
      ]
     },
     "execution_count": 12,
     "metadata": {},
     "output_type": "execute_result"
    }
   ],
   "source": [
    "def f(x):\n",
    "    return x**2\n",
    "\n",
    "f(-6.6)"
   ]
  },
  {
   "cell_type": "markdown",
   "id": "b73db96f",
   "metadata": {
    "id": "b73db96f"
   },
   "source": [
    "Create a recursive function that finds a sum of all elements in a nested list\n",
    "\n",
    "Example\n",
    "\n",
    "[1, 2, [3,4], [5,6]] -> 1 + 2 + 3 + 4 + 5 + 6 = 21"
   ]
  },
  {
   "cell_type": "code",
   "execution_count": null,
   "id": "7b0fb534",
   "metadata": {
    "colab": {
     "base_uri": "https://localhost:8080/"
    },
    "id": "7b0fb534",
    "outputId": "836a29c3-a423-40b7-9961-05eb8139064c"
   },
   "outputs": [
    {
     "data": {
      "text/plain": [
       "30"
      ]
     },
     "execution_count": 14,
     "metadata": {},
     "output_type": "execute_result"
    }
   ],
   "source": [
    "def sumof(listim):\n",
    "    Cem=0\n",
    "    for i in listim:\n",
    "        if type(i) == int:\n",
    "            Cem+=i\n",
    "        else:\n",
    "            for x in i:\n",
    "                Cem+=x\n",
    "    return Cem\n",
    "\n",
    "sumof([1, 2, [3,4], [5,6], 9])"
   ]
  },
  {
   "cell_type": "markdown",
   "id": "be90f8ff",
   "metadata": {
    "id": "be90f8ff"
   },
   "source": [
    "Create a recursive function that finds a product of the number's digits\n",
    "\n",
    "Example\n",
    "\n",
    "1534 -> 1 * 5 * 3 * 4 = 60"
   ]
  },
  {
   "cell_type": "code",
   "execution_count": null,
   "id": "b345519d",
   "metadata": {
    "colab": {
     "base_uri": "https://localhost:8080/"
    },
    "id": "b345519d",
    "outputId": "fa9e3009-dfaa-4a91-98e4-192f21a98d21"
   },
   "outputs": [
    {
     "data": {
      "text/plain": [
       "60"
      ]
     },
     "execution_count": 16,
     "metadata": {},
     "output_type": "execute_result"
    }
   ],
   "source": [
    "def prod(num):\n",
    "    Hasil=1\n",
    "    for i in str(num):\n",
    "        Hasil = Hasil* int(i)\n",
    "    return Hasil\n",
    "\n",
    "prod(1534)"
   ]
  },
  {
   "cell_type": "markdown",
   "id": "0db901bd",
   "metadata": {
    "id": "0db901bd"
   },
   "source": [
    "Create a recursive function that finds the ƏKOB of two numbers.\n",
    "\n",
    "Example\n",
    "\n",
    "ƏKOB(20, 25) = 100"
   ]
  },
  {
   "cell_type": "code",
   "execution_count": null,
   "id": "93185c1d",
   "metadata": {
    "colab": {
     "base_uri": "https://localhost:8080/"
    },
    "id": "93185c1d",
    "outputId": "0f61c3bd-6434-4b39-9c3e-9da061140ad3"
   },
   "outputs": [
    {
     "data": {
      "text/plain": [
       "8000"
      ]
     },
     "execution_count": 22,
     "metadata": {},
     "output_type": "execute_result"
    }
   ],
   "source": [
    "def ekob(kicik, boyuk):\n",
    "    Um=1\n",
    "    for x in range(1, boyuk+1):\n",
    "        if kicik %x==0:\n",
    "            Um*=x\n",
    "    return Um\n",
    "\n",
    "ekob(20,25)"
   ]
  },
  {
   "cell_type": "markdown",
   "id": "6fc637a1",
   "metadata": {
    "id": "6fc637a1"
   },
   "source": [
    "## Lambda"
   ]
  },
  {
   "cell_type": "markdown",
   "id": "94246d53",
   "metadata": {
    "id": "94246d53"
   },
   "source": [
    "Create a lambda function that takes a number as input and returs double its value\n",
    "\n",
    "4 -> 8\n",
    "6 -> 12"
   ]
  },
  {
   "cell_type": "code",
   "execution_count": 5,
   "id": "43d756bc",
   "metadata": {
    "id": "43d756bc"
   },
   "outputs": [
    {
     "data": {
      "text/plain": [
       "12"
      ]
     },
     "execution_count": 5,
     "metadata": {},
     "output_type": "execute_result"
    }
   ],
   "source": [
    "double = lambda x: x * 2\n",
    "double(6)"
   ]
  },
  {
   "cell_type": "markdown",
   "id": "a7d0656e",
   "metadata": {
    "id": "a7d0656e"
   },
   "source": [
    "Create an anonymous function that takes two numbers as an input and returns their product"
   ]
  },
  {
   "cell_type": "code",
   "execution_count": 7,
   "id": "5fa9ef00",
   "metadata": {
    "id": "5fa9ef00"
   },
   "outputs": [
    {
     "name": "stdout",
     "output_type": "stream",
     "text": [
      "add a number: 5\n",
      "add a number: 4\n"
     ]
    },
    {
     "data": {
      "text/plain": [
       "20"
      ]
     },
     "execution_count": 7,
     "metadata": {},
     "output_type": "execute_result"
    }
   ],
   "source": [
    "a = int(input('add a number: '))\n",
    "b = int(input('add a number: '))\n",
    "\n",
    "product = lambda a,b: a*b\n",
    "product(a,b)"
   ]
  },
  {
   "cell_type": "markdown",
   "id": "2ec6e6ee",
   "metadata": {
    "id": "2ec6e6ee"
   },
   "source": [
    "Create a lambda function that takes a number and returns its cube."
   ]
  },
  {
   "cell_type": "code",
   "execution_count": 8,
   "id": "02ebdb93",
   "metadata": {
    "id": "02ebdb93"
   },
   "outputs": [
    {
     "data": {
      "text/plain": [
       "64"
      ]
     },
     "execution_count": 8,
     "metadata": {},
     "output_type": "execute_result"
    }
   ],
   "source": [
    "cube = lambda x: x**3\n",
    "cube(4)"
   ]
  },
  {
   "cell_type": "markdown",
   "id": "49771b82",
   "metadata": {
    "id": "49771b82"
   },
   "source": [
    "Create a lambda function that takes two number (a,b) and returns a to the power of b.\n",
    "\n",
    "(2, 5) -> 32"
   ]
  },
  {
   "cell_type": "code",
   "execution_count": 9,
   "id": "75752349",
   "metadata": {
    "id": "75752349"
   },
   "outputs": [
    {
     "data": {
      "text/plain": [
       "32"
      ]
     },
     "execution_count": 9,
     "metadata": {},
     "output_type": "execute_result"
    }
   ],
   "source": [
    "power = lambda a,b: a**b\n",
    "power(2,5)"
   ]
  },
  {
   "cell_type": "markdown",
   "id": "7a04e151",
   "metadata": {
    "id": "7a04e151"
   },
   "source": [
    "Create a lambda function that takes a string and returns True if all characters are digits."
   ]
  },
  {
   "cell_type": "code",
   "execution_count": 12,
   "id": "6225e7b6",
   "metadata": {
    "id": "6225e7b6"
   },
   "outputs": [
    {
     "data": {
      "text/plain": [
       "True"
      ]
     },
     "execution_count": 12,
     "metadata": {},
     "output_type": "execute_result"
    }
   ],
   "source": [
    "all_digits = lambda txt: txt.isdigit()\n",
    "all_digits('7845625')"
   ]
  },
  {
   "cell_type": "markdown",
   "id": "2064f40f",
   "metadata": {
    "id": "2064f40f"
   },
   "source": [
    "Create a list of numbers from 0 to 10000 using list comprehension."
   ]
  },
  {
   "cell_type": "code",
   "execution_count": null,
   "id": "e2f2fbc3",
   "metadata": {
    "id": "e2f2fbc3"
   },
   "outputs": [],
   "source": []
  },
  {
   "cell_type": "markdown",
   "id": "8144088d",
   "metadata": {
    "id": "8144088d"
   },
   "source": [
    "Create a list of even numbers from 0 to 10000 using list comprehension."
   ]
  },
  {
   "cell_type": "code",
   "execution_count": null,
   "id": "5b896dd7",
   "metadata": {
    "id": "5b896dd7"
   },
   "outputs": [],
   "source": []
  },
  {
   "cell_type": "markdown",
   "id": "e36353a9",
   "metadata": {
    "id": "e36353a9"
   },
   "source": [
    "Create a list of numbers divisible by 5 from 0 to 10000 using list comprehension."
   ]
  },
  {
   "cell_type": "code",
   "execution_count": null,
   "id": "cbf68e99",
   "metadata": {
    "id": "cbf68e99"
   },
   "outputs": [],
   "source": []
  },
  {
   "cell_type": "markdown",
   "id": "2479f297",
   "metadata": {
    "id": "2479f297"
   },
   "source": [
    "Create a list of numbers. Using map function multiply each element by 2"
   ]
  },
  {
   "cell_type": "code",
   "execution_count": null,
   "id": "af317195",
   "metadata": {
    "id": "af317195"
   },
   "outputs": [],
   "source": []
  },
  {
   "cell_type": "markdown",
   "id": "62edbd04",
   "metadata": {
    "id": "62edbd04"
   },
   "source": [
    "Create a list of numbers. Using filter function remove all even numbers."
   ]
  },
  {
   "cell_type": "code",
   "execution_count": null,
   "id": "8d4e3eb7",
   "metadata": {
    "id": "8d4e3eb7"
   },
   "outputs": [],
   "source": []
  },
  {
   "cell_type": "markdown",
   "id": "d267796c",
   "metadata": {
    "id": "d267796c"
   },
   "source": [
    "Create two lists of numbers. Find the intersection of these lists using lambda function and filter function.\n",
    "\n"
   ]
  },
  {
   "cell_type": "code",
   "execution_count": null,
   "id": "1a10251d",
   "metadata": {
    "id": "1a10251d"
   },
   "outputs": [],
   "source": []
  },
  {
   "cell_type": "markdown",
   "id": "ee6c2295",
   "metadata": {
    "id": "ee6c2295"
   },
   "source": [
    "Create a list of numbers. Using lambda and filter functions count the amound of odd and even numbers in the list."
   ]
  },
  {
   "cell_type": "code",
   "execution_count": null,
   "id": "a2ddb990",
   "metadata": {
    "id": "a2ddb990"
   },
   "outputs": [],
   "source": []
  },
  {
   "cell_type": "markdown",
   "id": "ad54364a",
   "metadata": {
    "id": "ad54364a"
   },
   "source": [
    "\n",
    "Create a nested list with 3 lists. With filter function remove lists that contain even numbers."
   ]
  },
  {
   "cell_type": "code",
   "execution_count": null,
   "id": "3c0e6287",
   "metadata": {
    "id": "3c0e6287"
   },
   "outputs": [],
   "source": []
  },
  {
   "cell_type": "markdown",
   "id": "fc5c9232",
   "metadata": {
    "id": "fc5c9232"
   },
   "source": [
    "Create a list of numbers and using filter function remove all non-prime (compound) numbers.\n",
    "\n"
   ]
  },
  {
   "cell_type": "code",
   "execution_count": null,
   "id": "867f8fde",
   "metadata": {
    "id": "867f8fde"
   },
   "outputs": [],
   "source": []
  },
  {
   "cell_type": "markdown",
   "id": "32abb58a",
   "metadata": {
    "id": "32abb58a"
   },
   "source": [
    "\n",
    "Create a list of 1000 random numbers and using filter function remove all not perfect numbers. A perfect number is a number that is equal to the sum of its divisors(excluding itself).\n",
    "\n",
    "6 = 1 + 2 + 3"
   ]
  },
  {
   "cell_type": "code",
   "execution_count": null,
   "id": "99994281",
   "metadata": {
    "id": "99994281"
   },
   "outputs": [],
   "source": []
  },
  {
   "cell_type": "markdown",
   "id": "0154ae5d",
   "metadata": {
    "id": "0154ae5d"
   },
   "source": [
    "Using filter function remove all special characters (., !, &, etc.) from a string."
   ]
  },
  {
   "cell_type": "code",
   "execution_count": null,
   "id": "3798171d",
   "metadata": {
    "id": "3798171d"
   },
   "outputs": [],
   "source": []
  }
 ],
 "metadata": {
  "colab": {
   "provenance": []
  },
  "kernelspec": {
   "display_name": "Python 3 (ipykernel)",
   "language": "python",
   "name": "python3"
  },
  "language_info": {
   "codemirror_mode": {
    "name": "ipython",
    "version": 3
   },
   "file_extension": ".py",
   "mimetype": "text/x-python",
   "name": "python",
   "nbconvert_exporter": "python",
   "pygments_lexer": "ipython3",
   "version": "3.11.5"
  }
 },
 "nbformat": 4,
 "nbformat_minor": 5
}
