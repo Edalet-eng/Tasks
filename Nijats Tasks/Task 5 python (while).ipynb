{
 "cells": [
  {
   "cell_type": "markdown",
   "id": "641f3135",
   "metadata": {},
   "source": [
    "----\n",
    "Create a program that gets from user 4 inputs that represent the expenses (\"Transportation\", \"Eating out\", \"Groceries\", \"Health and cosmetics\"). The program should calculate the total expense.\n",
    "\n"
   ]
  },
  {
   "cell_type": "code",
   "execution_count": 9,
   "id": "86cd30d6",
   "metadata": {},
   "outputs": [
    {
     "name": "stdout",
     "output_type": "stream",
     "text": [
      "Enter your expense for Transportation: 30\n",
      "Enter your expense for Eating out: 100\n",
      "Enter your expense for Groceries: 80\n",
      "Enter your expense for Health and cosmetics: 40\n",
      "Total expense: 250.0\n"
     ]
    }
   ],
   "source": [
    "expenses = [\"Transportation\", \"Eating out\", \"Groceries\", \"Health and cosmetics\"]\n",
    "total = 0\n",
    "i = 0\n",
    "\n",
    "while i < len(expenses):\n",
    "    expense_name = expenses[i]\n",
    "    try:\n",
    "        expense = float(input(f\"Enter your expense for {expense_name}: \"))\n",
    "        total += expense\n",
    "        i += 1\n",
    "    except ValueError:\n",
    "        print(\"Invalid input. Please enter a valid number.\")\n",
    "print(f\"Total expense: {total}\")"
   ]
  },
  {
   "cell_type": "markdown",
   "id": "a3a59ffd",
   "metadata": {},
   "source": [
    "----\n",
    "Create a program where user enters a password. If the password is \"bigsecret\" display \"Access granted\", otherwise display \"Access denied\"."
   ]
  },
  {
   "cell_type": "code",
   "execution_count": 13,
   "id": "3b3e5059",
   "metadata": {},
   "outputs": [
    {
     "name": "stdout",
     "output_type": "stream",
     "text": [
      "add ur password: hjj\n",
      "Access denied\n",
      "add ur password: bigsecret\n",
      "Access granted\n"
     ]
    }
   ],
   "source": [
    "secret = 'bigsecret'\n",
    "while True:\n",
    "    pw = input('add ur password: ')\n",
    "    if pw == secret:\n",
    "        print('Access granted')\n",
    "        break\n",
    "    else:\n",
    "        print('Access denied')"
   ]
  },
  {
   "cell_type": "code",
   "execution_count": 23,
   "id": "d6eb6b5e",
   "metadata": {},
   "outputs": [
    {
     "name": "stdout",
     "output_type": "stream",
     "text": [
      "add ur password: big\n",
      "Access denied\n",
      "You have 4 tries left.\n",
      "add ur password: bigs\n",
      "Access denied\n",
      "You have 3 tries left.\n",
      "add ur password: bigsecret\n",
      "Access granted\n"
     ]
    }
   ],
   "source": [
    "tries = 0\n",
    "max_tries = 5\n",
    "while tries < 5:\n",
    "    pw = input('add ur password: ')\n",
    "    if pw == 'bigsecret':\n",
    "        print('Access granted')\n",
    "        break\n",
    "    else:\n",
    "        print('Access denied')\n",
    "        tries += 1\n",
    "    \n",
    "        if tries == max_tries:\n",
    "            print('You have reached the maximum limit. Please try again later.')\n",
    "        else:\n",
    "            print(f'You have {max_tries - tries} tries left.')"
   ]
  },
  {
   "cell_type": "markdown",
   "id": "4c92e4a6",
   "metadata": {},
   "source": [
    "----\n",
    "Create a program that asks user a question until the user answers it correctly."
   ]
  },
  {
   "cell_type": "code",
   "execution_count": 27,
   "id": "8a3d7633",
   "metadata": {},
   "outputs": [
    {
     "name": "stdout",
     "output_type": "stream",
     "text": [
      "What is the capital city of Azerbaijan? istanbul\n",
      "Try again!\n",
      "What is the capital city of Azerbaijan? baku\n",
      "You answered it correctly!\n"
     ]
    }
   ],
   "source": [
    "answer = 'Baku'\n",
    "while True:\n",
    "    question = input('What is the capital city of Azerbaijan? ')\n",
    "    if question.title() == answer:\n",
    "        print('You answered it correctly!')\n",
    "        break\n",
    "    else:\n",
    "        print('Try again!')"
   ]
  },
  {
   "cell_type": "markdown",
   "id": "d986ba9c",
   "metadata": {},
   "source": [
    "----\n",
    "Create a program that takes two inputs from a user: username and password. The program should ask for these inputs until each field is valid. The username must be at least 6 characters long. Password must be at least 8 characters long and contain a word \"anonim\" or \"anon\" in it."
   ]
  },
  {
   "cell_type": "code",
   "execution_count": 1,
   "id": "6fe1a050",
   "metadata": {},
   "outputs": [
    {
     "name": "stdout",
     "output_type": "stream",
     "text": [
      "add ur username: hskjskjsanonscxz\n",
      "add ur password: hskjskjsanonscxz\n",
      "Info is valid\n"
     ]
    }
   ],
   "source": [
    "secrets = ['anonim', 'anon']\n",
    "while True:\n",
    "    username = input('add ur username: ')\n",
    "    password = input('add ur password: ')\n",
    "    if len(username) >= 6 and len(password) >= 8 and  any(secret in password for secret in secrets):\n",
    "        print('Info is valid')\n",
    "        break\n",
    "    else:\n",
    "        print('Info is not valid. Try again')"
   ]
  },
  {
   "cell_type": "markdown",
   "id": "4f850d4d",
   "metadata": {},
   "source": [
    "----\n",
    "Write a program that displays how many thousands, hundreds, tens, ones (units) are in the number given by user (Assume that user always enters integers).\n",
    "\n",
    "Example:\n",
    "\n",
    "Number: 1437\n",
    "\n",
    "Thousands: 1\n",
    "\n",
    "Hundreds: 4\n",
    "\n",
    "Tens: 3\n",
    "\n",
    "Ones: 7\n",
    "\n",
    "**Bu Task While-a aid deyil**"
   ]
  },
  {
   "cell_type": "code",
   "execution_count": 3,
   "id": "edb31fd9",
   "metadata": {},
   "outputs": [
    {
     "name": "stdout",
     "output_type": "stream",
     "text": [
      "add a number: 4517\n",
      "Thousands: 4\n",
      "Hundreds: 5\n",
      "Tens: 1\n",
      "Ones: 7\n"
     ]
    }
   ],
   "source": [
    "try:  \n",
    "    number = int(input('add a number: '))\n",
    "    thousands = number // 1000\n",
    "    hundreds = (number % 1000) // 100\n",
    "    tens = (number % 100) // 10\n",
    "    ones = number % 10\n",
    "\n",
    "    print(f\"Thousands: {thousands}\")\n",
    "    print(f\"Hundreds: {hundreds}\")\n",
    "    print(f\"Tens: {tens}\")\n",
    "    print(f\"Ones: {ones}\")\n",
    "except ValueError:\n",
    "    print('Inputted value is not an integer')"
   ]
  },
  {
   "cell_type": "markdown",
   "id": "19d1d44a",
   "metadata": {},
   "source": [
    "----\n",
    "Write a program that displays all odd numbers between 0 and 100\n",
    "\n",
    "VERSION 2\n",
    "\n",
    "The end point is determined by the user\n",
    "\n",
    "VERSION 3\n",
    "\n",
    "Display the amount of odd numbers as well"
   ]
  },
  {
   "cell_type": "code",
   "execution_count": 21,
   "id": "652c1112",
   "metadata": {
    "scrolled": true
   },
   "outputs": [
    {
     "name": "stdout",
     "output_type": "stream",
     "text": [
      "1,3,5,7,9,11,13,15,17,19,21,23,25,27,29,31,33,35,37,39,41,43,45,47,49,51,53,55,57,59,61,63,65,67,69,71,73,75,77,79,81,83,85,87,89,91,93,95,97,99\n"
     ]
    }
   ],
   "source": [
    "# v1\n",
    "odd = []\n",
    "for i in range(1,101,2):\n",
    "    odd.append(i)\n",
    "print(','.join(map(str, odd)))"
   ]
  },
  {
   "cell_type": "code",
   "execution_count": 20,
   "id": "53ea2421",
   "metadata": {},
   "outputs": [
    {
     "name": "stdout",
     "output_type": "stream",
     "text": [
      "Enter the end point: 10\n",
      "1\n",
      "3\n",
      "5\n",
      "7\n",
      "9\n"
     ]
    }
   ],
   "source": [
    "end = int(input(\"Enter the end point: \"))\n",
    "for num in range(1, end + 1, 2):\n",
    "    print(num)"
   ]
  },
  {
   "cell_type": "code",
   "execution_count": 19,
   "id": "521e37cb",
   "metadata": {},
   "outputs": [
    {
     "name": "stdout",
     "output_type": "stream",
     "text": [
      "Enter the end point: 20\n",
      "1\n",
      "3\n",
      "5\n",
      "7\n",
      "9\n",
      "11\n",
      "13\n",
      "15\n",
      "17\n",
      "19\n",
      "Total number of odd numbers: 10\n"
     ]
    }
   ],
   "source": [
    "end_point = int(input(\"Enter the end point: \"))\n",
    "odd_count = 0\n",
    "for num in range(1, end_point + 1, 2):\n",
    "    print(num)\n",
    "    odd_count += 1\n",
    "\n",
    "print(f\"Total number of odd numbers: {odd_count}\")\n"
   ]
  },
  {
   "cell_type": "markdown",
   "id": "e61bb523",
   "metadata": {},
   "source": [
    "----\n",
    "Write a program that adds all numbers until 20 inclusive\n",
    "\n",
    "1 + 2 + 3 + 4 ... + 20 = 210"
   ]
  },
  {
   "cell_type": "code",
   "execution_count": 43,
   "id": "0099a08a",
   "metadata": {},
   "outputs": [
    {
     "data": {
      "text/plain": [
       "210"
      ]
     },
     "execution_count": 43,
     "metadata": {},
     "output_type": "execute_result"
    }
   ],
   "source": [
    "sum = 0\n",
    "for i in range(21):\n",
    "    sum+=i\n",
    "sum"
   ]
  },
  {
   "cell_type": "markdown",
   "id": "100d2d02",
   "metadata": {},
   "source": [
    "----\n",
    "Write a program that takes three numbers as an input (a, b, c) and checks how many numbers between a and b are divisible by c.\n",
    "\n",
    "Example:\n",
    "\n",
    "a: 0\n",
    "\n",
    "b: 10\n",
    "\n",
    "c: 2\n",
    "\n",
    "There are 5 numbers divisible by 2 between 0 and 10"
   ]
  },
  {
   "cell_type": "code",
   "execution_count": 51,
   "id": "ece1a269",
   "metadata": {},
   "outputs": [
    {
     "name": "stdout",
     "output_type": "stream",
     "text": [
      "add number a: 5\n",
      "add number b: 100\n",
      "add number c: 20\n",
      "divisible numbers: 20, 40, 60, 80\n",
      "count: 4\n"
     ]
    }
   ],
   "source": [
    "a = int(input('add number a: '))\n",
    "b = int(input('add number b: '))\n",
    "c = int(input('add number c: '))\n",
    "count = 0\n",
    "nums = []\n",
    "for i in range(a, b):\n",
    "    if i % c == 0:\n",
    "        count += 1\n",
    "        nums.append(i)\n",
    "print(f\"divisible numbers: {', '.join(map(str, nums))}\\ncount: {count}\")        "
   ]
  },
  {
   "cell_type": "markdown",
   "id": "5033cb61",
   "metadata": {},
   "source": [
    "----\n",
    "Create a program that asks user to enter a password. The password must me at least 6 characters long. The program does not stop until user enters a valid password\n",
    "\n",
    "Example:\n",
    "\n",
    "Password: 123\n",
    "\n",
    "Invalid password, try again... Password: 123456\n",
    "\n",
    "Success"
   ]
  },
  {
   "cell_type": "code",
   "execution_count": 2,
   "id": "a8dc85f8",
   "metadata": {},
   "outputs": [
    {
     "name": "stdout",
     "output_type": "stream",
     "text": [
      "add a password123\n",
      "Invalid password, try again\n",
      "add a password123456\n",
      "Success\n",
      "123456\n"
     ]
    }
   ],
   "source": [
    "while True:\n",
    "    pw = int(input('add a password'))\n",
    "    if len(str(pw)) == 6:\n",
    "        print('Success')\n",
    "        break\n",
    "    else:\n",
    "        print('Invalid password, try again')\n",
    "print(pw)"
   ]
  },
  {
   "cell_type": "markdown",
   "id": "8401f816",
   "metadata": {},
   "source": [
    "----\n",
    "Write a program that tells whether a triangle with given sides exists or not.\n",
    "\n",
    "\n",
    "Example\n",
    "\n",
    "Side a: 5\n",
    "\n",
    "Side b: 6\n",
    "\n",
    "Side c: 7\n",
    "\n",
    "Triangle with sides 5, 6, 7 exists\n",
    "\n",
    "Side a: 10\n",
    "\n",
    "Side b: 4\n",
    "\n",
    "Side c: 3\n",
    "\n",
    "Triangle with sides 10, 4, 3 DOES NOT exist"
   ]
  },
  {
   "cell_type": "code",
   "execution_count": 29,
   "id": "62045493",
   "metadata": {},
   "outputs": [
    {
     "name": "stdout",
     "output_type": "stream",
     "text": [
      "add side 1: 10\n",
      "add side 2: 4\n",
      "add side 3: 3\n",
      "a triangle with sides (10, 4, 3) DOES NOT exists\n",
      "add side 1: 5\n",
      "add side 2: 6\n",
      "add side 3: 7\n",
      "a triangle with sides (5, 6, 7) exists\n"
     ]
    }
   ],
   "source": [
    "# The sum of the length of the two sides of a triangle is greater than the length of the third side.\n",
    "while True: \n",
    "    a = int(input('add side 1: '))\n",
    "    b = int(input('add side 2: '))\n",
    "    c = int(input('add side 3: '))\n",
    "\n",
    "    if a+b>c and a+c>b and b+c>a:\n",
    "        print(f'a triangle with sides {a,b,c} exists')\n",
    "        break\n",
    "    else:\n",
    "        print(f'a triangle with sides {a,b,c} DOES NOT exists')"
   ]
  },
  {
   "cell_type": "markdown",
   "id": "fc40ad74",
   "metadata": {},
   "source": [
    "----\n",
    "Create a program that asks the user to guess a randomly generated secret number (from 1 to 12 inclusive). If the user enters a number that is less or greater than secret number, display corresponding message. The user can guess only 4 times. The program doesn't stop until the user guesses the secret number or the attempt limit is reached. Display the amount of attempts it took for the user to guess the secret number.\n",
    "\n",
    "Example:\n",
    "\n",
    "Your guess: 5\n",
    "\n",
    "Go higher\n",
    "\n",
    "Your guess: 12\n",
    "\n",
    "Go lower\n",
    "\n",
    "Your guess: 10\n",
    "\n",
    "You won!\n",
    "\n",
    "It took you 3 attempts to win the game\n",
    "\n",
    "Another example:\n",
    "\n",
    "Your guess: 2\n",
    "\n",
    "Go higher\n",
    "\n",
    "Your guess: 3\n",
    "\n",
    "Go higher\n",
    "\n",
    "Your guess: 12\n",
    "\n",
    "Go lower\n",
    "\n",
    "Your guess: 11\n",
    "\n",
    "You lost... the secret number is 10"
   ]
  },
  {
   "cell_type": "code",
   "execution_count": 40,
   "id": "de4b1d69",
   "metadata": {},
   "outputs": [
    {
     "name": "stdout",
     "output_type": "stream",
     "text": [
      "Enter your guess: 6\n",
      "Go higher\n",
      "Enter your guess: 9\n",
      "Go higher\n",
      "Enter your guess: 11\n",
      "You won. It took you 3 attempts to win\n",
      "11\n"
     ]
    }
   ],
   "source": [
    "import random\n",
    "number = random.randint(1, 13)\n",
    "attempts = 0\n",
    "while True:\n",
    "    guess = int(input('Enter your guess: '))\n",
    "    attempts += 1\n",
    "    if guess == number:\n",
    "        print(f'You won. It took you {attempts} attempts to win')\n",
    "        break\n",
    "    elif guess < number:\n",
    "        print('Go higher')\n",
    "    else:\n",
    "        print('Go lower')\n",
    "        \n",
    "    if attempts == 4:\n",
    "        print(f\"Sorry, you've used all your attempts. The secret number was {number}.\")\n",
    "        break\n",
    "print(guess)"
   ]
  },
  {
   "cell_type": "code",
   "execution_count": null,
   "id": "834296fb",
   "metadata": {},
   "outputs": [],
   "source": []
  }
 ],
 "metadata": {
  "kernelspec": {
   "display_name": "Python 3 (ipykernel)",
   "language": "python",
   "name": "python3"
  },
  "language_info": {
   "codemirror_mode": {
    "name": "ipython",
    "version": 3
   },
   "file_extension": ".py",
   "mimetype": "text/x-python",
   "name": "python",
   "nbconvert_exporter": "python",
   "pygments_lexer": "ipython3",
   "version": "3.11.5"
  }
 },
 "nbformat": 4,
 "nbformat_minor": 5
}
