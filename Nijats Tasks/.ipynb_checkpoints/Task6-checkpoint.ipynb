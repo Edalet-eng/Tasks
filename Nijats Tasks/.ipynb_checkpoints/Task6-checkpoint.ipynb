{
 "cells": [
  {
   "cell_type": "markdown",
   "id": "e9320453",
   "metadata": {},
   "source": [
    "Qiymet listində qiymət və valyutanı ayır.  Valyutası USD olanları 1.7-ə, valyutası EUR olanları 1.82-ə vur, AZN olanları isə olduğu kimi saxla. Hər bir qiyməti AZN-lə ifadə et.\n",
    "\n",
    "\n",
    "qiymet = ['47500 AZN', '49900 USD', '25900 USD', '305000\tAZN', '49900 AZN', '15300 EUR', '14520 USD', '2100 EUR', '23000 USD']"
   ]
  },
  {
   "cell_type": "code",
   "execution_count": 35,
   "id": "97029ea4",
   "metadata": {},
   "outputs": [
    {
     "data": {
      "text/plain": [
       "['47500.0 AZN',\n",
       " '84830.0 AZN',\n",
       " '44030.0 AZN',\n",
       " '305000.0 AZN',\n",
       " '49900.0 AZN',\n",
       " '27846.0 AZN',\n",
       " '24684.0 AZN',\n",
       " '3822.0 AZN',\n",
       " '39100.0 AZN']"
      ]
     },
     "execution_count": 35,
     "metadata": {},
     "output_type": "execute_result"
    }
   ],
   "source": [
    "qiymet = ['47500 AZN', '49900 USD', '25900 USD', '305000 AZN', '49900 AZN', '15300 EUR', '14520 USD', '2100 EUR', '23000 USD']\n",
    "\n",
    "converted = []\n",
    "\n",
    "for i in qiymet:\n",
    "    amount, currency = i.split()\n",
    "    amount = float(amount)\n",
    "    \n",
    "    if currency == 'USD':\n",
    "        amount *= 1.7\n",
    "    elif currency == 'EUR':\n",
    "        amount *= 1.82\n",
    "        \n",
    "    converted.append(f'{amount} AZN')\n",
    "converted"
   ]
  },
  {
   "cell_type": "markdown",
   "id": "919ba12e",
   "metadata": {},
   "source": [
    "----\n",
    "Yaş sütunu verilmiş listdə 60 yaşdan kiçik və 23 yaşdan böyük olan yaşları listdə saxla.\n",
    "\n",
    "age = [23,34,34,45,54,67,63,69,41,32,78,80,82,14,18,26,39,73,21,48]"
   ]
  },
  {
   "cell_type": "code",
   "execution_count": 6,
   "id": "0d3d0aac",
   "metadata": {},
   "outputs": [
    {
     "data": {
      "text/plain": [
       "[23, 34, 34, 45, 54, 63, 41, 32, 80, 14, 26, 39, 21, 48]"
      ]
     },
     "execution_count": 6,
     "metadata": {},
     "output_type": "execute_result"
    }
   ],
   "source": [
    "age = [23,34,34,45,54,67,63,69,41,32,78,80,82,14,18,26,39,73,21,48]\n",
    "for i in age:\n",
    "    if 23>i or i>60:\n",
    "        age.remove(i)\n",
    "age"
   ]
  },
  {
   "cell_type": "markdown",
   "id": "eb12c193",
   "metadata": {},
   "source": [
    "----\n",
    "Listin daxilindəki elementlər arasındakı boşluğu altdan çəkilmiş xətlə əvəzlə\n",
    "Bütün elementləri kiçik hərflə yaz\n",
    "Elementlərdə ola biləcək potensial boşluqları sil\n",
    "\n",
    "['İdentifikasiya Nömrəsi', 'Şəhər ', 'Növ', 'Marka', 'Model', 'Buraxılış İli', 'Rəng', 'Mühərrik', 'At Gücü', 'Yanacaq Növü', 'Yürüş',  'Sürət Qutusu', 'Yeni ', 'Ötürücü', 'Qiymət', 'Elan Tarixi', 'Baxış Sayı', 'Şəkil Linki ', 'Elan Linki', 'Salon Maşını ']"
   ]
  },
  {
   "cell_type": "code",
   "execution_count": 28,
   "id": "dc9cc18d",
   "metadata": {},
   "outputs": [
    {
     "name": "stdout",
     "output_type": "stream",
     "text": [
      "['i̇dentifikasiya_nömrəsi', 'şəhər', 'növ', 'marka', 'model', 'buraxılış_i̇li', 'rəng', 'mühərrik', 'at_gücü', 'yanacaq_növü', 'yürüş', 'sürət_qutusu', 'yeni', 'ötürücü', 'qiymət', 'elan_tarixi', 'baxış_sayı', 'şəkil_linki', 'elan_linki', 'salon_maşını']\n"
     ]
    }
   ],
   "source": [
    "data = ['İdentifikasiya Nömrəsi', 'Şəhər ', 'Növ', 'Marka', 'Model', 'Buraxılış İli', \n",
    "           'Rəng', 'Mühərrik', 'At Gücü', 'Yanacaq Növü', 'Yürüş', 'Sürət Qutusu', 'Yeni ',\n",
    "           'Ötürücü', 'Qiymət', 'Elan Tarixi', 'Baxış Sayı', 'Şəkil Linki ', 'Elan Linki', 'Salon Maşını ']\n",
    "\n",
    "cleaned_data = []\n",
    "\n",
    "for head in data:\n",
    "    head_bosluqsuz = head.strip()\n",
    "    head_underscore = head_bosluqsuz.replace(' ', '_')\n",
    "    lowercase = head_underscore.lower()\n",
    "    cleaned_data.append(lowercase)\n",
    "    \n",
    "print(cleaned_data)"
   ]
  },
  {
   "cell_type": "code",
   "execution_count": null,
   "id": "c5c470d4",
   "metadata": {},
   "outputs": [],
   "source": []
  }
 ],
 "metadata": {
  "kernelspec": {
   "display_name": "Python 3 (ipykernel)",
   "language": "python",
   "name": "python3"
  },
  "language_info": {
   "codemirror_mode": {
    "name": "ipython",
    "version": 3
   },
   "file_extension": ".py",
   "mimetype": "text/x-python",
   "name": "python",
   "nbconvert_exporter": "python",
   "pygments_lexer": "ipython3",
   "version": "3.11.5"
  }
 },
 "nbformat": 4,
 "nbformat_minor": 5
}
