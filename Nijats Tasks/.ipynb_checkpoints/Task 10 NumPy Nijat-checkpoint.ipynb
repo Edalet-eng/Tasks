{
 "cells": [
  {
   "cell_type": "code",
   "execution_count": 1,
   "id": "cad62507",
   "metadata": {},
   "outputs": [],
   "source": [
    "import numpy as np"
   ]
  },
  {
   "cell_type": "markdown",
   "id": "e9320453",
   "metadata": {},
   "source": [
    "2-ə bölünən dəyərlərdən ibarət (1 dən 100-ə kimi) array data strukturu yarat"
   ]
  },
  {
   "cell_type": "code",
   "execution_count": 8,
   "id": "97029ea4",
   "metadata": {},
   "outputs": [
    {
     "data": {
      "text/plain": [
       "array([  2,   4,   6,   8,  10,  12,  14,  16,  18,  20,  22,  24,  26,\n",
       "        28,  30,  32,  34,  36,  38,  40,  42,  44,  46,  48,  50,  52,\n",
       "        54,  56,  58,  60,  62,  64,  66,  68,  70,  72,  74,  76,  78,\n",
       "        80,  82,  84,  86,  88,  90,  92,  94,  96,  98, 100])"
      ]
     },
     "execution_count": 8,
     "metadata": {},
     "output_type": "execute_result"
    }
   ],
   "source": [
    "cut = np.arange(2, 101, 2)\n",
    "cut"
   ]
  },
  {
   "cell_type": "markdown",
   "id": "919ba12e",
   "metadata": {},
   "source": [
    "Yaradılan həmin array data strukturunu 5 sətir və 10 sütun halına sal"
   ]
  },
  {
   "cell_type": "code",
   "execution_count": 9,
   "id": "0d3d0aac",
   "metadata": {},
   "outputs": [
    {
     "data": {
      "text/plain": [
       "array([[  2,   4,   6,   8,  10,  12,  14,  16,  18,  20],\n",
       "       [ 22,  24,  26,  28,  30,  32,  34,  36,  38,  40],\n",
       "       [ 42,  44,  46,  48,  50,  52,  54,  56,  58,  60],\n",
       "       [ 62,  64,  66,  68,  70,  72,  74,  76,  78,  80],\n",
       "       [ 82,  84,  86,  88,  90,  92,  94,  96,  98, 100]])"
      ]
     },
     "execution_count": 9,
     "metadata": {},
     "output_type": "execute_result"
    }
   ],
   "source": [
    "cut.reshape(5, 10)"
   ]
  },
  {
   "cell_type": "markdown",
   "id": "eb12c193",
   "metadata": {},
   "source": [
    "Random rəqəmlərdən ibarət array yaradın. Daha sonra artma sırası ilə düzün"
   ]
  },
  {
   "cell_type": "code",
   "execution_count": 12,
   "id": "dc9cc18d",
   "metadata": {},
   "outputs": [
    {
     "name": "stdout",
     "output_type": "stream",
     "text": [
      "[ 0  1  4  7 10 13 19 20 20 20 22 22 32 39 42 45 46 46 49 50]\n"
     ]
    }
   ],
   "source": [
    "rand = np.random.randint(0, 51, 20)\n",
    "print(np.sort(rand))"
   ]
  },
  {
   "cell_type": "markdown",
   "id": "3dcaccde",
   "metadata": {},
   "source": [
    "Array data strukturunu düzləşdir yəni ilk yaradıldığı hala qaytar"
   ]
  },
  {
   "cell_type": "code",
   "execution_count": 15,
   "id": "d5f50c30",
   "metadata": {},
   "outputs": [
    {
     "data": {
      "text/plain": [
       "array([  2,   4,   6,   8,  10,  12,  14,  16,  18,  20,  22,  24,  26,\n",
       "        28,  30,  32,  34,  36,  38,  40,  42,  44,  46,  48,  50,  52,\n",
       "        54,  56,  58,  60,  62,  64,  66,  68,  70,  72,  74,  76,  78,\n",
       "        80,  82,  84,  86,  88,  90,  92,  94,  96,  98, 100])"
      ]
     },
     "execution_count": 15,
     "metadata": {},
     "output_type": "execute_result"
    }
   ],
   "source": [
    "cut.flatten()"
   ]
  },
  {
   "cell_type": "markdown",
   "id": "30ae63c1",
   "metadata": {},
   "source": [
    "Array-də 23-dən kiçik olanları saxla"
   ]
  },
  {
   "cell_type": "code",
   "execution_count": null,
   "id": "e906d0ec",
   "metadata": {},
   "outputs": [],
   "source": []
  },
  {
   "cell_type": "markdown",
   "id": "b73db96f",
   "metadata": {},
   "source": [
    "0-lardan ibarət olan 4 sətir və 6 sütundan ibarət array yarat"
   ]
  },
  {
   "cell_type": "code",
   "execution_count": 21,
   "id": "7b0fb534",
   "metadata": {},
   "outputs": [
    {
     "data": {
      "text/plain": [
       "array([[0., 0., 0., 0., 0., 0.],\n",
       "       [0., 0., 0., 0., 0., 0.],\n",
       "       [0., 0., 0., 0., 0., 0.],\n",
       "       [0., 0., 0., 0., 0., 0.]])"
      ]
     },
     "execution_count": 21,
     "metadata": {},
     "output_type": "execute_result"
    }
   ],
   "source": [
    "zero = np.zeros((4, 6))\n",
    "zero"
   ]
  },
  {
   "cell_type": "markdown",
   "id": "be90f8ff",
   "metadata": {},
   "source": [
    "1-lərdən ibarət olan 4 sətir və 6 sütundan ibarət array yarat"
   ]
  },
  {
   "cell_type": "code",
   "execution_count": 25,
   "id": "b345519d",
   "metadata": {},
   "outputs": [
    {
     "data": {
      "text/plain": [
       "array([[1., 1., 1., 1., 1., 1.],\n",
       "       [1., 1., 1., 1., 1., 1.],\n",
       "       [1., 1., 1., 1., 1., 1.],\n",
       "       [1., 1., 1., 1., 1., 1.]])"
      ]
     },
     "execution_count": 25,
     "metadata": {},
     "output_type": "execute_result"
    }
   ],
   "source": [
    "one = np.ones((4,6))\n",
    "one"
   ]
  },
  {
   "cell_type": "markdown",
   "id": "0db901bd",
   "metadata": {},
   "source": [
    "Hər iki array-i vertikal şəkildə birləşdir"
   ]
  },
  {
   "cell_type": "code",
   "execution_count": 27,
   "id": "93185c1d",
   "metadata": {},
   "outputs": [
    {
     "data": {
      "text/plain": [
       "array([[0., 0., 0., 0., 0., 0.],\n",
       "       [0., 0., 0., 0., 0., 0.],\n",
       "       [0., 0., 0., 0., 0., 0.],\n",
       "       [0., 0., 0., 0., 0., 0.],\n",
       "       [1., 1., 1., 1., 1., 1.],\n",
       "       [1., 1., 1., 1., 1., 1.],\n",
       "       [1., 1., 1., 1., 1., 1.],\n",
       "       [1., 1., 1., 1., 1., 1.]])"
      ]
     },
     "execution_count": 27,
     "metadata": {},
     "output_type": "execute_result"
    }
   ],
   "source": [
    "np.vstack((zero, one))"
   ]
  },
  {
   "cell_type": "markdown",
   "id": "94246d53",
   "metadata": {},
   "source": [
    "Hər iki array-i horizontal şəkildə birləşdir"
   ]
  },
  {
   "cell_type": "code",
   "execution_count": 28,
   "id": "43d756bc",
   "metadata": {},
   "outputs": [
    {
     "data": {
      "text/plain": [
       "array([[0., 0., 0., 0., 0., 0., 1., 1., 1., 1., 1., 1.],\n",
       "       [0., 0., 0., 0., 0., 0., 1., 1., 1., 1., 1., 1.],\n",
       "       [0., 0., 0., 0., 0., 0., 1., 1., 1., 1., 1., 1.],\n",
       "       [0., 0., 0., 0., 0., 0., 1., 1., 1., 1., 1., 1.]])"
      ]
     },
     "execution_count": 28,
     "metadata": {},
     "output_type": "execute_result"
    }
   ],
   "source": [
    "np.hstack((zero, one))"
   ]
  },
  {
   "cell_type": "markdown",
   "id": "a7d0656e",
   "metadata": {},
   "source": [
    "Dəyərləri 1-dən 25-ə kimi (24 daxildir) 5 sətir və 5 sütundan ibarət array yarat"
   ]
  },
  {
   "cell_type": "code",
   "execution_count": 56,
   "id": "5fa9ef00",
   "metadata": {},
   "outputs": [
    {
     "data": {
      "text/plain": [
       "array([[ 1,  2,  3,  4,  5],\n",
       "       [ 6,  7,  8,  9, 10],\n",
       "       [11, 12, 13, 14, 15],\n",
       "       [16, 17, 18, 19, 20],\n",
       "       [21, 22, 23, 24, 25]])"
      ]
     },
     "execution_count": 56,
     "metadata": {},
     "output_type": "execute_result"
    }
   ],
   "source": [
    "a = np.arange(1, 26)\n",
    "a = a.reshape(5, 5)\n",
    "a"
   ]
  },
  {
   "cell_type": "markdown",
   "id": "2ec6e6ee",
   "metadata": {},
   "source": [
    "Array-də ilk sətirin sonuncu dəyərini və son sətrin ilk dəyərini filterlə"
   ]
  },
  {
   "cell_type": "code",
   "execution_count": 50,
   "id": "02ebdb93",
   "metadata": {},
   "outputs": [
    {
     "data": {
      "text/plain": [
       "(5, 21)"
      ]
     },
     "execution_count": 50,
     "metadata": {},
     "output_type": "execute_result"
    }
   ],
   "source": [
    "a[0, -1], a[-1, 0]"
   ]
  },
  {
   "cell_type": "markdown",
   "id": "49771b82",
   "metadata": {},
   "source": [
    "Array-də bütün sətirlərin və 3-cü və 4-cü dəyərlərini filterlə"
   ]
  },
  {
   "cell_type": "code",
   "execution_count": 51,
   "id": "75752349",
   "metadata": {},
   "outputs": [
    {
     "name": "stdout",
     "output_type": "stream",
     "text": [
      "[3, 8, 13, 18, 23]\n"
     ]
    }
   ],
   "source": [
    "filt = []\n",
    "for rows in a:\n",
    "    filt.append(rows[2])\n",
    "    \n",
    "print(filt)"
   ]
  },
  {
   "cell_type": "markdown",
   "id": "7a04e151",
   "metadata": {},
   "source": [
    "Array-də maksimum dəyəri göstər"
   ]
  },
  {
   "cell_type": "code",
   "execution_count": 52,
   "id": "b80595a8",
   "metadata": {},
   "outputs": [
    {
     "data": {
      "text/plain": [
       "25"
      ]
     },
     "execution_count": 52,
     "metadata": {},
     "output_type": "execute_result"
    }
   ],
   "source": [
    "np.max(a)"
   ]
  },
  {
   "cell_type": "code",
   "execution_count": 60,
   "id": "6225e7b6",
   "metadata": {
    "scrolled": true
   },
   "outputs": [
    {
     "data": {
      "text/plain": [
       "25"
      ]
     },
     "execution_count": 60,
     "metadata": {},
     "output_type": "execute_result"
    }
   ],
   "source": [
    "def mak(a):\n",
    "    a = a.flatten()\n",
    "    m = a[0]\n",
    "    for i in range(len(a)):\n",
    "        if a[i] > m:\n",
    "            m = a[i]\n",
    "    return m\n",
    "mak(a)"
   ]
  },
  {
   "cell_type": "markdown",
   "id": "2064f40f",
   "metadata": {},
   "source": [
    "Array-də ortalama dəyəri göstər"
   ]
  },
  {
   "cell_type": "code",
   "execution_count": 61,
   "id": "e2f2fbc3",
   "metadata": {},
   "outputs": [
    {
     "data": {
      "text/plain": [
       "13.0"
      ]
     },
     "execution_count": 61,
     "metadata": {},
     "output_type": "execute_result"
    }
   ],
   "source": [
    "np.mean(a)"
   ]
  },
  {
   "cell_type": "markdown",
   "id": "8144088d",
   "metadata": {},
   "source": [
    "Array-də median dəyəri göstər"
   ]
  },
  {
   "cell_type": "code",
   "execution_count": 63,
   "id": "5b896dd7",
   "metadata": {},
   "outputs": [
    {
     "data": {
      "text/plain": [
       "13.0"
      ]
     },
     "execution_count": 63,
     "metadata": {},
     "output_type": "execute_result"
    }
   ],
   "source": [
    "np.median(a)"
   ]
  },
  {
   "cell_type": "markdown",
   "id": "e36353a9",
   "metadata": {},
   "source": [
    "Bu array-də minimum dəyərin indeksini göstər"
   ]
  },
  {
   "cell_type": "code",
   "execution_count": 67,
   "id": "cbf68e99",
   "metadata": {},
   "outputs": [
    {
     "data": {
      "text/plain": [
       "0"
      ]
     },
     "execution_count": 67,
     "metadata": {},
     "output_type": "execute_result"
    }
   ],
   "source": [
    "np.argmin(a)"
   ]
  },
  {
   "cell_type": "markdown",
   "id": "2479f297",
   "metadata": {},
   "source": [
    "Bu array-də maksimum dəyərin indeksini göstər"
   ]
  },
  {
   "cell_type": "code",
   "execution_count": 68,
   "id": "af317195",
   "metadata": {},
   "outputs": [
    {
     "data": {
      "text/plain": [
       "24"
      ]
     },
     "execution_count": 68,
     "metadata": {},
     "output_type": "execute_result"
    }
   ],
   "source": [
    "np.argmax(a)"
   ]
  },
  {
   "cell_type": "markdown",
   "id": "62edbd04",
   "metadata": {},
   "source": [
    "adlardan ibarət olan array yarat"
   ]
  },
  {
   "cell_type": "code",
   "execution_count": 71,
   "id": "8d4e3eb7",
   "metadata": {},
   "outputs": [
    {
     "data": {
      "text/plain": [
       "array(['nicat', 'esmer', 'xeyale', 'fuad'], dtype='<U6')"
      ]
     },
     "execution_count": 71,
     "metadata": {},
     "output_type": "execute_result"
    }
   ],
   "source": [
    "adlar = np.array(['nicat', 'esmer', 'xeyale', 'fuad'])\n",
    "adlar"
   ]
  },
  {
   "cell_type": "markdown",
   "id": "d267796c",
   "metadata": {},
   "source": [
    "bu arraydaki adları əlifba sırası ilə düz"
   ]
  },
  {
   "cell_type": "code",
   "execution_count": 72,
   "id": "1a10251d",
   "metadata": {},
   "outputs": [
    {
     "data": {
      "text/plain": [
       "array(['esmer', 'fuad', 'nicat', 'xeyale'], dtype='<U6')"
      ]
     },
     "execution_count": 72,
     "metadata": {},
     "output_type": "execute_result"
    }
   ],
   "source": [
    "np.sort(adlar)"
   ]
  },
  {
   "cell_type": "markdown",
   "id": "ee6c2295",
   "metadata": {},
   "source": [
    "Array-də olan bütün adların ilk hərfini böyük saxla qalan hərfləri kiçilt"
   ]
  },
  {
   "cell_type": "code",
   "execution_count": 74,
   "id": "a2ddb990",
   "metadata": {},
   "outputs": [
    {
     "ename": "AttributeError",
     "evalue": "module 'numpy' has no attribute 'title'",
     "output_type": "error",
     "traceback": [
      "\u001b[1;31m---------------------------------------------------------------------------\u001b[0m",
      "\u001b[1;31mAttributeError\u001b[0m                            Traceback (most recent call last)",
      "Cell \u001b[1;32mIn[74], line 1\u001b[0m\n\u001b[1;32m----> 1\u001b[0m np\u001b[38;5;241m.\u001b[39mtitle(a)\n",
      "File \u001b[1;32mC:\\ProgramData\\anaconda3\\Lib\\site-packages\\numpy\\__init__.py:320\u001b[0m, in \u001b[0;36m__getattr__\u001b[1;34m(attr)\u001b[0m\n\u001b[0;32m    317\u001b[0m     \u001b[38;5;28;01mfrom\u001b[39;00m \u001b[38;5;21;01m.\u001b[39;00m\u001b[38;5;21;01mtesting\u001b[39;00m \u001b[38;5;28;01mimport\u001b[39;00m Tester\n\u001b[0;32m    318\u001b[0m     \u001b[38;5;28;01mreturn\u001b[39;00m Tester\n\u001b[1;32m--> 320\u001b[0m \u001b[38;5;28;01mraise\u001b[39;00m \u001b[38;5;167;01mAttributeError\u001b[39;00m(\u001b[38;5;124m\"\u001b[39m\u001b[38;5;124mmodule \u001b[39m\u001b[38;5;132;01m{!r}\u001b[39;00m\u001b[38;5;124m has no attribute \u001b[39m\u001b[38;5;124m\"\u001b[39m\n\u001b[0;32m    321\u001b[0m                      \u001b[38;5;124m\"\u001b[39m\u001b[38;5;132;01m{!r}\u001b[39;00m\u001b[38;5;124m\"\u001b[39m\u001b[38;5;241m.\u001b[39mformat(\u001b[38;5;18m__name__\u001b[39m, attr))\n",
      "\u001b[1;31mAttributeError\u001b[0m: module 'numpy' has no attribute 'title'"
     ]
    }
   ],
   "source": [
    "npsrtings.cap"
   ]
  },
  {
   "cell_type": "markdown",
   "id": "ad54364a",
   "metadata": {},
   "source": [
    "A hərfi ilə başlayan adları sil"
   ]
  },
  {
   "cell_type": "code",
   "execution_count": null,
   "id": "3c0e6287",
   "metadata": {},
   "outputs": [],
   "source": []
  },
  {
   "cell_type": "markdown",
   "id": "fc5c9232",
   "metadata": {},
   "source": [
    "t hərfi ilə bitən adları sil"
   ]
  },
  {
   "cell_type": "code",
   "execution_count": null,
   "id": "867f8fde",
   "metadata": {},
   "outputs": [],
   "source": []
  },
  {
   "cell_type": "markdown",
   "id": "32abb58a",
   "metadata": {},
   "source": [
    "\n",
    "Create a list of 1000 random numbers and using filter function remove all not perfect numbers. A perfect number is a number that is equal to the sum of its divisors(excluding itself).\n",
    "\n",
    "6 = 1 + 2 + 3"
   ]
  },
  {
   "cell_type": "code",
   "execution_count": null,
   "id": "99994281",
   "metadata": {},
   "outputs": [],
   "source": []
  },
  {
   "cell_type": "markdown",
   "id": "0154ae5d",
   "metadata": {},
   "source": [
    "Using filter function remove all special characters (., !, &, etc.) from a string."
   ]
  },
  {
   "cell_type": "code",
   "execution_count": null,
   "id": "3798171d",
   "metadata": {},
   "outputs": [],
   "source": []
  }
 ],
 "metadata": {
  "kernelspec": {
   "display_name": "Python 3 (ipykernel)",
   "language": "python",
   "name": "python3"
  },
  "language_info": {
   "codemirror_mode": {
    "name": "ipython",
    "version": 3
   },
   "file_extension": ".py",
   "mimetype": "text/x-python",
   "name": "python",
   "nbconvert_exporter": "python",
   "pygments_lexer": "ipython3",
   "version": "3.11.5"
  }
 },
 "nbformat": 4,
 "nbformat_minor": 5
}
