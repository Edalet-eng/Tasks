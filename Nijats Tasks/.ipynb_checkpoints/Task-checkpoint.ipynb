{
 "cells": [
  {
   "cell_type": "code",
   "execution_count": 1,
   "id": "86cd30d6",
   "metadata": {},
   "outputs": [],
   "source": [
    "# Lazım olan kitabxanalar\n",
    "import matplotlib.pyplot as plt\n",
    "import scipy.stats as stats\n",
    "import seaborn as sns\n",
    "import pandas as pd\n",
    "import numpy as np \n",
    "import datetime\n",
    "import warnings"
   ]
  },
  {
   "cell_type": "code",
   "execution_count": 2,
   "id": "25146df6",
   "metadata": {},
   "outputs": [],
   "source": [
    "# Datasetin yüklənməsi\n",
    "data = pd.read_csv('turbo.csv')"
   ]
  },
  {
   "cell_type": "markdown",
   "id": "f84a3264",
   "metadata": {},
   "source": [
    "Sütun adları arasındakı boşluğu altdan çəkilmiş xətlə əvəzlə\n",
    "Bütün sütun adlarını kiçilt\n",
    "Sütun adlarında ola biləcək potensial boşluqları sil\n",
    "İlk beş sətiri göstər"
   ]
  },
  {
   "cell_type": "code",
   "execution_count": 4,
   "id": "ead0fc1c",
   "metadata": {},
   "outputs": [
    {
     "data": {
      "text/plain": [
       "Index(['Satici', 'Avtosalon', 'Telefonlar', 'Qiymet', 'Valyuta', 'Şəhər',\n",
       "       'Marka', 'Model', 'Buraxılış ili', 'Ban növü', 'Rəng', 'Mühərrik',\n",
       "       'Yürüş', 'Sürətlər qutusu', 'Ötürücü', 'Yeni', 'Vəziyyəti', 'Yeniləndi',\n",
       "       'Baxışların sayı', 'Extra', 'Etrafli', 'Url', 'Sahiblər',\n",
       "       'Yerlərin sayı', 'Hansı bazar üçün yığılıb'],\n",
       "      dtype='object')"
      ]
     },
     "execution_count": 4,
     "metadata": {},
     "output_type": "execute_result"
    }
   ],
   "source": [
    "data.columns"
   ]
  },
  {
   "cell_type": "markdown",
   "id": "4f850d4d",
   "metadata": {},
   "source": [
    "Satici,Telefonlar,Ötürücü,Baxışların_sayı,url,Sahiblər,Extra,Etrafli,Yeni,Yeniləndi,Hansı bazar üçün,Yerlərin_sayı sütunlarını datasetdən sil."
   ]
  },
  {
   "cell_type": "code",
   "execution_count": null,
   "id": "15b59db7",
   "metadata": {},
   "outputs": [],
   "source": []
  },
  {
   "cell_type": "markdown",
   "id": "001771ca",
   "metadata": {},
   "source": [
    "Mühərrik sütununu parçala(mühərrik həcmi, mühərrik gücü, yanacaq növü) sütunlarına ayır."
   ]
  },
  {
   "cell_type": "code",
   "execution_count": null,
   "id": "a31d7a87",
   "metadata": {},
   "outputs": [],
   "source": []
  },
  {
   "cell_type": "markdown",
   "id": "cc047a7a",
   "metadata": {},
   "source": [
    "mühərrik sütunununda L-i sil\n",
    "at_gücü sütunununda a.g-i sil\n",
    "yürüş sütunununda km-i sil"
   ]
  },
  {
   "cell_type": "code",
   "execution_count": null,
   "id": "fe33d544",
   "metadata": {},
   "outputs": [],
   "source": []
  },
  {
   "cell_type": "markdown",
   "id": "859a0778",
   "metadata": {},
   "source": [
    "mühərrik sütununun data növünü float data növünə dəyiş\n",
    "at_gücü və yürüş sütunlarının data növünü int data növünə dəyiş"
   ]
  },
  {
   "cell_type": "code",
   "execution_count": null,
   "id": "2ba10e31",
   "metadata": {},
   "outputs": [],
   "source": []
  },
  {
   "cell_type": "markdown",
   "id": "8d43bbcc",
   "metadata": {},
   "source": [
    "Cari ildən buraxılış_ili sütununun dəyərlərini çixib yaş sütunu yarat"
   ]
  },
  {
   "cell_type": "code",
   "execution_count": null,
   "id": "4bcc5008",
   "metadata": {},
   "outputs": [],
   "source": []
  },
  {
   "cell_type": "markdown",
   "id": "3ed4e8d7",
   "metadata": {},
   "source": [
    "convert_currency funksiyası yaradaraq avro və dollar valyutalı qiymətləri manat valyutalı qiymətlərə çevir. Avro valyutalı qiymətləri 1.81-ə dollar valyutalı qiymətləri isə 1.7-ə vur, AZN, $, € simvollarını sil və qiymət sütununun data növünü integer data növünə çevir"
   ]
  },
  {
   "cell_type": "code",
   "execution_count": null,
   "id": "f76e7896",
   "metadata": {},
   "outputs": [],
   "source": []
  },
  {
   "cell_type": "markdown",
   "id": "111fe481",
   "metadata": {},
   "source": [
    "Avtosalon sütununda 0-ları False-la 1-ləri True ilə əvəzləyin"
   ]
  },
  {
   "cell_type": "code",
   "execution_count": null,
   "id": "2544d794",
   "metadata": {},
   "outputs": [],
   "source": []
  },
  {
   "cell_type": "markdown",
   "id": "c5597250",
   "metadata": {},
   "source": [
    " şəhər sütununun dəyərləri Bakı olmayan dəyərlərin hamısını Digər ilə əvəzlə"
   ]
  },
  {
   "cell_type": "code",
   "execution_count": null,
   "id": "c46a18bc",
   "metadata": {},
   "outputs": [],
   "source": []
  },
  {
   "cell_type": "markdown",
   "id": "2e19cf1d",
   "metadata": {},
   "source": [
    "4 yeni sütun yarat.\n",
    "elan_ili - Elanının qoyulduğu il\n",
    "elan_ayı - Elanının qoyulduğu ay\n",
    "elan_günü - Elanının qoyulduğu ayın gün\n",
    "elan_həftə_günü - Elanının qoyulduğu həftə günü\n",
    "elan_tarixi sütununu isə datasetdən çıxart"
   ]
  },
  {
   "cell_type": "code",
   "execution_count": null,
   "id": "961df553",
   "metadata": {},
   "outputs": [],
   "source": []
  },
  {
   "cell_type": "markdown",
   "id": "4463c50f",
   "metadata": {},
   "source": [
    "qiymət_kateqoriyası və qiymət_faizi sütunlarını yarat. qiymət_kateqoriyası sütunu üçün bu intervaldan və kateqoriyalardan istifadə et.\n",
    "Bins = [0, 10000, 30000, 50000, 150000, 300000, qiymət sütununun maksimum dəyəri]\n",
    "\n",
    "Labels = ['Çox Ucuz', 'Ucuz', 'Normal', 'Bahalı', 'Çox Bahalı', 'Lyüks']"
   ]
  },
  {
   "cell_type": "code",
   "execution_count": null,
   "id": "70cb364e",
   "metadata": {},
   "outputs": [],
   "source": []
  },
  {
   "cell_type": "markdown",
   "id": "3251a70e",
   "metadata": {},
   "source": [
    "Asılı olmayan dəyişənlər arasıdakı korrelasiyanı correlation_df adlı DataFrame data strukturunda göstər"
   ]
  },
  {
   "cell_type": "code",
   "execution_count": null,
   "id": "f42a4780",
   "metadata": {},
   "outputs": [],
   "source": []
  },
  {
   "cell_type": "markdown",
   "id": "c3ae2b29",
   "metadata": {},
   "source": [
    "Asılı olmayan dəyişənlər arasıdakı korrelasiyanı heatmap ilə vizuallaşdır"
   ]
  },
  {
   "cell_type": "code",
   "execution_count": null,
   "id": "806e8623",
   "metadata": {},
   "outputs": [],
   "source": []
  },
  {
   "cell_type": "markdown",
   "id": "e34b2637",
   "metadata": {},
   "source": [
    "Boş xanaları tapın göstərin"
   ]
  },
  {
   "cell_type": "code",
   "execution_count": null,
   "id": "c6009aac",
   "metadata": {},
   "outputs": [],
   "source": []
  },
  {
   "cell_type": "markdown",
   "id": "443d8693",
   "metadata": {},
   "source": [
    "Boş xanaları doldurun."
   ]
  },
  {
   "cell_type": "code",
   "execution_count": null,
   "id": "bf811bf4",
   "metadata": {},
   "outputs": [],
   "source": []
  },
  {
   "cell_type": "markdown",
   "id": "b9d525fe",
   "metadata": {},
   "source": [
    "Duplicat dəyərləri tapın və doldurun"
   ]
  },
  {
   "cell_type": "code",
   "execution_count": null,
   "id": "a4960f99",
   "metadata": {},
   "outputs": [],
   "source": []
  },
  {
   "cell_type": "markdown",
   "id": "62b78fdd",
   "metadata": {},
   "source": [
    "Qiymət sütununda ən yüksək 10 sətri göstərin"
   ]
  },
  {
   "cell_type": "code",
   "execution_count": null,
   "id": "7b641935",
   "metadata": {},
   "outputs": [],
   "source": []
  },
  {
   "cell_type": "markdown",
   "id": "7dfcc509",
   "metadata": {},
   "source": [
    "Ötürücü sütununda Unikal dəyərlərə baxın"
   ]
  },
  {
   "cell_type": "code",
   "execution_count": null,
   "id": "4d8d670b",
   "metadata": {},
   "outputs": [],
   "source": []
  },
  {
   "cell_type": "markdown",
   "id": "09a28100",
   "metadata": {},
   "source": [
    "Marka sütununda Unikal dəyər sayın göstərin"
   ]
  },
  {
   "cell_type": "code",
   "execution_count": null,
   "id": "3431e296",
   "metadata": {},
   "outputs": [],
   "source": []
  },
  {
   "cell_type": "markdown",
   "id": "f0288454",
   "metadata": {},
   "source": [
    "Mercedes markalı 5 maşını göstərin"
   ]
  },
  {
   "cell_type": "code",
   "execution_count": null,
   "id": "c5ed80c6",
   "metadata": {},
   "outputs": [],
   "source": []
  },
  {
   "cell_type": "markdown",
   "id": "bd355e8e",
   "metadata": {},
   "source": [
    "Markası Chevrolet modeli Cruz olan avtomobilləri göstərin"
   ]
  },
  {
   "cell_type": "code",
   "execution_count": null,
   "id": "7d613132",
   "metadata": {},
   "outputs": [],
   "source": []
  },
  {
   "cell_type": "markdown",
   "id": "c474799a",
   "metadata": {},
   "source": [
    "Qiyməti 100000-200000 olan maşınları göstərin"
   ]
  },
  {
   "cell_type": "code",
   "execution_count": null,
   "id": "1aa0cd09",
   "metadata": {},
   "outputs": [],
   "source": []
  }
 ],
 "metadata": {
  "kernelspec": {
   "display_name": "Python 3 (ipykernel)",
   "language": "python",
   "name": "python3"
  },
  "language_info": {
   "codemirror_mode": {
    "name": "ipython",
    "version": 3
   },
   "file_extension": ".py",
   "mimetype": "text/x-python",
   "name": "python",
   "nbconvert_exporter": "python",
   "pygments_lexer": "ipython3",
   "version": "3.11.5"
  }
 },
 "nbformat": 4,
 "nbformat_minor": 5
}
