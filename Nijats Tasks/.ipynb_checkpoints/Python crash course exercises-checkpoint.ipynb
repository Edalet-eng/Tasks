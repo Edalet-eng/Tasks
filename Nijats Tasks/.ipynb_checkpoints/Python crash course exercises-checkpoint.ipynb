{
 "cells": [
  {
   "cell_type": "markdown",
   "id": "116d2fa0",
   "metadata": {},
   "source": [
    "## Tapsiriqlar icinde for, if/else conditionlariteleb eden tasklar var. bezi tasklar 5 dqnizi, bezi tasklar fasilesiz 1 saatinizi ala biler.\n",
    "----"
   ]
  },
  {
   "cell_type": "markdown",
   "id": "164c3871",
   "metadata": {},
   "source": [
    "Write an if-elif-else chain that determines a person’s\n",
    "stage of life. **User should enter his/her age**, and then:\n",
    "\n",
    "- If the person is less than 2 years old, print a message that the person is a baby. \n",
    "\n",
    "- If the person is at least 2 years old but less than 4, print a message that the person is a toddler.\n",
    "\n",
    "- If the person is at least 4 years old but less than 13, print a message that the person is a kid.\n",
    "\n",
    "- If the person is at least 13 years old but less than 20, print a message that the person is a teenager.\n",
    "\n",
    "- If the person is at least 20 years old but less than 65, print a message that the person is an adult.\n",
    "\n",
    "- If the person is age 65 or older, print a message that the person is an elder."
   ]
  },
  {
   "cell_type": "code",
   "execution_count": 5,
   "id": "d4caea9c",
   "metadata": {},
   "outputs": [
    {
     "name": "stdout",
     "output_type": "stream",
     "text": [
      "Enter your age: 5\n",
      "you are a kid\n"
     ]
    }
   ],
   "source": [
    "age = int(input('Enter your age: '))\n",
    "if age <= 2:\n",
    "    print('You are a baby!')\n",
    "elif 2 < age <= 4:\n",
    "    print('you are a toddler')\n",
    "elif 4 < age <= 13:\n",
    "    print('you are a kid')\n",
    "elif 13 < age <= 20:\n",
    "    print('you are a teenager')\n",
    "elif 20 < age <= 65:\n",
    "    print('you are an adult')\n",
    "elif age >65:\n",
    "    print('you are an elder')\n",
    "else:\n",
    "    print('not right format entered!')"
   ]
  },
  {
   "cell_type": "code",
   "execution_count": null,
   "id": "7f1b4af9",
   "metadata": {},
   "outputs": [],
   "source": []
  },
  {
   "cell_type": "markdown",
   "id": "f62af81d",
   "metadata": {},
   "source": [
    "----\n",
    "Do the following to create a program that simulates how websites ensure that everyone has a unique username.\n",
    "\n",
    "- Make a list of 3 or more usernames called current_users.\n",
    "- Make another list of 3 usernames called new_users. Make sure one or two of the new usernames are *also in the current_users list*.\n",
    "- Loop through the new_users list to see if each new username has already been used. If it has, print a message that the person will need to enter a new username. If a username has not been used, print a message saying that the username is available."
   ]
  },
  {
   "cell_type": "code",
   "execution_count": 7,
   "id": "bc548c5f",
   "metadata": {},
   "outputs": [
    {
     "name": "stdout",
     "output_type": "stream",
     "text": [
      "xeyale, your username has used before!\n",
      "fuad, your username is available!\n",
      "edalet, your username is available!\n"
     ]
    }
   ],
   "source": [
    "current_users = ['nicat', 'esmer', 'xeyale']\n",
    "new_users = ['xeyale', 'fuad', 'edalet']\n",
    "\n",
    "for user in new_users:\n",
    "    if user in current_users:\n",
    "        print(f'{user}, your username has used before!')\n",
    "    else:\n",
    "        print(f'{user}, your username is available!')"
   ]
  },
  {
   "cell_type": "code",
   "execution_count": null,
   "id": "c18c73f9",
   "metadata": {},
   "outputs": [],
   "source": []
  },
  {
   "cell_type": "markdown",
   "id": "79116d57",
   "metadata": {},
   "source": [
    "Do the task above, but make it case sensitive -> Make sure your comparison is case insensitive. If 'John' has been used, 'JOHN' should not be accepted.\n",
    "<br/>\n",
    "- .title() - stringde **her sozun** ancaq ilk herfini boyudur\n",
    "- .upper() - stringin butun herflerini boyudur\n",
    "- .lower() - stringin butun herflerini kicildir"
   ]
  },
  {
   "cell_type": "code",
   "execution_count": 8,
   "id": "dc809fda",
   "metadata": {},
   "outputs": [
    {
     "name": "stdout",
     "output_type": "stream",
     "text": [
      "Xeyale, your username has used before!\n",
      "fuad, your username is available!\n",
      "edalet, your username is available!\n"
     ]
    }
   ],
   "source": [
    "new_users = ['Xeyale', 'fuad', 'edalet']\n",
    "\n",
    "for user in new_users:\n",
    "    if user.lower() in current_users:\n",
    "        print(f'{user}, your username has used before!')\n",
    "    else:\n",
    "        print(f'{user}, your username is available!')"
   ]
  },
  {
   "cell_type": "code",
   "execution_count": null,
   "id": "42c229ca",
   "metadata": {},
   "outputs": [],
   "source": []
  },
  {
   "cell_type": "markdown",
   "id": "4c5ecaca",
   "metadata": {},
   "source": [
    "----\n",
    "Think of at least three kinds of your favorite pizza. Store these pizza names in a list, and then use a for loop to print the name of each pizza.\n",
    "\n",
    "- Modify your for loop to print a sentence using the name of the pizza instead of printing just the name of the pizza. For each pizza you should have one line of output containing a simple statement like **I like pepperoni pizza.**\n",
    "- Add a line at the end of your program, outside the for loop, that states how much you like pizza. The output should consist of three or more lines about the kinds of pizza you like and then an additional sentence, such as **I really love pizza!**"
   ]
  },
  {
   "cell_type": "code",
   "execution_count": 10,
   "id": "f4f7d525",
   "metadata": {},
   "outputs": [
    {
     "name": "stdout",
     "output_type": "stream",
     "text": [
      "ranch\n",
      "pepperoni\n",
      "chicken\n"
     ]
    }
   ],
   "source": [
    "pizzas = ['ranch', 'pepperoni', 'chicken']\n",
    "\n",
    "for i in pizzas:\n",
    "    print(i)"
   ]
  },
  {
   "cell_type": "code",
   "execution_count": null,
   "id": "00a29d7c",
   "metadata": {},
   "outputs": [],
   "source": []
  },
  {
   "cell_type": "markdown",
   "id": "4b716273",
   "metadata": {},
   "source": [
    "----\n",
    "Think of at least three different animals that have a common characteristic. Store the names of these animals in a list, and then use a for loop to print out the name of each animal.\n",
    "- Modify your program to print a statement about each animal, such as **A dog would make a great pet.**\n"
   ]
  },
  {
   "cell_type": "code",
   "execution_count": 14,
   "id": "2232cabc",
   "metadata": {},
   "outputs": [
    {
     "name": "stdout",
     "output_type": "stream",
     "text": [
      "the cat is very cute\n",
      "a dog would make a great pet\n",
      "Lion is wild!\n"
     ]
    }
   ],
   "source": [
    "animals = ['cat', 'dog', 'lion']\n",
    "\n",
    "for animal in animals:\n",
    "    if animal == 'cat':\n",
    "        print('the cat is very cute')\n",
    "    elif animal == 'dog':\n",
    "        print('a dog would make a great pet')\n",
    "    else:\n",
    "        print('Lion is wild!')"
   ]
  },
  {
   "cell_type": "code",
   "execution_count": null,
   "id": "bead12ab",
   "metadata": {},
   "outputs": [],
   "source": []
  },
  {
   "cell_type": "markdown",
   "id": "691386ca",
   "metadata": {},
   "source": [
    "----\n",
    "Use a for loop to print the numbers from 1 to 20, inclusive. (20 de daxil olmaqla 1den 20-ye qeder reqemleri cap et)"
   ]
  },
  {
   "cell_type": "code",
   "execution_count": 15,
   "id": "21903716",
   "metadata": {},
   "outputs": [
    {
     "data": {
      "text/plain": [
       "210"
      ]
     },
     "execution_count": 15,
     "metadata": {},
     "output_type": "execute_result"
    }
   ],
   "source": [
    "cem = 0\n",
    "for i in range(1, 21):\n",
    "    cem += i\n",
    "cem"
   ]
  },
  {
   "cell_type": "code",
   "execution_count": null,
   "id": "ced40f34",
   "metadata": {},
   "outputs": [],
   "source": []
  },
  {
   "cell_type": "markdown",
   "id": "bf391972",
   "metadata": {},
   "source": [
    "----\n",
    "Use the third argument of the range() function to make a list\n",
    "of the odd numbers from 1 to 20. Use a for loop to print each number. odd - tek reqem"
   ]
  },
  {
   "cell_type": "code",
   "execution_count": 19,
   "id": "6b85d692",
   "metadata": {},
   "outputs": [
    {
     "name": "stdout",
     "output_type": "stream",
     "text": [
      "1\n",
      "3\n",
      "5\n",
      "7\n",
      "9\n",
      "11\n",
      "13\n",
      "15\n",
      "17\n",
      "19\n"
     ]
    }
   ],
   "source": [
    "for i in range(1,20,2):\n",
    "    print(i)"
   ]
  },
  {
   "cell_type": "code",
   "execution_count": null,
   "id": "bdadee36",
   "metadata": {},
   "outputs": [],
   "source": []
  },
  {
   "cell_type": "markdown",
   "id": "b9400ba9",
   "metadata": {},
   "source": [
    "----\n",
    "User bir eded girsin, o edede qeder olan butun ededlerin cemini tap. sum() istifade etmek olmaz"
   ]
  },
  {
   "cell_type": "code",
   "execution_count": 24,
   "id": "4ec66aef",
   "metadata": {},
   "outputs": [
    {
     "name": "stdout",
     "output_type": "stream",
     "text": [
      "add a num: 45\n"
     ]
    },
    {
     "data": {
      "text/plain": [
       "990"
      ]
     },
     "execution_count": 24,
     "metadata": {},
     "output_type": "execute_result"
    }
   ],
   "source": [
    "total = 0\n",
    "num = int(input('add a num: '))\n",
    "for i in range(num):\n",
    "    total += i\n",
    "total"
   ]
  },
  {
   "cell_type": "code",
   "execution_count": null,
   "id": "2caf1551",
   "metadata": {},
   "outputs": [],
   "source": []
  },
  {
   "cell_type": "markdown",
   "id": "92858332",
   "metadata": {},
   "source": [
    "----\n",
    "User bir eded girsin, o edede qeder olan butun ededlerin hasilini (faktorial) tap."
   ]
  },
  {
   "cell_type": "code",
   "execution_count": 26,
   "id": "a44e5a55",
   "metadata": {},
   "outputs": [
    {
     "name": "stdout",
     "output_type": "stream",
     "text": [
      "add a num: 3\n"
     ]
    },
    {
     "data": {
      "text/plain": [
       "6"
      ]
     },
     "execution_count": 26,
     "metadata": {},
     "output_type": "execute_result"
    }
   ],
   "source": [
    "fact = 1\n",
    "num = int(input('add a num: '))\n",
    "for i in range(1, num+1):\n",
    "    fact *= i\n",
    "fact"
   ]
  },
  {
   "cell_type": "code",
   "execution_count": null,
   "id": "d0dc4cab",
   "metadata": {},
   "outputs": [],
   "source": []
  },
  {
   "cell_type": "markdown",
   "id": "70e2519b",
   "metadata": {},
   "source": [
    "----\n",
    "Qarisiq elementlerden ibaret bir list yaradin, listin icinde olan deyerlerin 'data tipini' gostersin.\n",
    "\n",
    "\n",
    "list = [5, 'salam', True]\n",
    "\n",
    "output: class int, class str, class bool"
   ]
  },
  {
   "cell_type": "code",
   "execution_count": 28,
   "id": "05ae46ee",
   "metadata": {},
   "outputs": [
    {
     "name": "stdout",
     "output_type": "stream",
     "text": [
      "<class 'int'>\n",
      "<class 'str'>\n",
      "<class 'bool'>\n",
      "<class 'str'>\n",
      "<class 'float'>\n",
      "<class 'int'>\n",
      "<class 'list'>\n"
     ]
    }
   ],
   "source": [
    "listim = [5, 'salam', True, 'nicat', 9.54, -8, ['hello', 3.8]]\n",
    "\n",
    "for i in listim:\n",
    "    print(type(i))"
   ]
  },
  {
   "cell_type": "code",
   "execution_count": null,
   "id": "49c878a5",
   "metadata": {},
   "outputs": [],
   "source": []
  },
  {
   "cell_type": "markdown",
   "id": "86c1add5",
   "metadata": {},
   "source": [
    "----\n",
    "Asagida meyveler adli tuplenin, ilk elementinin yerine sevdiyin meyveni qeyd ele. qabagina cixan neticeni arasdir"
   ]
  },
  {
   "cell_type": "code",
   "execution_count": 29,
   "id": "6dc1df69",
   "metadata": {},
   "outputs": [
    {
     "ename": "TypeError",
     "evalue": "'tuple' object does not support item assignment",
     "output_type": "error",
     "traceback": [
      "\u001b[1;31m---------------------------------------------------------------------------\u001b[0m",
      "\u001b[1;31mTypeError\u001b[0m                                 Traceback (most recent call last)",
      "Cell \u001b[1;32mIn[29], line 2\u001b[0m\n\u001b[0;32m      1\u001b[0m meyveler \u001b[38;5;241m=\u001b[39m (\u001b[38;5;124m\"\u001b[39m\u001b[38;5;124malma\u001b[39m\u001b[38;5;124m\"\u001b[39m, \u001b[38;5;124m\"\u001b[39m\u001b[38;5;124mbanan\u001b[39m\u001b[38;5;124m\"\u001b[39m, \u001b[38;5;124m\"\u001b[39m\u001b[38;5;124mgilas\u001b[39m\u001b[38;5;124m\"\u001b[39m)\n\u001b[1;32m----> 2\u001b[0m meyveler[\u001b[38;5;241m0\u001b[39m] \u001b[38;5;241m=\u001b[39m \u001b[38;5;124m'\u001b[39m\u001b[38;5;124mciyelek\u001b[39m\u001b[38;5;124m'\u001b[39m\n",
      "\u001b[1;31mTypeError\u001b[0m: 'tuple' object does not support item assignment"
     ]
    }
   ],
   "source": [
    "meyveler = (\"alma\", \"banan\", \"gilas\")\n",
    "meyveler[0] = 'ciyelek'"
   ]
  },
  {
   "cell_type": "code",
   "execution_count": null,
   "id": "b92b9dbe",
   "metadata": {},
   "outputs": [],
   "source": []
  },
  {
   "cell_type": "markdown",
   "id": "027cc29e",
   "metadata": {},
   "source": [
    "----\n",
    "User bir soz birlesmesi yazsin. eger soz birlesmesinin icinde boyuk herfle yazilmis herf varsa, hemin herfi print etsin\n",
    "\n",
    "- .istitle()\n",
    "- .isupper()\n",
    "- .islower() \n",
    "\n",
    "arasdirilsin"
   ]
  },
  {
   "cell_type": "code",
   "execution_count": 33,
   "id": "86d57490",
   "metadata": {},
   "outputs": [
    {
     "name": "stdout",
     "output_type": "stream",
     "text": [
      "soz birlesmesi elave et: Salam Menim adim Nicatdi\n",
      "['S', 'a', 'l', 'a', 'm', ' ', 'M', 'e', 'n', 'i', 'm', ' ', 'a', 'd', 'i', 'm', ' ', 'N', 'i', 'c', 'a', 't', 'd', 'i']\n"
     ]
    }
   ],
   "source": [
    "birlesme = input('soz birlesmesi elave et: ')\n",
    "boyuk_herfler = []\n",
    "for i in birlesme:\n",
    "    if i.isupper:\n",
    "        boyuk_herfler.append(i)\n",
    "print(boyuk_herfler)"
   ]
  },
  {
   "cell_type": "code",
   "execution_count": null,
   "id": "946e963e",
   "metadata": {},
   "outputs": [],
   "source": []
  },
  {
   "cell_type": "markdown",
   "id": "924366ec",
   "metadata": {},
   "source": [
    "----\n",
    "User bir cumle/birlesme elave elesin. eger cumle icindeki hansisa herf boyuk herfle yazilibsa, onu 0a beraber elesin. **diqqetli olun**"
   ]
  },
  {
   "cell_type": "code",
   "execution_count": 39,
   "id": "253958f5",
   "metadata": {},
   "outputs": [
    {
     "name": "stdout",
     "output_type": "stream",
     "text": [
      "add a sentence: ajskjksaKk KJKJS j\n",
      "ajskjksaKk KJKJS j\n"
     ]
    }
   ],
   "source": [
    "s = input('add a sentence: ')\n",
    "for char in s:\n",
    "    if char.isupper():\n",
    "        s.replace(char, '0')\n",
    "print(s)"
   ]
  },
  {
   "cell_type": "code",
   "execution_count": null,
   "id": "dd85e03e",
   "metadata": {},
   "outputs": [],
   "source": []
  },
  {
   "cell_type": "markdown",
   "id": "297a86ba",
   "metadata": {},
   "source": [
    "----\n",
    "\n",
    "Write a  Python program to check the validity of passwords input by users.\n",
    "Validation :\n",
    "\n",
    "At least 1 letter between [a-z] and 1 letter between [A-Z].\n",
    "\n",
    "At least 1 number between [0-9].\n",
    "\n",
    "Minimum length 6 characters.\n",
    "\n",
    "Maximum length 16 characters."
   ]
  },
  {
   "cell_type": "code",
   "execution_count": null,
   "id": "b7165888",
   "metadata": {},
   "outputs": [],
   "source": []
  },
  {
   "cell_type": "code",
   "execution_count": null,
   "id": "286536d5",
   "metadata": {},
   "outputs": [],
   "source": []
  },
  {
   "cell_type": "markdown",
   "id": "110bc6f4",
   "metadata": {},
   "source": [
    "----\n",
    "Usaqliqda defterlerimiz arxasinda olan vurma cedveli seklini gosteren proqram yazin. meselen:\n",
    "\n",
    "1 * 1 = 1\n",
    "\n",
    "1 * 2 = 2\n",
    "\n",
    "1 * 3 = 3\n",
    "\n",
    "1 * 4 = 4\n",
    "\n",
    "1 * 5 = 5\n",
    "\n",
    "1 * 6 = 6\n",
    "\n",
    "1 * 7 = 7\n",
    "\n",
    "1 * 8 = 8\n",
    "\n",
    "1 * 9 = 9"
   ]
  },
  {
   "cell_type": "code",
   "execution_count": 30,
   "id": "aeaf5ee0",
   "metadata": {},
   "outputs": [
    {
     "name": "stdout",
     "output_type": "stream",
     "text": [
      "1 * 1 = 1\n",
      "1 * 2 = 2\n",
      "1 * 3 = 3\n",
      "1 * 4 = 4\n",
      "1 * 5 = 5\n",
      "1 * 6 = 6\n",
      "1 * 7 = 7\n",
      "1 * 8 = 8\n",
      "1 * 9 = 9\n",
      "2 * 1 = 2\n",
      "2 * 2 = 4\n",
      "2 * 3 = 6\n",
      "2 * 4 = 8\n",
      "2 * 5 = 10\n",
      "2 * 6 = 12\n",
      "2 * 7 = 14\n",
      "2 * 8 = 16\n",
      "2 * 9 = 18\n",
      "3 * 1 = 3\n",
      "3 * 2 = 6\n",
      "3 * 3 = 9\n",
      "3 * 4 = 12\n",
      "3 * 5 = 15\n",
      "3 * 6 = 18\n",
      "3 * 7 = 21\n",
      "3 * 8 = 24\n",
      "3 * 9 = 27\n",
      "4 * 1 = 4\n",
      "4 * 2 = 8\n",
      "4 * 3 = 12\n",
      "4 * 4 = 16\n",
      "4 * 5 = 20\n",
      "4 * 6 = 24\n",
      "4 * 7 = 28\n",
      "4 * 8 = 32\n",
      "4 * 9 = 36\n",
      "5 * 1 = 5\n",
      "5 * 2 = 10\n",
      "5 * 3 = 15\n",
      "5 * 4 = 20\n",
      "5 * 5 = 25\n",
      "5 * 6 = 30\n",
      "5 * 7 = 35\n",
      "5 * 8 = 40\n",
      "5 * 9 = 45\n",
      "6 * 1 = 6\n",
      "6 * 2 = 12\n",
      "6 * 3 = 18\n",
      "6 * 4 = 24\n",
      "6 * 5 = 30\n",
      "6 * 6 = 36\n",
      "6 * 7 = 42\n",
      "6 * 8 = 48\n",
      "6 * 9 = 54\n",
      "7 * 1 = 7\n",
      "7 * 2 = 14\n",
      "7 * 3 = 21\n",
      "7 * 4 = 28\n",
      "7 * 5 = 35\n",
      "7 * 6 = 42\n",
      "7 * 7 = 49\n",
      "7 * 8 = 56\n",
      "7 * 9 = 63\n",
      "8 * 1 = 8\n",
      "8 * 2 = 16\n",
      "8 * 3 = 24\n",
      "8 * 4 = 32\n",
      "8 * 5 = 40\n",
      "8 * 6 = 48\n",
      "8 * 7 = 56\n",
      "8 * 8 = 64\n",
      "8 * 9 = 72\n",
      "9 * 1 = 9\n",
      "9 * 2 = 18\n",
      "9 * 3 = 27\n",
      "9 * 4 = 36\n",
      "9 * 5 = 45\n",
      "9 * 6 = 54\n",
      "9 * 7 = 63\n",
      "9 * 8 = 72\n",
      "9 * 9 = 81\n"
     ]
    }
   ],
   "source": [
    "for a in range(1, 10):\n",
    "    for b in range(1, 10):\n",
    "        print(f'{a} * {b} = {a*b}')"
   ]
  },
  {
   "cell_type": "code",
   "execution_count": null,
   "id": "aec35bb0",
   "metadata": {},
   "outputs": [],
   "source": []
  }
 ],
 "metadata": {
  "kernelspec": {
   "display_name": "Python 3 (ipykernel)",
   "language": "python",
   "name": "python3"
  },
  "language_info": {
   "codemirror_mode": {
    "name": "ipython",
    "version": 3
   },
   "file_extension": ".py",
   "mimetype": "text/x-python",
   "name": "python",
   "nbconvert_exporter": "python",
   "pygments_lexer": "ipython3",
   "version": "3.11.5"
  }
 },
 "nbformat": 4,
 "nbformat_minor": 5
}
