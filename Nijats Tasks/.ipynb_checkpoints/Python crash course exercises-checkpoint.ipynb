{
 "cells": [
  {
   "cell_type": "markdown",
   "id": "116d2fa0",
   "metadata": {},
   "source": [
    "## Tapsiriqlar icinde for, if/else conditionlariteleb eden tasklar var. bezi tasklar 5 dqnizi, bezi tasklar fasilesiz 1 saatinizi ala biler.\n",
    "----"
   ]
  },
  {
   "cell_type": "markdown",
   "id": "164c3871",
   "metadata": {},
   "source": [
    "Write an if-elif-else chain that determines a person’s\n",
    "stage of life. **User should enter his/her age**, and then:\n",
    "\n",
    "- If the person is less than 2 years old, print a message that the person is a baby. \n",
    "\n",
    "- If the person is at least 2 years old but less than 4, print a message that the person is a toddler.\n",
    "\n",
    "- If the person is at least 4 years old but less than 13, print a message that the person is a kid.\n",
    "\n",
    "- If the person is at least 13 years old but less than 20, print a message that the person is a teenager.\n",
    "\n",
    "- If the person is at least 20 years old but less than 65, print a message that the person is an adult.\n",
    "\n",
    "- If the person is age 65 or older, print a message that the person is an elder."
   ]
  },
  {
   "cell_type": "code",
   "execution_count": null,
   "id": "d4caea9c",
   "metadata": {},
   "outputs": [],
   "source": []
  },
  {
   "cell_type": "code",
   "execution_count": null,
   "id": "7f1b4af9",
   "metadata": {},
   "outputs": [],
   "source": []
  },
  {
   "cell_type": "markdown",
   "id": "f62af81d",
   "metadata": {},
   "source": [
    "----\n",
    "Do the following to create a program that simulates how websites ensure that everyone has a unique username.\n",
    "\n",
    "- Make a list of 3 or more usernames called current_users.\n",
    "- Make another list of 3 usernames called new_users. Make sure one or two of the new usernames are *also in the current_users list*.\n",
    "- Loop through the new_users list to see if each new username has already been used. If it has, print a message that the person will need to enter a new username. If a username has not been used, print a message saying that the username is available."
   ]
  },
  {
   "cell_type": "code",
   "execution_count": null,
   "id": "bc548c5f",
   "metadata": {},
   "outputs": [],
   "source": []
  },
  {
   "cell_type": "code",
   "execution_count": null,
   "id": "c18c73f9",
   "metadata": {},
   "outputs": [],
   "source": []
  },
  {
   "cell_type": "markdown",
   "id": "79116d57",
   "metadata": {},
   "source": [
    "Do the task above, but make it case sensitive -> Make sure your comparison is case insensitive. If 'John' has been used, 'JOHN' should not be accepted.\n",
    "<br/>\n",
    "- .title() - stringde **her sozun** ancaq ilk herfini boyudur\n",
    "- .upper() - stringin butun herflerini boyudur\n",
    "- .lower() - stringin butun herflerini kicildir"
   ]
  },
  {
   "cell_type": "code",
   "execution_count": null,
   "id": "dc809fda",
   "metadata": {},
   "outputs": [],
   "source": []
  },
  {
   "cell_type": "code",
   "execution_count": null,
   "id": "42c229ca",
   "metadata": {},
   "outputs": [],
   "source": []
  },
  {
   "cell_type": "markdown",
   "id": "4c5ecaca",
   "metadata": {},
   "source": [
    "----\n",
    "Think of at least three kinds of your favorite pizza. Store these pizza names in a list, and then use a for loop to print the name of each pizza.\n",
    "\n",
    "- Modify your for loop to print a sentence using the name of the pizza instead of printing just the name of the pizza. For each pizza you should have one line of output containing a simple statement like **I like pepperoni pizza.**\n",
    "- Add a line at the end of your program, outside the for loop, that states how much you like pizza. The output should consist of three or more lines about the kinds of pizza you like and then an additional sentence, such as **I really love pizza!**"
   ]
  },
  {
   "cell_type": "code",
   "execution_count": null,
   "id": "f4f7d525",
   "metadata": {},
   "outputs": [],
   "source": []
  },
  {
   "cell_type": "code",
   "execution_count": null,
   "id": "00a29d7c",
   "metadata": {},
   "outputs": [],
   "source": []
  },
  {
   "cell_type": "markdown",
   "id": "4b716273",
   "metadata": {},
   "source": [
    "----\n",
    "Think of at least three different animals that have a common characteristic. Store the names of these animals in a list, and then use a for loop to print out the name of each animal.\n",
    "- Modify your program to print a statement about each animal, such as **A dog would make a great pet.**\n"
   ]
  },
  {
   "cell_type": "code",
   "execution_count": null,
   "id": "2232cabc",
   "metadata": {},
   "outputs": [],
   "source": []
  },
  {
   "cell_type": "code",
   "execution_count": null,
   "id": "bead12ab",
   "metadata": {},
   "outputs": [],
   "source": []
  },
  {
   "cell_type": "markdown",
   "id": "691386ca",
   "metadata": {},
   "source": [
    "----\n",
    "Use a for loop to print the numbers from 1 to 20, inclusive. (20 de daxil olmaqla 1den 20-ye qeder reqemleri cap et)"
   ]
  },
  {
   "cell_type": "code",
   "execution_count": null,
   "id": "21903716",
   "metadata": {},
   "outputs": [],
   "source": []
  },
  {
   "cell_type": "code",
   "execution_count": null,
   "id": "ced40f34",
   "metadata": {},
   "outputs": [],
   "source": []
  },
  {
   "cell_type": "markdown",
   "id": "bf391972",
   "metadata": {},
   "source": [
    "----\n",
    "Use the third argument of the range() function to make a list\n",
    "of the odd numbers from 1 to 20. Use a for loop to print each number. odd - tek reqem"
   ]
  },
  {
   "cell_type": "code",
   "execution_count": null,
   "id": "6b85d692",
   "metadata": {},
   "outputs": [],
   "source": []
  },
  {
   "cell_type": "code",
   "execution_count": null,
   "id": "bdadee36",
   "metadata": {},
   "outputs": [],
   "source": []
  },
  {
   "cell_type": "markdown",
   "id": "b9400ba9",
   "metadata": {},
   "source": [
    "----\n",
    "User bir eded girsin, o edede qeder olan butun ededlerin cemini tap. sum() istifade etmek olmaz"
   ]
  },
  {
   "cell_type": "code",
   "execution_count": null,
   "id": "4ec66aef",
   "metadata": {},
   "outputs": [],
   "source": []
  },
  {
   "cell_type": "code",
   "execution_count": null,
   "id": "2caf1551",
   "metadata": {},
   "outputs": [],
   "source": []
  },
  {
   "cell_type": "markdown",
   "id": "92858332",
   "metadata": {},
   "source": [
    "----\n",
    "User bir eded girsin, o edede qeder olan butun ededlerin hasilini (faktorial) tap."
   ]
  },
  {
   "cell_type": "code",
   "execution_count": null,
   "id": "a44e5a55",
   "metadata": {},
   "outputs": [],
   "source": []
  },
  {
   "cell_type": "code",
   "execution_count": null,
   "id": "d0dc4cab",
   "metadata": {},
   "outputs": [],
   "source": []
  },
  {
   "cell_type": "markdown",
   "id": "70e2519b",
   "metadata": {},
   "source": [
    "----\n",
    "Qarisiq elementlerden ibaret bir list yaradin, listin icinde olan deyerlerin 'data tipini' gostersin.\n",
    "\n",
    "\n",
    "list = [5, 'salam', True]\n",
    "\n",
    "output: class int, class str, class bool"
   ]
  },
  {
   "cell_type": "code",
   "execution_count": null,
   "id": "05ae46ee",
   "metadata": {},
   "outputs": [],
   "source": []
  },
  {
   "cell_type": "code",
   "execution_count": null,
   "id": "49c878a5",
   "metadata": {},
   "outputs": [],
   "source": []
  },
  {
   "cell_type": "markdown",
   "id": "86c1add5",
   "metadata": {},
   "source": [
    "----\n",
    "Asagida meyveler adli tuplenin, ilk elementinin yerine sevdiyin meyveni qeyd ele. qabagina cixan neticeni arasdir"
   ]
  },
  {
   "cell_type": "code",
   "execution_count": 13,
   "id": "6dc1df69",
   "metadata": {},
   "outputs": [],
   "source": [
    "meyveler = (\"alma\", \"banan\", \"gilas\")\n"
   ]
  },
  {
   "cell_type": "code",
   "execution_count": 14,
   "id": "cfd88156",
   "metadata": {},
   "outputs": [],
   "source": []
  },
  {
   "cell_type": "code",
   "execution_count": null,
   "id": "b92b9dbe",
   "metadata": {},
   "outputs": [],
   "source": []
  },
  {
   "cell_type": "markdown",
   "id": "027cc29e",
   "metadata": {},
   "source": [
    "----\n",
    "User bir soz birlesmesi yazsin. eger soz birlesmesinin icinde boyuk herfle yazilmis herf varsa, hemin herfi print etsin\n",
    "\n",
    "- .istitle()\n",
    "- .isupper()\n",
    "- .islower() \n",
    "\n",
    "arasdirilsin"
   ]
  },
  {
   "cell_type": "code",
   "execution_count": null,
   "id": "86d57490",
   "metadata": {},
   "outputs": [],
   "source": []
  },
  {
   "cell_type": "code",
   "execution_count": null,
   "id": "946e963e",
   "metadata": {},
   "outputs": [],
   "source": []
  },
  {
   "cell_type": "markdown",
   "id": "924366ec",
   "metadata": {},
   "source": [
    "----\n",
    "User bir cumle/birlesme elave elesin. eger cumle icindeki hansisa herf boyuk herfle yazilibsa, onu 0a beraber elesin. **diqqetli olun**"
   ]
  },
  {
   "cell_type": "code",
   "execution_count": null,
   "id": "253958f5",
   "metadata": {},
   "outputs": [],
   "source": []
  },
  {
   "cell_type": "code",
   "execution_count": null,
   "id": "dd85e03e",
   "metadata": {},
   "outputs": [],
   "source": []
  },
  {
   "cell_type": "markdown",
   "id": "297a86ba",
   "metadata": {},
   "source": [
    "----\n",
    "\n",
    "Write a  Python program to check the validity of passwords input by users.\n",
    "Validation :\n",
    "\n",
    "At least 1 letter between [a-z] and 1 letter between [A-Z].\n",
    "\n",
    "At least 1 number between [0-9].\n",
    "\n",
    "Minimum length 6 characters.\n",
    "\n",
    "Maximum length 16 characters."
   ]
  },
  {
   "cell_type": "code",
   "execution_count": null,
   "id": "b7165888",
   "metadata": {},
   "outputs": [],
   "source": []
  },
  {
   "cell_type": "code",
   "execution_count": null,
   "id": "286536d5",
   "metadata": {},
   "outputs": [],
   "source": []
  },
  {
   "cell_type": "markdown",
   "id": "110bc6f4",
   "metadata": {},
   "source": [
    "----\n",
    "Usaqliqda defterlerimiz arxasinda olan vurma cedveli seklini gosteren proqram yazin. meselen:\n",
    "\n",
    "1 * 1 = 1\n",
    "\n",
    "1 * 2 = 2\n",
    "\n",
    "1 * 3 = 3\n",
    "\n",
    "1 * 4 = 4\n",
    "\n",
    "1 * 5 = 5\n",
    "\n",
    "1 * 6 = 6\n",
    "\n",
    "1 * 7 = 7\n",
    "\n",
    "1 * 8 = 8\n",
    "\n",
    "1 * 9 = 9"
   ]
  },
  {
   "cell_type": "code",
   "execution_count": null,
   "id": "aeaf5ee0",
   "metadata": {},
   "outputs": [],
   "source": []
  },
  {
   "cell_type": "code",
   "execution_count": null,
   "id": "aec35bb0",
   "metadata": {},
   "outputs": [],
   "source": []
  }
 ],
 "metadata": {
  "kernelspec": {
   "display_name": "Python 3 (ipykernel)",
   "language": "python",
   "name": "python3"
  },
  "language_info": {
   "codemirror_mode": {
    "name": "ipython",
    "version": 3
   },
   "file_extension": ".py",
   "mimetype": "text/x-python",
   "name": "python",
   "nbconvert_exporter": "python",
   "pygments_lexer": "ipython3",
   "version": "3.11.5"
  }
 },
 "nbformat": 4,
 "nbformat_minor": 5
}
