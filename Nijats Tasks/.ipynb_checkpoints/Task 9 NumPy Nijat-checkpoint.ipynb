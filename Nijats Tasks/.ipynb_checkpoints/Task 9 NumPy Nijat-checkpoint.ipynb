{
 "cells": [
  {
   "cell_type": "code",
   "execution_count": 1,
   "id": "3e13bf7d",
   "metadata": {},
   "outputs": [],
   "source": [
    "import numpy as np"
   ]
  },
  {
   "cell_type": "markdown",
   "id": "641f3135",
   "metadata": {},
   "source": [
    "Create a 1D numpy array"
   ]
  },
  {
   "cell_type": "code",
   "execution_count": 3,
   "id": "86cd30d6",
   "metadata": {},
   "outputs": [
    {
     "data": {
      "text/plain": [
       "array([2, 4, 6, 8])"
      ]
     },
     "execution_count": 3,
     "metadata": {},
     "output_type": "execute_result"
    }
   ],
   "source": [
    "a = np.array([2, 4, 6, 8])\n",
    "a"
   ]
  },
  {
   "cell_type": "markdown",
   "id": "a3a59ffd",
   "metadata": {},
   "source": [
    "Create a 2D numpy array"
   ]
  },
  {
   "cell_type": "code",
   "execution_count": 5,
   "id": "3b3e5059",
   "metadata": {},
   "outputs": [
    {
     "data": {
      "text/plain": [
       "array([[2, 4, 6],\n",
       "       [1, 3, 5]])"
      ]
     },
     "execution_count": 5,
     "metadata": {},
     "output_type": "execute_result"
    }
   ],
   "source": [
    "b = np.array([[2,4,6], [1,3,5]])\n",
    "b"
   ]
  },
  {
   "cell_type": "markdown",
   "id": "4c92e4a6",
   "metadata": {},
   "source": [
    "Create a 10D numpy array"
   ]
  },
  {
   "cell_type": "code",
   "execution_count": 9,
   "id": "8a3d7633",
   "metadata": {},
   "outputs": [
    {
     "data": {
      "text/plain": [
       "array([[[[[[[[[[[1, 2],\n",
       "                [3, 4]]]]]]]]]]])"
      ]
     },
     "execution_count": 9,
     "metadata": {},
     "output_type": "execute_result"
    }
   ],
   "source": [
    "c = np.array([\n",
    "    [[[[[[[[[\n",
    "        [1, 2],\n",
    "        [3, 4]\n",
    "    ]]]]]]]]]\n",
    "])\n",
    "c"
   ]
  },
  {
   "cell_type": "markdown",
   "id": "d986ba9c",
   "metadata": {},
   "source": [
    "Create an array of 10 zeros"
   ]
  },
  {
   "cell_type": "code",
   "execution_count": 11,
   "id": "6fe1a050",
   "metadata": {},
   "outputs": [
    {
     "data": {
      "text/plain": [
       "array([0., 0., 0., 0., 0., 0., 0., 0., 0., 0.])"
      ]
     },
     "execution_count": 11,
     "metadata": {},
     "output_type": "execute_result"
    }
   ],
   "source": [
    "zero = np.zeros(10)\n",
    "zero"
   ]
  },
  {
   "cell_type": "markdown",
   "id": "4f850d4d",
   "metadata": {},
   "source": [
    "Create an array of (5,2) ones\n",
    "\n"
   ]
  },
  {
   "cell_type": "code",
   "execution_count": 15,
   "id": "edb31fd9",
   "metadata": {},
   "outputs": [
    {
     "data": {
      "text/plain": [
       "array([[1., 1., 1., 1., 1.],\n",
       "       [1., 1., 1., 1., 1.]])"
      ]
     },
     "execution_count": 15,
     "metadata": {},
     "output_type": "execute_result"
    }
   ],
   "source": [
    "one = np.ones((2, 5))\n",
    "one"
   ]
  },
  {
   "cell_type": "markdown",
   "id": "19d1d44a",
   "metadata": {},
   "source": [
    "Create an array of 10 threes"
   ]
  },
  {
   "cell_type": "code",
   "execution_count": 16,
   "id": "652c1112",
   "metadata": {},
   "outputs": [
    {
     "data": {
      "text/plain": [
       "array([3., 3., 3., 3., 3., 3., 3., 3., 3., 3.])"
      ]
     },
     "execution_count": 16,
     "metadata": {},
     "output_type": "execute_result"
    }
   ],
   "source": [
    "three = np.ones(10) * 3\n",
    "three"
   ]
  },
  {
   "cell_type": "markdown",
   "id": "e61bb523",
   "metadata": {},
   "source": [
    "Create an array of integers in range from 10 to 100"
   ]
  },
  {
   "cell_type": "code",
   "execution_count": 17,
   "id": "0099a08a",
   "metadata": {},
   "outputs": [
    {
     "data": {
      "text/plain": [
       "array([10, 11, 12, 13, 14, 15, 16, 17, 18, 19, 20, 21, 22, 23, 24, 25, 26,\n",
       "       27, 28, 29, 30, 31, 32, 33, 34, 35, 36, 37, 38, 39, 40, 41, 42, 43,\n",
       "       44, 45, 46, 47, 48, 49, 50, 51, 52, 53, 54, 55, 56, 57, 58, 59, 60,\n",
       "       61, 62, 63, 64, 65, 66, 67, 68, 69, 70, 71, 72, 73, 74, 75, 76, 77,\n",
       "       78, 79, 80, 81, 82, 83, 84, 85, 86, 87, 88, 89, 90, 91, 92, 93, 94,\n",
       "       95, 96, 97, 98, 99])"
      ]
     },
     "execution_count": 17,
     "metadata": {},
     "output_type": "execute_result"
    }
   ],
   "source": [
    "range_10_100 = np.arange(10, 100)\n",
    "range_10_100"
   ]
  },
  {
   "cell_type": "markdown",
   "id": "100d2d02",
   "metadata": {},
   "source": [
    "Create an array of evenly spaced numbers from 1 to 10"
   ]
  },
  {
   "cell_type": "code",
   "execution_count": 23,
   "id": "ece1a269",
   "metadata": {},
   "outputs": [
    {
     "data": {
      "text/plain": [
       "array([ 1.        ,  1.18367347,  1.36734694,  1.55102041,  1.73469388,\n",
       "        1.91836735,  2.10204082,  2.28571429,  2.46938776,  2.65306122,\n",
       "        2.83673469,  3.02040816,  3.20408163,  3.3877551 ,  3.57142857,\n",
       "        3.75510204,  3.93877551,  4.12244898,  4.30612245,  4.48979592,\n",
       "        4.67346939,  4.85714286,  5.04081633,  5.2244898 ,  5.40816327,\n",
       "        5.59183673,  5.7755102 ,  5.95918367,  6.14285714,  6.32653061,\n",
       "        6.51020408,  6.69387755,  6.87755102,  7.06122449,  7.24489796,\n",
       "        7.42857143,  7.6122449 ,  7.79591837,  7.97959184,  8.16326531,\n",
       "        8.34693878,  8.53061224,  8.71428571,  8.89795918,  9.08163265,\n",
       "        9.26530612,  9.44897959,  9.63265306,  9.81632653, 10.        ])"
      ]
     },
     "execution_count": 23,
     "metadata": {},
     "output_type": "execute_result"
    }
   ],
   "source": [
    "evenly = np.linspace(1, 10)\n",
    "evenly"
   ]
  },
  {
   "cell_type": "markdown",
   "id": "5033cb61",
   "metadata": {},
   "source": [
    "Create an array of 10 random numbers"
   ]
  },
  {
   "cell_type": "code",
   "execution_count": 30,
   "id": "a8dc85f8",
   "metadata": {},
   "outputs": [
    {
     "data": {
      "text/plain": [
       "array([0.77262418, 0.20414689, 0.72933259, 0.37840578, 0.82732682,\n",
       "       0.92314412, 0.96080726, 0.62652352, 0.57592772, 0.1401939 ])"
      ]
     },
     "execution_count": 30,
     "metadata": {},
     "output_type": "execute_result"
    }
   ],
   "source": [
    "rand = np.random.rand(10)\n",
    "rand"
   ]
  },
  {
   "cell_type": "markdown",
   "id": "8401f816",
   "metadata": {},
   "source": [
    "\n",
    "Create a 5x2 zero matrix"
   ]
  },
  {
   "cell_type": "code",
   "execution_count": 32,
   "id": "62045493",
   "metadata": {},
   "outputs": [
    {
     "data": {
      "text/plain": [
       "array([[0., 0.],\n",
       "       [0., 0.],\n",
       "       [0., 0.],\n",
       "       [0., 0.],\n",
       "       [0., 0.]])"
      ]
     },
     "execution_count": 32,
     "metadata": {},
     "output_type": "execute_result"
    }
   ],
   "source": [
    "zero = np.zeros((5,2))\n",
    "zero"
   ]
  },
  {
   "cell_type": "markdown",
   "id": "fc40ad74",
   "metadata": {},
   "source": [
    "Create a 10x10 matrix of ones"
   ]
  },
  {
   "cell_type": "code",
   "execution_count": 38,
   "id": "de4b1d69",
   "metadata": {},
   "outputs": [
    {
     "data": {
      "text/plain": [
       "array([[1., 1., 1., 1., 1., 1., 1., 1., 1., 1.],\n",
       "       [1., 1., 1., 1., 1., 1., 1., 1., 1., 1.],\n",
       "       [1., 1., 1., 1., 1., 1., 1., 1., 1., 1.],\n",
       "       [1., 1., 1., 1., 1., 1., 1., 1., 1., 1.],\n",
       "       [1., 1., 1., 1., 1., 1., 1., 1., 1., 1.],\n",
       "       [1., 1., 1., 1., 1., 1., 1., 1., 1., 1.],\n",
       "       [1., 1., 1., 1., 1., 1., 1., 1., 1., 1.],\n",
       "       [1., 1., 1., 1., 1., 1., 1., 1., 1., 1.],\n",
       "       [1., 1., 1., 1., 1., 1., 1., 1., 1., 1.],\n",
       "       [1., 1., 1., 1., 1., 1., 1., 1., 1., 1.]])"
      ]
     },
     "execution_count": 38,
     "metadata": {},
     "output_type": "execute_result"
    }
   ],
   "source": [
    "one = np.ones((10,10))\n",
    "one"
   ]
  },
  {
   "cell_type": "markdown",
   "id": "17f78943",
   "metadata": {},
   "source": [
    "Create a 5x5 matrix of random numbers"
   ]
  },
  {
   "cell_type": "code",
   "execution_count": 43,
   "id": "71972615",
   "metadata": {},
   "outputs": [
    {
     "data": {
      "text/plain": [
       "array([[0.40384325, 0.21567354, 0.61868333, 0.09143543, 0.7886585 ],\n",
       "       [0.16072155, 0.58551585, 0.72900193, 0.80368983, 0.02674365],\n",
       "       [0.82844869, 0.26942217, 0.08998177, 0.69680772, 0.79449762],\n",
       "       [0.26083137, 0.05146471, 0.23426291, 0.47045541, 0.07872793],\n",
       "       [0.67732263, 0.26786634, 0.16378625, 0.33880404, 0.56371625]])"
      ]
     },
     "execution_count": 43,
     "metadata": {},
     "output_type": "execute_result"
    }
   ],
   "source": [
    "rand = np.random.random((5, 5))\n",
    "rand"
   ]
  },
  {
   "cell_type": "markdown",
   "id": "862633a1",
   "metadata": {},
   "source": [
    "Create an array of 5 numbers and display each of its elements"
   ]
  },
  {
   "cell_type": "code",
   "execution_count": 58,
   "id": "845a04d9",
   "metadata": {},
   "outputs": [
    {
     "name": "stdout",
     "output_type": "stream",
     "text": [
      "[0.73605647 0.32066467 0.74784794 0.03764502 0.29871701]\n",
      "0.7360564678470145\n",
      "0.320664670825473\n",
      "0.7478479411108833\n",
      "0.0376450151319081\n",
      "0.29871701085218616\n"
     ]
    }
   ],
   "source": [
    "arr = np.random.rand(5)\n",
    "print(arr)\n",
    "\n",
    "for i in arr:\n",
    "    print(i)"
   ]
  },
  {
   "cell_type": "markdown",
   "id": "a88eeda1",
   "metadata": {},
   "source": [
    "Create a 3x3 matrix of random numbers and display all numbers\n",
    "\n",
    "\n",
    "[[1, 2, 3],\n",
    "[4, 5, 6],\n",
    "[7, 8, 9]]\n",
    "\n",
    "OUTPUT: 1 2 3 4 5 6 7 8 9"
   ]
  },
  {
   "cell_type": "code",
   "execution_count": 68,
   "id": "ef363a92",
   "metadata": {},
   "outputs": [
    {
     "name": "stdout",
     "output_type": "stream",
     "text": [
      "9\n",
      "8\n",
      "7\n",
      "9\n",
      "9\n",
      "8\n",
      "8\n",
      "3\n",
      "7\n"
     ]
    }
   ],
   "source": [
    "rands = np.random.randint(1, 10, (3,3))\n",
    "rands\n",
    "\n",
    "for i in rands.flatten():\n",
    "    print(i)"
   ]
  },
  {
   "cell_type": "markdown",
   "id": "76e07842",
   "metadata": {},
   "source": [
    "Create a 3x4 array filled with values from 24 to 32"
   ]
  },
  {
   "cell_type": "code",
   "execution_count": 74,
   "id": "3eb5efb4",
   "metadata": {},
   "outputs": [
    {
     "data": {
      "text/plain": [
       "array([[24, 25, 26, 27],\n",
       "       [28, 29, 30, 31],\n",
       "       [32, 33, 34, 35]])"
      ]
     },
     "execution_count": 74,
     "metadata": {},
     "output_type": "execute_result"
    }
   ],
   "source": [
    "a = np.arange(24, 36).reshape(3,4)\n",
    "a"
   ]
  },
  {
   "cell_type": "markdown",
   "id": "a7b2c864",
   "metadata": {},
   "source": [
    "Create a 3x4 array of evenly distributed numbers between 0 and 1. Display its shape and the number of dimensions."
   ]
  },
  {
   "cell_type": "code",
   "execution_count": 83,
   "id": "cd474154",
   "metadata": {},
   "outputs": [
    {
     "data": {
      "text/plain": [
       "array([[0.        , 0.09090909, 0.18181818, 0.27272727],\n",
       "       [0.36363636, 0.45454545, 0.54545455, 0.63636364],\n",
       "       [0.72727273, 0.81818182, 0.90909091, 1.        ]])"
      ]
     },
     "execution_count": 83,
     "metadata": {},
     "output_type": "execute_result"
    }
   ],
   "source": [
    "even = np.linspace(0, 1, 12).reshape(3,4)\n",
    "even"
   ]
  },
  {
   "cell_type": "markdown",
   "id": "1ff891c9",
   "metadata": {},
   "source": [
    "Create a 5x5 identity matrix"
   ]
  },
  {
   "cell_type": "code",
   "execution_count": 97,
   "id": "d364f9d9",
   "metadata": {},
   "outputs": [
    {
     "data": {
      "text/plain": [
       "array([[1., 0., 0., 0., 0., 0.],\n",
       "       [0., 1., 0., 0., 0., 0.],\n",
       "       [0., 0., 1., 0., 0., 0.],\n",
       "       [0., 0., 0., 1., 0., 0.],\n",
       "       [0., 0., 0., 0., 1., 0.],\n",
       "       [0., 0., 0., 0., 0., 1.]])"
      ]
     },
     "execution_count": 97,
     "metadata": {},
     "output_type": "execute_result"
    }
   ],
   "source": [
    "iden = np.eye(6,6)\n",
    "iden"
   ]
  },
  {
   "cell_type": "markdown",
   "id": "33ec5d48",
   "metadata": {},
   "source": [
    "\n",
    "Create a 6x6 zero matrix with elements on the main diagonal equal to 1, 2, 3, 4, 5, 6."
   ]
  },
  {
   "cell_type": "code",
   "execution_count": 94,
   "id": "182b2e9b",
   "metadata": {},
   "outputs": [],
   "source": [
    "# for x in iden:\n",
    "#     for z in x:\n",
    "#         print(z)"
   ]
  },
  {
   "cell_type": "code",
   "execution_count": 95,
   "id": "20a7cfff",
   "metadata": {
    "scrolled": true
   },
   "outputs": [
    {
     "name": "stdout",
     "output_type": "stream",
     "text": [
      "[[1. 0. 0. 0. 0. 0.]\n",
      " [0. 2. 0. 0. 0. 0.]\n",
      " [0. 0. 3. 0. 0. 0.]\n",
      " [0. 0. 0. 4. 0. 0.]\n",
      " [0. 0. 0. 0. 5. 0.]\n",
      " [0. 0. 0. 0. 0. 6.]]\n"
     ]
    }
   ],
   "source": [
    "vuruq = 1\n",
    "for i in range(6):\n",
    "    iden[i, i] *= vuruq\n",
    "    vuruq+=1\n",
    "print(iden)"
   ]
  },
  {
   "cell_type": "code",
   "execution_count": 98,
   "id": "92891f9b",
   "metadata": {},
   "outputs": [
    {
     "name": "stdout",
     "output_type": "stream",
     "text": [
      "[[1. 0. 0. 0. 0. 0.]\n",
      " [0. 2. 0. 0. 0. 0.]\n",
      " [0. 0. 3. 0. 0. 0.]\n",
      " [0. 0. 0. 4. 0. 0.]\n",
      " [0. 0. 0. 0. 5. 0.]\n",
      " [0. 0. 0. 0. 0. 6.]]\n"
     ]
    }
   ],
   "source": [
    "for i in range(6):\n",
    "    iden[i, i] *= (i+1)\n",
    "print(iden)"
   ]
  },
  {
   "cell_type": "markdown",
   "id": "12b2cef1",
   "metadata": {},
   "source": [
    "Reshape a 9x4 matrix into a 2x18 matrix"
   ]
  },
  {
   "cell_type": "code",
   "execution_count": null,
   "id": "b8818cc9",
   "metadata": {},
   "outputs": [],
   "source": []
  },
  {
   "cell_type": "markdown",
   "id": "db1cf39e",
   "metadata": {},
   "source": [
    "Create a 3x4 matrix of random numbers and transpose it."
   ]
  },
  {
   "cell_type": "code",
   "execution_count": null,
   "id": "90beec9a",
   "metadata": {},
   "outputs": [],
   "source": []
  },
  {
   "cell_type": "markdown",
   "id": "497bab33",
   "metadata": {},
   "source": [
    "Create a 5x5 matrix of evenly 25 evenly distributed numebrs between 0 and 25. Find the sum of all elements, sum of all rows, sum of all columns.(hem for-la yazin hem for-suz yazin)"
   ]
  },
  {
   "cell_type": "code",
   "execution_count": null,
   "id": "6b574d5d",
   "metadata": {},
   "outputs": [],
   "source": []
  },
  {
   "cell_type": "markdown",
   "id": "1f98396f",
   "metadata": {},
   "source": [
    "Create a vector and find its magnitude"
   ]
  },
  {
   "cell_type": "code",
   "execution_count": null,
   "id": "bbef63d7",
   "metadata": {},
   "outputs": [],
   "source": []
  },
  {
   "cell_type": "markdown",
   "id": "512ebd08",
   "metadata": {},
   "source": [
    "Create a vector of 100 random integers and display unqiue values"
   ]
  },
  {
   "cell_type": "code",
   "execution_count": null,
   "id": "1db9416f",
   "metadata": {},
   "outputs": [],
   "source": []
  },
  {
   "cell_type": "markdown",
   "id": "453ebd41",
   "metadata": {},
   "source": [
    "Create a 5x5 vector of random integers and find the product of all elements, product of all columns, product of all rows."
   ]
  },
  {
   "cell_type": "code",
   "execution_count": null,
   "id": "0a785afe",
   "metadata": {},
   "outputs": [],
   "source": []
  },
  {
   "cell_type": "markdown",
   "id": "c85517ae",
   "metadata": {},
   "source": [
    "Create a random array and display it as an image"
   ]
  },
  {
   "cell_type": "code",
   "execution_count": null,
   "id": "362c51d8",
   "metadata": {},
   "outputs": [],
   "source": []
  }
 ],
 "metadata": {
  "kernelspec": {
   "display_name": "Python 3 (ipykernel)",
   "language": "python",
   "name": "python3"
  },
  "language_info": {
   "codemirror_mode": {
    "name": "ipython",
    "version": 3
   },
   "file_extension": ".py",
   "mimetype": "text/x-python",
   "name": "python",
   "nbconvert_exporter": "python",
   "pygments_lexer": "ipython3",
   "version": "3.11.5"
  }
 },
 "nbformat": 4,
 "nbformat_minor": 5
}
