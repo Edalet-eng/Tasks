{
 "cells": [
  {
   "cell_type": "code",
   "execution_count": 4,
   "id": "071680fc",
   "metadata": {},
   "outputs": [
    {
     "name": "stdout",
     "output_type": "stream",
     "text": [
      "input a text: bababsbas\n",
      "bas\n"
     ]
    }
   ],
   "source": [
    "# remove duplicate elements from a string\n",
    "text = input('input a text: ')\n",
    "empty = ''\n",
    "for i in text:\n",
    "    if i not in empty:\n",
    "        empty += i\n",
    "print(empty)"
   ]
  },
  {
   "cell_type": "code",
   "execution_count": 14,
   "id": "467a3fd0",
   "metadata": {},
   "outputs": [
    {
     "name": "stdout",
     "output_type": "stream",
     "text": [
      "input a text: meheheh aaa ss\n",
      "meheheh\n"
     ]
    }
   ],
   "source": [
    "# add a text, choose longest word\n",
    "text = input('input a text: ')\n",
    "maks = text[0]\n",
    "for i in text.split(' '):\n",
    "    if len(i) > len(maks):\n",
    "        maks = i\n",
    "        print(maks)"
   ]
  },
  {
   "cell_type": "code",
   "execution_count": 23,
   "id": "ba08c02d",
   "metadata": {},
   "outputs": [],
   "source": [
    "cumle = ''' It was always dangerous to drive with him since he insisted the safety cones were a slalom course.\n",
    "While all her friends were positive that Mary had a sixth sense, she knew she actually had a seventh sense.\n",
    "There have been days when I wished to be separated from my body, but today wasn’t one of those days.\n",
    "Love is not like pizza.'''"
   ]
  },
  {
   "cell_type": "code",
   "execution_count": 24,
   "id": "1d41e331",
   "metadata": {},
   "outputs": [
    {
     "name": "stdout",
     "output_type": "stream",
     "text": [
      "\n",
      "Love is not like pizza\n",
      "\n"
     ]
    }
   ],
   "source": [
    "cumle = cumle.split('.')\n",
    "minim = cumle[0]\n",
    "for i in cumle:\n",
    "    if len(i) < len(minim):\n",
    "        minim = i\n",
    "        print(minim)"
   ]
  },
  {
   "cell_type": "code",
   "execution_count": null,
   "id": "219fc4ab",
   "metadata": {},
   "outputs": [],
   "source": []
  }
 ],
 "metadata": {
  "kernelspec": {
   "display_name": "Python 3 (ipykernel)",
   "language": "python",
   "name": "python3"
  },
  "language_info": {
   "codemirror_mode": {
    "name": "ipython",
    "version": 3
   },
   "file_extension": ".py",
   "mimetype": "text/x-python",
   "name": "python",
   "nbconvert_exporter": "python",
   "pygments_lexer": "ipython3",
   "version": "3.11.5"
  }
 },
 "nbformat": 4,
 "nbformat_minor": 5
}
