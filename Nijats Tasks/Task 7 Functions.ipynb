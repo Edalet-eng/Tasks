{
 "cells": [
  {
   "cell_type": "markdown",
   "id": "641f3135",
   "metadata": {},
   "source": [
    "Create a function named hello that displays \"Hello World\" message when called"
   ]
  },
  {
   "cell_type": "code",
   "execution_count": 2,
   "id": "86cd30d6",
   "metadata": {},
   "outputs": [
    {
     "name": "stdout",
     "output_type": "stream",
     "text": [
      "Hello World\n"
     ]
    }
   ],
   "source": [
    "def hello():\n",
    "    print(\"Hello World\")\n",
    "\n",
    "hello()"
   ]
  },
  {
   "cell_type": "markdown",
   "id": "a3a59ffd",
   "metadata": {},
   "source": [
    "Create a fucntion that gets a name as an argument and displays a greeting message like \"Hello David\""
   ]
  },
  {
   "cell_type": "code",
   "execution_count": 4,
   "id": "3b3e5059",
   "metadata": {},
   "outputs": [
    {
     "name": "stdout",
     "output_type": "stream",
     "text": [
      "hello Nicat\n"
     ]
    }
   ],
   "source": [
    "def hello(name):\n",
    "    print(f'hello {name}')\n",
    "    \n",
    "hello('Nicat')"
   ]
  },
  {
   "cell_type": "markdown",
   "id": "4c92e4a6",
   "metadata": {},
   "source": [
    "Create a function that takes two numbers and returns their sum"
   ]
  },
  {
   "cell_type": "code",
   "execution_count": 5,
   "id": "8a3d7633",
   "metadata": {},
   "outputs": [
    {
     "data": {
      "text/plain": [
       "14"
      ]
     },
     "execution_count": 5,
     "metadata": {},
     "output_type": "execute_result"
    }
   ],
   "source": [
    "def cem(a,b):\n",
    "    return a+b\n",
    "\n",
    "cem(5, 9)"
   ]
  },
  {
   "cell_type": "markdown",
   "id": "d986ba9c",
   "metadata": {},
   "source": [
    "Create a function that takes three arguments, the first two are numbers and the third argument is an operation(+, -, :, *). Function returns the result of the calculation based on the operation."
   ]
  },
  {
   "cell_type": "code",
   "execution_count": 6,
   "id": "6fe1a050",
   "metadata": {},
   "outputs": [
    {
     "data": {
      "text/plain": [
       "0.2"
      ]
     },
     "execution_count": 6,
     "metadata": {},
     "output_type": "execute_result"
    }
   ],
   "source": [
    "def calculator(x,y,z):\n",
    "    if z == '+':\n",
    "        return x+y\n",
    "    elif z == '-':\n",
    "        return x-y\n",
    "    elif z == '/':\n",
    "        return x/y\n",
    "    elif z=='*':\n",
    "        return x*y\n",
    "    else:\n",
    "        print('wrong format!')\n",
    "        \n",
    "calculator(20, 100, '/')"
   ]
  },
  {
   "cell_type": "markdown",
   "id": "4f850d4d",
   "metadata": {},
   "source": [
    "Create a function that takes one list as an arguments and returns the sum of all elements"
   ]
  },
  {
   "cell_type": "code",
   "execution_count": 16,
   "id": "edb31fd9",
   "metadata": {},
   "outputs": [
    {
     "data": {
      "text/plain": [
       "34"
      ]
     },
     "execution_count": 16,
     "metadata": {},
     "output_type": "execute_result"
    }
   ],
   "source": [
    "def sumof(my_list):\n",
    "    cem = 0\n",
    "    for i in my_list:\n",
    "        cem += i\n",
    "    return cem\n",
    "\n",
    "sumof([4, 5, 3, 2, 9, 11])"
   ]
  },
  {
   "cell_type": "markdown",
   "id": "19d1d44a",
   "metadata": {},
   "source": [
    "Create a function that takes one list as an arguments and returns maximum elements in the list"
   ]
  },
  {
   "cell_type": "code",
   "execution_count": 18,
   "id": "652c1112",
   "metadata": {
    "scrolled": true
   },
   "outputs": [
    {
     "data": {
      "text/plain": [
       "30"
      ]
     },
     "execution_count": 18,
     "metadata": {},
     "output_type": "execute_result"
    }
   ],
   "source": [
    "def maximum(my_list):\n",
    "    return max(my_list)\n",
    "\n",
    "maximum([4, 5, 30, 2, 9, 11])"
   ]
  },
  {
   "cell_type": "markdown",
   "id": "100d2d02",
   "metadata": {},
   "source": [
    "Create a function that returns the area of a circle based on its radiu"
   ]
  },
  {
   "cell_type": "code",
   "execution_count": 19,
   "id": "ece1a269",
   "metadata": {},
   "outputs": [
    {
     "data": {
      "text/plain": [
       "48"
      ]
     },
     "execution_count": 19,
     "metadata": {},
     "output_type": "execute_result"
    }
   ],
   "source": [
    "pi = 3\n",
    "def area(r):\n",
    "    return pi * r**2\n",
    "\n",
    "area(4)"
   ]
  },
  {
   "cell_type": "markdown",
   "id": "5033cb61",
   "metadata": {},
   "source": [
    "Create a function that returns the circumference of the circle based on its radius"
   ]
  },
  {
   "cell_type": "code",
   "execution_count": 21,
   "id": "a8dc85f8",
   "metadata": {},
   "outputs": [
    {
     "data": {
      "text/plain": [
       "24"
      ]
     },
     "execution_count": 21,
     "metadata": {},
     "output_type": "execute_result"
    }
   ],
   "source": [
    "pi = 3\n",
    "def circ(r):\n",
    "    return pi * r * 2\n",
    "\n",
    "circ(4)"
   ]
  },
  {
   "cell_type": "markdown",
   "id": "8401f816",
   "metadata": {},
   "source": [
    "Create a function that takes a name as an argument and returns the first letter of the name."
   ]
  },
  {
   "cell_type": "code",
   "execution_count": 22,
   "id": "62045493",
   "metadata": {},
   "outputs": [
    {
     "data": {
      "text/plain": [
       "'N'"
      ]
     },
     "execution_count": 22,
     "metadata": {},
     "output_type": "execute_result"
    }
   ],
   "source": [
    "def first(name):\n",
    "    return name[0]\n",
    "\n",
    "first('Nijat')"
   ]
  },
  {
   "cell_type": "markdown",
   "id": "fc40ad74",
   "metadata": {},
   "source": [
    "Create a function that accepts an age argument and returns how much years left until it reaches 100."
   ]
  },
  {
   "cell_type": "code",
   "execution_count": 23,
   "id": "de4b1d69",
   "metadata": {},
   "outputs": [
    {
     "data": {
      "text/plain": [
       "60"
      ]
     },
     "execution_count": 23,
     "metadata": {},
     "output_type": "execute_result"
    }
   ],
   "source": [
    "def until(age):\n",
    "    return 100-age\n",
    "\n",
    "until(40)"
   ]
  },
  {
   "cell_type": "markdown",
   "id": "17f78943",
   "metadata": {},
   "source": [
    "Create a function that given x returns the value of a function\n",
    "# y = e^x"
   ]
  },
  {
   "cell_type": "code",
   "execution_count": 25,
   "id": "71972615",
   "metadata": {},
   "outputs": [
    {
     "data": {
      "text/plain": [
       "387.42048900000015"
      ]
     },
     "execution_count": 25,
     "metadata": {},
     "output_type": "execute_result"
    }
   ],
   "source": [
    "e = 2.7\n",
    "def f(x):\n",
    "    return e ** x\n",
    "\n",
    "f(6)"
   ]
  },
  {
   "cell_type": "markdown",
   "id": "862633a1",
   "metadata": {},
   "source": [
    "Create a function that takes two lists as arguments and returns their intersection."
   ]
  },
  {
   "cell_type": "code",
   "execution_count": 29,
   "id": "845a04d9",
   "metadata": {},
   "outputs": [
    {
     "data": {
      "text/plain": [
       "[1, 3, 5, 8]"
      ]
     },
     "execution_count": 29,
     "metadata": {},
     "output_type": "execute_result"
    }
   ],
   "source": [
    "def intersection(A, B):\n",
    "    inter = []\n",
    "    for i in A:\n",
    "        if i in B:\n",
    "            inter.append(i)\n",
    "    return inter\n",
    "        \n",
    "intersection([1, 3, 5, 7, 8], [3, 6, 8, 9, 1, 5])"
   ]
  },
  {
   "cell_type": "markdown",
   "id": "a88eeda1",
   "metadata": {},
   "source": [
    "Create a function that takes one number as an argument and returns true if the number is prime, otherwise it returs false"
   ]
  },
  {
   "cell_type": "code",
   "execution_count": 95,
   "id": "ef363a92",
   "metadata": {},
   "outputs": [
    {
     "data": {
      "text/plain": [
       "True"
      ]
     },
     "execution_count": 95,
     "metadata": {},
     "output_type": "execute_result"
    }
   ],
   "source": [
    "def prime(num):\n",
    "    if num == 1:\n",
    "        print('ne sade ne murekkeb')\n",
    "    elif num == 2:\n",
    "        return True\n",
    "    for i in range(2, num):\n",
    "        if num % i == 0:\n",
    "            return False\n",
    "    return True\n",
    "\n",
    "prime(2)"
   ]
  },
  {
   "cell_type": "markdown",
   "id": "76e07842",
   "metadata": {},
   "source": [
    "Create a function that takes a number as an argument(n). The function returns a list of first n odd numbers."
   ]
  },
  {
   "cell_type": "code",
   "execution_count": 41,
   "id": "3eb5efb4",
   "metadata": {},
   "outputs": [
    {
     "data": {
      "text/plain": [
       "[1, 3, 5, 7, 9, 11, 13, 15, 17, 19, 21, 23, 25, 27, 29]"
      ]
     },
     "execution_count": 41,
     "metadata": {},
     "output_type": "execute_result"
    }
   ],
   "source": [
    "def odd(n):\n",
    "    nums = []\n",
    "    for i in range(1, n*2, 2):\n",
    "        nums.append(i)\n",
    "    return nums\n",
    "\n",
    "odd(15)"
   ]
  },
  {
   "cell_type": "markdown",
   "id": "a7b2c864",
   "metadata": {},
   "source": [
    "Create a function that takes a number as an argument (n). The function returns a list of n prime numbers."
   ]
  },
  {
   "cell_type": "code",
   "execution_count": 42,
   "id": "cd474154",
   "metadata": {},
   "outputs": [],
   "source": [
    "##############################################"
   ]
  },
  {
   "cell_type": "markdown",
   "id": "1ff891c9",
   "metadata": {},
   "source": [
    "Create a function that reverses a string."
   ]
  },
  {
   "cell_type": "code",
   "execution_count": 43,
   "id": "d364f9d9",
   "metadata": {},
   "outputs": [
    {
     "data": {
      "text/plain": [
       "'malas'"
      ]
     },
     "execution_count": 43,
     "metadata": {},
     "output_type": "execute_result"
    }
   ],
   "source": [
    "def reverse(string):\n",
    "    rev = ''\n",
    "    for i in string:\n",
    "        rev = i + rev\n",
    "    return rev\n",
    "\n",
    "reverse('salam')"
   ]
  },
  {
   "cell_type": "markdown",
   "id": "33ec5d48",
   "metadata": {},
   "source": [
    "Create a function that takes a word as an arguments and returns true if the word is a polyndrome, otherwise it returns false."
   ]
  },
  {
   "cell_type": "code",
   "execution_count": 51,
   "id": "20a7cfff",
   "metadata": {},
   "outputs": [
    {
     "data": {
      "text/plain": [
       "(False, True)"
      ]
     },
     "execution_count": 51,
     "metadata": {},
     "output_type": "execute_result"
    }
   ],
   "source": [
    "def pol(word):\n",
    "    if word == word[::-1]:\n",
    "        return True\n",
    "    return False\n",
    "\n",
    "pol('Hello'), pol('ana')"
   ]
  },
  {
   "cell_type": "markdown",
   "id": "12b2cef1",
   "metadata": {},
   "source": [
    "Create a function that calculates the factorial of the number argument."
   ]
  },
  {
   "cell_type": "code",
   "execution_count": 54,
   "id": "b8818cc9",
   "metadata": {},
   "outputs": [
    {
     "data": {
      "text/plain": [
       "120"
      ]
     },
     "execution_count": 54,
     "metadata": {},
     "output_type": "execute_result"
    }
   ],
   "source": [
    "def fact(num):\n",
    "    f = 1\n",
    "    for i in range(1, num+1):\n",
    "        f *= i\n",
    "    return f\n",
    "\n",
    "fact(5)"
   ]
  },
  {
   "cell_type": "markdown",
   "id": "db1cf39e",
   "metadata": {},
   "source": [
    "Create a function that takes a list as an argument and returns the unique elements of a list."
   ]
  },
  {
   "cell_type": "code",
   "execution_count": 4,
   "id": "90beec9a",
   "metadata": {},
   "outputs": [
    {
     "data": {
      "text/plain": [
       "[1, 2, 3, 4, 7, 9, 10]"
      ]
     },
     "execution_count": 4,
     "metadata": {},
     "output_type": "execute_result"
    }
   ],
   "source": [
    "def uniq(listim):\n",
    "    uniques = []\n",
    "    for i in listim:\n",
    "        if i not in uniques:\n",
    "            uniques.append(i)\n",
    "    return uniques\n",
    "\n",
    "uniq([1, 1, 2, 3, 4, 4, 7, 7, 9, 10])"
   ]
  },
  {
   "cell_type": "markdown",
   "id": "497bab33",
   "metadata": {},
   "source": [
    "Create a function that takes a list as an argument and returns the sorted list."
   ]
  },
  {
   "cell_type": "code",
   "execution_count": 5,
   "id": "6b574d5d",
   "metadata": {},
   "outputs": [
    {
     "data": {
      "text/plain": [
       "[1, 2, 3, 5, 8]"
      ]
     },
     "execution_count": 5,
     "metadata": {},
     "output_type": "execute_result"
    }
   ],
   "source": [
    "def sorting(listim):\n",
    "    return sorted(listim)\n",
    "\n",
    "sorting([5, 3, 8, 1, 2])"
   ]
  },
  {
   "cell_type": "markdown",
   "id": "1f98396f",
   "metadata": {},
   "source": [
    "Create a function that takes three arguments. The first argument is a tuple, the second argument represents an index, the third argument represents the value. The function must change the tuple value at specified index with specified value."
   ]
  },
  {
   "cell_type": "code",
   "execution_count": 63,
   "id": "bbef63d7",
   "metadata": {},
   "outputs": [
    {
     "data": {
      "text/plain": [
       "(1, 2, 3, 4, 5, 9, 10)"
      ]
     },
     "execution_count": 63,
     "metadata": {},
     "output_type": "execute_result"
    }
   ],
   "source": [
    "def rep(my_tuple, index, arg):\n",
    "    tuple_list = list(my_tuple)\n",
    "    tuple_list[index] = arg\n",
    "    return tuple(tuple_list)\n",
    "\n",
    "rep((1, 2, 3, 4, 7, 9, 10), 4, 5)"
   ]
  },
  {
   "cell_type": "code",
   "execution_count": 3,
   "id": "7d4b2544",
   "metadata": {},
   "outputs": [
    {
     "name": "stdout",
     "output_type": "stream",
     "text": [
      "[1, 2, 3, 5, 8]\n"
     ]
    }
   ],
   "source": [
    "# Bubble sort\n",
    "def bubble_sort(listim):\n",
    "    uzunluq = len(listim)\n",
    "    for i in range(uzunluq):\n",
    "        for j in range(0, uzunluq - i - 1):\n",
    "            if listim[j] > listim[j + 1]:\n",
    "                # Swap if the element found is greater than the next element\n",
    "                listim[j], listim[j + 1] = listim[j + 1], listim[j]\n",
    "    return listim\n",
    "\n",
    "unsorted_list = [5, 3, 8, 1, 2]\n",
    "sorted_list = bubble_sort(unsorted_list)\n",
    "print(sorted_list) "
   ]
  }
 ],
 "metadata": {
  "kernelspec": {
   "display_name": "Python 3 (ipykernel)",
   "language": "python",
   "name": "python3"
  },
  "language_info": {
   "codemirror_mode": {
    "name": "ipython",
    "version": 3
   },
   "file_extension": ".py",
   "mimetype": "text/x-python",
   "name": "python",
   "nbconvert_exporter": "python",
   "pygments_lexer": "ipython3",
   "version": "3.11.5"
  }
 },
 "nbformat": 4,
 "nbformat_minor": 5
}
