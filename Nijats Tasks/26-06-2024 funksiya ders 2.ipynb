{
 "cells": [
  {
   "cell_type": "code",
   "execution_count": 25,
   "id": "fc1d3b7d",
   "metadata": {},
   "outputs": [
    {
     "data": {
      "text/plain": [
       "[3, 5, 17]"
      ]
     },
     "execution_count": 25,
     "metadata": {},
     "output_type": "execute_result"
    }
   ],
   "source": [
    "a = [3, 5, 8, 9, 17, 22]\n",
    "bos = []\n",
    "\n",
    "def prime(a):\n",
    "    for num in a:\n",
    "        if num > 1:\n",
    "            for i in range(2, num):\n",
    "                if num % i == 0:\n",
    "                    break\n",
    "            else:\n",
    "                bos.append(num)\n",
    "    return bos\n",
    "\n",
    "prime(a)"
   ]
  },
  {
   "cell_type": "code",
   "execution_count": 30,
   "id": "cff05f68",
   "metadata": {},
   "outputs": [
    {
     "data": {
      "text/plain": [
       "6"
      ]
     },
     "execution_count": 30,
     "metadata": {},
     "output_type": "execute_result"
    }
   ],
   "source": [
    "def ebob(a, b):\n",
    "    a_bol = []\n",
    "    ebob = []\n",
    "    \n",
    "    for i in range(2, a+1):\n",
    "        if a % i ==0:\n",
    "            a_bol.append(i)\n",
    "            \n",
    "    for x in range(2, b+1):\n",
    "        if x in a_bol and b%x == 0:\n",
    "                ebob.append(x)\n",
    "    return max(ebob)\n",
    "                        \n",
    "ebob(12, 18) \n"
   ]
  },
  {
   "cell_type": "code",
   "execution_count": 34,
   "id": "344b2cd8",
   "metadata": {},
   "outputs": [
    {
     "data": {
      "text/plain": [
       "125"
      ]
     },
     "execution_count": 34,
     "metadata": {},
     "output_type": "execute_result"
    }
   ],
   "source": [
    "quvvet = lambda a,b: a**b\n",
    "\n",
    "quvvet(5,3)"
   ]
  },
  {
   "cell_type": "code",
   "execution_count": 39,
   "id": "bf7251f3",
   "metadata": {},
   "outputs": [
    {
     "data": {
      "text/plain": [
       "29"
      ]
     },
     "execution_count": 39,
     "metadata": {},
     "output_type": "execute_result"
    }
   ],
   "source": [
    "def cem(listim):\n",
    "    umumi = 0\n",
    "    for i in listim:\n",
    "        if type(i) == int:\n",
    "            umumi += i\n",
    "        else:\n",
    "            for x in i:\n",
    "                umumi +=x\n",
    "    return umumi\n",
    "                \n",
    "cem([8, [1,2,3], [4,5,6]])"
   ]
  },
  {
   "cell_type": "code",
   "execution_count": null,
   "id": "d4c01bf8",
   "metadata": {},
   "outputs": [],
   "source": []
  },
  {
   "cell_type": "code",
   "execution_count": null,
   "id": "f0176783",
   "metadata": {},
   "outputs": [],
   "source": []
  },
  {
   "cell_type": "code",
   "execution_count": null,
   "id": "0f7bf72e",
   "metadata": {},
   "outputs": [],
   "source": []
  },
  {
   "cell_type": "code",
   "execution_count": null,
   "id": "933288db",
   "metadata": {},
   "outputs": [],
   "source": []
  },
  {
   "cell_type": "code",
   "execution_count": null,
   "id": "0bfcdfa3",
   "metadata": {},
   "outputs": [],
   "source": []
  },
  {
   "cell_type": "code",
   "execution_count": null,
   "id": "0081bb20",
   "metadata": {},
   "outputs": [],
   "source": []
  },
  {
   "cell_type": "code",
   "execution_count": null,
   "id": "b4c8f9ca",
   "metadata": {},
   "outputs": [],
   "source": []
  },
  {
   "cell_type": "code",
   "execution_count": null,
   "id": "c6467a47",
   "metadata": {},
   "outputs": [],
   "source": []
  },
  {
   "cell_type": "code",
   "execution_count": null,
   "id": "be6772ca",
   "metadata": {},
   "outputs": [],
   "source": []
  },
  {
   "cell_type": "code",
   "execution_count": null,
   "id": "67ace36a",
   "metadata": {},
   "outputs": [],
   "source": []
  }
 ],
 "metadata": {
  "kernelspec": {
   "display_name": "Python 3 (ipykernel)",
   "language": "python",
   "name": "python3"
  },
  "language_info": {
   "codemirror_mode": {
    "name": "ipython",
    "version": 3
   },
   "file_extension": ".py",
   "mimetype": "text/x-python",
   "name": "python",
   "nbconvert_exporter": "python",
   "pygments_lexer": "ipython3",
   "version": "3.11.5"
  }
 },
 "nbformat": 4,
 "nbformat_minor": 5
}
