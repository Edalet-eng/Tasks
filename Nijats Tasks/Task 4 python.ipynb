{
 "cells": [
  {
   "cell_type": "markdown",
   "id": "01537a9c",
   "metadata": {},
   "source": [
    "## Easy"
   ]
  },
  {
   "cell_type": "markdown",
   "id": "594808d6",
   "metadata": {},
   "source": [
    "Task1\n",
    "Get the user's name and display how many letters are in the name."
   ]
  },
  {
   "cell_type": "code",
   "execution_count": 4,
   "id": "1681661b",
   "metadata": {},
   "outputs": [
    {
     "name": "stdout",
     "output_type": "stream",
     "text": [
      "enter a name: Nijat\n"
     ]
    },
    {
     "data": {
      "text/plain": [
       "5"
      ]
     },
     "execution_count": 4,
     "metadata": {},
     "output_type": "execute_result"
    }
   ],
   "source": [
    "user = input('enter a name: ')\n",
    "letters = 0\n",
    "for i in user:\n",
    "    letters += 1\n",
    "letters"
   ]
  },
  {
   "cell_type": "markdown",
   "id": "a76edb42",
   "metadata": {},
   "source": [
    "Task2 \n",
    "Get the user's favourite movie and display each letter on new line."
   ]
  },
  {
   "cell_type": "code",
   "execution_count": 5,
   "id": "78bc11b9",
   "metadata": {},
   "outputs": [
    {
     "name": "stdout",
     "output_type": "stream",
     "text": [
      "your fav movie: Kurtlar vadisi\n",
      "K\n",
      "u\n",
      "r\n",
      "t\n",
      "l\n",
      "a\n",
      "r\n",
      " \n",
      "v\n",
      "a\n",
      "d\n",
      "i\n",
      "s\n",
      "i\n"
     ]
    }
   ],
   "source": [
    "movie = input('your fav movie: ')\n",
    "for i in movie:\n",
    "    print(i)"
   ]
  },
  {
   "cell_type": "markdown",
   "id": "6d059250",
   "metadata": {},
   "source": [
    "Task3\n",
    "Ask a user for a sentence. Display each word of the sentence on new line."
   ]
  },
  {
   "cell_type": "code",
   "execution_count": 7,
   "id": "d68c1ff5",
   "metadata": {},
   "outputs": [
    {
     "name": "stdout",
     "output_type": "stream",
     "text": [
      "add a sentence: Ask user a sentence\n",
      "Ask\n",
      "user\n",
      "a\n",
      "sentence\n"
     ]
    }
   ],
   "source": [
    "sent = input('add a sentence: ')\n",
    "for i in sent.split(' '):\n",
    "    print(i)"
   ]
  },
  {
   "cell_type": "markdown",
   "id": "c4f1fb20",
   "metadata": {},
   "source": [
    "Task4 Ask a user for a text. Display each sentence of the text on new line."
   ]
  },
  {
   "cell_type": "code",
   "execution_count": 10,
   "id": "80e41406",
   "metadata": {},
   "outputs": [
    {
     "name": "stdout",
     "output_type": "stream",
     "text": [
      "add a text: His seven-layer cake only had six layers. Three years later, the coffin was still full of Jello. It's me Nijat.\n",
      "His seven-layer cake only had six layers\n",
      " Three years later, the coffin was still full of Jello\n",
      " It's me Nijat\n",
      "\n"
     ]
    }
   ],
   "source": [
    "txt = input('add a text: ')\n",
    "for i in txt.split('.'):\n",
    "    print(i)"
   ]
  },
  {
   "cell_type": "markdown",
   "id": "2fae2f93",
   "metadata": {},
   "source": [
    "Ask a user for a name. If name starts with the letter \"z\" display the message \"Rare name\". The program must be case-insensitive."
   ]
  },
  {
   "cell_type": "code",
   "execution_count": 47,
   "id": "144943d0",
   "metadata": {},
   "outputs": [
    {
     "name": "stdout",
     "output_type": "stream",
     "text": [
      "add your name: Zaur\n",
      "rare name\n"
     ]
    }
   ],
   "source": [
    "name = input('add your name: ')\n",
    "for i in name:\n",
    "    if (i.lower()).startswith('z'):\n",
    "        print('rare name')"
   ]
  },
  {
   "cell_type": "markdown",
   "id": "18bd9e56",
   "metadata": {},
   "source": [
    "Ask a user for a text and count the amount of vowels and consonants in the text."
   ]
  },
  {
   "cell_type": "code",
   "execution_count": 31,
   "id": "0ab27af6",
   "metadata": {
    "scrolled": true
   },
   "outputs": [
    {
     "name": "stdout",
     "output_type": "stream",
     "text": [
      "add a text: salam, nicat\n",
      "count of vowels in text: 4,\n",
      "count of consonants in text: 6\n"
     ]
    }
   ],
   "source": [
    "txt = input('add a text: ')\n",
    "vowels = 'AIOUE'\n",
    "cons = 'BCDFGHJKLMNPQRSTVWXYZ'\n",
    "vowel_count = 0\n",
    "cons_count = 0\n",
    "for letters in txt:\n",
    "    if letters.upper() in vowels:\n",
    "        vowel_count += 1\n",
    "    elif letters.upper() in cons:\n",
    "        cons_count += 1\n",
    "print(f'count of vowels in text: {vowel_count},\\ncount of consonants in text: {cons_count}')"
   ]
  },
  {
   "cell_type": "markdown",
   "id": "3ef0dd3c",
   "metadata": {},
   "source": [
    "Ask a user for a sentence and display how many special characters (?, ., ', *, etc.) are in the sentence."
   ]
  },
  {
   "cell_type": "code",
   "execution_count": 35,
   "id": "3ef2d8d2",
   "metadata": {},
   "outputs": [
    {
     "name": "stdout",
     "output_type": "stream",
     "text": [
      "add a sentence: salam; menim adim @#Nicatdir !??!\n",
      "7\n"
     ]
    }
   ],
   "source": [
    "sentence = input('add a sentence: ')\n",
    "chars = '!,@,#,$,%,^,&,*,(,),-,_,=+,\\,|,[,],{,},;,:,/,?,.,>'\n",
    "spec_chars = 0\n",
    "for i in sentence:\n",
    "    if i in chars.split(','):\n",
    "        spec_chars += 1\n",
    "print(spec_chars)"
   ]
  },
  {
   "cell_type": "markdown",
   "id": "3a2aab12",
   "metadata": {},
   "source": [
    "You are given a list. Join the elements of a list into one string value and display it."
   ]
  },
  {
   "cell_type": "code",
   "execution_count": 51,
   "id": "b839bb4f",
   "metadata": {},
   "outputs": [
    {
     "data": {
      "text/plain": [
       "'Hello 100 spartans lost the battle in 100 BC 23'"
      ]
     },
     "execution_count": 51,
     "metadata": {},
     "output_type": "execute_result"
    }
   ],
   "source": [
    "\"\"\"\n",
    "LIST 1\n",
    "\"\"\"\n",
    "values = [\"Hello\", \"100\", \"spartans\", \"lost\", \"the\", \"battle\", \"in\", \"100\", \"BC\",\"23\"]\n",
    "joined = \" \".join(values)\n",
    "joined"
   ]
  },
  {
   "cell_type": "code",
   "execution_count": 58,
   "id": "d6c3abdd",
   "metadata": {},
   "outputs": [
    {
     "data": {
      "text/plain": [
       "'Hello 100 spartans lost the battle in 100 BC'"
      ]
     },
     "execution_count": 58,
     "metadata": {},
     "output_type": "execute_result"
    }
   ],
   "source": [
    "\"\"\"\n",
    "LIST 2\n",
    "\"\"\"\n",
    "values = [\"Hello\", 100, \"spartans\", \"lost\", \"the\", \"battle\", \"in\", 100, \"BC\"]\n",
    "joined = \" \".join(map(str, values))\n",
    "joined"
   ]
  },
  {
   "cell_type": "markdown",
   "id": "2945df8e",
   "metadata": {},
   "source": [
    "The user inputs an integer value. Display how many digits are in the integer."
   ]
  },
  {
   "cell_type": "code",
   "execution_count": 38,
   "id": "695aaf28",
   "metadata": {},
   "outputs": [
    {
     "name": "stdout",
     "output_type": "stream",
     "text": [
      "add an integer: 485874\n"
     ]
    },
    {
     "data": {
      "text/plain": [
       "6"
      ]
     },
     "execution_count": 38,
     "metadata": {},
     "output_type": "execute_result"
    }
   ],
   "source": [
    "value = int(input('add an integer: '))\n",
    "digits = 0\n",
    "for i in str(value):\n",
    "    digits += 1\n",
    "digits"
   ]
  },
  {
   "cell_type": "markdown",
   "id": "ec71c5a3",
   "metadata": {},
   "source": [
    "Ask a user for a text input and extract all digits to a new string.\n",
    "\n",
    "Example\n",
    "\n",
    "Input: I am 20 years old\n",
    "\n",
    "Output: 20"
   ]
  },
  {
   "cell_type": "code",
   "execution_count": 43,
   "id": "aab62ad3",
   "metadata": {},
   "outputs": [
    {
     "name": "stdout",
     "output_type": "stream",
     "text": [
      "add a text: i was born in 2004\n",
      "output:  2004\n"
     ]
    }
   ],
   "source": [
    "txt = input('add a text: ')\n",
    "new_str = ''\n",
    "for i in txt:\n",
    "    if i in '1234567890':\n",
    "        new_str+=i\n",
    "print(\"output: \", new_str)"
   ]
  },
  {
   "cell_type": "markdown",
   "id": "d31d062e",
   "metadata": {},
   "source": [
    "## Intermediate"
   ]
  },
  {
   "cell_type": "markdown",
   "id": "57a752db",
   "metadata": {},
   "source": [
    "The user inputs a text and then one letter. There must be only one letter. Get the user's letter input while condition is unsatisfied. The program must count the amount of occurances of this letter in the inputted text."
   ]
  },
  {
   "cell_type": "code",
   "execution_count": null,
   "id": "5620cb70",
   "metadata": {},
   "outputs": [],
   "source": [
    "txt = input('add a text: ')\n",
    "letter = input('add a letter: ')\n"
   ]
  },
  {
   "cell_type": "markdown",
   "id": "dc687f06",
   "metadata": {},
   "source": [
    "Get a text input from a user. And replace all \"e\" letters to \"$\". Display the result."
   ]
  },
  {
   "cell_type": "code",
   "execution_count": 8,
   "id": "74471d79",
   "metadata": {},
   "outputs": [
    {
     "name": "stdout",
     "output_type": "stream",
     "text": [
      "add a text: salam menim adim EEsmerdir\n"
     ]
    },
    {
     "data": {
      "text/plain": [
       "'salam m$nim adim $$sm$rdir'"
      ]
     },
     "execution_count": 8,
     "metadata": {},
     "output_type": "execute_result"
    }
   ],
   "source": [
    "txt = input('add a text: ')\n",
    "new_txt = ''\n",
    "for i in txt:\n",
    "    if i.lower() == 'e':\n",
    "        txt = txt.replace(i, '$')\n",
    "txt"
   ]
  },
  {
   "cell_type": "markdown",
   "id": "b3a213fd",
   "metadata": {},
   "source": [
    "Get a two word input from the user, seperated by whitespace. Swap the first letters of each word.\n",
    "\n",
    "Example\n",
    "\n",
    "Sample String : 'rat founder'\n",
    "\n",
    "Expected Result : 'fat rounder'"
   ]
  },
  {
   "cell_type": "code",
   "execution_count": null,
   "id": "2cfc8aaf",
   "metadata": {},
   "outputs": [],
   "source": [
    "user = input('add a 2-word-input: ')\n",
    "word = user.split()\n",
    "new1, "
   ]
  },
  {
   "cell_type": "markdown",
   "id": "ae75790b",
   "metadata": {},
   "source": [
    "Get user input in the form of text. And find the longest word in the text."
   ]
  },
  {
   "cell_type": "code",
   "execution_count": null,
   "id": "ff9ddf9f",
   "metadata": {},
   "outputs": [],
   "source": []
  },
  {
   "cell_type": "markdown",
   "id": "d09839ca",
   "metadata": {},
   "source": [
    "Ask the user for a float input and display all digits upto 2 decimal places with a sign\n",
    "\n",
    "Example\n",
    "\n",
    "Input: 78885.93198123\n",
    "\n",
    "Output: 78885.93"
   ]
  },
  {
   "cell_type": "code",
   "execution_count": null,
   "id": "e2bdb2bf",
   "metadata": {},
   "outputs": [],
   "source": []
  },
  {
   "cell_type": "markdown",
   "id": "ada6a490",
   "metadata": {},
   "source": [
    "Ask a user for an input and reverse it.\n",
    "\n",
    "Example\n",
    "\n",
    "Input: Science\n",
    "\n",
    "Output: Ecneics"
   ]
  },
  {
   "cell_type": "code",
   "execution_count": 6,
   "id": "61286b8c",
   "metadata": {},
   "outputs": [
    {
     "name": "stdout",
     "output_type": "stream",
     "text": [
      "add a text: salam\n"
     ]
    },
    {
     "data": {
      "text/plain": [
       "'malas'"
      ]
     },
     "execution_count": 6,
     "metadata": {},
     "output_type": "execute_result"
    }
   ],
   "source": [
    "a = input('add a text: ')\n",
    "rev = ''\n",
    "for i in a:\n",
    "    rev = i + rev\n",
    "rev"
   ]
  },
  {
   "cell_type": "markdown",
   "id": "54885dbb",
   "metadata": {},
   "source": [
    "Ask a user for an integer input and find the sum of its digits.\n",
    "\n",
    "Example\n",
    "\n",
    "Input: 2536\n",
    "\n",
    "Output: 2+5+3+6 = 16"
   ]
  },
  {
   "cell_type": "code",
   "execution_count": 14,
   "id": "d3f9d8be",
   "metadata": {},
   "outputs": [
    {
     "name": "stdout",
     "output_type": "stream",
     "text": [
      "add an integer: 34\n"
     ]
    },
    {
     "data": {
      "text/plain": [
       "7"
      ]
     },
     "execution_count": 14,
     "metadata": {},
     "output_type": "execute_result"
    }
   ],
   "source": [
    "integ = int(input('add an integer: '))\n",
    "sumof = 0\n",
    "for i in str(integ):\n",
    "    sumof += int(i)\n",
    "sumof"
   ]
  },
  {
   "cell_type": "markdown",
   "id": "975c5fbf",
   "metadata": {},
   "source": [
    "Ask a user for an input and remove all consecutive duplicate occurences.\n",
    "\n",
    "Example\n",
    "\n",
    "Input: Ladder\n",
    "\n",
    "Output: Lader"
   ]
  },
  {
   "cell_type": "code",
   "execution_count": 13,
   "id": "1d970ae2",
   "metadata": {},
   "outputs": [
    {
     "name": "stdout",
     "output_type": "stream",
     "text": [
      "add a str: salam, rabbit, engineer\n"
     ]
    },
    {
     "data": {
      "text/plain": [
       "'salm, rbiteng'"
      ]
     },
     "execution_count": 13,
     "metadata": {},
     "output_type": "execute_result"
    }
   ],
   "source": [
    "a = input('add a str: ')\n",
    "b = ''\n",
    "for i in a:\n",
    "    if i not in b:\n",
    "        b += i\n",
    "b"
   ]
  },
  {
   "cell_type": "markdown",
   "id": "7931f544",
   "metadata": {},
   "source": [
    "Write a Python program that will check if all of the letters of the first string are in second string. Your code should ignore whitespace.\n",
    "\n",
    "Example:\n",
    "\n",
    "First: Tom Marvolo Riddle\n",
    "\n",
    "Second: IamLordVoldemort\n",
    "\n",
    "Condition is satisfied\n",
    "\n",
    "First: code\n",
    "\n",
    "Second: Decode\n",
    "\n",
    "Condition is satisfied\n",
    "\n",
    "First: Decode\n",
    "\n",
    "Second: code\n",
    "\n",
    "Condition is not satisfied"
   ]
  },
  {
   "cell_type": "code",
   "execution_count": 22,
   "id": "281eb2a3",
   "metadata": {},
   "outputs": [
    {
     "name": "stdout",
     "output_type": "stream",
     "text": [
      "add first txt: code\n",
      "add second txt: decode\n",
      "condition is satisfies\n",
      "condition is satisfies\n",
      "condition is satisfies\n",
      "condition is satisfies\n"
     ]
    }
   ],
   "source": [
    "first = input('add first txt: ')\n",
    "second = input('add second txt: ')\n",
    "\n",
    "for i in first:\n",
    "    if i in second:\n",
    "        print('condition is satisfied')\n",
    "    else:\n",
    "        print('condition is not satisfied')"
   ]
  },
  {
   "cell_type": "markdown",
   "id": "93c780a7",
   "metadata": {},
   "source": [
    "Display unique characters in a user-inputted string.\n",
    "\n",
    "Example\n",
    "\n",
    "Input: I like flowers\n",
    "\n",
    "Output: i, l, k, e, f, o, w, r, s"
   ]
  },
  {
   "cell_type": "code",
   "execution_count": null,
   "id": "c345ace1",
   "metadata": {},
   "outputs": [],
   "source": []
  },
  {
   "cell_type": "markdown",
   "id": "c4c5afd6",
   "metadata": {},
   "source": [
    "Recreate the following pattern\n",
    "\n",
    "1\n",
    "\n",
    "1 1\n",
    "\n",
    "1 1 1\n",
    "\n",
    "1 1 1 1\n",
    "\n",
    "1 1 1 1 1\n",
    "\n",
    "1 1 1 1\n",
    "\n",
    "1 1 1\n",
    "\n",
    "1 1\n",
    "\n",
    "1"
   ]
  },
  {
   "cell_type": "code",
   "execution_count": 23,
   "id": "2277898a",
   "metadata": {},
   "outputs": [
    {
     "name": "stdout",
     "output_type": "stream",
     "text": [
      "1\n",
      "1\n",
      "1\n",
      "1\n",
      "1\n"
     ]
    }
   ],
   "source": [
    "for i in range(5):\n",
    "    print(1)"
   ]
  },
  {
   "cell_type": "code",
   "execution_count": null,
   "id": "1218ab07",
   "metadata": {},
   "outputs": [],
   "source": []
  }
 ],
 "metadata": {
  "kernelspec": {
   "display_name": "Python 3 (ipykernel)",
   "language": "python",
   "name": "python3"
  },
  "language_info": {
   "codemirror_mode": {
    "name": "ipython",
    "version": 3
   },
   "file_extension": ".py",
   "mimetype": "text/x-python",
   "name": "python",
   "nbconvert_exporter": "python",
   "pygments_lexer": "ipython3",
   "version": "3.11.5"
  }
 },
 "nbformat": 4,
 "nbformat_minor": 5
}
