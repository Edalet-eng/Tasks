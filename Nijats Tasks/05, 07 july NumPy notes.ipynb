{
 "cells": [
  {
   "cell_type": "code",
   "execution_count": 29,
   "id": "7f5c152a",
   "metadata": {},
   "outputs": [],
   "source": [
    "import numpy as np"
   ]
  },
  {
   "cell_type": "code",
   "execution_count": 2,
   "id": "22f26fd1",
   "metadata": {},
   "outputs": [],
   "source": [
    "a= np.array([1,2,5,6,7,0,44,9])\n",
    "b= np.array([11,6,8,9,87,69])"
   ]
  },
  {
   "cell_type": "code",
   "execution_count": 3,
   "id": "d243cc63",
   "metadata": {},
   "outputs": [
    {
     "name": "stdout",
     "output_type": "stream",
     "text": [
      "[1, 2, 5, 7, 0, 44]\n"
     ]
    }
   ],
   "source": [
    "bos = []\n",
    "for i in a:\n",
    "    if i not in b:\n",
    "        bos.append(i)\n",
    "\n",
    "print(bos)"
   ]
  },
  {
   "cell_type": "code",
   "execution_count": 7,
   "id": "0e921847",
   "metadata": {
    "scrolled": true
   },
   "outputs": [
    {
     "name": "stdout",
     "output_type": "stream",
     "text": [
      "6\n"
     ]
    }
   ],
   "source": [
    "m = a[0]\n",
    "m_i = 0\n",
    "for i in range(len(a)):\n",
    "    if a[i] > m:\n",
    "        m=a[i]\n",
    "        m_i=i\n",
    "print(m_i)"
   ]
  },
  {
   "cell_type": "code",
   "execution_count": 8,
   "id": "55601458",
   "metadata": {},
   "outputs": [
    {
     "data": {
      "text/plain": [
       "5"
      ]
     },
     "execution_count": 8,
     "metadata": {},
     "output_type": "execute_result"
    }
   ],
   "source": [
    "a.argmin()"
   ]
  },
  {
   "cell_type": "code",
   "execution_count": null,
   "id": "2285580c",
   "metadata": {},
   "outputs": [],
   "source": []
  },
  {
   "cell_type": "markdown",
   "id": "76747424",
   "metadata": {},
   "source": [
    "-----"
   ]
  },
  {
   "cell_type": "code",
   "execution_count": 40,
   "id": "faee385e",
   "metadata": {},
   "outputs": [
    {
     "data": {
      "text/plain": [
       "array([[ 0,  1,  2,  3,  4],\n",
       "       [ 5,  6,  7,  8,  9],\n",
       "       [10, 11, 12, 13, 14],\n",
       "       [15, 16, 17, 18, 19],\n",
       "       [20, 21, 22, 23, 24]])"
      ]
     },
     "execution_count": 40,
     "metadata": {},
     "output_type": "execute_result"
    }
   ],
   "source": [
    "a = np.arange(25)\n",
    "a = a.reshape((5,5))\n",
    "a"
   ]
  },
  {
   "cell_type": "code",
   "execution_count": 44,
   "id": "03575094",
   "metadata": {},
   "outputs": [],
   "source": [
    "z = np.random.shuffle(a)"
   ]
  },
  {
   "cell_type": "code",
   "execution_count": 45,
   "id": "e5a03ce5",
   "metadata": {},
   "outputs": [],
   "source": [
    "z"
   ]
  },
  {
   "cell_type": "code",
   "execution_count": 17,
   "id": "0c9abfac",
   "metadata": {},
   "outputs": [
    {
     "data": {
      "text/plain": [
       "array([ 0,  6, 12, 18, 24])"
      ]
     },
     "execution_count": 17,
     "metadata": {},
     "output_type": "execute_result"
    }
   ],
   "source": [
    "a[[0,1,2,3,4], [0,1,2,3,4]]"
   ]
  },
  {
   "cell_type": "code",
   "execution_count": 20,
   "id": "22c27e52",
   "metadata": {},
   "outputs": [
    {
     "data": {
      "text/plain": [
       "array([ 0,  6, 12, 18, 24])"
      ]
     },
     "execution_count": 20,
     "metadata": {},
     "output_type": "execute_result"
    }
   ],
   "source": [
    "np.diag(a)"
   ]
  },
  {
   "cell_type": "code",
   "execution_count": 22,
   "id": "a1f43d05",
   "metadata": {},
   "outputs": [
    {
     "data": {
      "text/plain": [
       "array([ 2.,  4., nan,  6.,  8., nan, 10., 12., nan, nan, 65.])"
      ]
     },
     "execution_count": 22,
     "metadata": {},
     "output_type": "execute_result"
    }
   ],
   "source": [
    "nans = np.array([2, 4, np.nan, 6, 8, np.nan, 10, 12, np.nan, np.nan, 65])\n",
    "nans"
   ]
  },
  {
   "cell_type": "code",
   "execution_count": 23,
   "id": "27b64815",
   "metadata": {},
   "outputs": [
    {
     "data": {
      "text/plain": [
       "array([False, False,  True, False, False,  True, False, False,  True,\n",
       "        True, False])"
      ]
     },
     "execution_count": 23,
     "metadata": {},
     "output_type": "execute_result"
    }
   ],
   "source": [
    "np.isnan(nans)"
   ]
  },
  {
   "cell_type": "code",
   "execution_count": 24,
   "id": "4493d1bf",
   "metadata": {},
   "outputs": [
    {
     "data": {
      "text/plain": [
       "array(['nicat', 'esmer', 'xeyale', 'fuad', 'edalet'], dtype='<U6')"
      ]
     },
     "execution_count": 24,
     "metadata": {},
     "output_type": "execute_result"
    }
   ],
   "source": [
    "adlar = np.array(['nicat', 'esmer', 'xeyale', 'fuad', 'edalet'])\n",
    "adlar"
   ]
  },
  {
   "cell_type": "code",
   "execution_count": 28,
   "id": "1a1f0b67",
   "metadata": {},
   "outputs": [
    {
     "data": {
      "text/plain": [
       "array([ 3, -1,  3,  2,  2])"
      ]
     },
     "execution_count": 28,
     "metadata": {},
     "output_type": "execute_result"
    }
   ],
   "source": [
    "np.char.find(adlar, 'a')"
   ]
  },
  {
   "cell_type": "code",
   "execution_count": 53,
   "id": "a77af990",
   "metadata": {},
   "outputs": [
    {
     "data": {
      "text/plain": [
       "array([[ 7,  2,  5,  6, 35],\n",
       "       [29, 12,  8,  7,  4],\n",
       "       [24, 45, 33, 13,  8],\n",
       "       [44, 45, 27, 34, 49],\n",
       "       [13, 47, 25, 39, 16]])"
      ]
     },
     "execution_count": 53,
     "metadata": {},
     "output_type": "execute_result"
    }
   ],
   "source": [
    "a = np.random.randint(1, 51, (5,5))\n",
    "a"
   ]
  },
  {
   "cell_type": "code",
   "execution_count": 54,
   "id": "1a0f1d3f",
   "metadata": {},
   "outputs": [
    {
     "data": {
      "text/plain": [
       "array([[ 2,  5,  6,  7, 35],\n",
       "       [ 4,  7,  8, 12, 29],\n",
       "       [ 8, 13, 24, 33, 45],\n",
       "       [27, 34, 44, 45, 49],\n",
       "       [13, 16, 25, 39, 47]])"
      ]
     },
     "execution_count": 54,
     "metadata": {},
     "output_type": "execute_result"
    }
   ],
   "source": [
    "np.sort(a)"
   ]
  },
  {
   "cell_type": "code",
   "execution_count": 56,
   "id": "6013dd8e",
   "metadata": {},
   "outputs": [
    {
     "data": {
      "text/plain": [
       "array([[ 7,  2,  5,  6,  4],\n",
       "       [13, 12,  8,  7,  8],\n",
       "       [24, 45, 25, 13, 16],\n",
       "       [29, 45, 27, 34, 35],\n",
       "       [44, 47, 33, 39, 49]])"
      ]
     },
     "execution_count": 56,
     "metadata": {},
     "output_type": "execute_result"
    }
   ],
   "source": [
    "np.sort(a, axis = 0)"
   ]
  },
  {
   "cell_type": "code",
   "execution_count": null,
   "id": "a8639dea",
   "metadata": {},
   "outputs": [],
   "source": []
  },
  {
   "cell_type": "code",
   "execution_count": null,
   "id": "b3dd8b1b",
   "metadata": {},
   "outputs": [],
   "source": []
  },
  {
   "cell_type": "code",
   "execution_count": null,
   "id": "3a3a1ed0",
   "metadata": {},
   "outputs": [],
   "source": []
  },
  {
   "cell_type": "code",
   "execution_count": null,
   "id": "9fedd5fa",
   "metadata": {},
   "outputs": [],
   "source": []
  }
 ],
 "metadata": {
  "kernelspec": {
   "display_name": "Python 3 (ipykernel)",
   "language": "python",
   "name": "python3"
  },
  "language_info": {
   "codemirror_mode": {
    "name": "ipython",
    "version": 3
   },
   "file_extension": ".py",
   "mimetype": "text/x-python",
   "name": "python",
   "nbconvert_exporter": "python",
   "pygments_lexer": "ipython3",
   "version": "3.11.5"
  }
 },
 "nbformat": 4,
 "nbformat_minor": 5
}
