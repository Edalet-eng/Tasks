{
 "cells": [
  {
   "cell_type": "code",
   "execution_count": 4,
   "id": "bebe8daf",
   "metadata": {},
   "outputs": [
    {
     "name": "stdout",
     "output_type": "stream",
     "text": [
      "input a text: bababsbas\n",
      "bas\n"
     ]
    }
   ],
   "source": [
    "# remove duplicate elements from a string\n",
    "text = input('input a text: ')\n",
    "empty = ''\n",
    "for i in text:\n",
    "    if i not in empty:\n",
    "        empty += i\n",
    "print(empty)"
   ]
  },
  {
   "cell_type": "code",
   "execution_count": 14,
   "id": "8c3b0f3a",
   "metadata": {},
   "outputs": [
    {
     "name": "stdout",
     "output_type": "stream",
     "text": [
      "input a text: meheheh aaa ss\n",
      "meheheh\n"
     ]
    }
   ],
   "source": [
    "# add a text, choose longest word\n",
    "text = input('input a text: ')\n",
    "maks = text[0]\n",
    "for i in text.split(' '):\n",
    "    if len(i) > len(maks):\n",
    "        maks = i\n",
    "        print(maks)"
   ]
  },
  {
   "cell_type": "code",
   "execution_count": 23,
   "id": "a2a4e15c",
   "metadata": {},
   "outputs": [],
   "source": [
    "# en kicik cumleni sec\n",
    "\n",
    "cumle = ''' It was always dangerous to drive with him since he insisted the safety cones were a slalom course.\n",
    "While all her friends were positive that Mary had a sixth sense, she knew she actually had a seventh sense.\n",
    "There have been days when I wished to be separated from my body, but today wasn’t one of those days.\n",
    "Love is not like pizza.'''"
   ]
  },
  {
   "cell_type": "code",
   "execution_count": 24,
   "id": "5954ee14",
   "metadata": {},
   "outputs": [
    {
     "name": "stdout",
     "output_type": "stream",
     "text": [
      "\n",
      "Love is not like pizza\n",
      "\n"
     ]
    }
   ],
   "source": [
    "cumle = cumle.split('.')\n",
    "minim = cumle[0]\n",
    "for i in cumle:\n",
    "    if len(i) < len(minim):\n",
    "        minim = i\n",
    "        print(minim)"
   ]
  },
  {
   "cell_type": "code",
   "execution_count": null,
   "id": "8975faf5",
   "metadata": {},
   "outputs": [],
   "source": []
  }
 ],
 "metadata": {
  "kernelspec": {
   "display_name": "Python 3 (ipykernel)",
   "language": "python",
   "name": "python3"
  },
  "language_info": {
   "codemirror_mode": {
    "name": "ipython",
    "version": 3
   },
   "file_extension": ".py",
   "mimetype": "text/x-python",
   "name": "python",
   "nbconvert_exporter": "python",
   "pygments_lexer": "ipython3",
   "version": "3.11.5"
  }
 },
 "nbformat": 4,
 "nbformat_minor": 5
}
