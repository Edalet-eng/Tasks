{
 "cells": [
  {
   "cell_type": "markdown",
   "id": "641f3135",
   "metadata": {},
   "source": [
    "Create a function named hello that displays \"Hello World\" message when called"
   ]
  },
  {
   "cell_type": "code",
   "execution_count": null,
   "id": "86cd30d6",
   "metadata": {},
   "outputs": [],
   "source": []
  },
  {
   "cell_type": "markdown",
   "id": "a3a59ffd",
   "metadata": {},
   "source": [
    "Create a fucntion that gets a name as an argument and displays a greeting message like \"Hello David\""
   ]
  },
  {
   "cell_type": "code",
   "execution_count": null,
   "id": "3b3e5059",
   "metadata": {},
   "outputs": [],
   "source": []
  },
  {
   "cell_type": "markdown",
   "id": "4c92e4a6",
   "metadata": {},
   "source": [
    "Create a function that takes two numbers and returns their sum"
   ]
  },
  {
   "cell_type": "code",
   "execution_count": null,
   "id": "8a3d7633",
   "metadata": {},
   "outputs": [],
   "source": []
  },
  {
   "cell_type": "markdown",
   "id": "d986ba9c",
   "metadata": {},
   "source": [
    "Create a function that takes three arguments, the first two are numbers and the third argument is an operation(+, -, :, *). Function returns the result of the calculation based on the operation."
   ]
  },
  {
   "cell_type": "code",
   "execution_count": null,
   "id": "6fe1a050",
   "metadata": {},
   "outputs": [],
   "source": []
  },
  {
   "cell_type": "markdown",
   "id": "4f850d4d",
   "metadata": {},
   "source": [
    "Create a function that takes one list as an arguments and returns the sum of all elements"
   ]
  },
  {
   "cell_type": "code",
   "execution_count": null,
   "id": "edb31fd9",
   "metadata": {},
   "outputs": [],
   "source": []
  },
  {
   "cell_type": "markdown",
   "id": "19d1d44a",
   "metadata": {},
   "source": [
    "Create a function that takes one list as an arguments and returns maximum elements in the list"
   ]
  },
  {
   "cell_type": "code",
   "execution_count": null,
   "id": "652c1112",
   "metadata": {},
   "outputs": [],
   "source": []
  },
  {
   "cell_type": "markdown",
   "id": "e61bb523",
   "metadata": {},
   "source": [
    "Create a function that takes one list as an arguments and returns the maximum element in the list"
   ]
  },
  {
   "cell_type": "code",
   "execution_count": null,
   "id": "0099a08a",
   "metadata": {},
   "outputs": [],
   "source": []
  },
  {
   "cell_type": "markdown",
   "id": "100d2d02",
   "metadata": {},
   "source": [
    "Create a function that returns the area of a circle based on its radiu"
   ]
  },
  {
   "cell_type": "code",
   "execution_count": null,
   "id": "ece1a269",
   "metadata": {},
   "outputs": [],
   "source": []
  },
  {
   "cell_type": "markdown",
   "id": "5033cb61",
   "metadata": {},
   "source": [
    "Create a function that returns the circumference of the circle based on its radius"
   ]
  },
  {
   "cell_type": "code",
   "execution_count": null,
   "id": "a8dc85f8",
   "metadata": {},
   "outputs": [],
   "source": []
  },
  {
   "cell_type": "markdown",
   "id": "8401f816",
   "metadata": {},
   "source": [
    "Create a function that takes a name as an argument and returns the first letter of the name."
   ]
  },
  {
   "cell_type": "code",
   "execution_count": null,
   "id": "62045493",
   "metadata": {},
   "outputs": [],
   "source": []
  },
  {
   "cell_type": "markdown",
   "id": "fc40ad74",
   "metadata": {},
   "source": [
    "Create a function that accepts an age argument and returns how much years left until it reaches 100."
   ]
  },
  {
   "cell_type": "code",
   "execution_count": null,
   "id": "de4b1d69",
   "metadata": {},
   "outputs": [],
   "source": []
  },
  {
   "cell_type": "markdown",
   "id": "17f78943",
   "metadata": {},
   "source": [
    "Create a function that given x returns the value of a function\n",
    "# y = e^x"
   ]
  },
  {
   "cell_type": "code",
   "execution_count": null,
   "id": "71972615",
   "metadata": {},
   "outputs": [],
   "source": []
  },
  {
   "cell_type": "markdown",
   "id": "862633a1",
   "metadata": {},
   "source": [
    "Create a function that takes two lists as arguments and returns their intersection."
   ]
  },
  {
   "cell_type": "code",
   "execution_count": null,
   "id": "845a04d9",
   "metadata": {},
   "outputs": [],
   "source": []
  },
  {
   "cell_type": "markdown",
   "id": "a88eeda1",
   "metadata": {},
   "source": [
    "Create a function that takes one number as an argument and returns true if the number is prime, otherwise it returs false"
   ]
  },
  {
   "cell_type": "code",
   "execution_count": null,
   "id": "ef363a92",
   "metadata": {},
   "outputs": [],
   "source": []
  },
  {
   "cell_type": "markdown",
   "id": "76e07842",
   "metadata": {},
   "source": [
    "Create a function that takes a number as an argument(n). The function returns a list of first n odd numbers."
   ]
  },
  {
   "cell_type": "code",
   "execution_count": null,
   "id": "3eb5efb4",
   "metadata": {},
   "outputs": [],
   "source": []
  },
  {
   "cell_type": "markdown",
   "id": "a7b2c864",
   "metadata": {},
   "source": [
    "Create a function that takes a number as an argument (n). The function returns a list of n prime numbers."
   ]
  },
  {
   "cell_type": "code",
   "execution_count": null,
   "id": "cd474154",
   "metadata": {},
   "outputs": [],
   "source": []
  },
  {
   "cell_type": "markdown",
   "id": "1ff891c9",
   "metadata": {},
   "source": [
    "Create a function that reverses a string."
   ]
  },
  {
   "cell_type": "code",
   "execution_count": null,
   "id": "d364f9d9",
   "metadata": {},
   "outputs": [],
   "source": []
  },
  {
   "cell_type": "markdown",
   "id": "33ec5d48",
   "metadata": {},
   "source": [
    "Create a function that takes a word as an arguments and returns true if the word is a polyndrome, otherwise it returns false."
   ]
  },
  {
   "cell_type": "code",
   "execution_count": null,
   "id": "20a7cfff",
   "metadata": {},
   "outputs": [],
   "source": []
  },
  {
   "cell_type": "markdown",
   "id": "12b2cef1",
   "metadata": {},
   "source": [
    "Create a function that calculates the factorial of the number argument."
   ]
  },
  {
   "cell_type": "code",
   "execution_count": null,
   "id": "b8818cc9",
   "metadata": {},
   "outputs": [],
   "source": []
  },
  {
   "cell_type": "markdown",
   "id": "db1cf39e",
   "metadata": {},
   "source": [
    "Create a function that takes a list as an argument and returns the unique elements of a list."
   ]
  },
  {
   "cell_type": "code",
   "execution_count": null,
   "id": "90beec9a",
   "metadata": {},
   "outputs": [],
   "source": []
  },
  {
   "cell_type": "markdown",
   "id": "497bab33",
   "metadata": {},
   "source": [
    "Create a function that takes a list as an argument and returns the sorted list."
   ]
  },
  {
   "cell_type": "code",
   "execution_count": null,
   "id": "6b574d5d",
   "metadata": {},
   "outputs": [],
   "source": []
  },
  {
   "cell_type": "markdown",
   "id": "1f98396f",
   "metadata": {},
   "source": [
    "Create a function that takes three arguments. The first argument is a tuple, the second argument represents an index, the third argument represents the value. The function must change the tuple value at specified index with specified value."
   ]
  },
  {
   "cell_type": "code",
   "execution_count": null,
   "id": "bbef63d7",
   "metadata": {},
   "outputs": [],
   "source": []
  }
 ],
 "metadata": {
  "kernelspec": {
   "display_name": "Python 3 (ipykernel)",
   "language": "python",
   "name": "python3"
  },
  "language_info": {
   "codemirror_mode": {
    "name": "ipython",
    "version": 3
   },
   "file_extension": ".py",
   "mimetype": "text/x-python",
   "name": "python",
   "nbconvert_exporter": "python",
   "pygments_lexer": "ipython3",
   "version": "3.9.12"
  }
 },
 "nbformat": 4,
 "nbformat_minor": 5
}
