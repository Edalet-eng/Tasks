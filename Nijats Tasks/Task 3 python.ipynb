{
 "cells": [
  {
   "cell_type": "markdown",
   "id": "641f3135",
   "metadata": {},
   "source": [
    "Create a list of animals and display them in one line"
   ]
  },
  {
   "cell_type": "code",
   "execution_count": 1,
   "id": "86cd30d6",
   "metadata": {},
   "outputs": [
    {
     "data": {
      "text/plain": [
       "['lion', 'giraffe', 'cat', 'rabbit', 'wolf', 'penguin']"
      ]
     },
     "execution_count": 1,
     "metadata": {},
     "output_type": "execute_result"
    }
   ],
   "source": [
    "animals = ['lion', 'giraffe', 'cat', 'rabbit', 'wolf', 'penguin']\n",
    "animals"
   ]
  },
  {
   "cell_type": "markdown",
   "id": "a3a59ffd",
   "metadata": {},
   "source": [
    "----\n",
    "Create a program that finds; minum, maximum, average number in a list of random numbers.\n",
    "\n",
    "YOU ARE NOT ALLOWED TO USE BUILT-IN FUNCTIONS LIKE max(), min(), avg()"
   ]
  },
  {
   "cell_type": "code",
   "execution_count": 8,
   "id": "3b3e5059",
   "metadata": {},
   "outputs": [],
   "source": [
    "numbers = [7, 3, 5, 1, 9, 2, 4, 10, 6, 8]"
   ]
  },
  {
   "cell_type": "code",
   "execution_count": 16,
   "id": "2d8c9aa7",
   "metadata": {},
   "outputs": [
    {
     "name": "stdout",
     "output_type": "stream",
     "text": [
      "minimum number is: 1\n",
      "index of its is: 3\n"
     ]
    }
   ],
   "source": [
    "# finding the minimum\n",
    "minimum = numbers[0]\n",
    "for i in numbers:\n",
    "    if i < minimum:\n",
    "        minimum = i\n",
    "print(f'minimum number is: {minimum}\\nindex of its is: {numbers.index(minimum)}')"
   ]
  },
  {
   "cell_type": "code",
   "execution_count": 17,
   "id": "8a3d7633",
   "metadata": {},
   "outputs": [
    {
     "name": "stdout",
     "output_type": "stream",
     "text": [
      "minimum number is: 10\n",
      "index of its is: 7\n"
     ]
    }
   ],
   "source": [
    "# finding the maximum\n",
    "maximum = numbers[0]\n",
    "for i in numbers:\n",
    "    if i > maximum:\n",
    "        maximum = i\n",
    "print(f'minimum number is: {maximum}\\nindex of its is: {numbers.index(maximum)}')"
   ]
  },
  {
   "cell_type": "code",
   "execution_count": 19,
   "id": "c1339fa4",
   "metadata": {},
   "outputs": [
    {
     "name": "stdout",
     "output_type": "stream",
     "text": [
      "avg of numbers: 5.5\n"
     ]
    }
   ],
   "source": [
    "# finding the average\n",
    "sumof = 0\n",
    "countof = len(numbers)\n",
    "for num in numbers:\n",
    "    sumof += num\n",
    "print(f'avg of numbers: {sumof/countof}')"
   ]
  },
  {
   "cell_type": "markdown",
   "id": "d986ba9c",
   "metadata": {},
   "source": [
    "----\n",
    "You are given a nested list, display its elements in this manner\n",
    "\n",
    "Example\n",
    "\n",
    "List: [[1], [1, 2], [1, 2, 3]]\n",
    "\n",
    "OUTPUT:\n",
    "\n",
    "[1] -> 1\n",
    "\n",
    "[1, 2] -> 1, 2\n",
    "\n",
    "[1, 2, 3] -> 1, 2, 3"
   ]
  },
  {
   "cell_type": "code",
   "execution_count": 28,
   "id": "6fe1a050",
   "metadata": {},
   "outputs": [
    {
     "name": "stdout",
     "output_type": "stream",
     "text": [
      "[1] -> 1\n",
      "[1, 2] -> 1, 2\n",
      "[1, 2, 3] -> 1, 2, 3\n"
     ]
    }
   ],
   "source": [
    "nested = [[1], [1, 2], [1, 2, 3]]\n",
    "for lists in nested:\n",
    "    digits = ', '.join(map(str, lists))\n",
    "    print(f'{lists} -> {digits}')"
   ]
  },
  {
   "cell_type": "markdown",
   "id": "4f850d4d",
   "metadata": {},
   "source": [
    "----\n",
    "You are given a nested list, create a new list which elements are the average of lists in a given nested list\n",
    "\n",
    "Example\n",
    "\n",
    "List: [[1, 6, 8], [1, 2], [10, 12, 13]]\n",
    "\n",
    "OUTPUT:\n",
    "\n",
    "[7.5, 1.5, 11.66666]"
   ]
  },
  {
   "cell_type": "code",
   "execution_count": 37,
   "id": "edb31fd9",
   "metadata": {},
   "outputs": [
    {
     "name": "stdout",
     "output_type": "stream",
     "text": [
      "[5.0, 1.5, 11.666666666666666]\n"
     ]
    }
   ],
   "source": [
    "my_list = [[1, 6, 8], [1, 2], [10, 12, 13]]\n",
    "averages = []\n",
    "\n",
    "for lists in my_list:\n",
    "    total = 0\n",
    "    for number in lists:\n",
    "        total += number\n",
    "        \n",
    "    avg = total / len(lists)\n",
    "        \n",
    "    averages.append(avg)\n",
    "        \n",
    "print(averages)"
   ]
  },
  {
   "cell_type": "markdown",
   "id": "19d1d44a",
   "metadata": {},
   "source": [
    "----\n",
    "Create a program that loops through a nested list and removes all elements divisible by n (n is given by the user).\n",
    "\n",
    "Example\n",
    "\n",
    "List: [[56, 43, 21], [98, 65, 41], [44, 41], [22]]\n",
    "\n",
    "n: 2\n",
    "\n",
    "OUTPUT:\n",
    "\n",
    "[[43, 12], [65, 41], [41], []]"
   ]
  },
  {
   "cell_type": "code",
   "execution_count": 54,
   "id": "54cf5197",
   "metadata": {},
   "outputs": [
    {
     "name": "stdout",
     "output_type": "stream",
     "text": [
      "enter a division: 2\n",
      "[[43, 21], [65, 41], [41], []]\n"
     ]
    }
   ],
   "source": [
    "my_list = [[56, 43, 21], [98, 65, 41], [44, 41], [22]]\n",
    "division = int(input(\"enter a division: \"))\n",
    "\n",
    "for lists in my_list:\n",
    "    for num in lists:\n",
    "        if num % division == 0:\n",
    "            lists.remove(num)\n",
    "            \n",
    "print(my_list)"
   ]
  },
  {
   "cell_type": "code",
   "execution_count": 56,
   "id": "16b2b5a1",
   "metadata": {},
   "outputs": [
    {
     "name": "stdout",
     "output_type": "stream",
     "text": [
      "eded daxil edin: 2\n"
     ]
    },
    {
     "ename": "ValueError",
     "evalue": "list.remove(x): x not in list",
     "output_type": "error",
     "traceback": [
      "\u001b[1;31m---------------------------------------------------------------------------\u001b[0m",
      "\u001b[1;31mValueError\u001b[0m                                Traceback (most recent call last)",
      "Cell \u001b[1;32mIn[56], line 7\u001b[0m\n\u001b[0;32m      5\u001b[0m     \u001b[38;5;28;01mfor\u001b[39;00m x \u001b[38;5;129;01min\u001b[39;00m i:\n\u001b[0;32m      6\u001b[0m         \u001b[38;5;28;01mif\u001b[39;00m x\u001b[38;5;241m%\u001b[39mn\u001b[38;5;241m==\u001b[39m\u001b[38;5;241m0\u001b[39m:\n\u001b[1;32m----> 7\u001b[0m             a\u001b[38;5;241m.\u001b[39mremove(x)\n\u001b[0;32m      9\u001b[0m \u001b[38;5;28mprint\u001b[39m(a)\n",
      "\u001b[1;31mValueError\u001b[0m: list.remove(x): x not in list"
     ]
    }
   ],
   "source": [
    "a = [[56, 43, 21], [98, 65, 41], [44, 41], [22]]\n",
    "n = int(input(\"eded daxil edin: \"))\n",
    "\n",
    "for i in a:\n",
    "    for x in i:\n",
    "        if x%n==0:\n",
    "            a.remove(x)\n",
    "            \n",
    "print(a)"
   ]
  },
  {
   "cell_type": "code",
   "execution_count": null,
   "id": "c5ba6058",
   "metadata": {},
   "outputs": [],
   "source": []
  }
 ],
 "metadata": {
  "kernelspec": {
   "display_name": "Python 3 (ipykernel)",
   "language": "python",
   "name": "python3"
  },
  "language_info": {
   "codemirror_mode": {
    "name": "ipython",
    "version": 3
   },
   "file_extension": ".py",
   "mimetype": "text/x-python",
   "name": "python",
   "nbconvert_exporter": "python",
   "pygments_lexer": "ipython3",
   "version": "3.11.5"
  }
 },
 "nbformat": 4,
 "nbformat_minor": 5
}
