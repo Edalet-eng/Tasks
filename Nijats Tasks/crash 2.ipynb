{
 "cells": [
  {
   "cell_type": "code",
   "execution_count": 5,
   "id": "733b8f8b",
   "metadata": {},
   "outputs": [
    {
     "name": "stdout",
     "output_type": "stream",
     "text": [
      "Texmin edin: 6\n",
      "Yuxari qalxin\n",
      "Texmin edin: 5\n",
      "Yuxari qalxin\n",
      "Texmin edin: 7\n",
      "Dogru tapdiniz\n",
      "Texmin edin: 4\n",
      "Yuxari qalxin\n",
      "Siz uduzdunuz\n"
     ]
    }
   ],
   "source": [
    "limit=4\n",
    "cehd=0\n",
    "while cehd<limit:\n",
    "    user=int(input('Texmin edin: '))\n",
    "    if user<7:\n",
    "        print('Yuxari qalxin')\n",
    "        \n",
    "    elif user>7:\n",
    "        print('Asagi yenin')\n",
    "    \n",
    "    else:\n",
    "        print('Dogru tapdiniz')\n",
    "        break\n",
    "    cehd+=1\n",
    "if cehd==limit:\n",
    "    print('Siz uduzdunuz')"
   ]
  },
  {
   "cell_type": "code",
   "execution_count": null,
   "id": "0c6b8ce3",
   "metadata": {},
   "outputs": [],
   "source": []
  },
  {
   "cell_type": "code",
   "execution_count": null,
   "id": "bed1ce87",
   "metadata": {},
   "outputs": [],
   "source": []
  },
  {
   "cell_type": "code",
   "execution_count": null,
   "id": "5fbb1501",
   "metadata": {},
   "outputs": [],
   "source": []
  },
  {
   "cell_type": "code",
   "execution_count": null,
   "id": "db289a95",
   "metadata": {},
   "outputs": [],
   "source": []
  },
  {
   "cell_type": "code",
   "execution_count": null,
   "id": "173ae379",
   "metadata": {},
   "outputs": [],
   "source": []
  },
  {
   "cell_type": "code",
   "execution_count": null,
   "id": "74a9ccda",
   "metadata": {},
   "outputs": [],
   "source": []
  },
  {
   "cell_type": "code",
   "execution_count": null,
   "id": "952ad15d",
   "metadata": {},
   "outputs": [],
   "source": []
  },
  {
   "cell_type": "code",
   "execution_count": null,
   "id": "e0468a3b",
   "metadata": {},
   "outputs": [],
   "source": []
  },
  {
   "cell_type": "code",
   "execution_count": null,
   "id": "dd77e019",
   "metadata": {},
   "outputs": [],
   "source": []
  }
 ],
 "metadata": {
  "kernelspec": {
   "display_name": "Python 3 (ipykernel)",
   "language": "python",
   "name": "python3"
  },
  "language_info": {
   "codemirror_mode": {
    "name": "ipython",
    "version": 3
   },
   "file_extension": ".py",
   "mimetype": "text/x-python",
   "name": "python",
   "nbconvert_exporter": "python",
   "pygments_lexer": "ipython3",
   "version": "3.11.5"
  }
 },
 "nbformat": 4,
 "nbformat_minor": 5
}
