{
 "cells": [
  {
   "cell_type": "code",
   "execution_count": 3,
   "id": "7c7b3469",
   "metadata": {},
   "outputs": [
    {
     "data": {
      "text/plain": [
       "'bolunmur'"
      ]
     },
     "execution_count": 3,
     "metadata": {},
     "output_type": "execute_result"
    }
   ],
   "source": [
    "def qaliq(a,b):\n",
    "    if a % b == 0:\n",
    "        return 'bolunur'\n",
    "    return 'bolunmur'\n",
    "    \n",
    "qaliq(8, 3)"
   ]
  },
  {
   "cell_type": "code",
   "execution_count": 4,
   "id": "8e27fd4c",
   "metadata": {},
   "outputs": [
    {
     "name": "stdout",
     "output_type": "stream",
     "text": [
      "8\n"
     ]
    },
    {
     "data": {
      "text/plain": [
       "'bolunmur'"
      ]
     },
     "execution_count": 4,
     "metadata": {},
     "output_type": "execute_result"
    }
   ],
   "source": [
    "def qaliq(a,b):\n",
    "    if a % b == 0:\n",
    "        return 'bolunur'\n",
    "    return 'bolunmur'\n",
    " \n",
    "a = int(input())    \n",
    "b = int(input())\n",
    "qaliq(a, 3)"
   ]
  },
  {
   "cell_type": "code",
   "execution_count": 7,
   "id": "5c11225b",
   "metadata": {},
   "outputs": [
    {
     "data": {
      "text/plain": [
       "5.0"
      ]
     },
     "execution_count": 7,
     "metadata": {},
     "output_type": "execute_result"
    }
   ],
   "source": [
    "from math import *\n",
    "\n",
    "def hipe(a,b):\n",
    "    hipetonuz = sqrt(a**2 + b**2)\n",
    "    return hipetonuz\n",
    "\n",
    "hipe(3,4)"
   ]
  },
  {
   "cell_type": "code",
   "execution_count": 9,
   "id": "46ce534d",
   "metadata": {},
   "outputs": [
    {
     "data": {
      "text/plain": [
       "5.0"
      ]
     },
     "execution_count": 9,
     "metadata": {},
     "output_type": "execute_result"
    }
   ],
   "source": [
    "def hipe(a,b):\n",
    "    hipetonuz = (a**2 + b**2) ** (1/2)\n",
    "    return hipetonuz\n",
    "\n",
    "hipe(3,4)"
   ]
  },
  {
   "cell_type": "code",
   "execution_count": 14,
   "id": "53372d0f",
   "metadata": {},
   "outputs": [
    {
     "data": {
      "text/plain": [
       "[78, 63]"
      ]
     },
     "execution_count": 14,
     "metadata": {},
     "output_type": "execute_result"
    }
   ],
   "source": [
    "bosh = []\n",
    "\n",
    "listim = [1,2,5,7,9,56,78,63,12,54]\n",
    "def yoxlama(listim, reqem):\n",
    "    for i in listim:\n",
    "        if i > reqem:\n",
    "            bosh.append(i)\n",
    "    return bosh\n",
    "        \n",
    "yoxlama(listim, 57)"
   ]
  },
  {
   "cell_type": "code",
   "execution_count": null,
   "id": "0562be8e",
   "metadata": {},
   "outputs": [],
   "source": []
  }
 ],
 "metadata": {
  "kernelspec": {
   "display_name": "Python 3 (ipykernel)",
   "language": "python",
   "name": "python3"
  },
  "language_info": {
   "codemirror_mode": {
    "name": "ipython",
    "version": 3
   },
   "file_extension": ".py",
   "mimetype": "text/x-python",
   "name": "python",
   "nbconvert_exporter": "python",
   "pygments_lexer": "ipython3",
   "version": "3.11.5"
  }
 },
 "nbformat": 4,
 "nbformat_minor": 5
}
