{
 "cells": [
  {
   "cell_type": "markdown",
   "id": "e9320453",
   "metadata": {},
   "source": [
    "2-ə bölünən dəyərlərdən ibarət (1 dən 100-ə kimi) array data strukturu yarat"
   ]
  },
  {
   "cell_type": "code",
   "execution_count": null,
   "id": "97029ea4",
   "metadata": {},
   "outputs": [],
   "source": []
  },
  {
   "cell_type": "markdown",
   "id": "919ba12e",
   "metadata": {},
   "source": [
    "Yaradılan həmin array data strukturunu 5 sətir və 10 sütun halına sal"
   ]
  },
  {
   "cell_type": "code",
   "execution_count": null,
   "id": "0d3d0aac",
   "metadata": {},
   "outputs": [],
   "source": []
  },
  {
   "cell_type": "markdown",
   "id": "eb12c193",
   "metadata": {},
   "source": [
    "Random rəqəmlərdən ibarət array yaradın. Daha sonra artma sırası ilə düzün"
   ]
  },
  {
   "cell_type": "code",
   "execution_count": null,
   "id": "dc9cc18d",
   "metadata": {},
   "outputs": [],
   "source": []
  },
  {
   "cell_type": "markdown",
   "id": "3dcaccde",
   "metadata": {},
   "source": [
    "Array data strukturunu düzləşdir yəni ilk yaradıldığı hala qaytar"
   ]
  },
  {
   "cell_type": "code",
   "execution_count": null,
   "id": "d5f50c30",
   "metadata": {},
   "outputs": [],
   "source": []
  },
  {
   "cell_type": "markdown",
   "id": "30ae63c1",
   "metadata": {},
   "source": [
    "Array-də 23-dən kiçik olanları saxla"
   ]
  },
  {
   "cell_type": "code",
   "execution_count": null,
   "id": "e906d0ec",
   "metadata": {},
   "outputs": [],
   "source": []
  },
  {
   "cell_type": "markdown",
   "id": "b73db96f",
   "metadata": {},
   "source": [
    "0-lardan ibarət olan 4 sətir və 6 sütundan ibarət array yarat"
   ]
  },
  {
   "cell_type": "code",
   "execution_count": null,
   "id": "7b0fb534",
   "metadata": {},
   "outputs": [],
   "source": []
  },
  {
   "cell_type": "markdown",
   "id": "be90f8ff",
   "metadata": {},
   "source": [
    "1-lərdən ibarət olan 4 sətir və 6 sütundan ibarət array yarat"
   ]
  },
  {
   "cell_type": "code",
   "execution_count": null,
   "id": "b345519d",
   "metadata": {},
   "outputs": [],
   "source": []
  },
  {
   "cell_type": "markdown",
   "id": "0db901bd",
   "metadata": {},
   "source": [
    "Hər iki array-i vertikal şəkildə birləşdir"
   ]
  },
  {
   "cell_type": "code",
   "execution_count": null,
   "id": "93185c1d",
   "metadata": {},
   "outputs": [],
   "source": []
  },
  {
   "cell_type": "markdown",
   "id": "94246d53",
   "metadata": {},
   "source": [
    "Hər iki array-i horizontal şəkildə birləşdir"
   ]
  },
  {
   "cell_type": "code",
   "execution_count": null,
   "id": "43d756bc",
   "metadata": {},
   "outputs": [],
   "source": []
  },
  {
   "cell_type": "markdown",
   "id": "a7d0656e",
   "metadata": {},
   "source": [
    "Dəyərləri 1-dən 25-ə kimi (24 daxildir) 5 sətir və 5 sütundan ibarət array yarat"
   ]
  },
  {
   "cell_type": "code",
   "execution_count": null,
   "id": "5fa9ef00",
   "metadata": {},
   "outputs": [],
   "source": []
  },
  {
   "cell_type": "markdown",
   "id": "2ec6e6ee",
   "metadata": {},
   "source": [
    "Array-də ilk sətirin sonuncu dəyərini və son sətrin ilk dəyərini filterlə"
   ]
  },
  {
   "cell_type": "code",
   "execution_count": null,
   "id": "02ebdb93",
   "metadata": {},
   "outputs": [],
   "source": []
  },
  {
   "cell_type": "markdown",
   "id": "49771b82",
   "metadata": {},
   "source": [
    "Array-də bütün sətirlərin və 3-cü və 4-cü dəyərlərini filterlə"
   ]
  },
  {
   "cell_type": "code",
   "execution_count": null,
   "id": "75752349",
   "metadata": {},
   "outputs": [],
   "source": []
  },
  {
   "cell_type": "markdown",
   "id": "7a04e151",
   "metadata": {},
   "source": [
    "Array-də maksimum dəyəri göstər"
   ]
  },
  {
   "cell_type": "code",
   "execution_count": null,
   "id": "6225e7b6",
   "metadata": {},
   "outputs": [],
   "source": []
  },
  {
   "cell_type": "markdown",
   "id": "2064f40f",
   "metadata": {},
   "source": [
    "Array-də ortalama dəyəri göstər"
   ]
  },
  {
   "cell_type": "code",
   "execution_count": null,
   "id": "e2f2fbc3",
   "metadata": {},
   "outputs": [],
   "source": []
  },
  {
   "cell_type": "markdown",
   "id": "8144088d",
   "metadata": {},
   "source": [
    "Array-də median dəyəri göstər"
   ]
  },
  {
   "cell_type": "code",
   "execution_count": null,
   "id": "5b896dd7",
   "metadata": {},
   "outputs": [],
   "source": []
  },
  {
   "cell_type": "markdown",
   "id": "e36353a9",
   "metadata": {},
   "source": [
    "Bu array-də minimum dəyərin indeksini göstər"
   ]
  },
  {
   "cell_type": "code",
   "execution_count": null,
   "id": "cbf68e99",
   "metadata": {},
   "outputs": [],
   "source": []
  },
  {
   "cell_type": "markdown",
   "id": "2479f297",
   "metadata": {},
   "source": [
    "Bu array-də maksimum dəyərin indeksini göstər"
   ]
  },
  {
   "cell_type": "code",
   "execution_count": null,
   "id": "af317195",
   "metadata": {},
   "outputs": [],
   "source": []
  },
  {
   "cell_type": "markdown",
   "id": "62edbd04",
   "metadata": {},
   "source": [
    "adlardan ibarət olan array yarat"
   ]
  },
  {
   "cell_type": "code",
   "execution_count": null,
   "id": "8d4e3eb7",
   "metadata": {},
   "outputs": [],
   "source": []
  },
  {
   "cell_type": "markdown",
   "id": "d267796c",
   "metadata": {},
   "source": [
    "bu arraydaki adları əlifba sırası ilə düz"
   ]
  },
  {
   "cell_type": "code",
   "execution_count": null,
   "id": "1a10251d",
   "metadata": {},
   "outputs": [],
   "source": []
  },
  {
   "cell_type": "markdown",
   "id": "ee6c2295",
   "metadata": {},
   "source": [
    "Array-də olan bütün adların ilk hərfini böyük saxla qalan hərfləri kiçilt"
   ]
  },
  {
   "cell_type": "code",
   "execution_count": null,
   "id": "a2ddb990",
   "metadata": {},
   "outputs": [],
   "source": []
  },
  {
   "cell_type": "markdown",
   "id": "ad54364a",
   "metadata": {},
   "source": [
    "A hərfi ilə başlayan adları sil"
   ]
  },
  {
   "cell_type": "code",
   "execution_count": null,
   "id": "3c0e6287",
   "metadata": {},
   "outputs": [],
   "source": []
  },
  {
   "cell_type": "markdown",
   "id": "fc5c9232",
   "metadata": {},
   "source": [
    "t hərfi ilə bitən adları sil"
   ]
  },
  {
   "cell_type": "code",
   "execution_count": null,
   "id": "867f8fde",
   "metadata": {},
   "outputs": [],
   "source": []
  },
  {
   "cell_type": "markdown",
   "id": "32abb58a",
   "metadata": {},
   "source": [
    "\n",
    "Create a list of 1000 random numbers and using filter function remove all not perfect numbers. A perfect number is a number that is equal to the sum of its divisors(excluding itself).\n",
    "\n",
    "6 = 1 + 2 + 3"
   ]
  },
  {
   "cell_type": "code",
   "execution_count": null,
   "id": "99994281",
   "metadata": {},
   "outputs": [],
   "source": []
  },
  {
   "cell_type": "markdown",
   "id": "0154ae5d",
   "metadata": {},
   "source": [
    "Using filter function remove all special characters (., !, &, etc.) from a string."
   ]
  },
  {
   "cell_type": "code",
   "execution_count": null,
   "id": "3798171d",
   "metadata": {},
   "outputs": [],
   "source": []
  }
 ],
 "metadata": {
  "kernelspec": {
   "display_name": "Python 3 (ipykernel)",
   "language": "python",
   "name": "python3"
  },
  "language_info": {
   "codemirror_mode": {
    "name": "ipython",
    "version": 3
   },
   "file_extension": ".py",
   "mimetype": "text/x-python",
   "name": "python",
   "nbconvert_exporter": "python",
   "pygments_lexer": "ipython3",
   "version": "3.9.12"
  }
 },
 "nbformat": 4,
 "nbformat_minor": 5
}
