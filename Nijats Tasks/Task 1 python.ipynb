{
 "cells": [
  {
   "cell_type": "markdown",
   "id": "ff792960",
   "metadata": {},
   "source": [
    "## Variables, user-input, arithmetical operators."
   ]
  },
  {
   "cell_type": "markdown",
   "id": "20bbdb54",
   "metadata": {},
   "source": [
    "Iki dəyişən yaradin (ədədlər), onların cəmini tapıb, göstərin."
   ]
  },
  {
   "cell_type": "code",
   "execution_count": 29,
   "id": "fee42555",
   "metadata": {},
   "outputs": [
    {
     "data": {
      "text/plain": [
       "35"
      ]
     },
     "execution_count": 29,
     "metadata": {},
     "output_type": "execute_result"
    }
   ],
   "source": [
    "a = 15\n",
    "b = 20\n",
    "a+b"
   ]
  },
  {
   "cell_type": "markdown",
   "id": "b3d3e899",
   "metadata": {},
   "source": [
    "Bir dəyişən yaradın (ədəd), növbəti ədədi göstərin."
   ]
  },
  {
   "cell_type": "code",
   "execution_count": 171,
   "id": "d9a4dc7e",
   "metadata": {},
   "outputs": [
    {
     "name": "stdout",
     "output_type": "stream",
     "text": [
      "add a num: 4\n"
     ]
    },
    {
     "data": {
      "text/plain": [
       "5"
      ]
     },
     "execution_count": 171,
     "metadata": {},
     "output_type": "execute_result"
    }
   ],
   "source": [
    "aaaa = int(input('add a num: '))\n",
    "aaaa+1"
   ]
  },
  {
   "cell_type": "markdown",
   "id": "05bd9e01",
   "metadata": {},
   "source": [
    "User-in adını soruşun. Daxil olunan qiyməti dəyişəndə saxlayıb, göstərin."
   ]
  },
  {
   "cell_type": "code",
   "execution_count": 44,
   "id": "cebef3e7",
   "metadata": {},
   "outputs": [
    {
     "name": "stdout",
     "output_type": "stream",
     "text": [
      "username: Nijat\n",
      "Nijat\n"
     ]
    }
   ],
   "source": [
    "user = input('username: ')\n",
    "print(user)"
   ]
  },
  {
   "cell_type": "markdown",
   "id": "ccc267f9",
   "metadata": {},
   "source": [
    "İki dəyişən yaradın (ədədlər). Onların qiymətini user müəyyən edir. İki ədədin cəmini göstərin"
   ]
  },
  {
   "cell_type": "code",
   "execution_count": 5,
   "id": "24d749e4",
   "metadata": {},
   "outputs": [
    {
     "name": "stdout",
     "output_type": "stream",
     "text": [
      "eded 1: 14\n",
      "eded 2: 14\n",
      "cem: 28\n"
     ]
    }
   ],
   "source": [
    "eded1 = int(input('eded 1: '))\n",
    "eded2 = int(input('eded 2: '))\n",
    "print(f'cem: {eded1 + eded2}')"
   ]
  },
  {
   "cell_type": "markdown",
   "id": "bd324e92",
   "metadata": {},
   "source": [
    "Bir dəyişən yaradın. Onun içində saat (vaxt) sayını daxil edin (məsələn: 4). Saatı dəqiqələrə çevirib, göstərin."
   ]
  },
  {
   "cell_type": "code",
   "execution_count": 6,
   "id": "ae4ab704",
   "metadata": {},
   "outputs": [
    {
     "data": {
      "text/plain": [
       "240"
      ]
     },
     "execution_count": 6,
     "metadata": {},
     "output_type": "execute_result"
    }
   ],
   "source": [
    "saat = 4\n",
    "deqiqe = saat * 60\n",
    "deqiqe"
   ]
  },
  {
   "cell_type": "markdown",
   "id": "8ebabc9f",
   "metadata": {},
   "source": [
    "Bir dəyişən yaradın. Onun içində dəqiqələrin sayını daxil edin (məsələn: 15). Dəqiqələri saniyələrə çevirin."
   ]
  },
  {
   "cell_type": "code",
   "execution_count": 7,
   "id": "d7c909be",
   "metadata": {},
   "outputs": [
    {
     "data": {
      "text/plain": [
       "900"
      ]
     },
     "execution_count": 7,
     "metadata": {},
     "output_type": "execute_result"
    }
   ],
   "source": [
    "deqiqe = 15\n",
    "saniye = deqiqe * 60\n",
    "saniye"
   ]
  },
  {
   "cell_type": "markdown",
   "id": "33e60a0e",
   "metadata": {},
   "source": [
    "User-dən yaş inputunu götürün. Onu ədədə çevirib, ekrana göstərin."
   ]
  },
  {
   "cell_type": "code",
   "execution_count": 27,
   "id": "a2b1fd35",
   "metadata": {},
   "outputs": [
    {
     "name": "stdout",
     "output_type": "stream",
     "text": [
      "add age: 15\n",
      "age is 15\n"
     ]
    }
   ],
   "source": [
    "age = int(input('add age: '))\n",
    "print(f'age is {age}')"
   ]
  },
  {
   "cell_type": "markdown",
   "id": "b64ebafb",
   "metadata": {},
   "source": [
    "Bir dəyişən yaradın, onun qiyməti user-in yaşına bərabər olsun. Göstərin user neçə gün yaşayıb."
   ]
  },
  {
   "cell_type": "code",
   "execution_count": 12,
   "id": "ca8d14b4",
   "metadata": {},
   "outputs": [
    {
     "name": "stdout",
     "output_type": "stream",
     "text": [
      "user's age: 19\n",
      "user has lived approximately 6935 days\n"
     ]
    }
   ],
   "source": [
    "user_age = int(input('user\\'s age: '))\n",
    "days_in_year = 365\n",
    "print(f'user has lived approximately {user_age * days_in_year} days')"
   ]
  },
  {
   "cell_type": "markdown",
   "id": "2dcf4bcd",
   "metadata": {},
   "source": [
    "İki rəqəmin bölmə qaliğını göstərin."
   ]
  },
  {
   "cell_type": "code",
   "execution_count": 13,
   "id": "1f4c9370",
   "metadata": {},
   "outputs": [
    {
     "data": {
      "text/plain": [
       "11"
      ]
     },
     "execution_count": 13,
     "metadata": {},
     "output_type": "execute_result"
    }
   ],
   "source": [
    "a = 25\n",
    "b = 14\n",
    "a%b"
   ]
  },
  {
   "cell_type": "markdown",
   "id": "c16e303c",
   "metadata": {},
   "source": [
    "Iki dəyişən yaradın. User iki ədəd daxil edəcək. birinci ədədi ikinci ədədin güvvəsinə qaldırın.\n",
    "\n",
    "Məslən: 2 üstü 4 bərabərdir 16"
   ]
  },
  {
   "cell_type": "code",
   "execution_count": 19,
   "id": "ab0d85dc",
   "metadata": {},
   "outputs": [
    {
     "name": "stdout",
     "output_type": "stream",
     "text": [
      "16 ustu -2 beraberdir 0.00390625\n"
     ]
    }
   ],
   "source": [
    "var1 = 16\n",
    "var2 = -2\n",
    "print(f'{var1} ustu {var2} beraberdir {var1 ** var2}')"
   ]
  },
  {
   "cell_type": "markdown",
   "id": "2db1cc82",
   "metadata": {},
   "source": [
    "İki dəyişən yaradın. Birinci dəyişənə saatların sayını daxil edin. İkinci dəyişənə dəqiqələrin sayını daxil edin. Hər iki qiyməti saniyələrə çevirib, cəmini tapın."
   ]
  },
  {
   "cell_type": "code",
   "execution_count": 21,
   "id": "911cd275",
   "metadata": {},
   "outputs": [
    {
     "name": "stdout",
     "output_type": "stream",
     "text": [
      "saat sayini daxil et: 1\n",
      "deqiqe sayini daxil et: 1\n"
     ]
    },
    {
     "data": {
      "text/plain": [
       "3660"
      ]
     },
     "execution_count": 21,
     "metadata": {},
     "output_type": "execute_result"
    }
   ],
   "source": [
    "saat = int(input('saat sayini daxil et: '))\n",
    "deqiqe = int(input('deqiqe sayini daxil et: '))\n",
    "saniye = saat*60*60 + deqiqe*60\n",
    "saniye"
   ]
  },
  {
   "cell_type": "markdown",
   "id": "d9bd0809",
   "metadata": {},
   "source": [
    "## Conditional statements"
   ]
  },
  {
   "cell_type": "markdown",
   "id": "9c2a706e",
   "metadata": {},
   "source": [
    "İki dəyişən yaradın. Onlara ixtiyari ədəd qiymətini verin. Proqram onların bərabər olduğunu, ya olmağını göstərməlidir.\n",
    "\n",
    "2, 4 -> bərabər deyil\n",
    "\n",
    "16, 16 -> bərabərdir"
   ]
  },
  {
   "cell_type": "code",
   "execution_count": 22,
   "id": "1145a296",
   "metadata": {},
   "outputs": [
    {
     "name": "stdout",
     "output_type": "stream",
     "text": [
      "add variable 1: 5\n",
      "add var 2: 16\n",
      "not equal\n"
     ]
    }
   ],
   "source": [
    "var1 = int(input('add variable 1: '))\n",
    "var2 = int(input('add var 2: '))\n",
    "if var1 == var2:\n",
    "    print('equal')\n",
    "else:\n",
    "    print('not equal')"
   ]
  },
  {
   "cell_type": "markdown",
   "id": "e2c0433a",
   "metadata": {},
   "source": [
    "1Bir dəyişən yaradın. User-dən ədəd soruşun, və göstərin, verilən ədəd sifırdan kiçikdir, bərabərdir, yoxsa böyükdür."
   ]
  },
  {
   "cell_type": "code",
   "execution_count": 26,
   "id": "b775b257",
   "metadata": {},
   "outputs": [
    {
     "name": "stdout",
     "output_type": "stream",
     "text": [
      "add a number: -5\n",
      "var is lower than 0\n"
     ]
    }
   ],
   "source": [
    "var = int(input('add a number: '))\n",
    "if var > 0:\n",
    "    print('var is greater than 0')\n",
    "elif var == 0:\n",
    "    print('var is equal to 0')\n",
    "else:\n",
    "    print('var is lower than 0')"
   ]
  },
  {
   "cell_type": "markdown",
   "id": "54c95201",
   "metadata": {},
   "source": [
    "İki dəyişən yaradın. Onlara ixtiyari ədəd qiymətini verin. Göstərin, onların cəmi 100-dən kiçikdir, bərabərdir, yoxsa böyükdür."
   ]
  },
  {
   "cell_type": "code",
   "execution_count": 32,
   "id": "e6821408",
   "metadata": {},
   "outputs": [
    {
     "name": "stdout",
     "output_type": "stream",
     "text": [
      "a = 53, b = 35, cem = 88\n",
      "less than 100\n"
     ]
    }
   ],
   "source": [
    "import random\n",
    "a = random.randint(0, 100)\n",
    "b = random.randint(0, 100)\n",
    "cem = a+b\n",
    "\n",
    "print(f'a = {a}, b = {b}, cem = {cem}')\n",
    "if cem>100:\n",
    "    print('yuzden boyukdur')\n",
    "elif cem==100:\n",
    "    print('equal to 100')\n",
    "else:\n",
    "    print('less than 100')"
   ]
  },
  {
   "cell_type": "markdown",
   "id": "de38384b",
   "metadata": {},
   "source": [
    "Bir dəyişən yaradın. User-dən ədəd sorşun. Göstərin, verilən ədəd 100-ə tam bölünür ya yox."
   ]
  },
  {
   "cell_type": "code",
   "execution_count": 34,
   "id": "910d5742",
   "metadata": {},
   "outputs": [
    {
     "name": "stdout",
     "output_type": "stream",
     "text": [
      "add a number: 560\n",
      "not divided by 100\n"
     ]
    }
   ],
   "source": [
    "var = int(input('add a number: '))\n",
    "\n",
    "if var%100 == 0:\n",
    "    print('divided by 100')\n",
    "else:\n",
    "    print('not divided by 100')"
   ]
  },
  {
   "cell_type": "markdown",
   "id": "7d18ffbd",
   "metadata": {},
   "source": [
    "İki dəyişən yaradın. Onlara dördbucağın tərəflərini daxil edin. Dördbucağın permetrini və sahəsini göstərin."
   ]
  },
  {
   "cell_type": "code",
   "execution_count": 45,
   "id": "74d39060",
   "metadata": {},
   "outputs": [
    {
     "name": "stdout",
     "output_type": "stream",
     "text": [
      "add first side of rectangle: 1.5\n",
      "add second side of rectangle: 4\n",
      "Perimeter of rectangle is 5.5, square of rectangle is 6.0\n"
     ]
    }
   ],
   "source": [
    "side1 = float(input('add first side of rectangle: '))\n",
    "side2 = float(input('add second side of rectangle: '))\n",
    "print(f'Perimeter of rectangle is {side1 + side2}, square of rectangle is {side1*side2}')"
   ]
  },
  {
   "cell_type": "markdown",
   "id": "464815db",
   "metadata": {},
   "source": [
    "Bir dəyişən yaradın. Ona boolean(True, False) qiymətini verin. O qiymətini göstərin."
   ]
  },
  {
   "cell_type": "code",
   "execution_count": 48,
   "id": "24d03f54",
   "metadata": {},
   "outputs": [
    {
     "data": {
      "text/plain": [
       "(True, False)"
      ]
     },
     "execution_count": 48,
     "metadata": {},
     "output_type": "execute_result"
    }
   ],
   "source": [
    "bottle_is_full = True\n",
    "bottle_is_empty = False\n",
    "bottle_is_full, bottle_is_empty"
   ]
  },
  {
   "cell_type": "markdown",
   "id": "1ef28dac",
   "metadata": {},
   "source": [
    "Bir dəyişən yaradın. Ona boolean qiymətini verin. Proqram qiymətin əksini göstərməlidir (Əgər dəyişənə True verilibsə, False göstərməlidir. Əgər dəyişənə False verilibsə, True göstərməlidir)"
   ]
  },
  {
   "cell_type": "code",
   "execution_count": 53,
   "id": "6b16595b",
   "metadata": {},
   "outputs": [
    {
     "name": "stdout",
     "output_type": "stream",
     "text": [
      "False\n"
     ]
    }
   ],
   "source": [
    "is_false = True\n",
    "\n",
    "if is_false == True:\n",
    "    print(False)\n",
    "else:\n",
    "    print(True)"
   ]
  },
  {
   "cell_type": "markdown",
   "id": "3c8cdf38",
   "metadata": {},
   "source": [
    "Bir dəyişən yaradın. User-dən ədəd soruşun. Daxil ediyi ədədin cüt ya tək olmasını göstrərin."
   ]
  },
  {
   "cell_type": "code",
   "execution_count": 54,
   "id": "6137c170",
   "metadata": {},
   "outputs": [
    {
     "name": "stdout",
     "output_type": "stream",
     "text": [
      "add a num: 0\n",
      "num is even\n"
     ]
    }
   ],
   "source": [
    "num = int(input('add a num: '))\n",
    "if num%2==0:\n",
    "    print('num is even')\n",
    "else:\n",
    "    print('num is odd')"
   ]
  },
  {
   "cell_type": "markdown",
   "id": "edbb0e49",
   "metadata": {},
   "source": [
    "Bir dəyişən yaradın. User-dən ədəd soruşun. Proqram göstərməlidir, daxil edilən rəqəm 5-ə və 8-ə qaliqsiz bölünür ya yox."
   ]
  },
  {
   "cell_type": "code",
   "execution_count": 57,
   "id": "94cf2c8f",
   "metadata": {},
   "outputs": [
    {
     "name": "stdout",
     "output_type": "stream",
     "text": [
      "add a num: 45\n",
      "var is divided by neither 5 nor 8\n"
     ]
    }
   ],
   "source": [
    "var = int(input('add a num: '))\n",
    "if var%5==0 and var%8==0:\n",
    "    print('var is divided by both 5 and 8')\n",
    "else:\n",
    "    print('var is divided by neither 5 nor 8')"
   ]
  },
  {
   "cell_type": "markdown",
   "id": "816ff65d",
   "metadata": {},
   "source": [
    "Bir dəyişən yaradin. User-dən şifrəni soruşun. Əgər şifrə \"anonim\" ya \"secret\" olsa ekrana \"Xoş gəlmisiniz\" göstərin. Əks xalda ekrana \"HACKER\" göstərin"
   ]
  },
  {
   "cell_type": "code",
   "execution_count": 59,
   "id": "13181b42",
   "metadata": {},
   "outputs": [
    {
     "name": "stdout",
     "output_type": "stream",
     "text": [
      "add your password: password123\n",
      "HACKER!!!!\n"
     ]
    }
   ],
   "source": [
    "user_pw = input('add your password: ')\n",
    "if user_pw == 'anonim' or user_pw == 'secret':\n",
    "    print('welcome!')\n",
    "else:\n",
    "    print('HACKER!!!!')"
   ]
  },
  {
   "cell_type": "markdown",
   "id": "dd19b31a",
   "metadata": {},
   "source": [
    "## Loops"
   ]
  },
  {
   "cell_type": "markdown",
   "id": "b79c7616",
   "metadata": {},
   "source": [
    "0-dan 10-a qədər rəqəmləri göstərin."
   ]
  },
  {
   "cell_type": "code",
   "execution_count": 60,
   "id": "5262fc44",
   "metadata": {},
   "outputs": [
    {
     "name": "stdout",
     "output_type": "stream",
     "text": [
      "0\n",
      "1\n",
      "2\n",
      "3\n",
      "4\n",
      "5\n",
      "6\n",
      "7\n",
      "8\n",
      "9\n",
      "10\n"
     ]
    }
   ],
   "source": [
    "for i in range(0, 11):\n",
    "    print(i)"
   ]
  },
  {
   "cell_type": "markdown",
   "id": "ce7c313c",
   "metadata": {},
   "source": [
    "0-dan 100-ə qədər hər 4-cü ədədi göstərin."
   ]
  },
  {
   "cell_type": "code",
   "execution_count": 172,
   "id": "6843232b",
   "metadata": {},
   "outputs": [
    {
     "name": "stdout",
     "output_type": "stream",
     "text": [
      "0\n",
      "4\n",
      "8\n",
      "12\n",
      "16\n",
      "20\n",
      "24\n",
      "28\n",
      "32\n",
      "36\n",
      "40\n",
      "44\n",
      "48\n",
      "52\n",
      "56\n",
      "60\n",
      "64\n",
      "68\n",
      "72\n",
      "76\n",
      "80\n",
      "84\n",
      "88\n",
      "92\n",
      "96\n"
     ]
    }
   ],
   "source": [
    "for i in range(0, 100, 4):\n",
    "    print(i)"
   ]
  },
  {
   "cell_type": "markdown",
   "id": "291519d8",
   "metadata": {},
   "source": [
    "Bir dəyişən yaradın. User-dən ədəd soruşun. Proqram 0-dan user daxil etdiyi ədədə qədər, ədədləri göstərməlidir"
   ]
  },
  {
   "cell_type": "code",
   "execution_count": 173,
   "id": "0b35fc59",
   "metadata": {},
   "outputs": [
    {
     "name": "stdout",
     "output_type": "stream",
     "text": [
      "add a num: 5\n",
      "0\n",
      "1\n",
      "2\n",
      "3\n",
      "4\n"
     ]
    }
   ],
   "source": [
    "var = int(input('add a num: '))\n",
    "for i in range(0, var):\n",
    "    print(i)"
   ]
  },
  {
   "cell_type": "markdown",
   "id": "e14e874f",
   "metadata": {},
   "source": [
    "İki dəyişən yaradın. User hər dəyişənə ədəd verir. Proqram bu iki ədəd arasında ədədləri göstərir."
   ]
  },
  {
   "cell_type": "code",
   "execution_count": 69,
   "id": "00c2427c",
   "metadata": {},
   "outputs": [
    {
     "name": "stdout",
     "output_type": "stream",
     "text": [
      "add a num 1: 5\n",
      "add a num 2: 8\n",
      "5\n",
      "6\n",
      "7\n"
     ]
    }
   ],
   "source": [
    "num1 = int(input('add a num 1: '))\n",
    "num2 = int(input('add a num 2: '))\n",
    "for i in range(num1, num2):\n",
    "    print(i)"
   ]
  },
  {
   "cell_type": "markdown",
   "id": "360b3a66",
   "metadata": {},
   "source": [
    "Bir dəyişən yaradın. Dəyişənin ilkin qəymətini 0 daxil edin. 0-dan 100-ə qədər ədədlərin cəmini göstərin."
   ]
  },
  {
   "cell_type": "code",
   "execution_count": null,
   "id": "dc476390",
   "metadata": {},
   "outputs": [],
   "source": []
  },
  {
   "cell_type": "markdown",
   "id": "cab92b22",
   "metadata": {},
   "source": [
    "0-dan 100-ə qədər 5-ə və 3-ə bölünən ədələri göstərin"
   ]
  },
  {
   "cell_type": "code",
   "execution_count": 74,
   "id": "4c6337c3",
   "metadata": {},
   "outputs": [
    {
     "name": "stdout",
     "output_type": "stream",
     "text": [
      "0\n",
      "15\n",
      "30\n",
      "45\n",
      "60\n",
      "75\n",
      "90\n"
     ]
    }
   ],
   "source": [
    "for i in range(0, 100):\n",
    "    if i%3==0 and i%5==0:\n",
    "        print(i)"
   ]
  },
  {
   "cell_type": "markdown",
   "id": "32685783",
   "metadata": {},
   "source": [
    "Bir dəyişən yaradın. User-dən ədəd soruşun. 0-dan 100-ə qədər user daxil etdiyi ədədə bölünən ədədləri göstərin."
   ]
  },
  {
   "cell_type": "code",
   "execution_count": 89,
   "id": "317b44d2",
   "metadata": {},
   "outputs": [
    {
     "name": "stdout",
     "output_type": "stream",
     "text": [
      "add a number: 0\n",
      "cant be divided by 0\n"
     ]
    }
   ],
   "source": [
    "number = int(input('add a number: '))\n",
    "\n",
    "if number>0:\n",
    "    for i in range(0, 100):\n",
    "        if i % number == 0:\n",
    "            print(i)\n",
    "elif number <0:\n",
    "    print('number is negative')\n",
    "else:\n",
    "    print('cant be divided by 0')"
   ]
  },
  {
   "cell_type": "markdown",
   "id": "676806e2",
   "metadata": {},
   "source": [
    "Üç dəyişən yaradın. User hər dəyişənə ədəd verir. Birinci və ikinci ədəd aranı göstərir. Bu arada üçüncü ədədə bölünən ədədləri göstərin. "
   ]
  },
  {
   "cell_type": "code",
   "execution_count": 112,
   "id": "44278e79",
   "metadata": {},
   "outputs": [
    {
     "name": "stdout",
     "output_type": "stream",
     "text": [
      "add a num: 4\n",
      "add a num: 14\n",
      "add a num: 5\n",
      "5\n",
      "10\n"
     ]
    }
   ],
   "source": [
    "var1 = int(input('add a num: '))\n",
    "var2 = int(input('add a num: '))\n",
    "var3 = int(input('add a num: '))\n",
    "try:\n",
    "    for i in range(var1, var2):\n",
    "        if i % var3 == 0:\n",
    "            print(i)\n",
    "except ZeroDivisionError:\n",
    "    print('Cant be divided by zero')"
   ]
  },
  {
   "cell_type": "markdown",
   "id": "d801b0ad",
   "metadata": {},
   "source": [
    "100-dən başlayaraq 0-a qədər ədədləri göstərin. "
   ]
  },
  {
   "cell_type": "code",
   "execution_count": 132,
   "id": "4cb40d7f",
   "metadata": {},
   "outputs": [
    {
     "name": "stdout",
     "output_type": "stream",
     "text": [
      "10\n",
      "9\n",
      "8\n",
      "7\n",
      "6\n",
      "5\n",
      "4\n",
      "3\n",
      "2\n",
      "1\n",
      "0\n"
     ]
    }
   ],
   "source": [
    "# with the help of chatgpt\n",
    "for i in range(10, -1, -1):\n",
    "    print(i)"
   ]
  },
  {
   "cell_type": "markdown",
   "id": "c94328f0",
   "metadata": {},
   "source": [
    "150-dən 10-a qədər hər 5-ci ədədi göstərin."
   ]
  },
  {
   "cell_type": "code",
   "execution_count": 138,
   "id": "dcf66707",
   "metadata": {},
   "outputs": [
    {
     "name": "stdout",
     "output_type": "stream",
     "text": [
      "150\n",
      "145\n",
      "140\n",
      "135\n",
      "130\n",
      "125\n",
      "120\n",
      "115\n",
      "110\n",
      "105\n",
      "100\n",
      "95\n",
      "90\n",
      "85\n",
      "80\n",
      "75\n",
      "70\n",
      "65\n",
      "60\n",
      "55\n",
      "50\n",
      "45\n",
      "40\n",
      "35\n",
      "30\n",
      "25\n",
      "20\n",
      "15\n"
     ]
    }
   ],
   "source": [
    "for i in range(150, 10, -5):\n",
    "    print(i)"
   ]
  },
  {
   "cell_type": "markdown",
   "id": "1df688de",
   "metadata": {},
   "source": [
    "## List"
   ]
  },
  {
   "cell_type": "markdown",
   "id": "641f3135",
   "metadata": {},
   "source": [
    "Dəyişən yaradın. Dəyişənə list verin, listə özünüz(loop isifadə etməyərək) 3 ixtiyari ədəd daxil edin. Listi ekrana göstərin"
   ]
  },
  {
   "cell_type": "code",
   "execution_count": 141,
   "id": "86cd30d6",
   "metadata": {},
   "outputs": [
    {
     "data": {
      "text/plain": [
       "['salam', 'necesen', 'nicat']"
      ]
     },
     "execution_count": 141,
     "metadata": {},
     "output_type": "execute_result"
    }
   ],
   "source": [
    "my_list = []\n",
    "my_list.append('salam')\n",
    "my_list.append('necesen')\n",
    "my_list.append('nicat')\n",
    "my_list"
   ]
  },
  {
   "cell_type": "markdown",
   "id": "a3a59ffd",
   "metadata": {},
   "source": [
    "Dəyişən yaradın. Dəyişənə list verin, listə özünüz(loop isifadə etməyərək) 4 ixtiyari ədəd daxil edin. Hər elementi index-i istifadə edərək(loop isifadə etməyərək) göstərin."
   ]
  },
  {
   "cell_type": "code",
   "execution_count": 144,
   "id": "3b3e5059",
   "metadata": {},
   "outputs": [
    {
     "data": {
      "text/plain": [
       "('sabahin', 'xeyir', 'necesen', 'nicat')"
      ]
     },
     "execution_count": 144,
     "metadata": {},
     "output_type": "execute_result"
    }
   ],
   "source": [
    "del my_list\n",
    "my_list = []\n",
    "my_list.append('sabahin')\n",
    "my_list.append('xeyir')\n",
    "my_list.append('necesen')\n",
    "my_list.append('nicat')\n",
    "my_list\n",
    "\n",
    "my_list[0], my_list[1], my_list[2], my_list[3]"
   ]
  },
  {
   "cell_type": "markdown",
   "id": "d986ba9c",
   "metadata": {},
   "source": [
    "Dəyişən yaradın. Dəyişənə list verin, listə özünüz(loop isifadə etməyərək) 5 ixtiyari ədəd daxil edin. Listdə sıfırıncı index-dən 3-cü indeksə qədər ədədləri göstərin (loop isifadə etməyərək)."
   ]
  },
  {
   "cell_type": "code",
   "execution_count": 145,
   "id": "6fe1a050",
   "metadata": {},
   "outputs": [
    {
     "data": {
      "text/plain": [
       "[1, 3, 5]"
      ]
     },
     "execution_count": 145,
     "metadata": {},
     "output_type": "execute_result"
    }
   ],
   "source": [
    "nums = [1, 3, 5, 7, 9, 11, 13]\n",
    "nums[0:3]"
   ]
  },
  {
   "cell_type": "markdown",
   "id": "4f850d4d",
   "metadata": {},
   "source": [
    "Dəyişən yaradın. Dəyişənə list verin, listə özünüz(loop isifadə etməyərək) 5 ixtiyari ad daxil edin(string). For loop-nan listin bütün elementlərini göstərin"
   ]
  },
  {
   "cell_type": "code",
   "execution_count": 146,
   "id": "edb31fd9",
   "metadata": {},
   "outputs": [
    {
     "name": "stdout",
     "output_type": "stream",
     "text": [
      "nicat\n",
      "esmer\n",
      "xeyale\n",
      "fuad\n",
      "edalet\n"
     ]
    }
   ],
   "source": [
    "names = ['nicat', 'esmer', 'xeyale', 'fuad', 'edalet']\n",
    "for name in names:\n",
    "    print(name)"
   ]
  },
  {
   "cell_type": "markdown",
   "id": "19d1d44a",
   "metadata": {},
   "source": [
    "Dəyişən yaradın. Dəyişənə list verin, listə özünüz(loop isifadə etməyərək) 3 ədəd daxil edin. For loop-nan listin bütün elementlərinin index-ni istifadə edərək göstərin."
   ]
  },
  {
   "cell_type": "code",
   "execution_count": 148,
   "id": "f0400e26",
   "metadata": {},
   "outputs": [
    {
     "name": "stdout",
     "output_type": "stream",
     "text": [
      "index of 5 is 0\n",
      "index of 2 is 1\n",
      "index of 9 is 2\n"
     ]
    }
   ],
   "source": [
    "var = [5, 2, 9]\n",
    "for i in var:\n",
    "    print(f'index of {i} is {var.index(i)}')"
   ]
  },
  {
   "cell_type": "markdown",
   "id": "87ed46fe",
   "metadata": {},
   "source": [
    "Dəyişən yaradın. Dəyişənə list verin, listə özünüz(loop isifadə etməyərək) 5 ədəd daxil edin. For loop-nan listin axrından başlayaraq bütün elementləri göstərin."
   ]
  },
  {
   "cell_type": "code",
   "execution_count": null,
   "id": "ae84ab2e",
   "metadata": {},
   "outputs": [],
   "source": []
  },
  {
   "cell_type": "markdown",
   "id": "31c85ba6",
   "metadata": {},
   "source": [
    "Deyişəndə boş list yaradın. For loop-nan, append funksiyasını istifadə edərək 0-dan 10-a qədər bütün ədədləri list-ə doldurun."
   ]
  },
  {
   "cell_type": "code",
   "execution_count": 154,
   "id": "b15c75e6",
   "metadata": {},
   "outputs": [
    {
     "name": "stdout",
     "output_type": "stream",
     "text": [
      "[0, 1, 2, 3, 4, 5, 6, 7, 8, 9]\n"
     ]
    }
   ],
   "source": [
    "empty = []\n",
    "for i in range(0, 10):\n",
    "    empty.append(i)\n",
    "print(empty)"
   ]
  },
  {
   "cell_type": "markdown",
   "id": "5fad67af",
   "metadata": {},
   "source": [
    "İki dəyişən yaradın. Birinci dəyişənə boş list verin. İkinci dəyişənə user ədəd verir. For loop-nan 0-dan user verdiyi ədədə qədər, bütün ədələri list-ə doldurun."
   ]
  },
  {
   "cell_type": "code",
   "execution_count": 155,
   "id": "454d57e7",
   "metadata": {},
   "outputs": [
    {
     "name": "stdout",
     "output_type": "stream",
     "text": [
      "add a num: 8\n",
      "[0, 1, 2, 3, 4, 5, 6, 7]\n"
     ]
    }
   ],
   "source": [
    "empty = []\n",
    "num = int(input('add a num: '))\n",
    "for i in range(0, num):\n",
    "    empty.append(i)\n",
    "print(empty)"
   ]
  },
  {
   "cell_type": "markdown",
   "id": "058a9dbc",
   "metadata": {},
   "source": [
    "Üç dəyişən yaradın. Birinci dəyişənə boş list verin. İkinci və üçüncü dəyişənlərə user ədəd verir. For loop-nan user verdiyi arada, bütün cüt ədələri list-ə doldurun."
   ]
  },
  {
   "cell_type": "code",
   "execution_count": 157,
   "id": "1068aa7b",
   "metadata": {},
   "outputs": [
    {
     "name": "stdout",
     "output_type": "stream",
     "text": [
      "add a num: 7\n",
      "add a num: 15\n",
      "[8, 10, 12, 14]\n"
     ]
    }
   ],
   "source": [
    "empty = []\n",
    "num1 = int(input('add a num: '))\n",
    "num2 = int(input('add a num: '))\n",
    "for i in range(num1, num2):\n",
    "    if i % 2 == 0:\n",
    "        empty.append(i)\n",
    "print(empty)"
   ]
  },
  {
   "cell_type": "markdown",
   "id": "3a42821c",
   "metadata": {},
   "source": [
    "Boş list yaradın, 0-dan 100-ə qədər ədədlərnən onu doldurun. Sonra user-dən ədəd soruşun və onu fərqli dəyişənə yazın. index() istifadə edərək listdə user daxil editiyi ədədin indexini göstərin."
   ]
  },
  {
   "cell_type": "code",
   "execution_count": 164,
   "id": "3348be6c",
   "metadata": {},
   "outputs": [
    {
     "name": "stdout",
     "output_type": "stream",
     "text": [
      "add a number: 8\n",
      "the index of 8 is 86\n"
     ]
    },
    {
     "data": {
      "text/plain": [
       "[0,\n",
       " 9,\n",
       " 28,\n",
       " 74,\n",
       " 52,\n",
       " 84,\n",
       " 28,\n",
       " 47,\n",
       " 0,\n",
       " 48,\n",
       " 25,\n",
       " 48,\n",
       " 50,\n",
       " 10,\n",
       " 28,\n",
       " 89,\n",
       " 44,\n",
       " 41,\n",
       " 12,\n",
       " 30,\n",
       " 39,\n",
       " 64,\n",
       " 28,\n",
       " 6,\n",
       " 26,\n",
       " 39,\n",
       " 77,\n",
       " 86,\n",
       " 82,\n",
       " 26,\n",
       " 32,\n",
       " 46,\n",
       " 68,\n",
       " 80,\n",
       " 88,\n",
       " 9,\n",
       " 0,\n",
       " 34,\n",
       " 28,\n",
       " 69,\n",
       " 38,\n",
       " 63,\n",
       " 76,\n",
       " 93,\n",
       " 22,\n",
       " 44,\n",
       " 84,\n",
       " 61,\n",
       " 98,\n",
       " 1,\n",
       " 10,\n",
       " 82,\n",
       " 32,\n",
       " 37,\n",
       " 9,\n",
       " 25,\n",
       " 97,\n",
       " 45,\n",
       " 70,\n",
       " 42,\n",
       " 73,\n",
       " 17,\n",
       " 40,\n",
       " 78,\n",
       " 52,\n",
       " 96,\n",
       " 10,\n",
       " 25,\n",
       " 14,\n",
       " 98,\n",
       " 50,\n",
       " 96,\n",
       " 26,\n",
       " 4,\n",
       " 84,\n",
       " 89,\n",
       " 75,\n",
       " 92,\n",
       " 79,\n",
       " 25,\n",
       " 7,\n",
       " 90,\n",
       " 80,\n",
       " 47,\n",
       " 49,\n",
       " 61,\n",
       " 8,\n",
       " 79,\n",
       " 36,\n",
       " 41,\n",
       " 18,\n",
       " 54,\n",
       " 18,\n",
       " 26,\n",
       " 19,\n",
       " 46,\n",
       " 95,\n",
       " 81,\n",
       " 4,\n",
       " 83]"
      ]
     },
     "execution_count": 164,
     "metadata": {},
     "output_type": "execute_result"
    }
   ],
   "source": [
    "empty = []\n",
    "try:\n",
    "    elements = 100\n",
    "    for i in range(elements):\n",
    "        random_num = random.randint(0, 100)\n",
    "        empty.append(random_num)\n",
    "    \n",
    "    user_num = int(input('add a number: '))\n",
    "    print(f'the index of {user_num} is {empty.index(user_num)}')\n",
    "except:\n",
    "    print('ValueError: The element you are looking for is not in the list. Try again')\n",
    "empty"
   ]
  },
  {
   "cell_type": "markdown",
   "id": "1cf9a595",
   "metadata": {},
   "source": [
    "Boş list yaradın, 0-dan 100-ə qədər ədədlərnən onu doldurun. For loop-nan remove() funksiyanı istifadə edərək listdə 5-ə bölünən ədədləri silin. Axırda list-i göstərin."
   ]
  },
  {
   "cell_type": "code",
   "execution_count": 170,
   "id": "9feb3cdc",
   "metadata": {
    "scrolled": true
   },
   "outputs": [
    {
     "name": "stdout",
     "output_type": "stream",
     "text": [
      "before: [99, 83, 66, 74, 92, 75, 16, 52, 42, 23, 88, 60, 59, 28, 28, 32, 18, 55, 70, 58]\n",
      "after: [99, 83, 66, 74, 92, 16, 52, 42, 23, 88, 59, 28, 28, 32, 18, 70, 58]\n"
     ]
    }
   ],
   "source": [
    "listim_2 = []\n",
    "\n",
    "elements = 20\n",
    "for i in range(elements):\n",
    "    random_reqem = random.randint(0, 100)\n",
    "    listim_2.append(random_reqem)\n",
    "print(f'before: {listim_2}')\n",
    "\n",
    "for x in listim_2:\n",
    "    if x % 5 == 0:\n",
    "        listim_2.remove(x)\n",
    "\n",
    "print(f'after: {listim_2}')"
   ]
  },
  {
   "cell_type": "code",
   "execution_count": 4,
   "id": "de9c7dce",
   "metadata": {},
   "outputs": [
    {
     "name": "stdout",
     "output_type": "stream",
     "text": [
      "1764\n"
     ]
    }
   ],
   "source": [
    "a = 0\n",
    "for i in range(20, 150):\n",
    "    if i%6 == 0:\n",
    "        a = a+i\n",
    "print(a)"
   ]
  },
  {
   "cell_type": "code",
   "execution_count": 7,
   "id": "e3767769",
   "metadata": {},
   "outputs": [
    {
     "name": "stdout",
     "output_type": "stream",
     "text": [
      "['nicat']\n"
     ]
    }
   ],
   "source": [
    "listim = []\n",
    "ad = ['nicat', 'esmer', 'fuad', 'xeyale', 'sadiq']\n",
    "\n",
    "for i in ad:\n",
    "    if i[0] == 'n':\n",
    "        listim.append(i)\n",
    "        \n",
    "print(listim)"
   ]
  },
  {
   "cell_type": "code",
   "execution_count": 9,
   "id": "8fc0930f",
   "metadata": {},
   "outputs": [
    {
     "name": "stdout",
     "output_type": "stream",
     "text": [
      "147 42\n"
     ]
    }
   ],
   "source": [
    "r = 7\n",
    "pi = 3\n",
    "s = pi*r**2\n",
    "l = 2*pi*r\n",
    "\n",
    "print(s, l)"
   ]
  },
  {
   "cell_type": "code",
   "execution_count": 12,
   "id": "dd6ee256",
   "metadata": {},
   "outputs": [
    {
     "name": "stdout",
     "output_type": "stream",
     "text": [
      "99\n"
     ]
    }
   ],
   "source": [
    "a = [83, 66, 74, 92, 75, 16, 52, 99, 42, 23, 88, 60, 59, 28, 28]\n",
    "maks = a[0]\n",
    "\n",
    "for i in a:\n",
    "    if i> maks:\n",
    "        maks = i\n",
    "print(maks)"
   ]
  },
  {
   "cell_type": "code",
   "execution_count": 14,
   "id": "ce8c6ead",
   "metadata": {},
   "outputs": [
    {
     "name": "stdout",
     "output_type": "stream",
     "text": [
      "59.0\n"
     ]
    }
   ],
   "source": [
    "cem = 0\n",
    "say = len(a)\n",
    "\n",
    "for i in a:\n",
    "    cem = cem + i\n",
    "orta = cem / say\n",
    "print(orta)"
   ]
  },
  {
   "cell_type": "code",
   "execution_count": 13,
   "id": "6cead5a2",
   "metadata": {},
   "outputs": [
    {
     "name": "stdout",
     "output_type": "stream",
     "text": [
      "16\n"
     ]
    }
   ],
   "source": [
    "minim = a[0]\n",
    "\n",
    "for i in a:\n",
    "    if i < minim:\n",
    "        minim = i\n",
    "print(minim)"
   ]
  },
  {
   "cell_type": "code",
   "execution_count": null,
   "id": "d8a72293",
   "metadata": {},
   "outputs": [],
   "source": []
  },
  {
   "cell_type": "code",
   "execution_count": null,
   "id": "6eb12dd4",
   "metadata": {},
   "outputs": [],
   "source": []
  },
  {
   "cell_type": "code",
   "execution_count": null,
   "id": "767a4a50",
   "metadata": {},
   "outputs": [],
   "source": []
  },
  {
   "cell_type": "code",
   "execution_count": null,
   "id": "a05e7adf",
   "metadata": {},
   "outputs": [],
   "source": []
  },
  {
   "cell_type": "code",
   "execution_count": null,
   "id": "9f523c96",
   "metadata": {},
   "outputs": [],
   "source": []
  },
  {
   "cell_type": "code",
   "execution_count": null,
   "id": "cd4793cc",
   "metadata": {},
   "outputs": [],
   "source": []
  },
  {
   "cell_type": "code",
   "execution_count": null,
   "id": "132a8c80",
   "metadata": {},
   "outputs": [],
   "source": []
  },
  {
   "cell_type": "code",
   "execution_count": null,
   "id": "7891a892",
   "metadata": {},
   "outputs": [],
   "source": []
  }
 ],
 "metadata": {
  "kernelspec": {
   "display_name": "Python 3 (ipykernel)",
   "language": "python",
   "name": "python3"
  },
  "language_info": {
   "codemirror_mode": {
    "name": "ipython",
    "version": 3
   },
   "file_extension": ".py",
   "mimetype": "text/x-python",
   "name": "python",
   "nbconvert_exporter": "python",
   "pygments_lexer": "ipython3",
   "version": "3.11.5"
  }
 },
 "nbformat": 4,
 "nbformat_minor": 5
}
