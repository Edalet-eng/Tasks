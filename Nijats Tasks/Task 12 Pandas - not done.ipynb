{
 "cells": [
  {
   "cell_type": "code",
   "execution_count": 1,
   "id": "86cd30d6",
   "metadata": {},
   "outputs": [],
   "source": [
    "# Lazım olan kitabxanalar\n",
    "import matplotlib.pyplot as plt\n",
    "import scipy.stats as stats\n",
    "import seaborn as sns\n",
    "import pandas as pd\n",
    "import numpy as np \n",
    "import datetime\n",
    "import warnings"
   ]
  },
  {
   "cell_type": "code",
   "execution_count": 2,
   "id": "25146df6",
   "metadata": {},
   "outputs": [],
   "source": [
    "# Datasetin yüklənməsi\n",
    "data = pd.read_csv('turbo.csv')"
   ]
  },
  {
   "cell_type": "markdown",
   "id": "f84a3264",
   "metadata": {},
   "source": [
    "Sütun adları arasındakı boşluğu altdan çəkilmiş xətlə əvəzlə\n",
    "Bütün sütun adlarını kiçilt\n",
    "Sütun adlarında ola biləcək potensial boşluqları sil\n",
    "İlk beş sətiri göstər"
   ]
  },
  {
   "cell_type": "code",
   "execution_count": 3,
   "id": "ead0fc1c",
   "metadata": {},
   "outputs": [
    {
     "ename": "SyntaxError",
     "evalue": "unmatched ']' (1890416573.py, line 1)",
     "output_type": "error",
     "traceback": [
      "\u001b[1;36m  Cell \u001b[1;32mIn[3], line 1\u001b[1;36m\u001b[0m\n\u001b[1;33m    ]\u001b[0m\n\u001b[1;37m    ^\u001b[0m\n\u001b[1;31mSyntaxError\u001b[0m\u001b[1;31m:\u001b[0m unmatched ']'\n"
     ]
    }
   ],
   "source": [
    "]"
   ]
  },
  {
   "cell_type": "markdown",
   "id": "4f850d4d",
   "metadata": {},
   "source": [
    "Satici,Telefonlar,Ötürücü,Baxışların_sayı,url,Sahiblər,Extra,Etrafli,Yeni,Yeniləndi,Hansı bazar üçün,Yerlərin_sayı sütunlarını datasetdən sil."
   ]
  },
  {
   "cell_type": "code",
   "execution_count": null,
   "id": "15b59db7",
   "metadata": {},
   "outputs": [],
   "source": []
  },
  {
   "cell_type": "markdown",
   "id": "001771ca",
   "metadata": {},
   "source": [
    "Mühərrik sütununu parçala(mühərrik həcmi, mühərrik gücü, yanacaq növü) sütunlarına ayır."
   ]
  },
  {
   "cell_type": "code",
   "execution_count": null,
   "id": "a31d7a87",
   "metadata": {},
   "outputs": [],
   "source": []
  },
  {
   "cell_type": "markdown",
   "id": "cc047a7a",
   "metadata": {},
   "source": [
    "mühərrik sütunununda L-i sil\n",
    "at_gücü sütunununda a.g-i sil\n",
    "yürüş sütunununda km-i sil"
   ]
  },
  {
   "cell_type": "code",
   "execution_count": null,
   "id": "fe33d544",
   "metadata": {},
   "outputs": [],
   "source": []
  },
  {
   "cell_type": "markdown",
   "id": "859a0778",
   "metadata": {},
   "source": [
    "mühərrik sütununun data növünü float data növünə dəyiş\n",
    "at_gücü və yürüş sütunlarının data növünü int data növünə dəyiş"
   ]
  },
  {
   "cell_type": "code",
   "execution_count": null,
   "id": "2ba10e31",
   "metadata": {},
   "outputs": [],
   "source": []
  },
  {
   "cell_type": "markdown",
   "id": "8d43bbcc",
   "metadata": {},
   "source": [
    "Cari ildən buraxılış_ili sütununun dəyərlərini çixib yaş sütunu yarat"
   ]
  },
  {
   "cell_type": "code",
   "execution_count": null,
   "id": "4bcc5008",
   "metadata": {},
   "outputs": [],
   "source": []
  },
  {
   "cell_type": "markdown",
   "id": "3ed4e8d7",
   "metadata": {},
   "source": [
    "convert_currency funksiyası yaradaraq avro və dollar valyutalı qiymətləri manat valyutalı qiymətlərə çevir. Avro valyutalı qiymətləri 1.81-ə dollar valyutalı qiymətləri isə 1.7-ə vur, AZN, $, € simvollarını sil və qiymət sütununun data növünü integer data növünə çevir"
   ]
  },
  {
   "cell_type": "code",
   "execution_count": null,
   "id": "f76e7896",
   "metadata": {},
   "outputs": [],
   "source": []
  },
  {
   "cell_type": "markdown",
   "id": "111fe481",
   "metadata": {},
   "source": [
    "Avtosalon sütununda 0-ları False-la 1-ləri True ilə əvəzləyin"
   ]
  },
  {
   "cell_type": "code",
   "execution_count": null,
   "id": "2544d794",
   "metadata": {},
   "outputs": [],
   "source": []
  },
  {
   "cell_type": "markdown",
   "id": "c5597250",
   "metadata": {},
   "source": [
    " şəhər sütununun dəyərləri Bakı olmayan dəyərlərin hamısını Digər ilə əvəzlə"
   ]
  },
  {
   "cell_type": "code",
   "execution_count": null,
   "id": "c46a18bc",
   "metadata": {},
   "outputs": [],
   "source": []
  },
  {
   "cell_type": "markdown",
   "id": "2e19cf1d",
   "metadata": {},
   "source": [
    "4 yeni sütun yarat.\n",
    "elan_ili - Elanının qoyulduğu il\n",
    "elan_ayı - Elanının qoyulduğu ay\n",
    "elan_günü - Elanının qoyulduğu ayın gün\n",
    "elan_həftə_günü - Elanının qoyulduğu həftə günü\n",
    "elan_tarixi sütununu isə datasetdən çıxart"
   ]
  },
  {
   "cell_type": "code",
   "execution_count": null,
   "id": "961df553",
   "metadata": {},
   "outputs": [],
   "source": []
  },
  {
   "cell_type": "markdown",
   "id": "4463c50f",
   "metadata": {},
   "source": [
    "qiymət_kateqoriyası və qiymət_faizi sütunlarını yarat. qiymət_kateqoriyası sütunu üçün bu intervaldan və kateqoriyalardan istifadə et.\n",
    "Bins = [0, 10000, 30000, 50000, 150000, 300000, qiymət sütununun maksimum dəyəri]\n",
    "\n",
    "Labels = ['Çox Ucuz', 'Ucuz', 'Normal', 'Bahalı', 'Çox Bahalı', 'Lyüks']"
   ]
  },
  {
   "cell_type": "code",
   "execution_count": null,
   "id": "70cb364e",
   "metadata": {},
   "outputs": [],
   "source": []
  },
  {
   "cell_type": "markdown",
   "id": "3251a70e",
   "metadata": {},
   "source": [
    "Asılı olmayan dəyişənlər arasıdakı korrelasiyanı correlation_df adlı DataFrame data strukturunda göstər"
   ]
  },
  {
   "cell_type": "code",
   "execution_count": null,
   "id": "f42a4780",
   "metadata": {},
   "outputs": [],
   "source": []
  },
  {
   "cell_type": "markdown",
   "id": "c3ae2b29",
   "metadata": {},
   "source": [
    "Asılı olmayan dəyişənlər arasıdakı korrelasiyanı heatmap ilə vizuallaşdır"
   ]
  },
  {
   "cell_type": "code",
   "execution_count": null,
   "id": "806e8623",
   "metadata": {},
   "outputs": [],
   "source": []
  },
  {
   "cell_type": "markdown",
   "id": "e34b2637",
   "metadata": {},
   "source": [
    "Boş xanaları tapın göstərin"
   ]
  },
  {
   "cell_type": "code",
   "execution_count": null,
   "id": "c6009aac",
   "metadata": {},
   "outputs": [],
   "source": []
  },
  {
   "cell_type": "markdown",
   "id": "443d8693",
   "metadata": {},
   "source": [
    "Boş xanaları doldurun."
   ]
  },
  {
   "cell_type": "code",
   "execution_count": null,
   "id": "bf811bf4",
   "metadata": {},
   "outputs": [],
   "source": []
  },
  {
   "cell_type": "markdown",
   "id": "b9d525fe",
   "metadata": {},
   "source": [
    "Duplicat dəyərləri tapın və doldurun"
   ]
  },
  {
   "cell_type": "code",
   "execution_count": null,
   "id": "a4960f99",
   "metadata": {},
   "outputs": [],
   "source": []
  },
  {
   "cell_type": "markdown",
   "id": "62b78fdd",
   "metadata": {},
   "source": [
    "Qiymət sütununda ən yüksək 10 sətri göstərin"
   ]
  },
  {
   "cell_type": "code",
   "execution_count": null,
   "id": "7b641935",
   "metadata": {},
   "outputs": [],
   "source": []
  },
  {
   "cell_type": "markdown",
   "id": "7dfcc509",
   "metadata": {},
   "source": [
    "Ötürücü sütununda Unikal dəyərlərə baxın"
   ]
  },
  {
   "cell_type": "code",
   "execution_count": null,
   "id": "4d8d670b",
   "metadata": {},
   "outputs": [],
   "source": []
  },
  {
   "cell_type": "markdown",
   "id": "09a28100",
   "metadata": {},
   "source": [
    "Marka sütununda Unikal dəyər sayın göstərin"
   ]
  },
  {
   "cell_type": "code",
   "execution_count": null,
   "id": "3431e296",
   "metadata": {},
   "outputs": [],
   "source": []
  },
  {
   "cell_type": "markdown",
   "id": "f0288454",
   "metadata": {},
   "source": [
    "Mercedes markalı 5 maşını göstərin"
   ]
  },
  {
   "cell_type": "code",
   "execution_count": null,
   "id": "c5ed80c6",
   "metadata": {},
   "outputs": [],
   "source": []
  },
  {
   "cell_type": "markdown",
   "id": "bd355e8e",
   "metadata": {},
   "source": [
    "Markası Chevrolet modeli Cruz olan avtomobilləri göstərin"
   ]
  },
  {
   "cell_type": "code",
   "execution_count": null,
   "id": "7d613132",
   "metadata": {},
   "outputs": [],
   "source": []
  },
  {
   "cell_type": "markdown",
   "id": "c474799a",
   "metadata": {},
   "source": [
    "Qiyməti 100000-200000 olan maşınları göstərin"
   ]
  },
  {
   "cell_type": "code",
   "execution_count": null,
   "id": "1aa0cd09",
   "metadata": {},
   "outputs": [],
   "source": []
  },
  {
   "cell_type": "code",
   "execution_count": 5,
   "id": "9e41b6a6",
   "metadata": {},
   "outputs": [
    {
     "data": {
      "text/html": [
       "<div>\n",
       "<style scoped>\n",
       "    .dataframe tbody tr th:only-of-type {\n",
       "        vertical-align: middle;\n",
       "    }\n",
       "\n",
       "    .dataframe tbody tr th {\n",
       "        vertical-align: top;\n",
       "    }\n",
       "\n",
       "    .dataframe thead th {\n",
       "        text-align: right;\n",
       "    }\n",
       "</style>\n",
       "<table border=\"1\" class=\"dataframe\">\n",
       "  <thead>\n",
       "    <tr style=\"text-align: right;\">\n",
       "      <th></th>\n",
       "      <th>Satici</th>\n",
       "      <th>Avtosalon</th>\n",
       "      <th>Telefonlar</th>\n",
       "      <th>Qiymet</th>\n",
       "      <th>Valyuta</th>\n",
       "      <th>Şəhər</th>\n",
       "      <th>Marka</th>\n",
       "      <th>Model</th>\n",
       "      <th>Buraxılış ili</th>\n",
       "      <th>Ban növü</th>\n",
       "      <th>...</th>\n",
       "      <th>Yeni</th>\n",
       "      <th>Vəziyyəti</th>\n",
       "      <th>Yeniləndi</th>\n",
       "      <th>Baxışların sayı</th>\n",
       "      <th>Extra</th>\n",
       "      <th>Etrafli</th>\n",
       "      <th>Url</th>\n",
       "      <th>Sahiblər</th>\n",
       "      <th>Yerlərin sayı</th>\n",
       "      <th>Hansı bazar üçün yığılıb</th>\n",
       "    </tr>\n",
       "  </thead>\n",
       "  <tbody>\n",
       "    <tr>\n",
       "      <th>0</th>\n",
       "      <td>Lada Auto</td>\n",
       "      <td>1</td>\n",
       "      <td>(012) 513-09-49 &amp;&amp; (050) 582-48-48</td>\n",
       "      <td>26100</td>\n",
       "      <td>AZN</td>\n",
       "      <td>Bakı</td>\n",
       "      <td>LADA (VAZ)</td>\n",
       "      <td>Largus</td>\n",
       "      <td>2022</td>\n",
       "      <td>Furqon</td>\n",
       "      <td>...</td>\n",
       "      <td>Bəli</td>\n",
       "      <td>Vuruğu yoxdur, rənglənməyib</td>\n",
       "      <td>20.04.2024</td>\n",
       "      <td>1313</td>\n",
       "      <td>ABS, Mərkəzi qapanma, Kondisioner</td>\n",
       "      <td>LADA // LARGUS // FURQON // 2022  • Mühərrik -...</td>\n",
       "      <td>https://turbo.az/autos/5933627-lada-vaz-largus</td>\n",
       "      <td>NaN</td>\n",
       "      <td>NaN</td>\n",
       "      <td>NaN</td>\n",
       "    </tr>\n",
       "    <tr>\n",
       "      <th>1</th>\n",
       "      <td>Engin</td>\n",
       "      <td>0</td>\n",
       "      <td>(055) 453-75-61</td>\n",
       "      <td>27250</td>\n",
       "      <td>AZN</td>\n",
       "      <td>Bakı</td>\n",
       "      <td>Audi</td>\n",
       "      <td>A6</td>\n",
       "      <td>2014</td>\n",
       "      <td>Sedan</td>\n",
       "      <td>...</td>\n",
       "      <td>Xeyr</td>\n",
       "      <td>Vuruğu yoxdur, rənglənməyib</td>\n",
       "      <td>19.04.2024</td>\n",
       "      <td>5191</td>\n",
       "      <td>Yüngül lehimli disklər, ABS, Lyuk, Yağış senso...</td>\n",
       "      <td>Orjinal yùrùş. Ideal veziyetdedir. İki zonalı ...</td>\n",
       "      <td>https://turbo.az/autos/5880375-audi-a6</td>\n",
       "      <td>0</td>\n",
       "      <td>NaN</td>\n",
       "      <td>NaN</td>\n",
       "    </tr>\n",
       "    <tr>\n",
       "      <th>2</th>\n",
       "      <td>Autolux Azerbaijan - Fiat</td>\n",
       "      <td>1</td>\n",
       "      <td>(012) 983 &amp;&amp; (055) 444-47-00 &amp;&amp; (055) 444-61-00</td>\n",
       "      <td>45500</td>\n",
       "      <td>AZN</td>\n",
       "      <td>Bakı</td>\n",
       "      <td>Fiat</td>\n",
       "      <td>Doblo</td>\n",
       "      <td>2022</td>\n",
       "      <td>Furqon</td>\n",
       "      <td>...</td>\n",
       "      <td>Bəli</td>\n",
       "      <td>Vuruğu yoxdur, rənglənməyib</td>\n",
       "      <td>20.04.2024</td>\n",
       "      <td>1930</td>\n",
       "      <td>ABS, Mərkəzi qapanma, Kondisioner</td>\n",
       "      <td>Doblo Cargo MAXİ XL \"SOYUDUCU +3* +5*\" ***** S...</td>\n",
       "      <td>https://turbo.az/autos/6429269-fiat-doblo</td>\n",
       "      <td>NaN</td>\n",
       "      <td>NaN</td>\n",
       "      <td>NaN</td>\n",
       "    </tr>\n",
       "    <tr>\n",
       "      <th>3</th>\n",
       "      <td>Bestune Azərbaycan</td>\n",
       "      <td>1</td>\n",
       "      <td>(012) 310-07-85 &amp;&amp; (055) 258-55-45</td>\n",
       "      <td>49000</td>\n",
       "      <td>AZN</td>\n",
       "      <td>Bakı</td>\n",
       "      <td>Bestune</td>\n",
       "      <td>T99</td>\n",
       "      <td>2022</td>\n",
       "      <td>Offroader / SUV</td>\n",
       "      <td>...</td>\n",
       "      <td>Bəli</td>\n",
       "      <td>Vuruğu yoxdur, rənglənməyib</td>\n",
       "      <td>19.04.2024</td>\n",
       "      <td>10954</td>\n",
       "      <td>Yüngül lehimli disklər, ABS, Lyuk, Yağış senso...</td>\n",
       "      <td>Bestune T99 5 il zəmanət 2 il FAİZSİZ kredit _...</td>\n",
       "      <td>https://turbo.az/autos/6181498-bestune-t99</td>\n",
       "      <td>NaN</td>\n",
       "      <td>NaN</td>\n",
       "      <td>NaN</td>\n",
       "    </tr>\n",
       "    <tr>\n",
       "      <th>4</th>\n",
       "      <td>Baku Cars</td>\n",
       "      <td>1</td>\n",
       "      <td>(055) 686-91-90 &amp;&amp; (012) 437-63-33 &amp;&amp; (055) 26...</td>\n",
       "      <td>36500</td>\n",
       "      <td>USD</td>\n",
       "      <td>Bakı</td>\n",
       "      <td>Toyota</td>\n",
       "      <td>Camry</td>\n",
       "      <td>2021</td>\n",
       "      <td>Sedan</td>\n",
       "      <td>...</td>\n",
       "      <td>Bəli</td>\n",
       "      <td>Vuruğu yoxdur, rənglənməyib</td>\n",
       "      <td>20.04.2024</td>\n",
       "      <td>621</td>\n",
       "      <td>Yüngül lehimli disklər, ABS, Lyuk, Yağış senso...</td>\n",
       "      <td>• Açılan ṣüṣə tavan • Multi sükan • 8dym displ...</td>\n",
       "      <td>https://turbo.az/autos/5196591-toyota-camry</td>\n",
       "      <td>0</td>\n",
       "      <td>NaN</td>\n",
       "      <td>NaN</td>\n",
       "    </tr>\n",
       "  </tbody>\n",
       "</table>\n",
       "<p>5 rows × 25 columns</p>\n",
       "</div>"
      ],
      "text/plain": [
       "                        Satici  Avtosalon  \\\n",
       "0                    Lada Auto          1   \n",
       "1                        Engin          0   \n",
       "2  Autolux Azerbaijan - Fiat            1   \n",
       "3           Bestune Azərbaycan          1   \n",
       "4                    Baku Cars          1   \n",
       "\n",
       "                                          Telefonlar  Qiymet Valyuta Şəhər  \\\n",
       "0                 (012) 513-09-49 && (050) 582-48-48   26100     AZN  Bakı   \n",
       "1                                    (055) 453-75-61   27250     AZN  Bakı   \n",
       "2    (012) 983 && (055) 444-47-00 && (055) 444-61-00   45500     AZN  Bakı   \n",
       "3                 (012) 310-07-85 && (055) 258-55-45   49000     AZN  Bakı   \n",
       "4  (055) 686-91-90 && (012) 437-63-33 && (055) 26...   36500     USD  Bakı   \n",
       "\n",
       "        Marka   Model  Buraxılış ili         Ban növü  ...  Yeni  \\\n",
       "0  LADA (VAZ)  Largus           2022           Furqon  ...  Bəli   \n",
       "1        Audi      A6           2014            Sedan  ...  Xeyr   \n",
       "2        Fiat   Doblo           2022           Furqon  ...  Bəli   \n",
       "3     Bestune     T99           2022  Offroader / SUV  ...  Bəli   \n",
       "4      Toyota   Camry           2021            Sedan  ...  Bəli   \n",
       "\n",
       "                     Vəziyyəti    Yeniləndi Baxışların sayı  \\\n",
       "0  Vuruğu yoxdur, rənglənməyib   20.04.2024            1313   \n",
       "1  Vuruğu yoxdur, rənglənməyib   19.04.2024            5191   \n",
       "2  Vuruğu yoxdur, rənglənməyib   20.04.2024            1930   \n",
       "3  Vuruğu yoxdur, rənglənməyib   19.04.2024           10954   \n",
       "4  Vuruğu yoxdur, rənglənməyib   20.04.2024             621   \n",
       "\n",
       "                                               Extra  \\\n",
       "0                  ABS, Mərkəzi qapanma, Kondisioner   \n",
       "1  Yüngül lehimli disklər, ABS, Lyuk, Yağış senso...   \n",
       "2                  ABS, Mərkəzi qapanma, Kondisioner   \n",
       "3  Yüngül lehimli disklər, ABS, Lyuk, Yağış senso...   \n",
       "4  Yüngül lehimli disklər, ABS, Lyuk, Yağış senso...   \n",
       "\n",
       "                                             Etrafli  \\\n",
       "0  LADA // LARGUS // FURQON // 2022  • Mühərrik -...   \n",
       "1  Orjinal yùrùş. Ideal veziyetdedir. İki zonalı ...   \n",
       "2  Doblo Cargo MAXİ XL \"SOYUDUCU +3* +5*\" ***** S...   \n",
       "3  Bestune T99 5 il zəmanət 2 il FAİZSİZ kredit _...   \n",
       "4  • Açılan ṣüṣə tavan • Multi sükan • 8dym displ...   \n",
       "\n",
       "                                              Url Sahiblər  Yerlərin sayı  \\\n",
       "0  https://turbo.az/autos/5933627-lada-vaz-largus      NaN            NaN   \n",
       "1          https://turbo.az/autos/5880375-audi-a6        0            NaN   \n",
       "2       https://turbo.az/autos/6429269-fiat-doblo      NaN            NaN   \n",
       "3      https://turbo.az/autos/6181498-bestune-t99      NaN            NaN   \n",
       "4     https://turbo.az/autos/5196591-toyota-camry        0            NaN   \n",
       "\n",
       "  Hansı bazar üçün yığılıb  \n",
       "0                      NaN  \n",
       "1                      NaN  \n",
       "2                      NaN  \n",
       "3                      NaN  \n",
       "4                      NaN  \n",
       "\n",
       "[5 rows x 25 columns]"
      ]
     },
     "execution_count": 5,
     "metadata": {},
     "output_type": "execute_result"
    }
   ],
   "source": [
    "data.head()"
   ]
  },
  {
   "cell_type": "code",
   "execution_count": 10,
   "id": "c8b14480",
   "metadata": {},
   "outputs": [
    {
     "data": {
      "text/html": [
       "<div>\n",
       "<style scoped>\n",
       "    .dataframe tbody tr th:only-of-type {\n",
       "        vertical-align: middle;\n",
       "    }\n",
       "\n",
       "    .dataframe tbody tr th {\n",
       "        vertical-align: top;\n",
       "    }\n",
       "\n",
       "    .dataframe thead th {\n",
       "        text-align: right;\n",
       "    }\n",
       "</style>\n",
       "<table border=\"1\" class=\"dataframe\">\n",
       "  <thead>\n",
       "    <tr style=\"text-align: right;\">\n",
       "      <th></th>\n",
       "      <th>Satici</th>\n",
       "      <th>Avtosalon</th>\n",
       "      <th>Telefonlar</th>\n",
       "      <th>Qiymet</th>\n",
       "      <th>Valyuta</th>\n",
       "      <th>Şəhər</th>\n",
       "      <th>Marka</th>\n",
       "      <th>Model</th>\n",
       "      <th>Buraxılış ili</th>\n",
       "      <th>Ban növü</th>\n",
       "      <th>...</th>\n",
       "      <th>Vəziyyəti</th>\n",
       "      <th>Yeniləndi</th>\n",
       "      <th>Baxışların sayı</th>\n",
       "      <th>Extra</th>\n",
       "      <th>Etrafli</th>\n",
       "      <th>Url</th>\n",
       "      <th>Sahiblər</th>\n",
       "      <th>Yerlərin sayı</th>\n",
       "      <th>Hansı bazar üçün yığılıb</th>\n",
       "      <th>ikiqat</th>\n",
       "    </tr>\n",
       "  </thead>\n",
       "  <tbody>\n",
       "    <tr>\n",
       "      <th>0</th>\n",
       "      <td>Lada Auto</td>\n",
       "      <td>1</td>\n",
       "      <td>(012) 513-09-49 &amp;&amp; (050) 582-48-48</td>\n",
       "      <td>26100</td>\n",
       "      <td>AZN</td>\n",
       "      <td>Bakı</td>\n",
       "      <td>LADA (VAZ)</td>\n",
       "      <td>Largus</td>\n",
       "      <td>2022</td>\n",
       "      <td>Furqon</td>\n",
       "      <td>...</td>\n",
       "      <td>Vuruğu yoxdur, rənglənməyib</td>\n",
       "      <td>20.04.2024</td>\n",
       "      <td>1313</td>\n",
       "      <td>ABS, Mərkəzi qapanma, Kondisioner</td>\n",
       "      <td>LADA // LARGUS // FURQON // 2022  • Mühərrik -...</td>\n",
       "      <td>https://turbo.az/autos/5933627-lada-vaz-largus</td>\n",
       "      <td>NaN</td>\n",
       "      <td>NaN</td>\n",
       "      <td>NaN</td>\n",
       "      <td>52200</td>\n",
       "    </tr>\n",
       "    <tr>\n",
       "      <th>1</th>\n",
       "      <td>Engin</td>\n",
       "      <td>0</td>\n",
       "      <td>(055) 453-75-61</td>\n",
       "      <td>27250</td>\n",
       "      <td>AZN</td>\n",
       "      <td>Bakı</td>\n",
       "      <td>Audi</td>\n",
       "      <td>A6</td>\n",
       "      <td>2014</td>\n",
       "      <td>Sedan</td>\n",
       "      <td>...</td>\n",
       "      <td>Vuruğu yoxdur, rənglənməyib</td>\n",
       "      <td>19.04.2024</td>\n",
       "      <td>5191</td>\n",
       "      <td>Yüngül lehimli disklər, ABS, Lyuk, Yağış senso...</td>\n",
       "      <td>Orjinal yùrùş. Ideal veziyetdedir. İki zonalı ...</td>\n",
       "      <td>https://turbo.az/autos/5880375-audi-a6</td>\n",
       "      <td>0</td>\n",
       "      <td>NaN</td>\n",
       "      <td>NaN</td>\n",
       "      <td>54500</td>\n",
       "    </tr>\n",
       "    <tr>\n",
       "      <th>2</th>\n",
       "      <td>Autolux Azerbaijan - Fiat</td>\n",
       "      <td>1</td>\n",
       "      <td>(012) 983 &amp;&amp; (055) 444-47-00 &amp;&amp; (055) 444-61-00</td>\n",
       "      <td>45500</td>\n",
       "      <td>AZN</td>\n",
       "      <td>Bakı</td>\n",
       "      <td>Fiat</td>\n",
       "      <td>Doblo</td>\n",
       "      <td>2022</td>\n",
       "      <td>Furqon</td>\n",
       "      <td>...</td>\n",
       "      <td>Vuruğu yoxdur, rənglənməyib</td>\n",
       "      <td>20.04.2024</td>\n",
       "      <td>1930</td>\n",
       "      <td>ABS, Mərkəzi qapanma, Kondisioner</td>\n",
       "      <td>Doblo Cargo MAXİ XL \"SOYUDUCU +3* +5*\" ***** S...</td>\n",
       "      <td>https://turbo.az/autos/6429269-fiat-doblo</td>\n",
       "      <td>NaN</td>\n",
       "      <td>NaN</td>\n",
       "      <td>NaN</td>\n",
       "      <td>91000</td>\n",
       "    </tr>\n",
       "    <tr>\n",
       "      <th>3</th>\n",
       "      <td>Bestune Azərbaycan</td>\n",
       "      <td>1</td>\n",
       "      <td>(012) 310-07-85 &amp;&amp; (055) 258-55-45</td>\n",
       "      <td>49000</td>\n",
       "      <td>AZN</td>\n",
       "      <td>Bakı</td>\n",
       "      <td>Bestune</td>\n",
       "      <td>T99</td>\n",
       "      <td>2022</td>\n",
       "      <td>Offroader / SUV</td>\n",
       "      <td>...</td>\n",
       "      <td>Vuruğu yoxdur, rənglənməyib</td>\n",
       "      <td>19.04.2024</td>\n",
       "      <td>10954</td>\n",
       "      <td>Yüngül lehimli disklər, ABS, Lyuk, Yağış senso...</td>\n",
       "      <td>Bestune T99 5 il zəmanət 2 il FAİZSİZ kredit _...</td>\n",
       "      <td>https://turbo.az/autos/6181498-bestune-t99</td>\n",
       "      <td>NaN</td>\n",
       "      <td>NaN</td>\n",
       "      <td>NaN</td>\n",
       "      <td>98000</td>\n",
       "    </tr>\n",
       "    <tr>\n",
       "      <th>4</th>\n",
       "      <td>Baku Cars</td>\n",
       "      <td>1</td>\n",
       "      <td>(055) 686-91-90 &amp;&amp; (012) 437-63-33 &amp;&amp; (055) 26...</td>\n",
       "      <td>36500</td>\n",
       "      <td>USD</td>\n",
       "      <td>Bakı</td>\n",
       "      <td>Toyota</td>\n",
       "      <td>Camry</td>\n",
       "      <td>2021</td>\n",
       "      <td>Sedan</td>\n",
       "      <td>...</td>\n",
       "      <td>Vuruğu yoxdur, rənglənməyib</td>\n",
       "      <td>20.04.2024</td>\n",
       "      <td>621</td>\n",
       "      <td>Yüngül lehimli disklər, ABS, Lyuk, Yağış senso...</td>\n",
       "      <td>• Açılan ṣüṣə tavan • Multi sükan • 8dym displ...</td>\n",
       "      <td>https://turbo.az/autos/5196591-toyota-camry</td>\n",
       "      <td>0</td>\n",
       "      <td>NaN</td>\n",
       "      <td>NaN</td>\n",
       "      <td>73000</td>\n",
       "    </tr>\n",
       "  </tbody>\n",
       "</table>\n",
       "<p>5 rows × 26 columns</p>\n",
       "</div>"
      ],
      "text/plain": [
       "                        Satici  Avtosalon  \\\n",
       "0                    Lada Auto          1   \n",
       "1                        Engin          0   \n",
       "2  Autolux Azerbaijan - Fiat            1   \n",
       "3           Bestune Azərbaycan          1   \n",
       "4                    Baku Cars          1   \n",
       "\n",
       "                                          Telefonlar  Qiymet Valyuta Şəhər  \\\n",
       "0                 (012) 513-09-49 && (050) 582-48-48   26100     AZN  Bakı   \n",
       "1                                    (055) 453-75-61   27250     AZN  Bakı   \n",
       "2    (012) 983 && (055) 444-47-00 && (055) 444-61-00   45500     AZN  Bakı   \n",
       "3                 (012) 310-07-85 && (055) 258-55-45   49000     AZN  Bakı   \n",
       "4  (055) 686-91-90 && (012) 437-63-33 && (055) 26...   36500     USD  Bakı   \n",
       "\n",
       "        Marka   Model  Buraxılış ili         Ban növü  ...  \\\n",
       "0  LADA (VAZ)  Largus           2022           Furqon  ...   \n",
       "1        Audi      A6           2014            Sedan  ...   \n",
       "2        Fiat   Doblo           2022           Furqon  ...   \n",
       "3     Bestune     T99           2022  Offroader / SUV  ...   \n",
       "4      Toyota   Camry           2021            Sedan  ...   \n",
       "\n",
       "                     Vəziyyəti    Yeniləndi Baxışların sayı  \\\n",
       "0  Vuruğu yoxdur, rənglənməyib   20.04.2024            1313   \n",
       "1  Vuruğu yoxdur, rənglənməyib   19.04.2024            5191   \n",
       "2  Vuruğu yoxdur, rənglənməyib   20.04.2024            1930   \n",
       "3  Vuruğu yoxdur, rənglənməyib   19.04.2024           10954   \n",
       "4  Vuruğu yoxdur, rənglənməyib   20.04.2024             621   \n",
       "\n",
       "                                               Extra  \\\n",
       "0                  ABS, Mərkəzi qapanma, Kondisioner   \n",
       "1  Yüngül lehimli disklər, ABS, Lyuk, Yağış senso...   \n",
       "2                  ABS, Mərkəzi qapanma, Kondisioner   \n",
       "3  Yüngül lehimli disklər, ABS, Lyuk, Yağış senso...   \n",
       "4  Yüngül lehimli disklər, ABS, Lyuk, Yağış senso...   \n",
       "\n",
       "                                             Etrafli  \\\n",
       "0  LADA // LARGUS // FURQON // 2022  • Mühərrik -...   \n",
       "1  Orjinal yùrùş. Ideal veziyetdedir. İki zonalı ...   \n",
       "2  Doblo Cargo MAXİ XL \"SOYUDUCU +3* +5*\" ***** S...   \n",
       "3  Bestune T99 5 il zəmanət 2 il FAİZSİZ kredit _...   \n",
       "4  • Açılan ṣüṣə tavan • Multi sükan • 8dym displ...   \n",
       "\n",
       "                                              Url Sahiblər Yerlərin sayı  \\\n",
       "0  https://turbo.az/autos/5933627-lada-vaz-largus      NaN           NaN   \n",
       "1          https://turbo.az/autos/5880375-audi-a6        0           NaN   \n",
       "2       https://turbo.az/autos/6429269-fiat-doblo      NaN           NaN   \n",
       "3      https://turbo.az/autos/6181498-bestune-t99      NaN           NaN   \n",
       "4     https://turbo.az/autos/5196591-toyota-camry        0           NaN   \n",
       "\n",
       "   Hansı bazar üçün yığılıb ikiqat  \n",
       "0                       NaN  52200  \n",
       "1                       NaN  54500  \n",
       "2                       NaN  91000  \n",
       "3                       NaN  98000  \n",
       "4                       NaN  73000  \n",
       "\n",
       "[5 rows x 26 columns]"
      ]
     },
     "execution_count": 10,
     "metadata": {},
     "output_type": "execute_result"
    }
   ],
   "source": [
    "data['ikiqat'] = data['Qiymet'] * 2\n",
    "data.head()"
   ]
  },
  {
   "cell_type": "code",
   "execution_count": null,
   "id": "cc5b511b",
   "metadata": {},
   "outputs": [],
   "source": []
  }
 ],
 "metadata": {
  "kernelspec": {
   "display_name": "Python 3 (ipykernel)",
   "language": "python",
   "name": "python3"
  },
  "language_info": {
   "codemirror_mode": {
    "name": "ipython",
    "version": 3
   },
   "file_extension": ".py",
   "mimetype": "text/x-python",
   "name": "python",
   "nbconvert_exporter": "python",
   "pygments_lexer": "ipython3",
   "version": "3.11.5"
  }
 },
 "nbformat": 4,
 "nbformat_minor": 5
}
