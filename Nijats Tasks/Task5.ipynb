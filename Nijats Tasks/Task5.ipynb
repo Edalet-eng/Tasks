{
 "cells": [
  {
   "cell_type": "markdown",
   "id": "641f3135",
   "metadata": {},
   "source": [
    "\n",
    "Create a program that gets from user 4 inputs that represent the expenses (\"Transportation\", \"Eating out\", \"Groceries\", \"Health and cosmetics\"). The program should calculate the total expense.\n",
    "\n"
   ]
  },
  {
   "cell_type": "code",
   "execution_count": null,
   "id": "86cd30d6",
   "metadata": {},
   "outputs": [],
   "source": []
  },
  {
   "cell_type": "markdown",
   "id": "a3a59ffd",
   "metadata": {},
   "source": [
    "Create a program where user enters a password. If the password is \"bigsecret\" display \"Access granted\", otherwise display \"Access denied\"."
   ]
  },
  {
   "cell_type": "code",
   "execution_count": null,
   "id": "3b3e5059",
   "metadata": {},
   "outputs": [],
   "source": []
  },
  {
   "cell_type": "markdown",
   "id": "4c92e4a6",
   "metadata": {},
   "source": [
    "Create a program that asks user a question until the user answers it correctly."
   ]
  },
  {
   "cell_type": "code",
   "execution_count": null,
   "id": "8a3d7633",
   "metadata": {},
   "outputs": [],
   "source": []
  },
  {
   "cell_type": "markdown",
   "id": "d986ba9c",
   "metadata": {},
   "source": [
    "Create a program that takes two inputs from a user: username and password. The program should ask for these inputs until each field is valid. The username must be at least 6 characters long. Password must be at least 8 characters long and contain a word \"anonim\" or \"anon\" in it."
   ]
  },
  {
   "cell_type": "code",
   "execution_count": null,
   "id": "6fe1a050",
   "metadata": {},
   "outputs": [],
   "source": []
  },
  {
   "cell_type": "markdown",
   "id": "4f850d4d",
   "metadata": {},
   "source": [
    "Write a program that displays how many thousands, hundreds, tens, ones (units) are in the number given by user (Assume that user always enters integers).\n",
    "\n",
    "Example:\n",
    "\n",
    "Number: 1437\n",
    "\n",
    "Thousands: 1\n",
    "\n",
    "Hundreds: 4\n",
    "\n",
    "Tens: 3\n",
    "\n",
    "Ones: 7\n",
    "\n",
    "**Bu Task While-a aid deyil**"
   ]
  },
  {
   "cell_type": "code",
   "execution_count": null,
   "id": "edb31fd9",
   "metadata": {},
   "outputs": [],
   "source": []
  },
  {
   "cell_type": "markdown",
   "id": "19d1d44a",
   "metadata": {},
   "source": [
    "Write a program that displays all odd numbers between 0 and 100\n",
    "\n",
    "VERSION 2\n",
    "\n",
    "The end point is determined by the user\n",
    "\n",
    "VERSION 3\n",
    "\n",
    "Display the amount of odd numbers as well"
   ]
  },
  {
   "cell_type": "code",
   "execution_count": null,
   "id": "652c1112",
   "metadata": {},
   "outputs": [],
   "source": []
  },
  {
   "cell_type": "markdown",
   "id": "e61bb523",
   "metadata": {},
   "source": [
    "Write a program that adds all numbers until 20 inclusive\n",
    "\n",
    "1 + 2 + 3 + 4 ... + 20 = 210"
   ]
  },
  {
   "cell_type": "code",
   "execution_count": null,
   "id": "0099a08a",
   "metadata": {},
   "outputs": [],
   "source": []
  },
  {
   "cell_type": "markdown",
   "id": "100d2d02",
   "metadata": {},
   "source": [
    "Write a program that takes three numbers as an input (a, b, c) and checks how many numbers between a and b are divisible by c.\n",
    "\n",
    "Example:\n",
    "\n",
    "a: 0\n",
    "\n",
    "b: 10\n",
    "\n",
    "c: 2\n",
    "\n",
    "There are 5 numbers divisible by 2 between 0 and 10"
   ]
  },
  {
   "cell_type": "code",
   "execution_count": null,
   "id": "ece1a269",
   "metadata": {},
   "outputs": [],
   "source": []
  },
  {
   "cell_type": "markdown",
   "id": "5033cb61",
   "metadata": {},
   "source": [
    "Create a program that asks user to enter a password. The password must me at least 6 characters long. The program does not stop until user enters a valid password\n",
    "\n",
    "Example:\n",
    "\n",
    "Password: 123\n",
    "\n",
    "Invalid password, try again... Password: 123456\n",
    "\n",
    "Success"
   ]
  },
  {
   "cell_type": "code",
   "execution_count": null,
   "id": "a8dc85f8",
   "metadata": {},
   "outputs": [],
   "source": []
  },
  {
   "cell_type": "markdown",
   "id": "8401f816",
   "metadata": {},
   "source": [
    "Write a program that tells whether a triangle with given sides exists or not.\n",
    "\n",
    "\n",
    "Example\n",
    "\n",
    "Side a: 5\n",
    "\n",
    "Side b: 6\n",
    "\n",
    "Side c: 7\n",
    "\n",
    "Triangle with sides 5, 6, 7 exists\n",
    "\n",
    "Side a: 10\n",
    "\n",
    "Side b: 4\n",
    "\n",
    "Side c: 3\n",
    "\n",
    "Triangle with sides 10, 4, 3 DOES NOT exist"
   ]
  },
  {
   "cell_type": "code",
   "execution_count": null,
   "id": "62045493",
   "metadata": {},
   "outputs": [],
   "source": []
  },
  {
   "cell_type": "markdown",
   "id": "fc40ad74",
   "metadata": {},
   "source": [
    "Create a program that asks the user to guess a randomly generated secret number (from 1 to 12 inclusive). If the user enters a number that is less or greater than secret number, display corresponding message. The user can guess only 4 times. The program doesn't stop until the user guesses the secret number or the attempt limit is reached. Display the amount of attempts it took for the user to guess the secret number.\n",
    "\n",
    "Example:\n",
    "\n",
    "Your guess: 5\n",
    "\n",
    "Go higher\n",
    "\n",
    "Your guess: 12\n",
    "\n",
    "Go lower\n",
    "\n",
    "Your guess: 10\n",
    "\n",
    "You won!\n",
    "\n",
    "It took you 3 attempts to win the game\n",
    "\n",
    "Another example:\n",
    "\n",
    "Your guess: 2\n",
    "\n",
    "Go higher\n",
    "\n",
    "Your guess: 3\n",
    "\n",
    "Go higher\n",
    "\n",
    "Your guess: 12\n",
    "\n",
    "Go lower\n",
    "\n",
    "Your guess: 11\n",
    "\n",
    "You lost... the secret number is 10"
   ]
  },
  {
   "cell_type": "code",
   "execution_count": null,
   "id": "de4b1d69",
   "metadata": {},
   "outputs": [],
   "source": []
  }
 ],
 "metadata": {
  "kernelspec": {
   "display_name": "Python 3 (ipykernel)",
   "language": "python",
   "name": "python3"
  },
  "language_info": {
   "codemirror_mode": {
    "name": "ipython",
    "version": 3
   },
   "file_extension": ".py",
   "mimetype": "text/x-python",
   "name": "python",
   "nbconvert_exporter": "python",
   "pygments_lexer": "ipython3",
   "version": "3.9.12"
  }
 },
 "nbformat": 4,
 "nbformat_minor": 5
}
