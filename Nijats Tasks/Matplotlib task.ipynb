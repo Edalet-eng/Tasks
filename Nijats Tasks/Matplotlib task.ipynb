{
 "cells": [
  {
   "cell_type": "markdown",
   "id": "f84a3264",
   "metadata": {},
   "source": [
    "Plot a line with two points"
   ]
  },
  {
   "cell_type": "code",
   "execution_count": null,
   "id": "ead0fc1c",
   "metadata": {},
   "outputs": [],
   "source": []
  },
  {
   "cell_type": "markdown",
   "id": "4f850d4d",
   "metadata": {},
   "source": [
    "Plot three points with scatter plot"
   ]
  },
  {
   "cell_type": "code",
   "execution_count": null,
   "id": "15b59db7",
   "metadata": {},
   "outputs": [],
   "source": []
  },
  {
   "cell_type": "markdown",
   "id": "001771ca",
   "metadata": {},
   "source": [
    "\n",
    "Create one list of three restaraunts or caffes and another list of integers that represent the amount of customers"
   ]
  },
  {
   "cell_type": "code",
   "execution_count": null,
   "id": "a31d7a87",
   "metadata": {},
   "outputs": [],
   "source": []
  },
  {
   "cell_type": "markdown",
   "id": "cc047a7a",
   "metadata": {},
   "source": [
    "Generate two random arrays. The first array represents the x coordinates and the second array represents the y coordinates of points. Plot these points using a scatter plot"
   ]
  },
  {
   "cell_type": "code",
   "execution_count": null,
   "id": "fe33d544",
   "metadata": {},
   "outputs": [],
   "source": []
  },
  {
   "cell_type": "markdown",
   "id": "859a0778",
   "metadata": {},
   "source": [
    "\n",
    "Generate a list of 100 random numbers in range from 0 to 9 and display the amount of occurances of each point"
   ]
  },
  {
   "cell_type": "code",
   "execution_count": null,
   "id": "2ba10e31",
   "metadata": {},
   "outputs": [],
   "source": []
  },
  {
   "cell_type": "markdown",
   "id": "8d43bbcc",
   "metadata": {},
   "source": [
    "\n",
    "Plot 4 points in the shape of a square"
   ]
  },
  {
   "cell_type": "code",
   "execution_count": null,
   "id": "4bcc5008",
   "metadata": {},
   "outputs": [],
   "source": []
  },
  {
   "cell_type": "markdown",
   "id": "3ed4e8d7",
   "metadata": {},
   "source": [
    "\n",
    "Plot 3 points in the shape of a triangle"
   ]
  },
  {
   "cell_type": "code",
   "execution_count": null,
   "id": "f76e7896",
   "metadata": {},
   "outputs": [],
   "source": []
  },
  {
   "cell_type": "markdown",
   "id": "111fe481",
   "metadata": {},
   "source": [
    "Plot a circle"
   ]
  },
  {
   "cell_type": "code",
   "execution_count": null,
   "id": "2544d794",
   "metadata": {},
   "outputs": [],
   "source": []
  },
  {
   "cell_type": "markdown",
   "id": "c5597250",
   "metadata": {},
   "source": [
    "Plot a quadratic function"
   ]
  },
  {
   "cell_type": "code",
   "execution_count": null,
   "id": "c46a18bc",
   "metadata": {},
   "outputs": [],
   "source": []
  },
  {
   "cell_type": "markdown",
   "id": "2e19cf1d",
   "metadata": {},
   "source": [
    "Plot a cubic function"
   ]
  },
  {
   "cell_type": "code",
   "execution_count": null,
   "id": "961df553",
   "metadata": {},
   "outputs": [],
   "source": []
  },
  {
   "cell_type": "markdown",
   "id": "4463c50f",
   "metadata": {},
   "source": [
    "Plot exponential function"
   ]
  },
  {
   "cell_type": "code",
   "execution_count": null,
   "id": "70cb364e",
   "metadata": {},
   "outputs": [],
   "source": []
  },
  {
   "cell_type": "markdown",
   "id": "3251a70e",
   "metadata": {},
   "source": [
    "Plot sigmoid function"
   ]
  },
  {
   "cell_type": "code",
   "execution_count": null,
   "id": "f42a4780",
   "metadata": {},
   "outputs": [],
   "source": []
  },
  {
   "cell_type": "markdown",
   "id": "c3ae2b29",
   "metadata": {},
   "source": [
    "Plot simusoidal function"
   ]
  },
  {
   "cell_type": "code",
   "execution_count": null,
   "id": "806e8623",
   "metadata": {},
   "outputs": [],
   "source": []
  },
  {
   "cell_type": "markdown",
   "id": "e34b2637",
   "metadata": {},
   "source": [
    "Plot cotangent function"
   ]
  },
  {
   "cell_type": "code",
   "execution_count": null,
   "id": "c6009aac",
   "metadata": {},
   "outputs": [],
   "source": []
  },
  {
   "cell_type": "markdown",
   "id": "443d8693",
   "metadata": {},
   "source": [
    "Plot\n",
    "\n",
    "y = |x|"
   ]
  },
  {
   "cell_type": "code",
   "execution_count": null,
   "id": "bf811bf4",
   "metadata": {},
   "outputs": [],
   "source": []
  },
  {
   "cell_type": "markdown",
   "id": "b9d525fe",
   "metadata": {},
   "source": [
    "Plot relu function"
   ]
  },
  {
   "cell_type": "code",
   "execution_count": null,
   "id": "a4960f99",
   "metadata": {},
   "outputs": [],
   "source": []
  }
 ],
 "metadata": {
  "kernelspec": {
   "display_name": "Python 3 (ipykernel)",
   "language": "python",
   "name": "python3"
  },
  "language_info": {
   "codemirror_mode": {
    "name": "ipython",
    "version": 3
   },
   "file_extension": ".py",
   "mimetype": "text/x-python",
   "name": "python",
   "nbconvert_exporter": "python",
   "pygments_lexer": "ipython3",
   "version": "3.9.12"
  }
 },
 "nbformat": 4,
 "nbformat_minor": 5
}
