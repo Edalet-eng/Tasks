{
 "cells": [
  {
   "cell_type": "markdown",
   "id": "641f3135",
   "metadata": {},
   "source": [
    "Create a 1D numpy array"
   ]
  },
  {
   "cell_type": "code",
   "execution_count": null,
   "id": "86cd30d6",
   "metadata": {},
   "outputs": [],
   "source": []
  },
  {
   "cell_type": "markdown",
   "id": "a3a59ffd",
   "metadata": {},
   "source": [
    "Create a 2D numpy array"
   ]
  },
  {
   "cell_type": "code",
   "execution_count": null,
   "id": "3b3e5059",
   "metadata": {},
   "outputs": [],
   "source": []
  },
  {
   "cell_type": "markdown",
   "id": "4c92e4a6",
   "metadata": {},
   "source": [
    "Create a 10D numpy array"
   ]
  },
  {
   "cell_type": "code",
   "execution_count": null,
   "id": "8a3d7633",
   "metadata": {},
   "outputs": [],
   "source": []
  },
  {
   "cell_type": "markdown",
   "id": "d986ba9c",
   "metadata": {},
   "source": [
    "Create an array of 10 zeros"
   ]
  },
  {
   "cell_type": "code",
   "execution_count": null,
   "id": "6fe1a050",
   "metadata": {},
   "outputs": [],
   "source": []
  },
  {
   "cell_type": "markdown",
   "id": "4f850d4d",
   "metadata": {},
   "source": [
    "Create an array of (5,2) ones\n",
    "\n"
   ]
  },
  {
   "cell_type": "code",
   "execution_count": null,
   "id": "edb31fd9",
   "metadata": {},
   "outputs": [],
   "source": []
  },
  {
   "cell_type": "markdown",
   "id": "19d1d44a",
   "metadata": {},
   "source": [
    "Create an array of 10 threes"
   ]
  },
  {
   "cell_type": "code",
   "execution_count": null,
   "id": "652c1112",
   "metadata": {},
   "outputs": [],
   "source": []
  },
  {
   "cell_type": "markdown",
   "id": "e61bb523",
   "metadata": {},
   "source": [
    "Create an array of integers in range from 10 to 100"
   ]
  },
  {
   "cell_type": "code",
   "execution_count": null,
   "id": "0099a08a",
   "metadata": {},
   "outputs": [],
   "source": []
  },
  {
   "cell_type": "markdown",
   "id": "100d2d02",
   "metadata": {},
   "source": [
    "Create an array of evenly spaced numbers from 1 to 10"
   ]
  },
  {
   "cell_type": "code",
   "execution_count": null,
   "id": "ece1a269",
   "metadata": {},
   "outputs": [],
   "source": []
  },
  {
   "cell_type": "markdown",
   "id": "5033cb61",
   "metadata": {},
   "source": [
    "Create an array of 10 random numbers"
   ]
  },
  {
   "cell_type": "code",
   "execution_count": null,
   "id": "a8dc85f8",
   "metadata": {},
   "outputs": [],
   "source": []
  },
  {
   "cell_type": "markdown",
   "id": "8401f816",
   "metadata": {},
   "source": [
    "\n",
    "Create a 5x2 zero matrix"
   ]
  },
  {
   "cell_type": "code",
   "execution_count": null,
   "id": "62045493",
   "metadata": {},
   "outputs": [],
   "source": []
  },
  {
   "cell_type": "markdown",
   "id": "fc40ad74",
   "metadata": {},
   "source": [
    "Create a 10x10 matrix of ones"
   ]
  },
  {
   "cell_type": "code",
   "execution_count": null,
   "id": "de4b1d69",
   "metadata": {},
   "outputs": [],
   "source": []
  },
  {
   "cell_type": "markdown",
   "id": "17f78943",
   "metadata": {},
   "source": [
    "Create a 5x5 matrix of random numbers"
   ]
  },
  {
   "cell_type": "code",
   "execution_count": null,
   "id": "71972615",
   "metadata": {},
   "outputs": [],
   "source": []
  },
  {
   "cell_type": "markdown",
   "id": "862633a1",
   "metadata": {},
   "source": [
    "Create an array of 5 numbers and display each of its elements"
   ]
  },
  {
   "cell_type": "code",
   "execution_count": null,
   "id": "845a04d9",
   "metadata": {},
   "outputs": [],
   "source": []
  },
  {
   "cell_type": "markdown",
   "id": "a88eeda1",
   "metadata": {},
   "source": [
    "Create a 3x3 matrix of random numbers and display all numbers\n",
    "\n",
    "\n",
    "[[1, 2, 3],\n",
    "[4, 5, 6],\n",
    "[7, 8, 9]]\n",
    "\n",
    "OUTPUT: 1 2 3 4 5 6 7 8 9"
   ]
  },
  {
   "cell_type": "code",
   "execution_count": null,
   "id": "ef363a92",
   "metadata": {},
   "outputs": [],
   "source": []
  },
  {
   "cell_type": "markdown",
   "id": "76e07842",
   "metadata": {},
   "source": [
    "Create a 3x4 array filled with values from 24 to 32"
   ]
  },
  {
   "cell_type": "code",
   "execution_count": null,
   "id": "3eb5efb4",
   "metadata": {},
   "outputs": [],
   "source": []
  },
  {
   "cell_type": "markdown",
   "id": "a7b2c864",
   "metadata": {},
   "source": [
    "Create a 3x4 array of evenly distributed numbers between 0 and 1. Display its shape and the number of dimensions."
   ]
  },
  {
   "cell_type": "code",
   "execution_count": null,
   "id": "cd474154",
   "metadata": {},
   "outputs": [],
   "source": []
  },
  {
   "cell_type": "markdown",
   "id": "1ff891c9",
   "metadata": {},
   "source": [
    "Create a 5x5 identity matrix"
   ]
  },
  {
   "cell_type": "code",
   "execution_count": null,
   "id": "d364f9d9",
   "metadata": {},
   "outputs": [],
   "source": []
  },
  {
   "cell_type": "markdown",
   "id": "33ec5d48",
   "metadata": {},
   "source": [
    "\n",
    "Create a 6x6 zero matrix with elements on the main diagonal equal to 1, 2, 3, 4, 5, 6."
   ]
  },
  {
   "cell_type": "code",
   "execution_count": null,
   "id": "20a7cfff",
   "metadata": {},
   "outputs": [],
   "source": []
  },
  {
   "cell_type": "markdown",
   "id": "12b2cef1",
   "metadata": {},
   "source": [
    "Reshape a 9x4 matrix into a 2x18 matrix"
   ]
  },
  {
   "cell_type": "code",
   "execution_count": null,
   "id": "b8818cc9",
   "metadata": {},
   "outputs": [],
   "source": []
  },
  {
   "cell_type": "markdown",
   "id": "db1cf39e",
   "metadata": {},
   "source": [
    "Create a 3x4 matrix of random numbers and transpose it."
   ]
  },
  {
   "cell_type": "code",
   "execution_count": null,
   "id": "90beec9a",
   "metadata": {},
   "outputs": [],
   "source": []
  },
  {
   "cell_type": "markdown",
   "id": "497bab33",
   "metadata": {},
   "source": [
    "Create a 5x5 matrix of evenly 25 evenly distributed numebrs between 0 and 25. Find the sum of all elements, sum of all rows, sum of all columns.(hem for-la yazin hem for-suz yazin)"
   ]
  },
  {
   "cell_type": "code",
   "execution_count": null,
   "id": "6b574d5d",
   "metadata": {},
   "outputs": [],
   "source": []
  },
  {
   "cell_type": "markdown",
   "id": "1f98396f",
   "metadata": {},
   "source": [
    "Create a vector and find its magnitude"
   ]
  },
  {
   "cell_type": "code",
   "execution_count": null,
   "id": "bbef63d7",
   "metadata": {},
   "outputs": [],
   "source": []
  },
  {
   "cell_type": "markdown",
   "id": "512ebd08",
   "metadata": {},
   "source": [
    "Create a vector of 100 random integers and display unqiue values"
   ]
  },
  {
   "cell_type": "code",
   "execution_count": null,
   "id": "1db9416f",
   "metadata": {},
   "outputs": [],
   "source": []
  },
  {
   "cell_type": "markdown",
   "id": "453ebd41",
   "metadata": {},
   "source": [
    "Create a 5x5 vector of random integers and find the product of all elements, product of all columns, product of all rows."
   ]
  },
  {
   "cell_type": "code",
   "execution_count": null,
   "id": "0a785afe",
   "metadata": {},
   "outputs": [],
   "source": []
  },
  {
   "cell_type": "markdown",
   "id": "c85517ae",
   "metadata": {},
   "source": [
    "Create a random array and display it as an image"
   ]
  },
  {
   "cell_type": "code",
   "execution_count": null,
   "id": "362c51d8",
   "metadata": {},
   "outputs": [],
   "source": []
  }
 ],
 "metadata": {
  "kernelspec": {
   "display_name": "Python 3 (ipykernel)",
   "language": "python",
   "name": "python3"
  },
  "language_info": {
   "codemirror_mode": {
    "name": "ipython",
    "version": 3
   },
   "file_extension": ".py",
   "mimetype": "text/x-python",
   "name": "python",
   "nbconvert_exporter": "python",
   "pygments_lexer": "ipython3",
   "version": "3.9.12"
  }
 },
 "nbformat": 4,
 "nbformat_minor": 5
}
