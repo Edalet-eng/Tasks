{
 "cells": [
  {
   "cell_type": "code",
   "execution_count": 1,
   "id": "310fe8b0",
   "metadata": {},
   "outputs": [],
   "source": [
    "# Lazım olan kitabxanalar\n",
    "import numpy as np"
   ]
  },
  {
   "cell_type": "code",
   "execution_count": 46,
   "id": "8609f449",
   "metadata": {},
   "outputs": [
    {
     "data": {
      "text/plain": [
       "array([1, 2, 3, 4])"
      ]
     },
     "execution_count": 46,
     "metadata": {},
     "output_type": "execute_result"
    }
   ],
   "source": [
    "# array() metodu ilə int64 data növlü array data strukturunun yaradılması\n",
    "int_array_64 = np.array(object = [1, 2, 3, 4])\n",
    "int_array_64"
   ]
  },
  {
   "cell_type": "code",
   "execution_count": 47,
   "id": "4c4bc22d",
   "metadata": {},
   "outputs": [
    {
     "data": {
      "text/plain": [
       "array([1, 2, 3, 4], dtype=int64)"
      ]
     },
     "execution_count": 47,
     "metadata": {},
     "output_type": "execute_result"
    }
   ],
   "source": [
    "int_array_64 = np.array(object = [1, 2, 3, 4], dtype = 'int64')\n",
    "int_array_64"
   ]
  },
  {
   "cell_type": "code",
   "execution_count": 48,
   "id": "e94a2ea3",
   "metadata": {},
   "outputs": [
    {
     "data": {
      "text/plain": [
       "array([1., 2., 3., 4.])"
      ]
     },
     "execution_count": 48,
     "metadata": {},
     "output_type": "execute_result"
    }
   ],
   "source": [
    "float_array_128 = np.array(object = [1, 2, 3, 4], dtype = 'float')\n",
    "float_array_128"
   ]
  },
  {
   "cell_type": "code",
   "execution_count": 2,
   "id": "02057c05",
   "metadata": {},
   "outputs": [
    {
     "data": {
      "text/plain": [
       "array([0, 1, 2, 3, 4])"
      ]
     },
     "execution_count": 2,
     "metadata": {},
     "output_type": "execute_result"
    }
   ],
   "source": [
    "# arange() metodu ilə array data strukturunun yaradılması\n",
    "np.arange(5)"
   ]
  },
  {
   "cell_type": "code",
   "execution_count": 5,
   "id": "3b69825e",
   "metadata": {},
   "outputs": [
    {
     "name": "stdout",
     "output_type": "stream",
     "text": [
      "2.0\n",
      "4.0\n",
      "6.0\n",
      "8.0\n"
     ]
    }
   ],
   "source": [
    "for a in range(2,10,2):\n",
    "    print(float(a))"
   ]
  },
  {
   "cell_type": "code",
   "execution_count": 8,
   "id": "be4eb713",
   "metadata": {},
   "outputs": [
    {
     "data": {
      "text/plain": [
       "array([1, 3, 5, 7, 9])"
      ]
     },
     "execution_count": 8,
     "metadata": {},
     "output_type": "execute_result"
    }
   ],
   "source": [
    "# arange() metodu ilə bir ölçülü array data strukturunun yaradılması\n",
    "np.arange(start = 1, stop = 10, step = 2)"
   ]
  },
  {
   "cell_type": "code",
   "execution_count": 9,
   "id": "e6ae507f",
   "metadata": {},
   "outputs": [
    {
     "data": {
      "text/plain": [
       "array([1., 3., 5., 7., 9.], dtype=float32)"
      ]
     },
     "execution_count": 9,
     "metadata": {},
     "output_type": "execute_result"
    }
   ],
   "source": [
    "# arange() metodu ilə bir ölçülü array data strukturunun yaradılması\n",
    "np.arange(start = 1, stop = 10, step = 2, dtype = np.float32)"
   ]
  },
  {
   "cell_type": "code",
   "execution_count": 10,
   "id": "d0b1956f",
   "metadata": {},
   "outputs": [
    {
     "data": {
      "text/plain": [
       "array([ 1.,  4.,  7., 10.])"
      ]
     },
     "execution_count": 10,
     "metadata": {},
     "output_type": "execute_result"
    }
   ],
   "source": [
    "# linspace() metodu ilə seçilən intervala əsasən bərabər məsafəli dəyərlərdən ibarət array data strukturunun yaradılması\n",
    "np.linspace(start = 1, stop = 10, num = 4)"
   ]
  },
  {
   "cell_type": "code",
   "execution_count": 7,
   "id": "0ca61cc8",
   "metadata": {},
   "outputs": [
    {
     "data": {
      "text/plain": [
       "array([1.  , 3.25, 5.5 , 7.75])"
      ]
     },
     "execution_count": 7,
     "metadata": {},
     "output_type": "execute_result"
    }
   ],
   "source": [
    "# linspace() metodu ilə seçilən intervala əsasən bərabər məsafəli dəyərlərdən ibarət array data strukturunun yaradılması\n",
    "np.linspace(start = 1, stop = 10, num = 4, endpoint = False)"
   ]
  },
  {
   "cell_type": "code",
   "execution_count": 12,
   "id": "db6c6411",
   "metadata": {},
   "outputs": [
    {
     "data": {
      "text/plain": [
       "(array([1.  , 3.25, 5.5 , 7.75]), 2.25)"
      ]
     },
     "execution_count": 12,
     "metadata": {},
     "output_type": "execute_result"
    }
   ],
   "source": [
    "# linspace() metodu ilə seçilən intervala əsasən bərabər məsafəli dəyərlərdən ibarət array data strukturunun yaradılması\n",
    "np.linspace(start = 1, stop = 10, num = 4, endpoint = False, retstep = True)"
   ]
  },
  {
   "cell_type": "code",
   "execution_count": 17,
   "id": "372a6f88",
   "metadata": {},
   "outputs": [
    {
     "data": {
      "text/plain": [
       "array([0., 0., 0., 0., 0.])"
      ]
     },
     "execution_count": 17,
     "metadata": {},
     "output_type": "execute_result"
    }
   ],
   "source": [
    "# zeros() metodu ilə array data strukturunun yaradılması\n",
    "np.zeros(5)"
   ]
  },
  {
   "cell_type": "code",
   "execution_count": 18,
   "id": "c9688963",
   "metadata": {},
   "outputs": [
    {
     "data": {
      "text/plain": [
       "array([[0., 0., 0.],\n",
       "       [0., 0., 0.]])"
      ]
     },
     "execution_count": 18,
     "metadata": {},
     "output_type": "execute_result"
    }
   ],
   "source": [
    "# zeros() metodu ilə array data strukturunun yaradılması\n",
    "np.zeros(shape = (2, 3))"
   ]
  },
  {
   "cell_type": "code",
   "execution_count": 23,
   "id": "053810b1",
   "metadata": {},
   "outputs": [],
   "source": [
    "# ones() metodu ilə array data strukturunun yaradılması\n",
    "ones = np.ones(shape = 3)"
   ]
  },
  {
   "cell_type": "code",
   "execution_count": 28,
   "id": "d610fa9c",
   "metadata": {},
   "outputs": [],
   "source": [
    "# ones() metodu ilə array data strukturunun yaradılması\n",
    "ones = np.ones(shape = (2, 3), dtype = np.int32)"
   ]
  },
  {
   "cell_type": "code",
   "execution_count": 20,
   "id": "0fde08c7",
   "metadata": {},
   "outputs": [
    {
     "data": {
      "text/plain": [
       "array([3, 3, 3])"
      ]
     },
     "execution_count": 20,
     "metadata": {},
     "output_type": "execute_result"
    }
   ],
   "source": [
    "# repeat() metodu ilə array data strukturunun yaradılması\n",
    "np.repeat(a = 3, repeats = 3)"
   ]
  },
  {
   "cell_type": "code",
   "execution_count": 18,
   "id": "516ad7f4",
   "metadata": {},
   "outputs": [
    {
     "data": {
      "text/plain": [
       "array([1, 2, 3, 4])"
      ]
     },
     "execution_count": 18,
     "metadata": {},
     "output_type": "execute_result"
    }
   ],
   "source": [
    "# arange() metodu ilə array data strukturunun yaradılması\n",
    "array = np.arange(start = 1, stop = 5)\n",
    "array"
   ]
  },
  {
   "cell_type": "code",
   "execution_count": 19,
   "id": "1a33565c",
   "metadata": {},
   "outputs": [
    {
     "data": {
      "text/plain": [
       "array([1, 1, 1, 2, 2, 2, 3, 3, 3, 4, 4, 4])"
      ]
     },
     "execution_count": 19,
     "metadata": {},
     "output_type": "execute_result"
    }
   ],
   "source": [
    "# repeat() metodu ilə array data strukturunun yaradılması\n",
    "np.repeat(a = array, repeats = 3)"
   ]
  },
  {
   "cell_type": "code",
   "execution_count": 21,
   "id": "4d432d0e",
   "metadata": {},
   "outputs": [
    {
     "data": {
      "text/plain": [
       "array([1, 2, 3, 4])"
      ]
     },
     "execution_count": 21,
     "metadata": {},
     "output_type": "execute_result"
    }
   ],
   "source": [
    "# array() metodu ilə array data strukturunun yaradılması\n",
    "array = np.array(object = [1, 2, 3, 4])\n",
    "array"
   ]
  },
  {
   "cell_type": "code",
   "execution_count": 25,
   "id": "f92290df",
   "metadata": {},
   "outputs": [
    {
     "data": {
      "text/plain": [
       "dtype('int32')"
      ]
     },
     "execution_count": 25,
     "metadata": {},
     "output_type": "execute_result"
    }
   ],
   "source": [
    "# dtype atributu ilə array data strukturunun data növünün göstərilməsi\n",
    "array.dtype"
   ]
  },
  {
   "cell_type": "code",
   "execution_count": 22,
   "id": "242d04bd",
   "metadata": {},
   "outputs": [
    {
     "data": {
      "text/plain": [
       "1"
      ]
     },
     "execution_count": 22,
     "metadata": {},
     "output_type": "execute_result"
    }
   ],
   "source": [
    "# ndim atributu ilə array data strukturunun ölçüsünün göstərilməsi\n",
    "array.ndim"
   ]
  },
  {
   "cell_type": "code",
   "execution_count": 26,
   "id": "fe7ea180",
   "metadata": {},
   "outputs": [
    {
     "data": {
      "text/plain": [
       "4"
      ]
     },
     "execution_count": 26,
     "metadata": {},
     "output_type": "execute_result"
    }
   ],
   "source": [
    "array.size"
   ]
  },
  {
   "cell_type": "code",
   "execution_count": 29,
   "id": "8702c57b",
   "metadata": {},
   "outputs": [
    {
     "data": {
      "text/plain": [
       "(2, 3)"
      ]
     },
     "execution_count": 29,
     "metadata": {},
     "output_type": "execute_result"
    }
   ],
   "source": [
    "# shape atributu ilə array data strukturunda olan sütun və sətir sayının göstərilməsi\n",
    "ones.shape"
   ]
  },
  {
   "cell_type": "code",
   "execution_count": 30,
   "id": "30a5824a",
   "metadata": {},
   "outputs": [
    {
     "data": {
      "text/plain": [
       "array([1, 2, 3, 4, 5, 6, 7])"
      ]
     },
     "execution_count": 30,
     "metadata": {},
     "output_type": "execute_result"
    }
   ],
   "source": [
    "# arange() metodundan istifadə edərək array data strukturunun yaradılması\n",
    "array = np.arange(start = 1, stop = 8, dtype = np.int32)\n",
    "array"
   ]
  },
  {
   "cell_type": "code",
   "execution_count": 31,
   "id": "508dd2eb",
   "metadata": {},
   "outputs": [
    {
     "data": {
      "text/plain": [
       "4.0"
      ]
     },
     "execution_count": 31,
     "metadata": {},
     "output_type": "execute_result"
    }
   ],
   "source": [
    "# median() metodu ilə array data strukturunda median dəyərin tapılması\n",
    "np.median(a = array)"
   ]
  },
  {
   "cell_type": "code",
   "execution_count": 35,
   "id": "e72d78d6",
   "metadata": {},
   "outputs": [
    {
     "data": {
      "text/plain": [
       "4.0"
      ]
     },
     "execution_count": 35,
     "metadata": {},
     "output_type": "execute_result"
    }
   ],
   "source": [
    "# mean() metodu ilə array data strukturunda ortalama dəyərin tapılması\n",
    "array.mean()"
   ]
  },
  {
   "cell_type": "code",
   "execution_count": 33,
   "id": "d0303e5b",
   "metadata": {},
   "outputs": [
    {
     "data": {
      "text/plain": [
       "7"
      ]
     },
     "execution_count": 33,
     "metadata": {},
     "output_type": "execute_result"
    }
   ],
   "source": [
    "# max() metodu ilə array data strukturunda maksimum dəyərin tapılması\n",
    "array.max()"
   ]
  },
  {
   "cell_type": "code",
   "execution_count": 30,
   "id": "4ba7bef8",
   "metadata": {},
   "outputs": [
    {
     "data": {
      "text/plain": [
       "1"
      ]
     },
     "execution_count": 30,
     "metadata": {},
     "output_type": "execute_result"
    }
   ],
   "source": [
    "# min() metodu ilə array data strukturunda minimum dəyərin tapılması\n",
    "array.min()"
   ]
  },
  {
   "cell_type": "code",
   "execution_count": 31,
   "id": "bae777b1",
   "metadata": {},
   "outputs": [
    {
     "data": {
      "text/plain": [
       "28"
      ]
     },
     "execution_count": 31,
     "metadata": {},
     "output_type": "execute_result"
    }
   ],
   "source": [
    "# sum() metodu ilə array data strukturunda dəyərlərin cəminin tapılması\n",
    "array.sum()"
   ]
  },
  {
   "cell_type": "code",
   "execution_count": 32,
   "id": "f9db0312",
   "metadata": {},
   "outputs": [
    {
     "data": {
      "text/plain": [
       "4.0"
      ]
     },
     "execution_count": 32,
     "metadata": {},
     "output_type": "execute_result"
    }
   ],
   "source": [
    "# var() metodu ilə array data strukturunda variasiya dəyərinin tapılması\n",
    "array.var()"
   ]
  },
  {
   "cell_type": "code",
   "execution_count": 33,
   "id": "e97edf11",
   "metadata": {},
   "outputs": [
    {
     "data": {
      "text/plain": [
       "2.0"
      ]
     },
     "execution_count": 33,
     "metadata": {},
     "output_type": "execute_result"
    }
   ],
   "source": [
    "# std() metodu ilə array data standard yayılma dəyərinin tapılması\n",
    "array.std()"
   ]
  },
  {
   "cell_type": "code",
   "execution_count": 34,
   "id": "df26e8e1",
   "metadata": {},
   "outputs": [
    {
     "data": {
      "text/plain": [
       "array([3, 4, 5, 6, 7, 8, 9])"
      ]
     },
     "execution_count": 34,
     "metadata": {},
     "output_type": "execute_result"
    }
   ],
   "source": [
    "# add() metodu ilə array data strukturunun dəyərlərinin üzərinə verilən dəyərin gəlinməsi\n",
    "np.add(array, 2)"
   ]
  },
  {
   "cell_type": "code",
   "execution_count": 35,
   "id": "bfa12842",
   "metadata": {},
   "outputs": [
    {
     "data": {
      "text/plain": [
       "array([ 2,  4,  6,  8, 10, 12, 14])"
      ]
     },
     "execution_count": 35,
     "metadata": {},
     "output_type": "execute_result"
    }
   ],
   "source": [
    "# Bu metodun 2 eyni və ya fərqli array data strukturuna tətbiq olunması\n",
    "np.add(array, array)"
   ]
  },
  {
   "cell_type": "code",
   "execution_count": 36,
   "id": "f477fd19",
   "metadata": {},
   "outputs": [
    {
     "data": {
      "text/plain": [
       "array([-1,  0,  1,  2,  3,  4,  5])"
      ]
     },
     "execution_count": 36,
     "metadata": {},
     "output_type": "execute_result"
    }
   ],
   "source": [
    "# subtract() metodu ilə array data strukturunun dəyərlərindən verilən dəyərin çıxılması\n",
    "np.subtract(array, 2)"
   ]
  },
  {
   "cell_type": "code",
   "execution_count": 37,
   "id": "2b5d3ccf",
   "metadata": {},
   "outputs": [
    {
     "data": {
      "text/plain": [
       "array([ 2,  4,  6,  8, 10, 12, 14])"
      ]
     },
     "execution_count": 37,
     "metadata": {},
     "output_type": "execute_result"
    }
   ],
   "source": [
    "# multiply() metodu ilə array data strukturunun dəyərlərindən verilən dəyərə vurulması\n",
    "np.multiply(array, 2)"
   ]
  },
  {
   "cell_type": "code",
   "execution_count": 38,
   "id": "3d6c508a",
   "metadata": {},
   "outputs": [
    {
     "data": {
      "text/plain": [
       "array([ 1,  4,  9, 16, 25, 36, 49])"
      ]
     },
     "execution_count": 38,
     "metadata": {},
     "output_type": "execute_result"
    }
   ],
   "source": [
    "# Bu metodun 2 eyni və ya fərqli array data strukturuna tətbiq olunması\n",
    "np.multiply(array, array)"
   ]
  },
  {
   "cell_type": "code",
   "execution_count": 39,
   "id": "ead6a2a4",
   "metadata": {},
   "outputs": [
    {
     "data": {
      "text/plain": [
       "array([0.5, 1. , 1.5, 2. , 2.5, 3. , 3.5])"
      ]
     },
     "execution_count": 39,
     "metadata": {},
     "output_type": "execute_result"
    }
   ],
   "source": [
    "# divide() metodu ilə array data strukturunun dəyərlərindən verilən dəyərə bölünməsi\n",
    "np.divide(array, 2)"
   ]
  },
  {
   "cell_type": "code",
   "execution_count": 40,
   "id": "2374ce51",
   "metadata": {},
   "outputs": [
    {
     "data": {
      "text/plain": [
       "array([1., 1., 1., 1., 1., 1., 1.])"
      ]
     },
     "execution_count": 40,
     "metadata": {},
     "output_type": "execute_result"
    }
   ],
   "source": [
    "# Bu metodun 2 eyni və ya fərqli array data strukturuna tətbiq olunması\n",
    "np.divide(array, array)"
   ]
  },
  {
   "cell_type": "code",
   "execution_count": 41,
   "id": "a8f9fa69",
   "metadata": {},
   "outputs": [
    {
     "data": {
      "text/plain": [
       "array([ 1,  4,  9, 16, 25, 36, 49], dtype=int32)"
      ]
     },
     "execution_count": 41,
     "metadata": {},
     "output_type": "execute_result"
    }
   ],
   "source": [
    "# power() metodu ilə array data strukturunun dəyərlərinin verilən dəyərə görə qüvvətə yüksəldilməsi\n",
    "np.power(array, 2)"
   ]
  },
  {
   "cell_type": "code",
   "execution_count": 42,
   "id": "e7ed52fd",
   "metadata": {},
   "outputs": [
    {
     "data": {
      "text/plain": [
       "array([     1,      4,     27,    256,   3125,  46656, 823543])"
      ]
     },
     "execution_count": 42,
     "metadata": {},
     "output_type": "execute_result"
    }
   ],
   "source": [
    "# Bu metodun 2 eyni və ya fərqli array data strukturuna tətbiq olunması\n",
    "np.power(array, array)"
   ]
  },
  {
   "cell_type": "code",
   "execution_count": 43,
   "id": "59f2abaf",
   "metadata": {},
   "outputs": [
    {
     "data": {
      "text/plain": [
       "array([-3, -2, -1,  0,  1,  2,  3])"
      ]
     },
     "execution_count": 43,
     "metadata": {},
     "output_type": "execute_result"
    }
   ],
   "source": [
    "# arange() metodundan istifadə edərək array data strukturunun yaradılması\n",
    "negative_positive_array = np.arange(start = -3, stop = 4)\n",
    "negative_positive_array"
   ]
  },
  {
   "cell_type": "code",
   "execution_count": 44,
   "id": "f1fa92c7",
   "metadata": {},
   "outputs": [
    {
     "data": {
      "text/plain": [
       "array([3, 2, 1, 0, 1, 2, 3])"
      ]
     },
     "execution_count": 44,
     "metadata": {},
     "output_type": "execute_result"
    }
   ],
   "source": [
    "# abs() metodu ilə array data strukturunda modul dəyərlərin tapılması\n",
    "np.abs(negative_positive_array)"
   ]
  },
  {
   "cell_type": "code",
   "execution_count": null,
   "id": "0fb9bca1",
   "metadata": {},
   "outputs": [],
   "source": []
  }
 ],
 "metadata": {
  "kernelspec": {
   "display_name": "Python 3 (ipykernel)",
   "language": "python",
   "name": "python3"
  },
  "language_info": {
   "codemirror_mode": {
    "name": "ipython",
    "version": 3
   },
   "file_extension": ".py",
   "mimetype": "text/x-python",
   "name": "python",
   "nbconvert_exporter": "python",
   "pygments_lexer": "ipython3",
   "version": "3.9.12"
  }
 },
 "nbformat": 4,
 "nbformat_minor": 5
}
