{
 "cells": [
  {
   "cell_type": "markdown",
   "id": "116d2fa0",
   "metadata": {},
   "source": [
    "## Tapsiriqlar icinde for, if/else conditionlariteleb eden tasklar var. bezi tasklar 5 dqnizi, bezi tasklar fasilesiz 1 saatinizi ala biler.\n",
    "----"
   ]
  },
  {
   "cell_type": "markdown",
   "id": "164c3871",
   "metadata": {},
   "source": [
    "Write an if-elif-else chain that determines a person’s\n",
    "stage of life. **User should enter his/her age**, and then:\n",
    "\n",
    "- If the person is less than 2 years old, print a message that the person is a baby. \n",
    "\n",
    "- If the person is at least 2 years old but less than 4, print a message that the person is a toddler.\n",
    "\n",
    "- If the person is at least 4 years old but less than 13, print a message that the person is a kid.\n",
    "\n",
    "- If the person is at least 13 years old but less than 20, print a message that the person is a teenager.\n",
    "\n",
    "- If the person is at least 20 years old but less than 65, print a message that the person is an adult.\n",
    "\n",
    "- If the person is age 65 or older, print a message that the person is an elder."
   ]
  },
  {
   "cell_type": "code",
   "execution_count": 6,
   "id": "d4caea9c",
   "metadata": {},
   "outputs": [
    {
     "name": "stdout",
     "output_type": "stream",
     "text": [
      "Enter age: 100\n",
      "that the person is an elder.\n"
     ]
    }
   ],
   "source": [
    "user_age= int(input('Enter age: '))\n",
    "if user_age<2 :\n",
    "    print('that the person is a baby.')\n",
    "if 2<= user_age <4: \n",
    "    print('that the person is a kid.')\n",
    "if 4<= user_age <13:\n",
    "    print('that the person is a kid.')\n",
    "if 13<= user_age <20:\n",
    "    print('that the person is a teenager.')\n",
    "if 20<= user_age <65:\n",
    "    print(' that the person is an adult.')\n",
    "elif user_age>=65:\n",
    "    print('that the person is an elder.')"
   ]
  },
  {
   "cell_type": "markdown",
   "id": "f62af81d",
   "metadata": {},
   "source": [
    "----\n",
    "Do the following to create a program that simulates how websites ensure that everyone has a unique username.\n",
    "\n",
    "- Make a list of 3 or more usernames called current_users.\n",
    "- Make another list of 3 usernames called new_users. Make sure one or two of the new usernames are *also in the current_users list*.\n",
    "- Loop through the new_users list to see if each new username has already been used. If it has, print a message that the person will need to enter a new username. If a username has not been used, print a message saying that the username is available."
   ]
  },
  {
   "cell_type": "code",
   "execution_count": 52,
   "id": "a99b2b89",
   "metadata": {},
   "outputs": [
    {
     "name": "stdout",
     "output_type": "stream",
     "text": [
      "that the username is available\n",
      "that the username is available\n",
      "will need to enter a new username\n"
     ]
    }
   ],
   "source": [
    "current_users= ['Asmar', 'Nijat', 'Miray','Ali']\n",
    "new_users= ['Aysu','Samir','Asmar']\n",
    "for i in new_users:\n",
    "    if i in current_users:\n",
    "        print('will need to enter a new username')\n",
    "    else:\n",
    "        print('that the username is available')"
   ]
  },
  {
   "cell_type": "markdown",
   "id": "4c5ecaca",
   "metadata": {},
   "source": [
    "----\n",
    "Think of at least three kinds of your favorite pizza. Store these pizza names in a list, and then use a for loop to print the name of each pizza.\n",
    "\n",
    "- Modify your for loop to print a sentence using the name of the pizza instead of printing just the name of the pizza. For each pizza you should have one line of output containing a simple statement like **I like pepperoni pizza.**\n",
    "- Add a line at the end of your program, outside the for loop, that states how much you like pizza. The output should consist of three or more lines about the kinds of pizza you like and then an additional sentence, such as **I really love pizza!**"
   ]
  },
  {
   "cell_type": "code",
   "execution_count": 53,
   "id": "f4f7d525",
   "metadata": {},
   "outputs": [
    {
     "name": "stdout",
     "output_type": "stream",
     "text": [
      "Acılı Çiken Ranç\n",
      "Qril Çiken Parmezan\n",
      "Meksika pizza\n"
     ]
    }
   ],
   "source": [
    "pizza=[ 'Acılı Çiken Ranç','Qril Çiken Parmezan', 'Meksika pizza']\n",
    "for i in pizza:\n",
    "    print(i)"
   ]
  },
  {
   "cell_type": "code",
   "execution_count": 54,
   "id": "201c1332",
   "metadata": {},
   "outputs": [
    {
     "name": "stdout",
     "output_type": "stream",
     "text": [
      " Menim en sevdiyim pizza Acılı Çiken Rançdir\n",
      " Menim en sevdiyim pizza Qril Çiken Parmezandir\n",
      " Menim en sevdiyim pizza Meksika pizzadir\n"
     ]
    }
   ],
   "source": [
    "pizza=[ 'Acılı Çiken Ranç','Qril Çiken Parmezan', 'Meksika pizza']\n",
    "for i in range(0,len(pizza)):\n",
    "    print(f\" Menim en sevdiyim pizza {pizza[i]}dir\")\n",
    "    "
   ]
  },
  {
   "cell_type": "markdown",
   "id": "4b716273",
   "metadata": {},
   "source": [
    "----\n",
    "Think of at least three different animals that have a common characteristic. Store the names of these animals in a list, and then use a for loop to print out the name of each animal.\n",
    "- Modify your program to print a statement about each animal, such as **A dog would make a great pet.**\n"
   ]
  },
  {
   "cell_type": "markdown",
   "id": "edb81207",
   "metadata": {},
   "source": [
    "birinci usul:"
   ]
  },
  {
   "cell_type": "code",
   "execution_count": 61,
   "id": "2232cabc",
   "metadata": {},
   "outputs": [
    {
     "name": "stdout",
     "output_type": "stream",
     "text": [
      "pisik\n",
      "it\n",
      "inek\n",
      " \n",
      "En sevdiyim heyvan pisikdir. \n",
      "Evimizde it besleyirik. \n",
      "Kendimizde inek var.\n"
     ]
    }
   ],
   "source": [
    "heyvanlar= ['pisik', 'it', 'inek']\n",
    "for i in heyvanlar:\n",
    "    print(i)\n",
    "print(f\" \\nEn sevdiyim heyvan {heyvanlar[0]}dir. \\nEvimizde {heyvanlar[1]} besleyirik. \\nKendimizde {heyvanlar[2]} var.\" )"
   ]
  },
  {
   "cell_type": "markdown",
   "id": "ea04841d",
   "metadata": {},
   "source": [
    "ikinci usul"
   ]
  },
  {
   "cell_type": "code",
   "execution_count": 98,
   "id": "e5035b8a",
   "metadata": {},
   "outputs": [
    {
     "name": "stdout",
     "output_type": "stream",
     "text": [
      " pisik insanlarin en yaxin dostudur\n",
      " it cox sadiq heyvandir\n",
      " inek en cox kendlerde goruruk\n"
     ]
    }
   ],
   "source": [
    "heyvanlar= ['pisik', 'it', 'inek']\n",
    "for i in heyvanlar:\n",
    "    if i=='pisik':\n",
    "        print(f\" {i} insanlarin en yaxin dostudur\")\n",
    "    elif i=='it':\n",
    "        print(f\" {i} cox sadiq heyvandir\")\n",
    "    else:\n",
    "        print(f\" {i} en cox kendlerde goruruk\")"
   ]
  },
  {
   "cell_type": "markdown",
   "id": "691386ca",
   "metadata": {},
   "source": [
    "Use a for loop to print the numbers from 1 to 20, inclusive. (20 de daxil olmaqla 1den 20-ye qeder reqemleri cap et)"
   ]
  },
  {
   "cell_type": "code",
   "execution_count": 73,
   "id": "21903716",
   "metadata": {},
   "outputs": [
    {
     "name": "stdout",
     "output_type": "stream",
     "text": [
      "1,2,3,4,5,6,7,8,9,10,11,12,13,14,15,16,17,18,19,20,"
     ]
    }
   ],
   "source": [
    "for i in range(1,21):\n",
    "    print(i, end=',')"
   ]
  },
  {
   "cell_type": "markdown",
   "id": "bf391972",
   "metadata": {},
   "source": [
    "Use the third argument of the range() function to make a list\n",
    "of the odd numbers from 1 to 20. Use a for loop to print each number. odd - tek reqem"
   ]
  },
  {
   "cell_type": "code",
   "execution_count": 80,
   "id": "6b85d692",
   "metadata": {},
   "outputs": [
    {
     "name": "stdout",
     "output_type": "stream",
     "text": [
      "1\n",
      "3\n",
      "5\n",
      "7\n",
      "9\n",
      "11\n",
      "13\n",
      "15\n",
      "17\n",
      "19\n"
     ]
    }
   ],
   "source": [
    "for i in range(1,21,2):\n",
    "    print(i)"
   ]
  },
  {
   "cell_type": "markdown",
   "id": "b9400ba9",
   "metadata": {},
   "source": [
    "----\n",
    "User bir eded girsin, o edede qeder olan butun ededlerin cemini tap. sum() istifade etmek olmaz"
   ]
  },
  {
   "cell_type": "code",
   "execution_count": 92,
   "id": "4ec66aef",
   "metadata": {},
   "outputs": [
    {
     "name": "stdout",
     "output_type": "stream",
     "text": [
      "Daxil edin: 5\n",
      "15\n"
     ]
    }
   ],
   "source": [
    "a=int(input('Daxil edin: '))\n",
    "cem=0\n",
    "for i in range(a+1):\n",
    "    cem+=i\n",
    "print(cem)"
   ]
  },
  {
   "cell_type": "markdown",
   "id": "92858332",
   "metadata": {},
   "source": [
    "----\n",
    "User bir eded girsin, o edede qeder olan butun ededlerin hasilini (faktorial) tap."
   ]
  },
  {
   "cell_type": "code",
   "execution_count": 96,
   "id": "a44e5a55",
   "metadata": {},
   "outputs": [
    {
     "name": "stdout",
     "output_type": "stream",
     "text": [
      "Daxil edin: 4\n",
      "24\n"
     ]
    }
   ],
   "source": [
    "a=int(input('Daxil edin: '))\n",
    "hasil=1\n",
    "for i in range(1,a+1):\n",
    "    hasil*=i\n",
    "print(hasil)"
   ]
  },
  {
   "cell_type": "markdown",
   "id": "70e2519b",
   "metadata": {},
   "source": [
    "----\n",
    "Qarisiq elementlerden ibaret bir list yaradin, listin icinde olan deyerlerin 'data tipini' gostersin.\n",
    "\n",
    "\n",
    "list = [5, 'salam', True]\n",
    "\n",
    "output: class int, class str, class bool"
   ]
  },
  {
   "cell_type": "code",
   "execution_count": 97,
   "id": "05ae46ee",
   "metadata": {},
   "outputs": [
    {
     "name": "stdout",
     "output_type": "stream",
     "text": [
      "<class 'int'>\n",
      "<class 'str'>\n",
      "<class 'bool'>\n"
     ]
    }
   ],
   "source": [
    "List = [5, 'salam', True]\n",
    "for i in List:\n",
    "    print(type(i))"
   ]
  },
  {
   "cell_type": "markdown",
   "id": "86c1add5",
   "metadata": {},
   "source": [
    "----\n",
    "Asagida meyveler adli tuplenin, ilk elementinin yerine sevdiyin meyveni qeyd ele. qabagina cixan neticeni arasdir"
   ]
  },
  {
   "cell_type": "code",
   "execution_count": 13,
   "id": "6dc1df69",
   "metadata": {},
   "outputs": [],
   "source": [
    "meyveler = (\"alma\", \"banan\", \"gilas\")\n"
   ]
  },
  {
   "cell_type": "markdown",
   "id": "9c5ec928",
   "metadata": {},
   "source": [
    "# tuple-de deyismek olmur elementleri"
   ]
  },
  {
   "cell_type": "markdown",
   "id": "027cc29e",
   "metadata": {},
   "source": [
    "# yaza bilmedim\n",
    "User bir soz birlesmesi yazsin. eger soz birlesmesinin icinde boyuk herfle yazilmis herf varsa, hemin herfi print etsin\n",
    "\n",
    "- .istitle()\n",
    "- .isupper()\n",
    "- .islower() \n",
    "\n",
    "arasdirilsin"
   ]
  },
  {
   "cell_type": "code",
   "execution_count": 124,
   "id": "86d57490",
   "metadata": {},
   "outputs": [
    {
     "name": "stdout",
     "output_type": "stream",
     "text": [
      "Daxil edin: SFSEF\n",
      "False\n"
     ]
    }
   ],
   "source": [
    "user=input('Daxil edin: ')\n",
    "if user.islower()==False:\n",
    "    print(user.islower())"
   ]
  },
  {
   "cell_type": "markdown",
   "id": "924366ec",
   "metadata": {},
   "source": [
    "----\n",
    "User bir cumle/birlesme elave elesin. eger cumle icindeki hansisa herf boyuk herfle yazilibsa, onu 0a beraber elesin. **diqqetli olun**"
   ]
  },
  {
   "cell_type": "markdown",
   "id": "d63c2599",
   "metadata": {},
   "source": [
    "# yaza bilmedim"
   ]
  },
  {
   "cell_type": "code",
   "execution_count": null,
   "id": "dd85e03e",
   "metadata": {},
   "outputs": [],
   "source": []
  },
  {
   "cell_type": "markdown",
   "id": "297a86ba",
   "metadata": {},
   "source": [
    "----\n",
    "# yaza bilmedim\n",
    "Write a  Python program to check the validity of passwords input by users.\n",
    "Validation :\n",
    "\n",
    "At least 1 letter between [a-z] and 1 letter between [A-Z].\n",
    "\n",
    "At least 1 number between [0-9].\n",
    "\n",
    "Minimum length 6 characters.\n",
    "\n",
    "Maximum length 16 characters."
   ]
  },
  {
   "cell_type": "code",
   "execution_count": 127,
   "id": "b7165888",
   "metadata": {},
   "outputs": [
    {
     "name": "stdout",
     "output_type": "stream",
     "text": [
      "Daxil edin: dfcfd2\n"
     ]
    }
   ],
   "source": [
    "user=input(\"Daxil edin: \")\n",
    "\n",
    "\n",
    "if user==range(0,10):\n",
    "    print('duz')"
   ]
  },
  {
   "cell_type": "markdown",
   "id": "110bc6f4",
   "metadata": {},
   "source": [
    "----\n",
    "Usaqliqda defterlerimiz arxasinda olan vurma cedveli seklini gosteren proqram yazin. meselen:\n",
    "\n",
    "1 * 1 = 1\n",
    "\n",
    "1 * 2 = 2\n",
    "\n",
    "1 * 3 = 3\n",
    "\n",
    "1 * 4 = 4\n",
    "\n",
    "1 * 5 = 5\n",
    "\n",
    "1 * 6 = 6\n",
    "\n",
    "1 * 7 = 7\n",
    "\n",
    "1 * 8 = 8\n",
    "\n",
    "1 * 9 = 9"
   ]
  },
  {
   "cell_type": "code",
   "execution_count": 128,
   "id": "aeaf5ee0",
   "metadata": {},
   "outputs": [
    {
     "name": "stdout",
     "output_type": "stream",
     "text": [
      " 1 x 1 = 1\n",
      " 1 x 2 = 2\n",
      " 1 x 3 = 3\n",
      " 1 x 4 = 4\n",
      " 1 x 5 = 5\n",
      " 1 x 6 = 6\n",
      " 1 x 7 = 7\n",
      " 1 x 8 = 8\n",
      " 1 x 9 = 9\n",
      " 1 x 10 = 10\n",
      " 2 x 1 = 2\n",
      " 2 x 2 = 4\n",
      " 2 x 3 = 6\n",
      " 2 x 4 = 8\n",
      " 2 x 5 = 10\n",
      " 2 x 6 = 12\n",
      " 2 x 7 = 14\n",
      " 2 x 8 = 16\n",
      " 2 x 9 = 18\n",
      " 2 x 10 = 20\n",
      " 3 x 1 = 3\n",
      " 3 x 2 = 6\n",
      " 3 x 3 = 9\n",
      " 3 x 4 = 12\n",
      " 3 x 5 = 15\n",
      " 3 x 6 = 18\n",
      " 3 x 7 = 21\n",
      " 3 x 8 = 24\n",
      " 3 x 9 = 27\n",
      " 3 x 10 = 30\n",
      " 4 x 1 = 4\n",
      " 4 x 2 = 8\n",
      " 4 x 3 = 12\n",
      " 4 x 4 = 16\n",
      " 4 x 5 = 20\n",
      " 4 x 6 = 24\n",
      " 4 x 7 = 28\n",
      " 4 x 8 = 32\n",
      " 4 x 9 = 36\n",
      " 4 x 10 = 40\n",
      " 5 x 1 = 5\n",
      " 5 x 2 = 10\n",
      " 5 x 3 = 15\n",
      " 5 x 4 = 20\n",
      " 5 x 5 = 25\n",
      " 5 x 6 = 30\n",
      " 5 x 7 = 35\n",
      " 5 x 8 = 40\n",
      " 5 x 9 = 45\n",
      " 5 x 10 = 50\n",
      " 6 x 1 = 6\n",
      " 6 x 2 = 12\n",
      " 6 x 3 = 18\n",
      " 6 x 4 = 24\n",
      " 6 x 5 = 30\n",
      " 6 x 6 = 36\n",
      " 6 x 7 = 42\n",
      " 6 x 8 = 48\n",
      " 6 x 9 = 54\n",
      " 6 x 10 = 60\n",
      " 7 x 1 = 7\n",
      " 7 x 2 = 14\n",
      " 7 x 3 = 21\n",
      " 7 x 4 = 28\n",
      " 7 x 5 = 35\n",
      " 7 x 6 = 42\n",
      " 7 x 7 = 49\n",
      " 7 x 8 = 56\n",
      " 7 x 9 = 63\n",
      " 7 x 10 = 70\n",
      " 8 x 1 = 8\n",
      " 8 x 2 = 16\n",
      " 8 x 3 = 24\n",
      " 8 x 4 = 32\n",
      " 8 x 5 = 40\n",
      " 8 x 6 = 48\n",
      " 8 x 7 = 56\n",
      " 8 x 8 = 64\n",
      " 8 x 9 = 72\n",
      " 8 x 10 = 80\n",
      " 9 x 1 = 9\n",
      " 9 x 2 = 18\n",
      " 9 x 3 = 27\n",
      " 9 x 4 = 36\n",
      " 9 x 5 = 45\n",
      " 9 x 6 = 54\n",
      " 9 x 7 = 63\n",
      " 9 x 8 = 72\n",
      " 9 x 9 = 81\n",
      " 9 x 10 = 90\n"
     ]
    }
   ],
   "source": [
    "for vuran in range(1, 10):\n",
    "    for vurulan in range(1, 11):\n",
    "        print(f\" {vuran} x {vurulan} = {vuran*vurulan}\")"
   ]
  }
 ],
 "metadata": {
  "kernelspec": {
   "display_name": "Python 3 (ipykernel)",
   "language": "python",
   "name": "python3"
  },
  "language_info": {
   "codemirror_mode": {
    "name": "ipython",
    "version": 3
   },
   "file_extension": ".py",
   "mimetype": "text/x-python",
   "name": "python",
   "nbconvert_exporter": "python",
   "pygments_lexer": "ipython3",
   "version": "3.11.5"
  }
 },
 "nbformat": 4,
 "nbformat_minor": 5
}
