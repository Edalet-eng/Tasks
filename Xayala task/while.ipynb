{
 "cells": [
  {
   "cell_type": "code",
   "execution_count": 1,
   "id": "a42d826e-ba36-4876-95d3-08c0a7642371",
   "metadata": {},
   "outputs": [
    {
     "name": "stdout",
     "output_type": "stream",
     "text": [
      "190\n"
     ]
    }
   ],
   "source": [
    "cem=0\n",
    "for i in range(0,20):\n",
    "    cem+=i\n",
    "print(cem)"
   ]
  },
  {
   "cell_type": "code",
   "execution_count": 2,
   "id": "45b806e9-17d3-4ec4-a27d-cda139cb9894",
   "metadata": {},
   "outputs": [
    {
     "name": "stdout",
     "output_type": "stream",
     "text": [
      "190\n"
     ]
    }
   ],
   "source": [
    "i=0\n",
    "cem=0\n",
    "while i<20:\n",
    "    cem+=i\n",
    "    i+=1\n",
    "print(cem)"
   ]
  },
  {
   "cell_type": "code",
   "execution_count": 3,
   "id": "e516ce62-97fe-4b00-8b50-526d1838470b",
   "metadata": {},
   "outputs": [
    {
     "name": "stdout",
     "output_type": "stream",
     "text": [
      "0\n",
      "2\n",
      "4\n",
      "6\n",
      "8\n",
      "10\n",
      "12\n",
      "14\n",
      "16\n",
      "18\n"
     ]
    }
   ],
   "source": [
    "for i in range(0,20):\n",
    "    if i%2==0:\n",
    "        print(i)"
   ]
  },
  {
   "cell_type": "code",
   "execution_count": 4,
   "id": "35b9fb82-3de9-422f-8554-678f21370242",
   "metadata": {},
   "outputs": [
    {
     "name": "stdout",
     "output_type": "stream",
     "text": [
      "2\n",
      "4\n",
      "6\n",
      "8\n",
      "10\n",
      "12\n",
      "14\n",
      "16\n",
      "18\n",
      "20\n"
     ]
    }
   ],
   "source": [
    "i=0\n",
    "while i<20:\n",
    "    i+=2\n",
    "    print(i)"
   ]
  },
  {
   "cell_type": "code",
   "execution_count": null,
   "id": "3968f5c9-e339-490e-9053-2b9467f17d7d",
   "metadata": {},
   "outputs": [
    {
     "name": "stdout",
     "output_type": "stream",
     "text": [
      "1\n"
     ]
    }
   ],
   "source": [
    "i = 0                 \n",
    "while i < 20:         \n",
    "    if i % 2 == 0:    \n",
    "        i += 1        \n",
    "        print(i)     \n"
   ]
  },
  {
   "cell_type": "code",
   "execution_count": null,
   "id": "80bddc8a-8b7e-4b97-860d-42ceefb8e65b",
   "metadata": {},
   "outputs": [],
   "source": []
  }
 ],
 "metadata": {
  "kernelspec": {
   "display_name": "Python 3 (ipykernel)",
   "language": "python",
   "name": "python3"
  },
  "language_info": {
   "codemirror_mode": {
    "name": "ipython",
    "version": 3
   },
   "file_extension": ".py",
   "mimetype": "text/x-python",
   "name": "python",
   "nbconvert_exporter": "python",
   "pygments_lexer": "ipython3",
   "version": "3.11.7"
  }
 },
 "nbformat": 4,
 "nbformat_minor": 5
}
