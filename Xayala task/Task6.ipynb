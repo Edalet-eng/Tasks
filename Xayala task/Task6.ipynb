{
 "cells": [
  {
   "cell_type": "markdown",
   "id": "e9320453",
   "metadata": {},
   "source": [
    "Qiymet listində qiymət və valyutanı ayır.  Valyutası USD olanları 1.7-ə, valyutası EUR olanları 1.82-ə vur, AZN olanları isə olduğu kimi saxla. Hər bir qiyməti AZN-lə ifadə et.\n",
    "\n",
    "\n",
    "qiymet = ['47500 AZN', '49900 USD', '25900 USD', '305000\tAZN', '49900 AZN', '15300 EUR', '14520 USD', '2100 EUR', '23000 USD']"
   ]
  },
  {
   "cell_type": "code",
   "execution_count": 20,
   "id": "f0af50ee-91ce-4ca0-b2e0-4048ac9ead84",
   "metadata": {},
   "outputs": [
    {
     "name": "stdout",
     "output_type": "stream",
     "text": [
      "47500.00 AZN\n",
      "84830.00 AZN\n",
      "44030.00 AZN\n",
      "305000.00 AZN\n",
      "49900.00 AZN\n",
      "27846.00 AZN\n",
      "24684.00 AZN\n",
      "3822.00 AZN\n",
      "39100.00 AZN\n"
     ]
    }
   ],
   "source": [
    "a = ['47500 AZN', '49900 USD', '25900 USD', '305000 AZN', '49900 AZN', '15300 EUR', '14520 USD', '2100 EUR', '23000 USD']\n",
    "usd_to_azn=1.7\n",
    "eur_to_azn=1.82\n",
    "for i in a:\n",
    "    qiymet,valyuta=i.split()\n",
    "    qiymet=float(qiymet)\n",
    "\n",
    "    if valyuta==\"USD\":\n",
    "        qiymet*=usd_to_azn\n",
    "    elif valyuta==\"EUR\":\n",
    "        qiymet*=eur_to_azn\n",
    "\n",
    "    print(f\"{qiymet:.2f} AZN\")"
   ]
  },
  {
   "cell_type": "markdown",
   "id": "919ba12e",
   "metadata": {},
   "source": [
    "Yaş sütunu verilmiş listdə 60 yaşdan kiçik və 23 yaşdan böyük olan yaşları listdə saxla.\n",
    "\n",
    "age = [23,34,34,45,54,67,63,69,41,32,78,80,82,14,18,26,39,73,21,48]"
   ]
  },
  {
   "cell_type": "code",
   "execution_count": 24,
   "id": "a61eac84-eb22-4215-970d-bf0ea0902e11",
   "metadata": {},
   "outputs": [
    {
     "name": "stdout",
     "output_type": "stream",
     "text": [
      "[34, 34, 45, 54, 41, 32, 26, 39, 48]\n"
     ]
    }
   ],
   "source": [
    "age = [23,34,34,45,54,67,63,69,41,32,78,80,82,14,18,26,39,73,21,48]\n",
    "a=[]\n",
    "for i in age:\n",
    "    if 23<i<60:\n",
    "        a.append(i)\n",
    "print(a)"
   ]
  },
  {
   "cell_type": "markdown",
   "id": "eb12c193",
   "metadata": {},
   "source": [
    "Listin daxilindəki elementlər arasındakı boşluğu altdan çəkilmiş xətlə əvəzlə\n",
    "Bütün elementləri kiçik hərflə yaz\n",
    "Elementlərdə ola biləcək potensial boşluqları sil\n",
    "\n",
    "['İdentifikasiya Nömrəsi', 'Şəhər ', 'Növ', 'Marka', 'Model', 'Buraxılış İli', 'Rəng', 'Mühərrik', 'At Gücü', 'Yanacaq Növü', 'Yürüş',  'Sürət Qutusu', 'Yeni ', 'Ötürücü', 'Qiymət', 'Elan Tarixi', 'Baxış Sayı', 'Şəkil Linki ', 'Elan Linki', 'Salon Maşını ']"
   ]
  },
  {
   "cell_type": "code",
   "execution_count": 36,
   "id": "621d6ebe-04a2-46bc-b311-09eb6494f555",
   "metadata": {},
   "outputs": [
    {
     "name": "stdout",
     "output_type": "stream",
     "text": [
      "İdentifikasiya Nömrəsi\n",
      "Şəhər \n",
      "Növ\n",
      "Marka\n",
      "Model\n",
      "Buraxılış İli\n",
      "Rəng\n",
      "Mühərrik\n",
      "At Gücü\n",
      "Yanacaq Növü\n",
      "Yürüş\n",
      "Sürət Qutusu\n",
      "Yeni \n",
      "Ötürücü\n",
      "Qiymət\n",
      "Elan Tarixi\n",
      "Baxış Sayı\n",
      "Şəkil Linki \n",
      "Elan Linki\n",
      "Salon Maşını\n"
     ]
    }
   ],
   "source": [
    "a=['İdentifikasiya Nömrəsi', 'Şəhər ', 'Növ', 'Marka', 'Model', 'Buraxılış İli', 'Rəng', 'Mühərrik', 'At Gücü', 'Yanacaq Növü', 'Yürüş', 'Sürət Qutusu', 'Yeni ', 'Ötürücü', 'Qiymət', 'Elan Tarixi', 'Baxış Sayı', 'Şəkil Linki ', 'Elan Linki', 'Salon Maşını'] \n",
    "for i in a:\n",
    "    i.strip()\n",
    "    i.replace(\"\",\"_\")\n",
    "    i.lower()\n",
    "    print(i)"
   ]
  },
  {
   "cell_type": "code",
   "execution_count": 26,
   "id": "efc7e859-cad6-4a8f-bee7-a30dad38c69c",
   "metadata": {},
   "outputs": [
    {
     "name": "stdout",
     "output_type": "stream",
     "text": [
      "['i̇dentifikasiya_nömrəsi', 'şəhər', 'növ', 'marka', 'model', 'buraxılış_i̇li', 'rəng', 'mühərrik', 'at_gücü', 'yanacaq_növü', 'yürüş', 'sürət_qutusu', 'yeni', 'ötürücü', 'qiymət', 'elan_tarixi', 'baxış_sayı', 'şəkil_linki', 'elan_linki', 'salon_maşını']\n"
     ]
    }
   ],
   "source": [
    "# Verilmiş siyahı\n",
    "elements = ['İdentifikasiya Nömrəsi', 'Şəhər ', 'Növ', 'Marka', 'Model', 'Buraxılış İli', 'Rəng', 'Mühərrik', 'At Gücü', 'Yanacaq Növü', 'Yürüş', 'Sürət Qutusu', 'Yeni ', 'Ötürücü', 'Qiymət', 'Elan Tarixi', 'Baxış Sayı', 'Şəkil Linki ', 'Elan Linki', 'Salon Maşını ']\n",
    "\n",
    "# Elementləri emal edirik\n",
    "processed_elements = [element.strip().replace(\" \", \"_\").lower() for element in elements]\n",
    "\n",
    "# Nəticələri çap edirik\n",
    "print(processed_elements)\n"
   ]
  },
  {
   "cell_type": "code",
   "execution_count": null,
   "id": "c112f7b9-b0d8-49ff-a398-e900c12f5d18",
   "metadata": {},
   "outputs": [],
   "source": []
  }
 ],
 "metadata": {
  "kernelspec": {
   "display_name": "Python 3 (ipykernel)",
   "language": "python",
   "name": "python3"
  },
  "language_info": {
   "codemirror_mode": {
    "name": "ipython",
    "version": 3
   },
   "file_extension": ".py",
   "mimetype": "text/x-python",
   "name": "python",
   "nbconvert_exporter": "python",
   "pygments_lexer": "ipython3",
   "version": "3.11.7"
  }
 },
 "nbformat": 4,
 "nbformat_minor": 5
}
