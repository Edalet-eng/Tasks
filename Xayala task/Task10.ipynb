{
 "cells": [
  {
   "cell_type": "markdown",
   "id": "e9320453",
   "metadata": {},
   "source": [
    "2-ə bölünən dəyərlərdən ibarət (1 dən 100-ə kimi) array data strukturu yarat"
   ]
  },
  {
   "cell_type": "code",
   "execution_count": 72,
   "id": "97029ea4",
   "metadata": {},
   "outputs": [
    {
     "name": "stdout",
     "output_type": "stream",
     "text": [
      "[  2   4   6   8  10  12  14  16  18  20  22  24  26  28  30  32  34  36\n",
      "  38  40  42  44  46  48  50  52  54  56  58  60  62  64  66  68  70  72\n",
      "  74  76  78  80  82  84  86  88  90  92  94  96  98 100]\n"
     ]
    }
   ],
   "source": [
    "import numpy as np\n",
    "a = np.arange(2, 101, 2)\n",
    "print(a)"
   ]
  },
  {
   "cell_type": "markdown",
   "id": "919ba12e",
   "metadata": {},
   "source": [
    "Yaradılan həmin array data strukturunu 5 sətir və 10 sütun halına sal"
   ]
  },
  {
   "cell_type": "code",
   "execution_count": 73,
   "id": "0d3d0aac",
   "metadata": {},
   "outputs": [
    {
     "name": "stdout",
     "output_type": "stream",
     "text": [
      "[[  2   4   6   8  10  12  14  16  18  20]\n",
      " [ 22  24  26  28  30  32  34  36  38  40]\n",
      " [ 42  44  46  48  50  52  54  56  58  60]\n",
      " [ 62  64  66  68  70  72  74  76  78  80]\n",
      " [ 82  84  86  88  90  92  94  96  98 100]]\n"
     ]
    }
   ],
   "source": [
    "import numpy as np\n",
    "a = np.arange(2, 101, 2).reshape(5,10)\n",
    "print(a)"
   ]
  },
  {
   "cell_type": "markdown",
   "id": "eb12c193",
   "metadata": {},
   "source": [
    "Random rəqəmlərdən ibarət array yaradın. Daha sonra artma sırası ilə düzün"
   ]
  },
  {
   "cell_type": "code",
   "execution_count": 75,
   "id": "dc9cc18d",
   "metadata": {},
   "outputs": [
    {
     "name": "stdout",
     "output_type": "stream",
     "text": [
      "[27 92 69 25 36 85 67 78 87 26]\n",
      "Artma sirasi ile duzulen:[25 26 27 36 67 69 78 85 87 92]\n"
     ]
    }
   ],
   "source": [
    "import numpy as np\n",
    "a=np.random.randint(1,100,10)\n",
    "b=np.sort(a)\n",
    "print(a)\n",
    "print(f\"Artma sirasi ile duzulen:{b}\")"
   ]
  },
  {
   "cell_type": "markdown",
   "id": "3dcaccde",
   "metadata": {},
   "source": [
    "Array data strukturunu düzləşdir yəni ilk yaradıldığı hala qaytar"
   ]
  },
  {
   "cell_type": "code",
   "execution_count": 77,
   "id": "68f7c1ed-0e91-4b61-ba68-35f98c294c13",
   "metadata": {},
   "outputs": [
    {
     "name": "stdout",
     "output_type": "stream",
     "text": [
      "[  2   4   6   8  10  12  14  16  18  20  22  24  26  28  30  32  34  36\n",
      "  38  40  42  44  46  48  50  52  54  56  58  60  62  64  66  68  70  72\n",
      "  74  76  78  80  82  84  86  88  90  92  94  96  98 100]\n"
     ]
    }
   ],
   "source": [
    "import numpy as np\n",
    "\n",
    "a = np.arange(2, 101, 2).reshape(5,10)  \n",
    "a_flattened = a.flatten()\n",
    "\n",
    "print(a_flattened)"
   ]
  },
  {
   "cell_type": "markdown",
   "id": "30ae63c1",
   "metadata": {},
   "source": [
    "Array-də 23-dən kiçik olanları saxla"
   ]
  },
  {
   "cell_type": "code",
   "execution_count": 87,
   "id": "e906d0ec",
   "metadata": {},
   "outputs": [
    {
     "name": "stdout",
     "output_type": "stream",
     "text": [
      "[[ 2  4  6  8 10 12 14 16 18 20]\n",
      " [22  0  0  0  0  0  0  0  0  0]\n",
      " [ 0  0  0  0  0  0  0  0  0  0]\n",
      " [ 0  0  0  0  0  0  0  0  0  0]\n",
      " [ 0  0  0  0  0  0  0  0  0  0]]\n"
     ]
    }
   ],
   "source": [
    "import numpy as np\n",
    "\n",
    "a = np.arange(2, 101, 2).reshape(5,10)\n",
    "\n",
    "filtered_values = np.where(a < 23,a,0)\n",
    "\n",
    "print(filtered_values)\n"
   ]
  },
  {
   "cell_type": "markdown",
   "id": "b73db96f",
   "metadata": {},
   "source": [
    "0-lardan ibarət olan 4 sətir və 6 sütundan ibarət array yarat"
   ]
  },
  {
   "cell_type": "code",
   "execution_count": 25,
   "id": "7b0fb534",
   "metadata": {},
   "outputs": [
    {
     "name": "stdout",
     "output_type": "stream",
     "text": [
      "[[0. 0. 0. 0. 0. 0.]\n",
      " [0. 0. 0. 0. 0. 0.]\n",
      " [0. 0. 0. 0. 0. 0.]\n",
      " [0. 0. 0. 0. 0. 0.]]\n"
     ]
    }
   ],
   "source": [
    "zero=np.zeros((4,6))\n",
    "print(zeros)"
   ]
  },
  {
   "cell_type": "markdown",
   "id": "be90f8ff",
   "metadata": {},
   "source": [
    "1-lərdən ibarət olan 4 sətir və 6 sütundan ibarət array yarat"
   ]
  },
  {
   "cell_type": "code",
   "execution_count": 24,
   "id": "b345519d",
   "metadata": {},
   "outputs": [
    {
     "name": "stdout",
     "output_type": "stream",
     "text": [
      "[[1. 1. 1. 1. 1. 1.]\n",
      " [1. 1. 1. 1. 1. 1.]\n",
      " [1. 1. 1. 1. 1. 1.]\n",
      " [1. 1. 1. 1. 1. 1.]]\n"
     ]
    }
   ],
   "source": [
    "ones=np.ones((4,6))\n",
    "print(ones)"
   ]
  },
  {
   "cell_type": "markdown",
   "id": "0db901bd",
   "metadata": {},
   "source": [
    "Hər iki array-i vertikal şəkildə birləşdir"
   ]
  },
  {
   "cell_type": "code",
   "execution_count": 27,
   "id": "93185c1d",
   "metadata": {},
   "outputs": [
    {
     "name": "stdout",
     "output_type": "stream",
     "text": [
      "[[0. 0. 0. 0. 0. 0.]\n",
      " [0. 0. 0. 0. 0. 0.]\n",
      " [0. 0. 0. 0. 0. 0.]\n",
      " [0. 0. 0. 0. 0. 0.]\n",
      " [1. 1. 1. 1. 1. 1.]\n",
      " [1. 1. 1. 1. 1. 1.]\n",
      " [1. 1. 1. 1. 1. 1.]\n",
      " [1. 1. 1. 1. 1. 1.]]\n"
     ]
    }
   ],
   "source": [
    "vertical= np.vstack((zeros,ones))\n",
    "print(vertical)"
   ]
  },
  {
   "cell_type": "markdown",
   "id": "94246d53",
   "metadata": {},
   "source": [
    "Hər iki array-i horizontal şəkildə birləşdir"
   ]
  },
  {
   "cell_type": "code",
   "execution_count": 28,
   "id": "43d756bc",
   "metadata": {},
   "outputs": [
    {
     "name": "stdout",
     "output_type": "stream",
     "text": [
      "[[0. 0. 0. 0. 0. 0. 1. 1. 1. 1. 1. 1.]\n",
      " [0. 0. 0. 0. 0. 0. 1. 1. 1. 1. 1. 1.]\n",
      " [0. 0. 0. 0. 0. 0. 1. 1. 1. 1. 1. 1.]\n",
      " [0. 0. 0. 0. 0. 0. 1. 1. 1. 1. 1. 1.]]\n"
     ]
    }
   ],
   "source": [
    "horizontal = np.hstack((zeros, ones))\n",
    "print(horizontal)"
   ]
  },
  {
   "cell_type": "markdown",
   "id": "a7d0656e",
   "metadata": {},
   "source": [
    "Dəyərləri 1-dən 25-ə kimi (24 daxildir) 5 sətir və 5 sütundan ibarət array yarat"
   ]
  },
  {
   "cell_type": "code",
   "execution_count": 30,
   "id": "5fa9ef00",
   "metadata": {},
   "outputs": [
    {
     "name": "stdout",
     "output_type": "stream",
     "text": [
      "[[ 1  2  3  4  5]\n",
      " [ 6  7  8  9 10]\n",
      " [11 12 13 14 15]\n",
      " [16 17 18 19 20]\n",
      " [21 22 23 24 25]]\n"
     ]
    }
   ],
   "source": [
    "a=np.arange(1,26).reshape(5,5)\n",
    "print(a)"
   ]
  },
  {
   "cell_type": "markdown",
   "id": "2ec6e6ee",
   "metadata": {},
   "source": [
    "Array-də ilk sətirin sonuncu dəyərini və son sətrin ilk dəyərini filterlə"
   ]
  },
  {
   "cell_type": "code",
   "execution_count": 91,
   "id": "02ebdb93",
   "metadata": {},
   "outputs": [
    {
     "name": "stdout",
     "output_type": "stream",
     "text": [
      "[ 5 21]\n"
     ]
    }
   ],
   "source": [
    "import numpy as np\n",
    "a=np.arange(1,26).reshape(5,5)\n",
    "b = np.array([a[0, -1], a[-1, 0]])\n",
    "print(b)"
   ]
  },
  {
   "cell_type": "markdown",
   "id": "49771b82",
   "metadata": {},
   "source": [
    "Array-də bütün sətirlərin və 3-cü və 4-cü dəyərlərini filterlə"
   ]
  },
  {
   "cell_type": "code",
   "execution_count": 100,
   "id": "75752349",
   "metadata": {},
   "outputs": [
    {
     "name": "stdout",
     "output_type": "stream",
     "text": [
      "[[ 4  5]\n",
      " [ 9 10]\n",
      " [14 15]\n",
      " [19 20]\n",
      " [24 25]]\n"
     ]
    }
   ],
   "source": [
    "import numpy as np\n",
    "a=np.arange(1,26).reshape(5,5)\n",
    "\n",
    "filtered_values = a[:,3:5]\n",
    "\n",
    "print(filtered_values)"
   ]
  },
  {
   "cell_type": "markdown",
   "id": "7a04e151",
   "metadata": {},
   "source": [
    "Array-də maksimum dəyəri göstər"
   ]
  },
  {
   "cell_type": "code",
   "execution_count": 32,
   "id": "6225e7b6",
   "metadata": {},
   "outputs": [
    {
     "name": "stdout",
     "output_type": "stream",
     "text": [
      "[85 76 64 54 67 91 43 29 15  8]\n",
      "91\n"
     ]
    }
   ],
   "source": [
    "a=np.random.randint(1,100,10)\n",
    "b=np.max(a)\n",
    "print(a)\n",
    "print(b)"
   ]
  },
  {
   "cell_type": "markdown",
   "id": "2064f40f",
   "metadata": {},
   "source": [
    "Array-də ortalama dəyəri göstər"
   ]
  },
  {
   "cell_type": "code",
   "execution_count": 35,
   "id": "e2f2fbc3",
   "metadata": {},
   "outputs": [
    {
     "name": "stdout",
     "output_type": "stream",
     "text": [
      "[ 8 12 92 12 67 75 92  8  7 42]\n",
      "41.5\n"
     ]
    }
   ],
   "source": [
    "a=np.random.randint(1,100,10)\n",
    "b=np.mean(a)\n",
    "print(a)\n",
    "print(b)"
   ]
  },
  {
   "cell_type": "markdown",
   "id": "8144088d",
   "metadata": {},
   "source": [
    "Array-də median dəyəri göstər"
   ]
  },
  {
   "cell_type": "code",
   "execution_count": 36,
   "id": "5b896dd7",
   "metadata": {},
   "outputs": [
    {
     "name": "stdout",
     "output_type": "stream",
     "text": [
      "[83 83 58 92 71 13 57 69 37 17]\n",
      "63.5\n"
     ]
    }
   ],
   "source": [
    "a=np.random.randint(1,100,10)\n",
    "b=np.median(a)\n",
    "print(a)\n",
    "print(b)"
   ]
  },
  {
   "cell_type": "markdown",
   "id": "e36353a9",
   "metadata": {},
   "source": [
    "Bu array-də minimum dəyərin indeksini göstər"
   ]
  },
  {
   "cell_type": "code",
   "execution_count": 40,
   "id": "cbf68e99",
   "metadata": {},
   "outputs": [
    {
     "name": "stdout",
     "output_type": "stream",
     "text": [
      "[25  7 61 41 35 29 26 35 63 74]\n",
      "7\n",
      "1\n"
     ]
    }
   ],
   "source": [
    "a=np.random.randint(1,100,10)\n",
    "b=np.min(a)\n",
    "min_index = np.argmin(a)\n",
    "print(a)\n",
    "print(b)\n",
    "print(min_index)"
   ]
  },
  {
   "cell_type": "markdown",
   "id": "2479f297",
   "metadata": {},
   "source": [
    "Bu array-də maksimum dəyərin indeksini göstər"
   ]
  },
  {
   "cell_type": "code",
   "execution_count": 43,
   "id": "af317195",
   "metadata": {},
   "outputs": [
    {
     "name": "stdout",
     "output_type": "stream",
     "text": [
      "[16 39 66 19 49 75 47 92 61 45]\n",
      "92\n",
      "7\n"
     ]
    }
   ],
   "source": [
    "a=np.random.randint(1,100,10)\n",
    "b=np.max(a)\n",
    "max_index = np.argmax(a)\n",
    "print(a)\n",
    "print(b)\n",
    "print(max_index)"
   ]
  },
  {
   "cell_type": "markdown",
   "id": "62edbd04",
   "metadata": {},
   "source": [
    "adlardan ibarət olan array yarat"
   ]
  },
  {
   "cell_type": "code",
   "execution_count": 46,
   "id": "8d4e3eb7",
   "metadata": {},
   "outputs": [
    {
     "name": "stdout",
     "output_type": "stream",
     "text": [
      "[['Xeyale' 'Esmer']\n",
      " ['Nijat' 'Edalet']]\n"
     ]
    }
   ],
   "source": [
    "a=np.array([[\"Xeyale\",\"Esmer\"],[\"Nijat\",\"Edalet\"]])\n",
    "print(a)"
   ]
  },
  {
   "cell_type": "markdown",
   "id": "d267796c",
   "metadata": {},
   "source": [
    "bu arraydaki adları əlifba sırası ilə düz"
   ]
  },
  {
   "cell_type": "code",
   "execution_count": 50,
   "id": "1a10251d",
   "metadata": {},
   "outputs": [
    {
     "name": "stdout",
     "output_type": "stream",
     "text": [
      "[['Xeyale' 'Esmer']\n",
      " ['Nijat' 'Edalet']]\n",
      "Elifba sirasi ile olan:\n",
      "[['Esmer' 'Xeyale']\n",
      " ['Edalet' 'Nijat']]\n"
     ]
    }
   ],
   "source": [
    "a=np.array([[\"Xeyale\",\"Esmer\"],[\"Nijat\",\"Edalet\"]])\n",
    "b=np.sort(a)\n",
    "print(a)\n",
    "print(f\"Elifba sirasi ile olan:\\n{b}\")"
   ]
  },
  {
   "cell_type": "markdown",
   "id": "ee6c2295",
   "metadata": {},
   "source": [
    "Array-də olan bütün adların ilk hərfini böyük saxla qalan hərfləri kiçilt"
   ]
  },
  {
   "cell_type": "code",
   "execution_count": 52,
   "id": "a2ddb990",
   "metadata": {},
   "outputs": [
    {
     "name": "stdout",
     "output_type": "stream",
     "text": [
      "[['xeYaLe' 'esMEr']\n",
      " ['nIJat' 'eDAlEt']]\n",
      "Ilk hərfini böyük olan:\n",
      "[['Xeyale' 'Esmer']\n",
      " ['Nijat' 'Edalet']]\n"
     ]
    }
   ],
   "source": [
    "a=np.array([[\"xeYaLe\",\"esMEr\"],[\"nIJat\",\"eDAlEt\"]])\n",
    "b = np.char.capitalize(a)\n",
    "print(a)\n",
    "print(f\"Ilk hərfini böyük olan:\\n{b}\")"
   ]
  },
  {
   "cell_type": "markdown",
   "id": "ad54364a",
   "metadata": {},
   "source": [
    "A hərfi ilə başlayan adları sil"
   ]
  },
  {
   "cell_type": "code",
   "execution_count": 56,
   "id": "3c0e6287",
   "metadata": {},
   "outputs": [
    {
     "name": "stdout",
     "output_type": "stream",
     "text": [
      "['Aydan' 'Hesen' 'Ayla' 'Xeyale' 'Kenan' 'Aylin']\n",
      "['Hesen', 'Xeyale', 'Kenan']\n"
     ]
    }
   ],
   "source": [
    "a=np.array((\"Aydan\",\"Hesen\",\"Ayla\",\"Xeyale\",\"Kenan\",\"Aylin\"))\n",
    "filtered_names = [name for name in a if not name.startswith(\"A\")]\n",
    "print(a)\n",
    "print(filtered_names)"
   ]
  },
  {
   "cell_type": "markdown",
   "id": "fc5c9232",
   "metadata": {},
   "source": [
    "t hərfi ilə bitən adları sil"
   ]
  },
  {
   "cell_type": "code",
   "execution_count": 58,
   "id": "867f8fde",
   "metadata": {},
   "outputs": [
    {
     "name": "stdout",
     "output_type": "stream",
     "text": [
      "['Aydan' 'Seadet' 'Ayla' 'Nihat' 'Kenan' 'Nicat']\n",
      "['Aydan', 'Ayla', 'Kenan']\n"
     ]
    }
   ],
   "source": [
    "a=np.array((\"Aydan\",\"Seadet\",\"Ayla\",\"Nihat\",\"Kenan\",\"Nicat\"))\n",
    "filtered_names = [name for name in a if not name.endswith(\"t\")]\n",
    "print(a)\n",
    "print(filtered_names)"
   ]
  },
  {
   "cell_type": "markdown",
   "id": "32abb58a",
   "metadata": {},
   "source": [
    "\n",
    "Create a list of 1000 random numbers and using filter function remove all not perfect numbers. A perfect number is a number that is equal to the sum of its divisors(excluding itself).\n",
    "\n",
    "6 = 1 + 2 + 3"
   ]
  },
  {
   "cell_type": "code",
   "execution_count": 59,
   "id": "99994281",
   "metadata": {},
   "outputs": [
    {
     "name": "stdout",
     "output_type": "stream",
     "text": [
      "perfect\n"
     ]
    }
   ],
   "source": [
    "def perfect(number):\n",
    "    bolenler=[]\n",
    "    for i in range(1,number):\n",
    "        if number%i==0:\n",
    "            bolenler.append(i)\n",
    "    if sum(bolenler)==number:\n",
    "        print(\"perfect\")\n",
    "    else:\n",
    "        print(\"not perfect\")\n",
    "perfect(6)"
   ]
  },
  {
   "cell_type": "markdown",
   "id": "0154ae5d",
   "metadata": {},
   "source": [
    "Using filter function remove all special characters (., !, &, etc.) from a string."
   ]
  },
  {
   "cell_type": "code",
   "execution_count": 61,
   "id": "3798171d",
   "metadata": {},
   "outputs": [
    {
     "name": "stdout",
     "output_type": "stream",
     "text": [
      "HelloWorldThisisatest:123\n"
     ]
    }
   ],
   "source": [
    "def func(a):\n",
    "    olmaz=\".,!,&,*,# \"\n",
    "    for i in a:\n",
    "        if i in olmaz:\n",
    "            return False\n",
    "    return True\n",
    "a=\"Hello, World! This is a test: 123 &*#\"\n",
    "cumle = ''.join(filter(func, a))\n",
    "print(cumle)"
   ]
  }
 ],
 "metadata": {
  "kernelspec": {
   "display_name": "Python 3 (ipykernel)",
   "language": "python",
   "name": "python3"
  },
  "language_info": {
   "codemirror_mode": {
    "name": "ipython",
    "version": 3
   },
   "file_extension": ".py",
   "mimetype": "text/x-python",
   "name": "python",
   "nbconvert_exporter": "python",
   "pygments_lexer": "ipython3",
   "version": "3.11.7"
  }
 },
 "nbformat": 4,
 "nbformat_minor": 5
}
