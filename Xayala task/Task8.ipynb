{
 "cells": [
  {
   "cell_type": "markdown",
   "id": "e9320453",
   "metadata": {},
   "source": [
    "Create a recursive function that find a sum of first n numbers"
   ]
  },
  {
   "cell_type": "code",
   "execution_count": 11,
   "id": "97029ea4",
   "metadata": {},
   "outputs": [
    {
     "name": "stdout",
     "output_type": "stream",
     "text": [
      "n=5 olanda cem=15 olur\n"
     ]
    }
   ],
   "source": [
    "def topla(n):\n",
    "    if n==0:\n",
    "        return 0\n",
    "    elif n==1:\n",
    "        return 1\n",
    "    else:\n",
    "        return n+topla(n-1)\n",
    "n = 5\n",
    "print(f\"n={n} olanda cem={topla(n)} olur\")"
   ]
  },
  {
   "cell_type": "markdown",
   "id": "919ba12e",
   "metadata": {},
   "source": [
    "Create a recursive function that find a factorial of a number"
   ]
  },
  {
   "cell_type": "code",
   "execution_count": 15,
   "id": "0d3d0aac",
   "metadata": {},
   "outputs": [
    {
     "name": "stdout",
     "output_type": "stream",
     "text": [
      "5!= 120\n"
     ]
    }
   ],
   "source": [
    "def factorial(n):\n",
    "    if n == 0 or n == 1:\n",
    "        return 1\n",
    "    else:\n",
    "        return n * factorial(n - 1)\n",
    "\n",
    "n = 5\n",
    "print(f\"{n}!= {factorial(n)}\")\n"
   ]
  },
  {
   "cell_type": "markdown",
   "id": "eb12c193",
   "metadata": {},
   "source": [
    "Create a recursive function that calculates the sum of the positive integers of n+(n-2)+(n-4)... (until n-x =< 0).\n",
    "\n",
    "Example:\n",
    "\n",
    "6 -> 6 + 4 + 2 -> 12"
   ]
  },
  {
   "cell_type": "code",
   "execution_count": 22,
   "id": "dc9cc18d",
   "metadata": {},
   "outputs": [
    {
     "name": "stdout",
     "output_type": "stream",
     "text": [
      "6 olan zaman 12 olur.\n"
     ]
    }
   ],
   "source": [
    "def sum(n):\n",
    "    if n <= 0:\n",
    "        return 0\n",
    "    else:\n",
    "        return n + sum(n - 2)\n",
    "\n",
    "n = 6\n",
    "result = sum(n)\n",
    "print(f\"{n} olan zaman {result} olur.\")"
   ]
  },
  {
   "cell_type": "markdown",
   "id": "3dcaccde",
   "metadata": {},
   "source": [
    "Create a recursive function that returns the n-th element of the Fibonacci sequence. Each number in the sequence is the sum of the two numbers that precede it.\n",
    "\n",
    "Fibonacci sequence: 0, 1, 1, 2, 3, 5, 8, 13, 21, 34, 55"
   ]
  },
  {
   "cell_type": "code",
   "execution_count": 27,
   "id": "d5f50c30",
   "metadata": {},
   "outputs": [
    {
     "name": "stdout",
     "output_type": "stream",
     "text": [
      "The 6-th Fibonacci number is 8\n"
     ]
    }
   ],
   "source": [
    "def fibonacci(n):\n",
    "    if n == 0:\n",
    "        return 0\n",
    "    elif n == 1:\n",
    "        return 1\n",
    "    else:\n",
    "        return fibonacci(n-1) + fibonacci(n-2)\n",
    "\n",
    "n = 6\n",
    "print(f\"The {n}-th Fibonacci number is {fibonacci(n)}\")\n"
   ]
  },
  {
   "cell_type": "markdown",
   "id": "30ae63c1",
   "metadata": {},
   "source": [
    "Create a recursive function that finds a power of a number."
   ]
  },
  {
   "cell_type": "code",
   "execution_count": 25,
   "id": "e906d0ec",
   "metadata": {},
   "outputs": [
    {
     "name": "stdout",
     "output_type": "stream",
     "text": [
      "2-nin quvveti 3 olanda cavab 8 olur\n"
     ]
    }
   ],
   "source": [
    "def power(x, y):\n",
    "    if y == 0:\n",
    "        return 1\n",
    "    else:\n",
    "        return base * power(x, y - 1)\n",
    "\n",
    "x = 2\n",
    "y = 3\n",
    "result = power(x,y)\n",
    "print(f\"{x}-nin quvveti {y} olanda cavab {result} olur\")\n"
   ]
  },
  {
   "cell_type": "markdown",
   "id": "b73db96f",
   "metadata": {},
   "source": [
    "Create a recursive function that finds a sum of all elements in a nested list\n",
    "\n",
    "Example\n",
    "\n",
    "[1, 2, [3,4], [5,6]] -> 1 + 2 + 3 + 4 + 5 + 6 = 21"
   ]
  },
  {
   "cell_type": "code",
   "execution_count": null,
   "id": "7b0fb534",
   "metadata": {},
   "outputs": [],
   "source": []
  },
  {
   "cell_type": "markdown",
   "id": "be90f8ff",
   "metadata": {},
   "source": [
    "Create a recursive function that finds a product of the number's digits\n",
    "\n",
    "Example\n",
    "\n",
    "1534 -> 1 * 5 * 3 * 4 = 60"
   ]
  },
  {
   "cell_type": "code",
   "execution_count": null,
   "id": "b345519d",
   "metadata": {},
   "outputs": [],
   "source": [
    "    "
   ]
  },
  {
   "cell_type": "markdown",
   "id": "0db901bd",
   "metadata": {},
   "source": [
    "Create a recursive function that finds the ƏKOB of two numbers.\n",
    "\n",
    "Example\n",
    "\n",
    "ƏKOB(20, 25) = 100"
   ]
  },
  {
   "cell_type": "code",
   "execution_count": 18,
   "id": "93185c1d",
   "metadata": {},
   "outputs": [
    {
     "name": "stdout",
     "output_type": "stream",
     "text": [
      "ƏKOB 20 ve 25 100-e beraberdir\n"
     ]
    }
   ],
   "source": [
    "def EBOB(a, b):\n",
    "    if b == 0:\n",
    "        return a\n",
    "    else:\n",
    "        return EBOB(b, a % b)\n",
    "\n",
    "def EKOB(a, b):\n",
    "    return abs(a * b) // EBOB(a, b)\n",
    "\n",
    "a = 20\n",
    "b = 25\n",
    "netice = EKOB(a, b)\n",
    "print(f\"ƏKOB {a} ve {b} {netice}-e beraberdir\")"
   ]
  },
  {
   "cell_type": "markdown",
   "id": "6fc637a1",
   "metadata": {},
   "source": [
    "## Lambda"
   ]
  },
  {
   "cell_type": "markdown",
   "id": "94246d53",
   "metadata": {},
   "source": [
    "Create a lambda function that takes a number as input and returs double its value\n",
    "\n",
    "4 -> 8\n",
    "6 -> 12"
   ]
  },
  {
   "cell_type": "code",
   "execution_count": 6,
   "id": "43d756bc",
   "metadata": {},
   "outputs": [
    {
     "name": "stdout",
     "output_type": "stream",
     "text": [
      "16\n"
     ]
    }
   ],
   "source": [
    "add = lambda x: x**2\n",
    "print(add(4)) "
   ]
  },
  {
   "cell_type": "markdown",
   "id": "a7d0656e",
   "metadata": {},
   "source": [
    "Create an anonymous function that takes two numbers as an input and returns their product"
   ]
  },
  {
   "cell_type": "code",
   "execution_count": 7,
   "id": "5fa9ef00",
   "metadata": {},
   "outputs": [
    {
     "name": "stdout",
     "output_type": "stream",
     "text": [
      "12\n"
     ]
    }
   ],
   "source": [
    "multiply = lambda x, y: x * y\n",
    "\n",
    "result = multiply(3, 4)\n",
    "print(result)"
   ]
  },
  {
   "cell_type": "markdown",
   "id": "2ec6e6ee",
   "metadata": {},
   "source": [
    "Create a lambda function that takes a number and returns its cube."
   ]
  },
  {
   "cell_type": "code",
   "execution_count": 5,
   "id": "02ebdb93",
   "metadata": {},
   "outputs": [
    {
     "name": "stdout",
     "output_type": "stream",
     "text": [
      "8\n"
     ]
    }
   ],
   "source": [
    "add = lambda x: x**3\n",
    "print(add(2)) "
   ]
  },
  {
   "cell_type": "markdown",
   "id": "49771b82",
   "metadata": {},
   "source": [
    "Create a lambda function that takes two number (a,b) and returns a to the power of b.\n",
    "\n",
    "(2, 5) -> 32"
   ]
  },
  {
   "cell_type": "code",
   "execution_count": 4,
   "id": "75752349",
   "metadata": {},
   "outputs": [
    {
     "name": "stdout",
     "output_type": "stream",
     "text": [
      "32\n"
     ]
    }
   ],
   "source": [
    "add = lambda x, y: x**y\n",
    "print(add(2,5))  "
   ]
  },
  {
   "cell_type": "markdown",
   "id": "7a04e151",
   "metadata": {},
   "source": [
    "Create a lambda function that takes a string and returns True if all characters are digits."
   ]
  },
  {
   "cell_type": "code",
   "execution_count": 9,
   "id": "6225e7b6",
   "metadata": {},
   "outputs": [
    {
     "name": "stdout",
     "output_type": "stream",
     "text": [
      "True\n",
      "False\n"
     ]
    }
   ],
   "source": [
    "is_all_digits = lambda s: s.isdigit()\n",
    "\n",
    "print(is_all_digits(\"12345\"))  \n",
    "print(is_all_digits(\"123a5\")) "
   ]
  },
  {
   "cell_type": "markdown",
   "id": "2064f40f",
   "metadata": {},
   "source": [
    "Create a list of numbers from 0 to 10000 using list comprehension."
   ]
  },
  {
   "cell_type": "code",
   "execution_count": 11,
   "id": "e2f2fbc3",
   "metadata": {},
   "outputs": [
    {
     "name": "stdout",
     "output_type": "stream",
     "text": [
      "[0, 1, 2, 3, 4, 5, 6, 7, 8, 9]\n",
      "[9991, 9992, 9993, 9994, 9995, 9996, 9997, 9998, 9999, 10000]\n"
     ]
    }
   ],
   "source": [
    "numbers = [x for x in range(10001)]\n",
    "\n",
    "print(numbers[:10]) \n",
    "print(numbers[-10:])  "
   ]
  },
  {
   "cell_type": "markdown",
   "id": "8144088d",
   "metadata": {},
   "source": [
    "Create a list of even numbers from 0 to 10000 using list comprehension."
   ]
  },
  {
   "cell_type": "code",
   "execution_count": 12,
   "id": "5b896dd7",
   "metadata": {},
   "outputs": [
    {
     "name": "stdout",
     "output_type": "stream",
     "text": [
      "[0, 2, 4, 6, 8, 10, 12, 14, 16, 18]\n",
      "[9982, 9984, 9986, 9988, 9990, 9992, 9994, 9996, 9998, 10000]\n"
     ]
    }
   ],
   "source": [
    "even_numbers = [x for x in range(10001) if x % 2 == 0]\n",
    "\n",
    "print(even_numbers[:10]) \n",
    "print(even_numbers[-10:])  "
   ]
  },
  {
   "cell_type": "markdown",
   "id": "e36353a9",
   "metadata": {},
   "source": [
    "Create a list of numbers divisible by 5 from 0 to 10000 using list comprehension."
   ]
  },
  {
   "cell_type": "code",
   "execution_count": null,
   "id": "cbf68e99",
   "metadata": {},
   "outputs": [],
   "source": []
  },
  {
   "cell_type": "markdown",
   "id": "2479f297",
   "metadata": {},
   "source": [
    "Create a list of numbers. Using map function multiply each element by 2"
   ]
  },
  {
   "cell_type": "code",
   "execution_count": 32,
   "id": "af317195",
   "metadata": {},
   "outputs": [
    {
     "name": "stdout",
     "output_type": "stream",
     "text": [
      "Ədədlərin hər biri 2-yə vurulduğu nəticə: [2, 4, 6, 8, 10]\n"
     ]
    }
   ],
   "source": [
    "numbers = [1, 2, 3, 4, 5]\n",
    "\n",
    "vurma = list(map(lambda x: x * 2, numbers))\n",
    "\n",
    "print(\"Ədədlərin hər biri 2-yə vurulduğu nəticə:\", vurma)\n"
   ]
  },
  {
   "cell_type": "markdown",
   "id": "62edbd04",
   "metadata": {},
   "source": [
    "Create a list of numbers. Using filter function remove all even numbers."
   ]
  },
  {
   "cell_type": "code",
   "execution_count": 34,
   "id": "8d4e3eb7",
   "metadata": {},
   "outputs": [
    {
     "name": "stdout",
     "output_type": "stream",
     "text": [
      "Tək ədədlərdən ibarət list: [1, 3, 5, 7, 9]\n"
     ]
    }
   ],
   "source": [
    "numbers = [1, 2, 3, 4, 5, 6, 7, 8, 9, 10]\n",
    "\n",
    "tek_ededler = list(filter(lambda x: x % 2 != 0, numbers))\n",
    "\n",
    "print(\"Tək ədədlərdən ibarət list:\", tek_ededler)"
   ]
  },
  {
   "cell_type": "markdown",
   "id": "d267796c",
   "metadata": {},
   "source": [
    "Create two lists of numbers. Find the intersection of these lists using lambda function and filter function.\n",
    "\n"
   ]
  },
  {
   "cell_type": "code",
   "execution_count": 36,
   "id": "1a10251d",
   "metadata": {},
   "outputs": [
    {
     "name": "stdout",
     "output_type": "stream",
     "text": [
      "İki listin kəsişi: [3, 4, 5]\n"
     ]
    }
   ],
   "source": [
    "list1 = [1, 2, 3, 4, 5]\n",
    "list2 = [3, 4, 5, 6, 7]\n",
    "\n",
    "kesishme = list(filter(lambda x: x in list1, list2))\n",
    "\n",
    "print(\"İki listin kəsişi:\", kesishme)"
   ]
  },
  {
   "cell_type": "markdown",
   "id": "ee6c2295",
   "metadata": {},
   "source": [
    "Create a list of numbers. Using lambda and filter functions count the amound of odd and even numbers in the list."
   ]
  },
  {
   "cell_type": "code",
   "execution_count": 38,
   "id": "a2ddb990",
   "metadata": {},
   "outputs": [
    {
     "name": "stdout",
     "output_type": "stream",
     "text": [
      "Tək ədədlərin sayı: 5\n",
      "Cüt ədədlərin sayı: 4\n"
     ]
    }
   ],
   "source": [
    "numbers = [1, 2, 3, 4, 5, 6, 7, 8, 9]\n",
    "\n",
    "tek = len(list(filter(lambda x: x % 2 != 0, numbers)))\n",
    "cüt = len(list(filter(lambda x: x % 2 == 0, numbers)))\n",
    "\n",
    "print(\"Tək ədədlərin sayı:\", tek)\n",
    "print(\"Cüt ədədlərin sayı:\", cüt)\n"
   ]
  },
  {
   "cell_type": "markdown",
   "id": "ad54364a",
   "metadata": {},
   "source": [
    "\n",
    "Create a nested list with 3 lists. With filter function remove lists that contain even numbers."
   ]
  },
  {
   "cell_type": "code",
   "execution_count": null,
   "id": "3c0e6287",
   "metadata": {},
   "outputs": [],
   "source": []
  },
  {
   "cell_type": "markdown",
   "id": "fc5c9232",
   "metadata": {},
   "source": [
    "Create a list of numbers and using filter function remove all non-prime (compound) numbers.\n",
    "\n"
   ]
  },
  {
   "cell_type": "code",
   "execution_count": 31,
   "id": "867f8fde",
   "metadata": {},
   "outputs": [
    {
     "name": "stdout",
     "output_type": "stream",
     "text": [
      "Cüt ədədlər: [6, 4]\n"
     ]
    }
   ],
   "source": [
    "def cixar(numbers):\n",
    "    even_numbers = []\n",
    "    for i in numbers:\n",
    "        if i % 2 == 0:\n",
    "            even_numbers.append(i)\n",
    "    return even_numbers\n",
    "\n",
    "numbers = [3, 6, 9, 13, 23, 77, 45, 4]\n",
    "print(\"Cüt ədədlər:\", cixar(numbers))"
   ]
  },
  {
   "cell_type": "markdown",
   "id": "32abb58a",
   "metadata": {},
   "source": [
    "\n",
    "Create a list of 1000 random numbers and using filter function remove all not perfect numbers. A perfect number is a number that is equal to the sum of its divisors(excluding itself).\n",
    "\n",
    "6 = 1 + 2 + 3"
   ]
  },
  {
   "cell_type": "code",
   "execution_count": null,
   "id": "99994281",
   "metadata": {},
   "outputs": [],
   "source": []
  },
  {
   "cell_type": "markdown",
   "id": "0154ae5d",
   "metadata": {},
   "source": [
    "Using filter function remove all special characters (., !, &, etc.) from a string."
   ]
  },
  {
   "cell_type": "code",
   "execution_count": 40,
   "id": "0e99bd87-5007-4108-9b2c-775d679e0751",
   "metadata": {},
   "outputs": [
    {
     "name": "stdout",
     "output_type": "stream",
     "text": [
      "Cleaned string: HelloWorldThisisatest123\n"
     ]
    }
   ],
   "source": [
    "def cixar(input_string):\n",
    "    is_alphanumeric = lambda char: char.isalnum()\n",
    "    \n",
    "    filtered_string = ''.join(filter(is_alphanumeric, input_string))\n",
    "    \n",
    "    return filtered_string\n",
    "\n",
    "input_string = \"Hello, World! This is a test: 123 &*#\"\n",
    "cleaned_string = cixar(input_string)\n",
    "print(f\"Cleaned string: {cleaned_string}\")"
   ]
  }
 ],
 "metadata": {
  "kernelspec": {
   "display_name": "Python 3 (ipykernel)",
   "language": "python",
   "name": "python3"
  },
  "language_info": {
   "codemirror_mode": {
    "name": "ipython",
    "version": 3
   },
   "file_extension": ".py",
   "mimetype": "text/x-python",
   "name": "python",
   "nbconvert_exporter": "python",
   "pygments_lexer": "ipython3",
   "version": "3.11.7"
  }
 },
 "nbformat": 4,
 "nbformat_minor": 5
}
