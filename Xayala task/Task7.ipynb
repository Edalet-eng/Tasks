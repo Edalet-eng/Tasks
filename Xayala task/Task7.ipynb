{
 "cells": [
  {
   "cell_type": "markdown",
   "id": "641f3135",
   "metadata": {},
   "source": [
    "Create a function named hello that displays \"Hello World\" message when called"
   ]
  },
  {
   "cell_type": "code",
   "execution_count": 7,
   "id": "86cd30d6",
   "metadata": {},
   "outputs": [],
   "source": [
    "def message():\n",
    "    return \"Hello World\""
   ]
  },
  {
   "cell_type": "code",
   "execution_count": 8,
   "id": "5f42572c-3c9f-424d-9e17-f2b162928403",
   "metadata": {},
   "outputs": [
    {
     "data": {
      "text/plain": [
       "'Hello World'"
      ]
     },
     "execution_count": 8,
     "metadata": {},
     "output_type": "execute_result"
    }
   ],
   "source": [
    "message()"
   ]
  },
  {
   "cell_type": "markdown",
   "id": "a3a59ffd",
   "metadata": {},
   "source": [
    "Create a fucntion that gets a name as an argument and displays a greeting message like \"Hello David\""
   ]
  },
  {
   "cell_type": "code",
   "execution_count": 15,
   "id": "3b3e5059",
   "metadata": {},
   "outputs": [],
   "source": [
    "def message(ad):\n",
    "    return f\"Hello,{ad}\""
   ]
  },
  {
   "cell_type": "code",
   "execution_count": 16,
   "id": "0c264dd9-5f48-4267-87f7-4c896d338dc5",
   "metadata": {},
   "outputs": [
    {
     "name": "stdout",
     "output_type": "stream",
     "text": [
      "Hello,Xeyale\n"
     ]
    }
   ],
   "source": [
    "print(message(\"Xeyale\"))"
   ]
  },
  {
   "cell_type": "markdown",
   "id": "4c92e4a6",
   "metadata": {},
   "source": [
    "Create a function that takes two numbers and returns their sum"
   ]
  },
  {
   "cell_type": "code",
   "execution_count": 18,
   "id": "8a3d7633",
   "metadata": {},
   "outputs": [],
   "source": [
    "def topla(a,b):\n",
    "    return a+b"
   ]
  },
  {
   "cell_type": "code",
   "execution_count": 19,
   "id": "95e0331c-5af3-46b4-a106-798e96231c3e",
   "metadata": {},
   "outputs": [
    {
     "data": {
      "text/plain": [
       "8"
      ]
     },
     "execution_count": 19,
     "metadata": {},
     "output_type": "execute_result"
    }
   ],
   "source": [
    "topla(2,6)"
   ]
  },
  {
   "cell_type": "markdown",
   "id": "d986ba9c",
   "metadata": {},
   "source": [
    "Create a function that takes three arguments, the first two are numbers and the third argument is an operation(+, -, :, *). Function returns the result of the calculation based on the operation."
   ]
  },
  {
   "cell_type": "code",
   "execution_count": 20,
   "id": "6fe1a050",
   "metadata": {},
   "outputs": [],
   "source": [
    "def ededler(a,b,c):\n",
    "    if c==\"+\":\n",
    "        return a+b\n",
    "    elif c==\"-\":\n",
    "        return a-b\n",
    "    elif c==\"*\":\n",
    "        return a*b\n",
    "    elif c==\"/\":\n",
    "        return a/b"
   ]
  },
  {
   "cell_type": "code",
   "execution_count": 22,
   "id": "fcfa6f9c-aa66-495d-8b55-fea9335d5237",
   "metadata": {},
   "outputs": [
    {
     "data": {
      "text/plain": [
       "11"
      ]
     },
     "execution_count": 22,
     "metadata": {},
     "output_type": "execute_result"
    }
   ],
   "source": [
    "ededler(6,5,'+')"
   ]
  },
  {
   "cell_type": "markdown",
   "id": "4f850d4d",
   "metadata": {},
   "source": [
    "Create a function that takes one list as an arguments and returns the sum of all elements"
   ]
  },
  {
   "cell_type": "code",
   "execution_count": 25,
   "id": "edb31fd9",
   "metadata": {},
   "outputs": [],
   "source": [
    "def topla(listt):\n",
    "    return sum(listt)"
   ]
  },
  {
   "cell_type": "code",
   "execution_count": 27,
   "id": "87401e28-f4a5-4f81-97bd-132183dfc6f3",
   "metadata": {},
   "outputs": [
    {
     "data": {
      "text/plain": [
       "12"
      ]
     },
     "execution_count": 27,
     "metadata": {},
     "output_type": "execute_result"
    }
   ],
   "source": [
    "listt=[7,2,3]\n",
    "topla(listt)"
   ]
  },
  {
   "cell_type": "markdown",
   "id": "19d1d44a",
   "metadata": {},
   "source": [
    "Create a function that takes one list as an arguments and returns maximum elements in the list"
   ]
  },
  {
   "cell_type": "code",
   "execution_count": 28,
   "id": "652c1112",
   "metadata": {},
   "outputs": [],
   "source": [
    "def maks(listt):\n",
    "    return max(listt)"
   ]
  },
  {
   "cell_type": "code",
   "execution_count": 30,
   "id": "2fb81bb0-2c42-4d5a-818b-06dcac3fe26a",
   "metadata": {},
   "outputs": [
    {
     "data": {
      "text/plain": [
       "90"
      ]
     },
     "execution_count": 30,
     "metadata": {},
     "output_type": "execute_result"
    }
   ],
   "source": [
    "listt=[2,5,7,24,11,78,90]\n",
    "maks(listt)"
   ]
  },
  {
   "cell_type": "markdown",
   "id": "e61bb523",
   "metadata": {},
   "source": [
    "Create a function that takes one list as an arguments and returns the minumum element in the list"
   ]
  },
  {
   "cell_type": "code",
   "execution_count": 32,
   "id": "0099a08a",
   "metadata": {},
   "outputs": [],
   "source": [
    "def minimum(listt):\n",
    "    return min(listt)"
   ]
  },
  {
   "cell_type": "code",
   "execution_count": 33,
   "id": "60a0be85-2d60-4d7e-8a37-36b5c78bdfef",
   "metadata": {},
   "outputs": [
    {
     "data": {
      "text/plain": [
       "2"
      ]
     },
     "execution_count": 33,
     "metadata": {},
     "output_type": "execute_result"
    }
   ],
   "source": [
    "listt=[2,5,7,24,11,78,90]\n",
    "minimum(listt)"
   ]
  },
  {
   "cell_type": "markdown",
   "id": "100d2d02",
   "metadata": {},
   "source": [
    "Create a function that returns the area of a circle based on its radius"
   ]
  },
  {
   "cell_type": "code",
   "execution_count": 38,
   "id": "ece1a269",
   "metadata": {},
   "outputs": [],
   "source": [
    "pi=3.14\n",
    "def sahe(r):\n",
    "    return pi*r**2"
   ]
  },
  {
   "cell_type": "code",
   "execution_count": 39,
   "id": "aac5ce2d-01aa-4230-bd90-2caf68c8cb94",
   "metadata": {},
   "outputs": [
    {
     "data": {
      "text/plain": [
       "28.26"
      ]
     },
     "execution_count": 39,
     "metadata": {},
     "output_type": "execute_result"
    }
   ],
   "source": [
    "sahe(3)"
   ]
  },
  {
   "cell_type": "markdown",
   "id": "5033cb61",
   "metadata": {},
   "source": [
    "Create a function that returns the circumference of the circle based on its radius"
   ]
  },
  {
   "cell_type": "code",
   "execution_count": 40,
   "id": "a8dc85f8",
   "metadata": {},
   "outputs": [],
   "source": [
    "def diametr(r):\n",
    "    return 2*r"
   ]
  },
  {
   "cell_type": "code",
   "execution_count": 41,
   "id": "0e892368-87eb-40eb-8f55-938b73aba3c7",
   "metadata": {},
   "outputs": [
    {
     "data": {
      "text/plain": [
       "6"
      ]
     },
     "execution_count": 41,
     "metadata": {},
     "output_type": "execute_result"
    }
   ],
   "source": [
    "diametr(3)"
   ]
  },
  {
   "cell_type": "markdown",
   "id": "8401f816",
   "metadata": {},
   "source": [
    "Create a function that takes a name as an argument and returns the first letter of the name."
   ]
  },
  {
   "cell_type": "code",
   "execution_count": 48,
   "id": "62045493",
   "metadata": {},
   "outputs": [],
   "source": [
    "def qaytar(listt):\n",
    "    return listt[0]"
   ]
  },
  {
   "cell_type": "code",
   "execution_count": 54,
   "id": "50282c4e-0409-41db-90b5-6d09f24dc612",
   "metadata": {},
   "outputs": [
    {
     "data": {
      "text/plain": [
       "'a'"
      ]
     },
     "execution_count": 54,
     "metadata": {},
     "output_type": "execute_result"
    }
   ],
   "source": [
    "qaytar(\"aydan\")"
   ]
  },
  {
   "cell_type": "markdown",
   "id": "fc40ad74",
   "metadata": {},
   "source": [
    "Create a function that accepts an age argument and returns how much years left until it reaches 100."
   ]
  },
  {
   "cell_type": "code",
   "execution_count": 55,
   "id": "de4b1d69",
   "metadata": {},
   "outputs": [],
   "source": [
    "def qaytar(a):\n",
    "    return 100-a"
   ]
  },
  {
   "cell_type": "code",
   "execution_count": 56,
   "id": "b62e710d-6439-4e85-8d33-8eabd0147697",
   "metadata": {},
   "outputs": [
    {
     "data": {
      "text/plain": [
       "41"
      ]
     },
     "execution_count": 56,
     "metadata": {},
     "output_type": "execute_result"
    }
   ],
   "source": [
    "qaytar(59)"
   ]
  },
  {
   "cell_type": "markdown",
   "id": "17f78943",
   "metadata": {},
   "source": [
    "Create a function that given x returns the value of a function\n",
    "# y = e^x"
   ]
  },
  {
   "cell_type": "code",
   "execution_count": 57,
   "id": "71972615",
   "metadata": {},
   "outputs": [],
   "source": [
    "e=2.71\n",
    "def func(x):\n",
    "    return e*x"
   ]
  },
  {
   "cell_type": "code",
   "execution_count": 58,
   "id": "b17c5d0c-fb23-4cd6-91e5-c4ea018e0c8f",
   "metadata": {},
   "outputs": [
    {
     "data": {
      "text/plain": [
       "13.55"
      ]
     },
     "execution_count": 58,
     "metadata": {},
     "output_type": "execute_result"
    }
   ],
   "source": [
    "func(x=5)"
   ]
  },
  {
   "cell_type": "markdown",
   "id": "862633a1",
   "metadata": {},
   "source": [
    "Create a function that takes two lists as arguments and returns their intersection."
   ]
  },
  {
   "cell_type": "code",
   "execution_count": null,
   "id": "845a04d9",
   "metadata": {},
   "outputs": [],
   "source": []
  },
  {
   "cell_type": "markdown",
   "id": "a88eeda1",
   "metadata": {},
   "source": [
    "Create a function that takes one number as an argument and returns true if the number is prime, otherwise it returs false"
   ]
  },
  {
   "cell_type": "code",
   "execution_count": null,
   "id": "ef363a92",
   "metadata": {},
   "outputs": [],
   "source": [
    " "
   ]
  },
  {
   "cell_type": "markdown",
   "id": "76e07842",
   "metadata": {},
   "source": [
    "Create a function that takes a number as an argument(n). The function returns a list of first n odd numbers."
   ]
  },
  {
   "cell_type": "code",
   "execution_count": 1,
   "id": "3eb5efb4",
   "metadata": {},
   "outputs": [
    {
     "name": "stdout",
     "output_type": "stream",
     "text": [
      "[1, 3, 5, 7, 9]\n"
     ]
    }
   ],
   "source": [
    "def first_n_odd_numbers(n):\n",
    "    return [2 * i + 1 for i in range(n)]\n",
    "\n",
    "print(first_n_odd_numbers(5))  "
   ]
  },
  {
   "cell_type": "markdown",
   "id": "a7b2c864",
   "metadata": {},
   "source": [
    "Create a function that takes a number as an argument (n). The function returns a list of n prime numbers."
   ]
  },
  {
   "cell_type": "code",
   "execution_count": null,
   "id": "cd474154",
   "metadata": {},
   "outputs": [],
   "source": []
  },
  {
   "cell_type": "markdown",
   "id": "1ff891c9",
   "metadata": {},
   "source": [
    "Create a function that reverses a string."
   ]
  },
  {
   "cell_type": "code",
   "execution_count": 17,
   "id": "d364f9d9",
   "metadata": {},
   "outputs": [
    {
     "name": "stdout",
     "output_type": "stream",
     "text": [
      "malas\n"
     ]
    }
   ],
   "source": [
    "def ters(listt):\n",
    "    return ''.join(reversed(listt))\n",
    "\n",
    "print(ters((\"salam\")))  "
   ]
  },
  {
   "cell_type": "markdown",
   "id": "33ec5d48",
   "metadata": {},
   "source": [
    "Create a function that takes a word as an arguments and returns true if the word is a polyndrome, otherwise it returns false."
   ]
  },
  {
   "cell_type": "code",
   "execution_count": 21,
   "id": "20a7cfff",
   "metadata": {},
   "outputs": [],
   "source": [
    "def yoxla(a):\n",
    "    if a==\"polyndrome\":\n",
    "        return True\n",
    "    else:\n",
    "        return False"
   ]
  },
  {
   "cell_type": "code",
   "execution_count": 22,
   "id": "d96e741b-368f-4778-aa4f-58042907dde2",
   "metadata": {},
   "outputs": [
    {
     "data": {
      "text/plain": [
       "False"
      ]
     },
     "execution_count": 22,
     "metadata": {},
     "output_type": "execute_result"
    }
   ],
   "source": [
    "yoxla(\"hybrid\")"
   ]
  },
  {
   "cell_type": "code",
   "execution_count": 23,
   "id": "01c42deb-093c-4c7b-a5fd-a463bdb19a19",
   "metadata": {},
   "outputs": [
    {
     "data": {
      "text/plain": [
       "True"
      ]
     },
     "execution_count": 23,
     "metadata": {},
     "output_type": "execute_result"
    }
   ],
   "source": [
    "yoxla(\"polyndrome\")"
   ]
  },
  {
   "cell_type": "markdown",
   "id": "12b2cef1",
   "metadata": {},
   "source": [
    "Create a function that calculates the factorial of the number argument."
   ]
  },
  {
   "cell_type": "code",
   "execution_count": 25,
   "id": "b8818cc9",
   "metadata": {},
   "outputs": [
    {
     "name": "stdout",
     "output_type": "stream",
     "text": [
      "The factorial of 5 is 120\n"
     ]
    }
   ],
   "source": [
    "def factorial(n):\n",
    "    if n == 0:\n",
    "        return 1\n",
    "    else:\n",
    "        return n * factorial(n - 1)\n",
    "\n",
    "num = 5\n",
    "print(f\"The factorial of {num} is {factorial(num)}\")  \n",
    " "
   ]
  },
  {
   "cell_type": "markdown",
   "id": "db1cf39e",
   "metadata": {},
   "source": [
    "Create a function that takes a list as an argument and returns the unique elements of a list."
   ]
  },
  {
   "cell_type": "code",
   "execution_count": 26,
   "id": "90beec9a",
   "metadata": {},
   "outputs": [
    {
     "name": "stdout",
     "output_type": "stream",
     "text": [
      "[1, 2, 3, 4, 5]\n"
     ]
    }
   ],
   "source": [
    "def unique_elements(input_list):\n",
    "    unique_set = set(input_list)\n",
    "    unique_list = list(unique_set)\n",
    "    return unique_list\n",
    "\n",
    "my_list = [1, 2, 2, 3, 4, 4, 5]\n",
    "print(unique_elements(my_list))  \n"
   ]
  },
  {
   "cell_type": "markdown",
   "id": "497bab33",
   "metadata": {},
   "source": [
    "Create a function that takes a list as an argument and returns the sorted list."
   ]
  },
  {
   "cell_type": "code",
   "execution_count": 27,
   "id": "6b574d5d",
   "metadata": {},
   "outputs": [
    {
     "name": "stdout",
     "output_type": "stream",
     "text": [
      "[1, 1, 2, 3, 3, 4, 5, 5, 6, 9]\n"
     ]
    }
   ],
   "source": [
    "def sort_list(input_list):\n",
    "    sorted_list = sorted(input_list)\n",
    "    return sorted_list\n",
    "\n",
    "my_list = [3, 1, 4, 1, 5, 9, 2, 6, 5, 3]\n",
    "print(sort_list(my_list))  \n"
   ]
  },
  {
   "cell_type": "markdown",
   "id": "1f98396f",
   "metadata": {},
   "source": [
    "Create a function that takes three arguments. The first argument is a tuple, the second argument represents an index, the third argument represents the value. The function must change the tuple value at specified index with specified value."
   ]
  },
  {
   "cell_type": "code",
   "execution_count": null,
   "id": "bbef63d7",
   "metadata": {},
   "outputs": [],
   "source": []
  }
 ],
 "metadata": {
  "kernelspec": {
   "display_name": "Python 3 (ipykernel)",
   "language": "python",
   "name": "python3"
  },
  "language_info": {
   "codemirror_mode": {
    "name": "ipython",
    "version": 3
   },
   "file_extension": ".py",
   "mimetype": "text/x-python",
   "name": "python",
   "nbconvert_exporter": "python",
   "pygments_lexer": "ipython3",
   "version": "3.11.7"
  }
 },
 "nbformat": 4,
 "nbformat_minor": 5
}
