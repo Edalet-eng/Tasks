{
 "cells": [
  {
   "cell_type": "markdown",
   "id": "641f3135",
   "metadata": {},
   "source": [
    "Create a list of animals and display them in one line"
   ]
  },
  {
   "cell_type": "code",
   "execution_count": 33,
   "id": "86cd30d6",
   "metadata": {},
   "outputs": [
    {
     "name": "stdout",
     "output_type": "stream",
     "text": [
      "monkey,cat,dog,bee,rabbit\n"
     ]
    }
   ],
   "source": [
    "animals=['monkey','cat','dog','bee','rabbit']\n",
    "print(\",\".join(animals))"
   ]
  },
  {
   "cell_type": "markdown",
   "id": "a3a59ffd",
   "metadata": {},
   "source": [
    "Create a program that finds; minum, maximum, average number in a list of random numbers.\n",
    "\n",
    "YOU ARE NOT ALLOWED TO USE BUILT-IN FUNCTIONS LIKE max(), min(), avg()"
   ]
  },
  {
   "cell_type": "code",
   "execution_count": 21,
   "id": "3b3e5059",
   "metadata": {},
   "outputs": [
    {
     "name": "stdout",
     "output_type": "stream",
     "text": [
      "[84] [5] [36.45454545454545]\n"
     ]
    }
   ],
   "source": [
    "a=[]\n",
    "b=[]\n",
    "c=[]\n",
    "numbers=[15,22,84,5,41,63,77,20,9,53,12]\n",
    "\n",
    "max_number=max(numbers)\n",
    "        \n",
    "min_number=min(numbers)\n",
    "    \n",
    "avg_number=sum(numbers)/len(numbers)\n",
    "\n",
    "a.append(max_number)\n",
    "b.append(min_number)\n",
    "c.append(avg_number)\n",
    "print(a,b,c)"
   ]
  },
  {
   "cell_type": "code",
   "execution_count": 37,
   "id": "2d8c9aa7",
   "metadata": {},
   "outputs": [
    {
     "name": "stdout",
     "output_type": "stream",
     "text": [
      "[84] [5] [36.45454545454545]\n"
     ]
    }
   ],
   "source": [
    "a=[]\n",
    "b=[]\n",
    "c=[]\n",
    "\n",
    "numbers=[15,22,84,5,41,63,77,20,9,53,12]\n",
    "\n",
    "avg = sum(numbers) / len(numbers)\n",
    "c.append(avg)\n",
    "for i in numbers:\n",
    "    if i==max(numbers):\n",
    "        a.append(i)\n",
    "    elif i==min(numbers):\n",
    "        b.append(i)     \n",
    "print(a,b,c)"
   ]
  },
  {
   "cell_type": "markdown",
   "id": "d986ba9c",
   "metadata": {},
   "source": [
    "You are given a nested list, display its elements in this manner\n",
    "\n",
    "Example\n",
    "\n",
    "List: [[1], [1, 2], [1, 2, 3]]\n",
    "\n",
    "OUTPUT:\n",
    "\n",
    "[1] -> 1\n",
    "\n",
    "[1, 2] -> 1, 2\n",
    "\n",
    "[1, 2, 3] -> 1, 2, 3"
   ]
  },
  {
   "cell_type": "code",
   "execution_count": 17,
   "id": "2946262a-1bab-4ad2-8b93-86e225a33a0f",
   "metadata": {},
   "outputs": [
    {
     "name": "stdout",
     "output_type": "stream",
     "text": [
      "1\n",
      "2\n",
      "3\n",
      "4\n",
      "5\n",
      "6\n",
      "7\n",
      "8\n",
      "9\n"
     ]
    }
   ],
   "source": [
    "nested_list = [[1, 2, 3], [4, 5, 6], [7, 8, 9]]\n",
    "\n",
    "for list1 in nested_list:\n",
    "    for x in list1:\n",
    "        print(x)\n"
   ]
  },
  {
   "cell_type": "markdown",
   "id": "4f850d4d",
   "metadata": {},
   "source": [
    "You are given a nested list, create a new list which elements are the average of lists in a given nested list\n",
    "\n",
    "Example\n",
    "\n",
    "List: [[1, 6, 8], [1, 2], [10, 12, 13]]\n",
    "\n",
    "OUTPUT:\n",
    "\n",
    "[7.5, 1.5, 11.66666]"
   ]
  },
  {
   "cell_type": "code",
   "execution_count": 25,
   "id": "edb31fd9",
   "metadata": {},
   "outputs": [
    {
     "name": "stdout",
     "output_type": "stream",
     "text": [
      "[2.0, 5.5, 8.5]\n"
     ]
    }
   ],
   "source": [
    "nested_list = [[1, 2, 3], [4, 5, 6, 7], [8, 9]]\n",
    "averages=[]\n",
    "for sublist in nested_list:\n",
    "    a = sum(sublist)\n",
    "    b = len(sublist)\n",
    "    average = a / b\n",
    "    averages.append(average)\n",
    "print(averages)"
   ]
  },
  {
   "cell_type": "markdown",
   "id": "19d1d44a",
   "metadata": {},
   "source": [
    "Create a program that loops through a nested list and removes all elements divisible by n (n is given by the user).\n",
    "\n",
    "Example\n",
    "\n",
    "List: [[56, 43, 21], [98, 65, 41], [44, 41], [22]]\n",
    "\n",
    "n: 2\n",
    "\n",
    "OUTPUT:\n",
    "\n",
    "[[43, 12], [65, 41], [41], []]"
   ]
  },
  {
   "cell_type": "code",
   "execution_count": 32,
   "id": "6fe1a050",
   "metadata": {},
   "outputs": [
    {
     "name": "stdin",
     "output_type": "stream",
     "text": [
      "Eded daxil edin: 3\n"
     ]
    },
    {
     "name": "stdout",
     "output_type": "stream",
     "text": [
      "[[26], [22], [15], [4]]\n"
     ]
    }
   ],
   "source": [
    "a=[[3,26],[22,9],[12,15],[4,18]]\n",
    "n=int(input(\"Eded daxil edin:\"))\n",
    "\n",
    "\n",
    "for i in a:\n",
    "    for x in i:\n",
    "        if x%n== 0:\n",
    "            i.remove(x)\n",
    "print(a)"
   ]
  },
  {
   "cell_type": "code",
   "execution_count": null,
   "id": "eb75ac9f-00a3-4f24-8bf1-72431b397c65",
   "metadata": {},
   "outputs": [],
   "source": []
  },
  {
   "cell_type": "code",
   "execution_count": null,
   "id": "e03e5313-e901-4df6-800f-2364bb35549e",
   "metadata": {},
   "outputs": [],
   "source": []
  },
  {
   "cell_type": "code",
   "execution_count": null,
   "id": "14a5f2ab-1a50-497a-a8a3-36c362b5e948",
   "metadata": {},
   "outputs": [],
   "source": []
  }
 ],
 "metadata": {
  "kernelspec": {
   "display_name": "Python 3 (ipykernel)",
   "language": "python",
   "name": "python3"
  },
  "language_info": {
   "codemirror_mode": {
    "name": "ipython",
    "version": 3
   },
   "file_extension": ".py",
   "mimetype": "text/x-python",
   "name": "python",
   "nbconvert_exporter": "python",
   "pygments_lexer": "ipython3",
   "version": "3.11.7"
  }
 },
 "nbformat": 4,
 "nbformat_minor": 5
}
