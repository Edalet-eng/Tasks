{
 "cells": [
  {
   "cell_type": "code",
   "execution_count": 1,
   "id": "20cd6d80-0012-4d60-ab94-a3492ac6cd01",
   "metadata": {},
   "outputs": [
    {
     "name": "stdin",
     "output_type": "stream",
     "text": [
      "soz daxil edin otaq 21\n"
     ]
    },
    {
     "name": "stdout",
     "output_type": "stream",
     "text": [
      "2 1 "
     ]
    }
   ],
   "source": [
    "#text-in ichinden reqemleri print etsin.\n",
    "text=input(\"soz daxil edin\")\n",
    "for i in text:\n",
    "    if i in \"0123456789\":\n",
    "        print (i,end=' ')"
   ]
  },
  {
   "cell_type": "code",
   "execution_count": 2,
   "id": "84bcfec4-eecf-437f-915e-870baf8a9b25",
   "metadata": {},
   "outputs": [
    {
     "name": "stdout",
     "output_type": "stream",
     "text": [
      "2\n",
      "2\n",
      "2\n"
     ]
    }
   ],
   "source": [
    "#Her bir alt listin maksimumu ile minimumun fergini tapsin.\n",
    "nested_list = [[1, 2, 3], [4, 5, 6], [7, 8, 9]]\n",
    "for i in nested_list:\n",
    "    maks=i[0]\n",
    "    min=i[0]\n",
    "    for x in i:\n",
    "        if maks<x:\n",
    "            maks = x\n",
    "        if min>x:\n",
    "            min = x\n",
    "    ferg=maks-min\n",
    "    print(ferg)"
   ]
  },
  {
   "cell_type": "code",
   "execution_count": null,
   "id": "daf70e2f-5a3c-4e6b-a989-d7ebd7201e3d",
   "metadata": {},
   "outputs": [],
   "source": []
  }
 ],
 "metadata": {
  "kernelspec": {
   "display_name": "Python 3 (ipykernel)",
   "language": "python",
   "name": "python3"
  },
  "language_info": {
   "codemirror_mode": {
    "name": "ipython",
    "version": 3
   },
   "file_extension": ".py",
   "mimetype": "text/x-python",
   "name": "python",
   "nbconvert_exporter": "python",
   "pygments_lexer": "ipython3",
   "version": "3.11.7"
  }
 },
 "nbformat": 4,
 "nbformat_minor": 5
}
