{
 "cells": [
  {
   "cell_type": "markdown",
   "id": "641f3135",
   "metadata": {},
   "source": [
    "\n",
    "Create a program that gets from user 4 inputs that represent the expenses (\"Transportation\", \"Eating out\", \"Groceries\", \"Health and cosmetics\"). The program should calculate the total expense.\n",
    "\n"
   ]
  },
  {
   "cell_type": "code",
   "execution_count": 13,
   "id": "86cd30d6",
   "metadata": {},
   "outputs": [
    {
     "name": "stdin",
     "output_type": "stream",
     "text": [
      "enter the cost 23.4\n",
      "enter the cost 450.5\n",
      "enter the cost 12.80\n",
      "enter the cost 55.68\n"
     ]
    },
    {
     "name": "stdout",
     "output_type": "stream",
     "text": [
      "Total expense: 542.38\n"
     ]
    }
   ],
   "source": [
    "transportation=float(input(\"enter the cost\"))\n",
    "eating_out=float(input(\"enter the cost\"))\n",
    "groceries=float(input(\"enter the cost\"))\n",
    "health_and_cosmetics=float(input(\"enter the cost\"))\n",
    "total_expense = transportation + eating_out + groceries + health_and_cosmetics\n",
    "print(f\"Total expense: {total_expense:.2f}\")"
   ]
  },
  {
   "cell_type": "markdown",
   "id": "a3a59ffd",
   "metadata": {},
   "source": [
    "Create a program where user enters a password. If the password is \"bigsecret\" display \"Access granted\", otherwise display \"Access denied\"."
   ]
  },
  {
   "cell_type": "code",
   "execution_count": 2,
   "id": "3b3e5059",
   "metadata": {},
   "outputs": [
    {
     "name": "stdin",
     "output_type": "stream",
     "text": [
      "enter password salam\n"
     ]
    },
    {
     "name": "stdout",
     "output_type": "stream",
     "text": [
      "Giris redd edildi\n"
     ]
    },
    {
     "name": "stdin",
     "output_type": "stream",
     "text": [
      "enter password necesen\n"
     ]
    },
    {
     "name": "stdout",
     "output_type": "stream",
     "text": [
      "Giris redd edildi\n"
     ]
    },
    {
     "name": "stdin",
     "output_type": "stream",
     "text": [
      "enter password bigsecret\n"
     ]
    },
    {
     "name": "stdout",
     "output_type": "stream",
     "text": [
      "Giris verildi\n"
     ]
    }
   ],
   "source": [
    "while True:\n",
    "    a=input(\"enter password\")\n",
    "    if a==\"bigsecret\":\n",
    "        print(\"Giris verildi\")\n",
    "        break\n",
    "    else:\n",
    "        print(\"Giris redd edildi\")"
   ]
  },
  {
   "cell_type": "markdown",
   "id": "4c92e4a6",
   "metadata": {},
   "source": [
    "Create a program that asks user a question until the user answers it correctly."
   ]
  },
  {
   "cell_type": "code",
   "execution_count": 9,
   "id": "8a3d7633",
   "metadata": {},
   "outputs": [
    {
     "name": "stdin",
     "output_type": "stream",
     "text": [
      "What is the best programming language?  Java\n"
     ]
    },
    {
     "name": "stdout",
     "output_type": "stream",
     "text": [
      "Incorrect, try again...\n"
     ]
    },
    {
     "name": "stdin",
     "output_type": "stream",
     "text": [
      "What is the best programming language?  Pyhton\n"
     ]
    },
    {
     "name": "stdout",
     "output_type": "stream",
     "text": [
      "Correct!\n"
     ]
    }
   ],
   "source": [
    "correct_answer = \"Pyhton\"\n",
    "\n",
    "while True:\n",
    "    answer = input(\"What is the best programming language? \")\n",
    "    \n",
    "    if answer == correct_answer:\n",
    "        print(\"Correct!\")\n",
    "        break\n",
    "    else:\n",
    "        print(\"Incorrect, try again...\")\n"
   ]
  },
  {
   "cell_type": "markdown",
   "id": "d986ba9c",
   "metadata": {},
   "source": [
    "Create a program that takes two inputs from a user: username and password. The program should ask for these inputs until each field is valid. The username must be at least 6 characters long. Password must be at least 8 characters long and contain a word \"anonim\" or \"anon\" in it."
   ]
  },
  {
   "cell_type": "code",
   "execution_count": 15,
   "id": "b8296226-c6f4-45a2-9376-d201327bb96f",
   "metadata": {},
   "outputs": [
    {
     "name": "stdin",
     "output_type": "stream",
     "text": [
      "enter username Babayeva\n",
      "enter password xeyale12\n"
     ]
    },
    {
     "name": "stdout",
     "output_type": "stream",
     "text": [
      "Incorrect, try again...\n"
     ]
    },
    {
     "name": "stdin",
     "output_type": "stream",
     "text": [
      "enter username Babayeva\n",
      "enter password anonim2004\n"
     ]
    },
    {
     "name": "stdout",
     "output_type": "stream",
     "text": [
      "Correct!\n"
     ]
    }
   ],
   "source": [
    "while True:\n",
    "    a=input(\"enter username\")\n",
    "    b=input(\"enter password\")\n",
    "    if (len(a)>=6) and (len(b)>=8) and (\"anonim\" in b or \"anon\" in b):\n",
    "        print(\"Correct!\")\n",
    "        break\n",
    "    else:\n",
    "        print(\"Incorrect, try again...\") "
   ]
  },
  {
   "cell_type": "markdown",
   "id": "4f850d4d",
   "metadata": {},
   "source": [
    "Write a program that displays how many thousands, hundreds, tens, ones (units) are in the number given by user (Assume that user always enters integers).\n",
    "\n",
    "Example:\n",
    "\n",
    "Number: 1437\n",
    "\n",
    "Thousands: 1\n",
    "\n",
    "Hundreds: 4\n",
    "\n",
    "Tens: 3\n",
    "\n",
    "Ones: 7\n",
    "\n",
    "**Bu Task While-a aid deyil**"
   ]
  },
  {
   "cell_type": "code",
   "execution_count": 40,
   "id": "edb31fd9",
   "metadata": {},
   "outputs": [
    {
     "name": "stdin",
     "output_type": "stream",
     "text": [
      "Reqem daxil edin:  2345\n"
     ]
    },
    {
     "name": "stdout",
     "output_type": "stream",
     "text": [
      "Minlik: 2\n",
      "Yüzlük: 3\n",
      "Onluq: 4\n",
      "Birlik: 5\n"
     ]
    }
   ],
   "source": [
    "a = int(input(\"Reqem daxil edin: \"))\n",
    "\n",
    "thousands = []\n",
    "hundreds = []\n",
    "tens = []\n",
    "ones = []\n",
    "\n",
    "minlik = a // 1000\n",
    "a = a % 1000\n",
    "thousands.append(minlik)\n",
    "\n",
    "yuzluk = a // 100\n",
    "a = a % 100\n",
    "hundreds.append(yuzluk)\n",
    "\n",
    "onluq = a // 10\n",
    "a = a % 10\n",
    "tens.append(onluq)\n",
    "\n",
    "birlik = a\n",
    "ones.append(birlik)\n",
    "\n",
    "print(f\"Minlik: {thousands[0]}\")\n",
    "print(f\"Yüzlük: {hundreds[0]}\")\n",
    "print(f\"Onluq: {tens[0]}\")\n",
    "print(f\"Birlik: {ones[0]}\")\n"
   ]
  },
  {
   "cell_type": "markdown",
   "id": "19d1d44a",
   "metadata": {},
   "source": [
    "Write a program that displays all odd numbers between 0 and 100\n",
    "\n",
    "VERSION 2\n",
    "\n",
    "The end point is determined by the user\n",
    "\n",
    "VERSION 3\n",
    "\n",
    "Display the amount of odd numbers as well"
   ]
  },
  {
   "cell_type": "code",
   "execution_count": 8,
   "id": "652c1112",
   "metadata": {},
   "outputs": [
    {
     "name": "stdout",
     "output_type": "stream",
     "text": [
      "1\n",
      "3\n",
      "5\n",
      "7\n",
      "9\n",
      "11\n",
      "13\n",
      "15\n",
      "17\n",
      "19\n",
      "21\n",
      "23\n",
      "25\n",
      "27\n",
      "29\n",
      "31\n",
      "33\n",
      "35\n",
      "37\n",
      "39\n",
      "41\n",
      "43\n",
      "45\n",
      "47\n",
      "49\n",
      "51\n",
      "53\n",
      "55\n",
      "57\n",
      "59\n",
      "61\n",
      "63\n",
      "65\n",
      "67\n",
      "69\n",
      "71\n",
      "73\n",
      "75\n",
      "77\n",
      "79\n",
      "81\n",
      "83\n",
      "85\n",
      "87\n",
      "89\n",
      "91\n",
      "93\n",
      "95\n",
      "97\n",
      "99\n"
     ]
    }
   ],
   "source": [
    "i = 0\n",
    "while i < 100:\n",
    "    if i % 2 == 1:\n",
    "        print(i)\n",
    "    i += 1"
   ]
  },
  {
   "cell_type": "markdown",
   "id": "e61bb523",
   "metadata": {},
   "source": [
    "Write a program that adds all numbers until 20 inclusive\n",
    "\n",
    "1 + 2 + 3 + 4 ... + 20 = 210"
   ]
  },
  {
   "cell_type": "code",
   "execution_count": 8,
   "id": "0099a08a",
   "metadata": {},
   "outputs": [
    {
     "name": "stdout",
     "output_type": "stream",
     "text": [
      "210\n"
     ]
    }
   ],
   "source": [
    "cem = 0\n",
    "i=0\n",
    "while i < 21:\n",
    "    cem += i\n",
    "    i+=1\n",
    "print(cem)\n",
    "    "
   ]
  },
  {
   "cell_type": "markdown",
   "id": "100d2d02",
   "metadata": {},
   "source": [
    "Write a program that takes three numbers as an input (a, b, c) and checks how many numbers between a and b are divisible by c.\n",
    "\n",
    "Example:\n",
    "\n",
    "a: 0\n",
    "\n",
    "b: 10\n",
    "\n",
    "c: 2\n",
    "\n",
    "There are 5 numbers divisible by 2 between 0 and 10"
   ]
  },
  {
   "cell_type": "code",
   "execution_count": 12,
   "id": "ece1a269",
   "metadata": {},
   "outputs": [
    {
     "name": "stdin",
     "output_type": "stream",
     "text": [
      "a:  3\n",
      "b:  9\n",
      "c:  2\n"
     ]
    },
    {
     "name": "stdout",
     "output_type": "stream",
     "text": [
      "There are 3 numbers divisible by 2 between 3 and 9\n"
     ]
    }
   ],
   "source": [
    "a = int(input(\"a: \"))\n",
    "b = int(input(\"b: \"))\n",
    "c = int(input(\"c: \"))\n",
    "\n",
    "count = 0\n",
    "\n",
    "for i in range(a, b + 1):\n",
    "    if i % c == 0:\n",
    "        count += 1\n",
    "print(f\"There are {count} numbers divisible by {c} between {a} and {b}\")\n"
   ]
  },
  {
   "cell_type": "markdown",
   "id": "5033cb61",
   "metadata": {},
   "source": [
    "Create a program that asks user to enter a password. The password must me at least 6 characters long. The program does not stop until user enters a valid password\n",
    "\n",
    "Example:\n",
    "\n",
    "Password: 123\n",
    "\n",
    "Invalid password, try again... Password: 123456\n",
    "\n",
    "Success"
   ]
  },
  {
   "cell_type": "code",
   "execution_count": 4,
   "id": "a8dc85f8",
   "metadata": {},
   "outputs": [
    {
     "name": "stdin",
     "output_type": "stream",
     "text": [
      " 123\n"
     ]
    },
    {
     "name": "stdout",
     "output_type": "stream",
     "text": [
      "Invalid password, try again...\n"
     ]
    },
    {
     "name": "stdin",
     "output_type": "stream",
     "text": [
      " 123456\n"
     ]
    },
    {
     "name": "stdout",
     "output_type": "stream",
     "text": [
      "succsess\n"
     ]
    }
   ],
   "source": [
    "while True:\n",
    "    a=input(\"\")\n",
    "    if  len(a)>=6:\n",
    "        print(\"succsess\")\n",
    "        break\n",
    "    else:\n",
    "        print(\"Invalid password, try again...\")"
   ]
  },
  {
   "cell_type": "markdown",
   "id": "8401f816",
   "metadata": {},
   "source": [
    "Write a program that tells whether a triangle with given sides exists or not.\n",
    "\n",
    "\n",
    "Example\n",
    "\n",
    "Side a: 5\n",
    "\n",
    "Side b: 6\n",
    "\n",
    "Side c: 7\n",
    "\n",
    "Triangle with sides 5, 6, 7 exists\n",
    "\n",
    "Side a: 10\n",
    "\n",
    "Side b: 4\n",
    "\n",
    "Side c: 3\n",
    "\n",
    "Triangle with sides 10, 4, 3 DOES NOT exist"
   ]
  },
  {
   "cell_type": "code",
   "execution_count": 8,
   "id": "d4722fcf-007f-4017-afea-a6ca80563125",
   "metadata": {},
   "outputs": [
    {
     "name": "stdin",
     "output_type": "stream",
     "text": [
      "Side a: 2\n",
      "Side b: 34\n",
      "Side c:  5\n"
     ]
    },
    {
     "name": "stdout",
     "output_type": "stream",
     "text": [
      "Triangle with sides 2,34,5 DOES NOT exist\n"
     ]
    },
    {
     "name": "stdin",
     "output_type": "stream",
     "text": [
      "Side a: 5\n",
      "Side b: 6\n",
      "Side c:  7\n"
     ]
    },
    {
     "name": "stdout",
     "output_type": "stream",
     "text": [
      "Triangle with sides 5,6,7 exists\n"
     ]
    }
   ],
   "source": [
    "while True:\n",
    "    a = int(input('Side a:'))\n",
    "    b = int(input('Side b:'))\n",
    "    c = int(input('Side c: '))\n",
    "    if (a+b>c) and (a+c>b) and (b+c>a):\n",
    "        print(f\"Triangle with sides {a},{b},{c} exists\")\n",
    "        break\n",
    "    else:\n",
    "        print(f\"Triangle with sides {a},{b},{c} DOES NOT exist\")"
   ]
  },
  {
   "cell_type": "markdown",
   "id": "fc40ad74",
   "metadata": {},
   "source": [
    "Create a program that asks the user to guess a randomly generated secret number (from 1 to 12 inclusive). If the user enters a number that is less or greater than secret number, display corresponding message. The user can guess only 4 times. The program doesn't stop until the user guesses the secret number or the attempt limit is reached. Display the amount of attempts it took for the user to guess the secret number.\n",
    "\n",
    "Example:\n",
    "\n",
    "Your guess: 5\n",
    "\n",
    "Go higher\n",
    "\n",
    "Your guess: 12\n",
    "\n",
    "Go lower\n",
    "\n",
    "Your guess: 10\n",
    "\n",
    "You won!\n",
    "\n",
    "It took you 3 attempts to win the game\n",
    "\n",
    "Another example:\n",
    "\n",
    "Your guess: 2\n",
    "\n",
    "Go higher\n",
    "\n",
    "Your guess: 3\n",
    "\n",
    "Go higher\n",
    "\n",
    "Your guess: 12\n",
    "\n",
    "Go lower\n",
    "\n",
    "Your guess: 11\n",
    "\n",
    "You lost... the secret number is 10"
   ]
  },
  {
   "cell_type": "code",
   "execution_count": 38,
   "id": "de4b1d69",
   "metadata": {},
   "outputs": [
    {
     "name": "stdin",
     "output_type": "stream",
     "text": [
      "Eded daxil edin: 3\n"
     ]
    },
    {
     "name": "stdout",
     "output_type": "stream",
     "text": [
      "Go higher\n"
     ]
    },
    {
     "name": "stdin",
     "output_type": "stream",
     "text": [
      "Eded daxil edin: 6\n"
     ]
    },
    {
     "name": "stdout",
     "output_type": "stream",
     "text": [
      "Go lower\n"
     ]
    },
    {
     "name": "stdin",
     "output_type": "stream",
     "text": [
      "Eded daxil edin: 7\n"
     ]
    },
    {
     "name": "stdout",
     "output_type": "stream",
     "text": [
      "Go lower\n"
     ]
    },
    {
     "name": "stdin",
     "output_type": "stream",
     "text": [
      "Eded daxil edin: 9\n"
     ]
    },
    {
     "name": "stdout",
     "output_type": "stream",
     "text": [
      "Go lower\n",
      "you have exceeded the limit\n"
     ]
    }
   ],
   "source": [
    "correct_number=5\n",
    "limit=4\n",
    "n=0\n",
    "\n",
    "while n<limit:\n",
    "    a = int(input('Eded daxil edin:'))\n",
    "    \n",
    "    if a==correct_number:\n",
    "        n+=1\n",
    "        print(\"You won!\")\n",
    "        break\n",
    "    elif a<correct_number:\n",
    "        print(\"Go higher\")\n",
    "    else:\n",
    "        print(\"Go lower\")\n",
    "        \n",
    "    n+=1\n",
    "    \n",
    "if n == limit:\n",
    "    print(\"you have exceeded the limit\")"
   ]
  },
  {
   "cell_type": "code",
   "execution_count": 30,
   "id": "9941c01f-89cf-4389-a5dd-7c433a946dc7",
   "metadata": {},
   "outputs": [
    {
     "name": "stdin",
     "output_type": "stream",
     "text": [
      "Enter your guess:  3\n"
     ]
    },
    {
     "name": "stdout",
     "output_type": "stream",
     "text": [
      "Too low! Try guessing a higher number.\n"
     ]
    },
    {
     "name": "stdin",
     "output_type": "stream",
     "text": [
      "Enter your guess:  6\n"
     ]
    },
    {
     "name": "stdout",
     "output_type": "stream",
     "text": [
      "Too high! Try guessing a lower number.\n"
     ]
    },
    {
     "name": "stdin",
     "output_type": "stream",
     "text": [
      "Enter your guess:  7\n"
     ]
    },
    {
     "name": "stdout",
     "output_type": "stream",
     "text": [
      "Too high! Try guessing a lower number.\n"
     ]
    },
    {
     "name": "stdin",
     "output_type": "stream",
     "text": [
      "Enter your guess:  9\n"
     ]
    },
    {
     "name": "stdout",
     "output_type": "stream",
     "text": [
      "Too high! Try guessing a lower number.\n",
      "Sorry, you've reached the maximum attempts (4). The secret number was 5.\n"
     ]
    }
   ],
   "source": [
    "secret_number=5\n",
    "max_attempts = 4\n",
    "attempts = 0\n",
    "\n",
    "while attempts < max_attempts:\n",
    "    guess = int(input(\"Enter your guess: \"))\n",
    "    \n",
    "    if guess == secret_number:\n",
    "        attempts += 1\n",
    "        print(f\"Congratulations! You guessed the secret number {secret_number} in {attempts} attempts.\")\n",
    "        break\n",
    "    elif guess < secret_number:\n",
    "        print(\"Too low! Try guessing a higher number.\")\n",
    "    else:\n",
    "        print(\"Too high! Try guessing a lower number.\")\n",
    "    \n",
    "    attempts += 1\n",
    "\n",
    "if attempts == max_attempts and guess != secret_number:\n",
    "    print(f\"Sorry, you've reached the maximum attempts ({max_attempts}). The secret number was {secret_number}.\")\n"
   ]
  },
  {
   "cell_type": "code",
   "execution_count": null,
   "id": "833d50a5-8171-4267-aa6c-d0e50a99278d",
   "metadata": {},
   "outputs": [],
   "source": []
  }
 ],
 "metadata": {
  "kernelspec": {
   "display_name": "Python 3 (ipykernel)",
   "language": "python",
   "name": "python3"
  },
  "language_info": {
   "codemirror_mode": {
    "name": "ipython",
    "version": 3
   },
   "file_extension": ".py",
   "mimetype": "text/x-python",
   "name": "python",
   "nbconvert_exporter": "python",
   "pygments_lexer": "ipython3",
   "version": "3.11.7"
  }
 },
 "nbformat": 4,
 "nbformat_minor": 5
}
