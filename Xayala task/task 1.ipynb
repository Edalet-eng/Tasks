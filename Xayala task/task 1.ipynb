{
 "cells": [
  {
   "cell_type": "code",
   "execution_count": 1,
   "id": "268ad5cd-ba04-4e6f-acc5-392855837e6a",
   "metadata": {},
   "outputs": [
    {
     "name": "stdin",
     "output_type": "stream",
     "text": [
      "Ad daxil edin: Xeyale\n"
     ]
    },
    {
     "name": "stdout",
     "output_type": "stream",
     "text": [
      "Daxil edilen ad Xeyale\n"
     ]
    }
   ],
   "source": [
    "ad=input('Ad daxil edin:')\n",
    "print('Daxil edilen ad',ad)\n"
   ]
  },
  {
   "cell_type": "code",
   "execution_count": 2,
   "id": "4447f1e9-bedd-4700-8980-60b85f2a24cb",
   "metadata": {},
   "outputs": [
    {
     "name": "stdin",
     "output_type": "stream",
     "text": [
      "eded1: 5\n",
      "eded1: 2\n"
     ]
    },
    {
     "name": "stdout",
     "output_type": "stream",
     "text": [
      "7\n"
     ]
    }
   ],
   "source": [
    "a=int(input(\"eded1:\"))\n",
    "b=int(input(\"eded1:\"))\n",
    "print(a+b)"
   ]
  },
  {
   "cell_type": "code",
   "execution_count": 4,
   "id": "f5374b8e-0fca-4171-a567-c41964b7d96a",
   "metadata": {},
   "outputs": [
    {
     "name": "stdin",
     "output_type": "stream",
     "text": [
      "Saat daxil edin: 2\n"
     ]
    },
    {
     "name": "stdout",
     "output_type": "stream",
     "text": [
      "120\n"
     ]
    }
   ],
   "source": [
    "saat=int(input(\"Saat daxil edin:\"))\n",
    "deqiqeler=saat*60\n",
    "print(deqiqeler)"
   ]
  },
  {
   "cell_type": "code",
   "execution_count": 5,
   "id": "aaef6a84-aa00-41b3-a4db-a1c9bc8a34af",
   "metadata": {},
   "outputs": [
    {
     "name": "stdin",
     "output_type": "stream",
     "text": [
      "Deqiqe daxil edin: 6\n"
     ]
    },
    {
     "name": "stdout",
     "output_type": "stream",
     "text": [
      "360\n"
     ]
    }
   ],
   "source": [
    "deqiqeler=int(input(\"Deqiqe daxil edin:\"))\n",
    "saniyeler=deqiqeler*60\n",
    "print(saniyeler)"
   ]
  },
  {
   "cell_type": "code",
   "execution_count": 6,
   "id": "16517e0f-7215-47ed-a736-546f69f251dc",
   "metadata": {},
   "outputs": [
    {
     "name": "stdin",
     "output_type": "stream",
     "text": [
      "Yaşınızı daxil edin: 20\n"
     ]
    },
    {
     "name": "stdout",
     "output_type": "stream",
     "text": [
      "20\n"
     ]
    }
   ],
   "source": [
    "yaş=int(input(\"Yaşınızı daxil edin:\"))\n",
    "print(yaş)"
   ]
  },
  {
   "cell_type": "code",
   "execution_count": 7,
   "id": "64b41c4e-b7ef-4119-9c26-0344c674dab7",
   "metadata": {},
   "outputs": [
    {
     "name": "stdin",
     "output_type": "stream",
     "text": [
      "Yaşınızı daxil edin: 20\n"
     ]
    },
    {
     "name": "stdout",
     "output_type": "stream",
     "text": [
      "7300\n"
     ]
    }
   ],
   "source": [
    "yaş=int(input(\"Yaşınızı daxil edin:\"))\n",
    "yaşadığı_gün_sayı=yaş*365\n",
    "print(yaşadığı_gün_sayı)"
   ]
  },
  {
   "cell_type": "code",
   "execution_count": 8,
   "id": "9ccc9e2a-6baa-42e2-82e8-b88d0313bcb4",
   "metadata": {},
   "outputs": [
    {
     "name": "stdin",
     "output_type": "stream",
     "text": [
      "eded1: 6\n",
      "eded2: 3\n"
     ]
    },
    {
     "name": "stdout",
     "output_type": "stream",
     "text": [
      "0\n"
     ]
    }
   ],
   "source": [
    "a=int(input(\"eded1:\"))\n",
    "b=int(input(\"eded2:\"))\n",
    "print(a%b)"
   ]
  },
  {
   "cell_type": "code",
   "execution_count": 9,
   "id": "badc0124-0e35-4559-961a-9776424317d5",
   "metadata": {},
   "outputs": [
    {
     "name": "stdin",
     "output_type": "stream",
     "text": [
      "eded1: 5\n",
      "eded2: 7\n"
     ]
    },
    {
     "name": "stdout",
     "output_type": "stream",
     "text": [
      "78125\n"
     ]
    }
   ],
   "source": [
    "a=int(input(\"eded1:\"))\n",
    "b=int(input(\"eded2:\"))\n",
    "print(a**b)"
   ]
  },
  {
   "cell_type": "code",
   "execution_count": 10,
   "id": "9680f16c-26e8-4ec9-a59b-e00b8bd3e272",
   "metadata": {},
   "outputs": [
    {
     "name": "stdin",
     "output_type": "stream",
     "text": [
      "Saat daxil edin: 6\n",
      "Deqiqe daxil edin: 20\n"
     ]
    },
    {
     "name": "stdout",
     "output_type": "stream",
     "text": [
      "22800\n"
     ]
    }
   ],
   "source": [
    "a=int(input(\"Saat daxil edin:\"))\n",
    "b=int(input(\"Deqiqe daxil edin:\"))\n",
    "saniyəyə_çevirmək=a*3600+b*60\n",
    "print(saniyəyə_çevirmək)"
   ]
  },
  {
   "cell_type": "code",
   "execution_count": 11,
   "id": "7ec22094-8f99-4158-9e4b-9c84c67f6c1a",
   "metadata": {},
   "outputs": [
    {
     "name": "stdin",
     "output_type": "stream",
     "text": [
      "Saat daxil edin: 3\n",
      "Deqiqe daxil edin: 15\n"
     ]
    },
    {
     "name": "stdout",
     "output_type": "stream",
     "text": [
      "11700\n"
     ]
    }
   ],
   "source": [
    "a=int(input(\"Saat daxil edin:\"))\n",
    "b=int(input(\"Deqiqe daxil edin:\"))\n",
    "c=a*3600\n",
    "d=b*60\n",
    "print(c+d)"
   ]
  },
  {
   "cell_type": "code",
   "execution_count": 12,
   "id": "ad9f27b3-fc8a-4a59-88d9-41998b539b60",
   "metadata": {},
   "outputs": [
    {
     "name": "stdout",
     "output_type": "stream",
     "text": [
      "beraberdir\n"
     ]
    }
   ],
   "source": [
    "a=2\n",
    "b=2\n",
    "if a==b:\n",
    "    print(\"beraberdir\")\n",
    "else:\n",
    "    print(\"beraber deyil\")"
   ]
  },
  {
   "cell_type": "code",
   "execution_count": 13,
   "id": "d7f9e974-74c8-4aec-a7ef-427305f07371",
   "metadata": {},
   "outputs": [
    {
     "name": "stdout",
     "output_type": "stream",
     "text": [
      "beraber deyil\n"
     ]
    }
   ],
   "source": [
    "a=2\n",
    "b=7\n",
    "if a==b:\n",
    "    print(\"beraberdir\")\n",
    "else:\n",
    "    print(\"beraber deyil\")"
   ]
  },
  {
   "cell_type": "code",
   "execution_count": 14,
   "id": "a7785fd9-b47e-42dd-909c-04ba8bfeea1d",
   "metadata": {},
   "outputs": [
    {
     "name": "stdin",
     "output_type": "stream",
     "text": [
      "Eded daxil edin: 6\n"
     ]
    },
    {
     "name": "stdout",
     "output_type": "stream",
     "text": [
      "6 sifirdan böyükdür\n"
     ]
    }
   ],
   "source": [
    "a=int(input(\"Eded daxil edin:\"))\n",
    "if a<0:\n",
    "    print(a,\"sifirdan kiçikdir\")\n",
    "elif a==0:\n",
    "    print(a,\"sifira beraberdir\")\n",
    "else :\n",
    "    print(a,\"sifirdan böyükdür\")"
   ]
  },
  {
   "cell_type": "code",
   "execution_count": 15,
   "id": "f158c935-519e-4691-892f-045c22cec829",
   "metadata": {},
   "outputs": [
    {
     "name": "stdout",
     "output_type": "stream",
     "text": [
      "111 100-dən böyükdür\n"
     ]
    }
   ],
   "source": [
    "a=35\n",
    "b=76\n",
    "if a+b<100:\n",
    "    print(a+b,\"100-dən kiçikdir\")\n",
    "elif a+b==100:\n",
    "    print(a+b,\"100-ə beraberdir\")\n",
    "else :\n",
    "    print(a+b,\"100-dən böyükdür\")"
   ]
  },
  {
   "cell_type": "code",
   "execution_count": 16,
   "id": "61cc5c86-65e4-4fef-8b0a-ec37e24c74d8",
   "metadata": {},
   "outputs": [
    {
     "name": "stdin",
     "output_type": "stream",
     "text": [
      "Eded daxil edin: 500\n"
     ]
    },
    {
     "name": "stdout",
     "output_type": "stream",
     "text": [
      "500 100-ə tam bölünür\n"
     ]
    }
   ],
   "source": [
    "a=int(input(\"Eded daxil edin:\"))\n",
    "if a//100:\n",
    "    print(a,\"100-ə tam bölünür\")"
   ]
  },
  {
   "cell_type": "code",
   "execution_count": 17,
   "id": "19815a8d-f086-488f-a643-2127e26240c0",
   "metadata": {},
   "outputs": [
    {
     "name": "stdout",
     "output_type": "stream",
     "text": [
      "Dördbucağın sahəsi: 35\n",
      "Dördbucağın permitri: 24\n"
     ]
    }
   ],
   "source": [
    "a=7\n",
    "b=5\n",
    "S=a*b\n",
    "P=(a+b)*2\n",
    "print(\"Dördbucağın sahəsi:\",S)\n",
    "print(\"Dördbucağın permitri:\",P)"
   ]
  },
  {
   "cell_type": "code",
   "execution_count": 18,
   "id": "0654f423-ec51-47f6-a6cc-74d8234c4ede",
   "metadata": {},
   "outputs": [
    {
     "name": "stdout",
     "output_type": "stream",
     "text": [
      "Dəyişənin qiyməti: True\n"
     ]
    }
   ],
   "source": [
    "a=True\n",
    "print(\"Dəyişənin qiyməti:\",a)"
   ]
  },
  {
   "cell_type": "code",
   "execution_count": 19,
   "id": "75c76cd5-0411-484c-bddd-5a286ea7e02e",
   "metadata": {},
   "outputs": [
    {
     "name": "stdout",
     "output_type": "stream",
     "text": [
      "False\n"
     ]
    }
   ],
   "source": [
    "a=True\n",
    "b= not a\n",
    "print(b)"
   ]
  },
  {
   "cell_type": "code",
   "execution_count": 20,
   "id": "d9c6b095-2ecc-4c9e-ba6e-6e2d779f6377",
   "metadata": {},
   "outputs": [
    {
     "name": "stdout",
     "output_type": "stream",
     "text": [
      "False\n"
     ]
    }
   ],
   "source": [
    "a=True\n",
    "b= not a\n",
    "print(b)"
   ]
  },
  {
   "cell_type": "code",
   "execution_count": 21,
   "id": "67bcfb0d-80ad-4f5d-bccd-f9ae2047e308",
   "metadata": {},
   "outputs": [
    {
     "name": "stdin",
     "output_type": "stream",
     "text": [
      "Eded daxil edin: 15\n"
     ]
    },
    {
     "name": "stdout",
     "output_type": "stream",
     "text": [
      "15 bölünmür\n"
     ]
    }
   ],
   "source": [
    "a=int(input(\"Eded daxil edin:\"))\n",
    "if a%5==0 and a%8==0:\n",
    "    print(a,\"bölünür\")\n",
    "else:\n",
    "    print(a,\"bölünmür\")"
   ]
  },
  {
   "cell_type": "code",
   "execution_count": 22,
   "id": "df249eb7-9204-40e0-87ea-9b3cbad27bb0",
   "metadata": {},
   "outputs": [
    {
     "name": "stdin",
     "output_type": "stream",
     "text": [
      "Şifrəni daxil edin: secret\n"
     ]
    },
    {
     "name": "stdout",
     "output_type": "stream",
     "text": [
      "Xoş glmisiniz!\n"
     ]
    }
   ],
   "source": [
    "a=input(\"Şifrəni daxil edin:\")\n",
    "if a==\"secret\" or a==\"anonim\":\n",
    "    print(\"Xoş glmisiniz!\")\n",
    "else:\n",
    "    print(\"HACKER\")"
   ]
  },
  {
   "cell_type": "code",
   "execution_count": 23,
   "id": "ccfc86dd-387d-493b-9767-7cbe6cf27bc2",
   "metadata": {},
   "outputs": [
    {
     "name": "stdout",
     "output_type": "stream",
     "text": [
      "0\n",
      "1\n",
      "2\n",
      "3\n",
      "4\n",
      "5\n",
      "6\n",
      "7\n",
      "8\n",
      "9\n",
      "10\n"
     ]
    }
   ],
   "source": [
    "for i in range(11):\n",
    "    print(i)"
   ]
  },
  {
   "cell_type": "code",
   "execution_count": 24,
   "id": "27f7a73c-4250-4729-aebd-94bff4f6fc88",
   "metadata": {},
   "outputs": [
    {
     "name": "stdout",
     "output_type": "stream",
     "text": [
      "0\n",
      "4\n",
      "8\n",
      "12\n",
      "16\n",
      "20\n",
      "24\n",
      "28\n",
      "32\n",
      "36\n",
      "40\n",
      "44\n",
      "48\n",
      "52\n",
      "56\n",
      "60\n",
      "64\n",
      "68\n",
      "72\n",
      "76\n",
      "80\n",
      "84\n",
      "88\n",
      "92\n",
      "96\n"
     ]
    }
   ],
   "source": [
    "for i in range(0,100,4):\n",
    "    print(i)"
   ]
  },
  {
   "cell_type": "code",
   "execution_count": 25,
   "id": "21970321-beec-4be1-8306-2c0ec738aae6",
   "metadata": {},
   "outputs": [
    {
     "name": "stdin",
     "output_type": "stream",
     "text": [
      "Eded daxil edin: 5\n"
     ]
    },
    {
     "name": "stdout",
     "output_type": "stream",
     "text": [
      "0\n",
      "1\n",
      "2\n",
      "3\n",
      "4\n"
     ]
    }
   ],
   "source": [
    "a=int(input(\"Eded daxil edin:\"))\n",
    "for i in range(0,a):\n",
    "    print(i)"
   ]
  },
  {
   "cell_type": "code",
   "execution_count": 26,
   "id": "f8225e95-0076-41b9-b98e-0dc9ee900d50",
   "metadata": {},
   "outputs": [
    {
     "name": "stdin",
     "output_type": "stream",
     "text": [
      "Eded daxil edin: 3\n",
      "Eded daxil edin: 7\n"
     ]
    },
    {
     "name": "stdout",
     "output_type": "stream",
     "text": [
      "3\n",
      "4\n",
      "5\n",
      "6\n"
     ]
    }
   ],
   "source": [
    "a=int(input(\"Eded daxil edin:\"))\n",
    "b=int(input(\"Eded daxil edin:\"))\n",
    "for i in range(a,b):\n",
    "    print(i)"
   ]
  },
  {
   "cell_type": "code",
   "execution_count": 27,
   "id": "b51d3121-ef25-469d-8d23-a8319ad75ce7",
   "metadata": {},
   "outputs": [
    {
     "name": "stdout",
     "output_type": "stream",
     "text": [
      "Ədədlərin cəmi: 4950\n"
     ]
    }
   ],
   "source": [
    "a=0\n",
    "for i in range(0,100):\n",
    "    a+=i\n",
    "print(\"Ədədlərin cəmi:\",a)"
   ]
  },
  {
   "cell_type": "code",
   "execution_count": 28,
   "id": "b512cb98-2da2-4917-b8d5-d2c32b7aabd2",
   "metadata": {},
   "outputs": [
    {
     "name": "stdout",
     "output_type": "stream",
     "text": [
      "15\n",
      "30\n",
      "45\n",
      "60\n",
      "75\n",
      "90\n"
     ]
    }
   ],
   "source": [
    "for i in range(1, 101):\n",
    "    if i % 5 == 0 and i % 3 == 0:\n",
    "        print(i)"
   ]
  },
  {
   "cell_type": "code",
   "execution_count": 30,
   "id": "e34bca72-54c1-4df0-976e-11cc9bdaa9e4",
   "metadata": {},
   "outputs": [
    {
     "name": "stdin",
     "output_type": "stream",
     "text": [
      "Eded daxil edin: 10\n"
     ]
    },
    {
     "name": "stdout",
     "output_type": "stream",
     "text": [
      "0\n",
      "10\n",
      "20\n",
      "30\n",
      "40\n",
      "50\n",
      "60\n",
      "70\n",
      "80\n",
      "90\n"
     ]
    }
   ],
   "source": [
    "a=int(input(\"Eded daxil edin:\"))\n",
    "for i in range(0,100):\n",
    "    if i%a==0:\n",
    "        print(i)"
   ]
  },
  {
   "cell_type": "code",
   "execution_count": 32,
   "id": "81b2687b-9afe-4920-8c92-143a23b29eee",
   "metadata": {},
   "outputs": [
    {
     "name": "stdin",
     "output_type": "stream",
     "text": [
      "Eded daxil edin: 0\n",
      "Eded daxil edin: 100\n",
      "Eded daxil edin: 15\n"
     ]
    },
    {
     "name": "stdout",
     "output_type": "stream",
     "text": [
      "0\n",
      "15\n",
      "30\n",
      "45\n",
      "60\n",
      "75\n",
      "90\n"
     ]
    }
   ],
   "source": [
    "a=int(input(\"Eded daxil edin:\"))\n",
    "b=int(input(\"Eded daxil edin:\"))\n",
    "c=int(input(\"Eded daxil edin:\"))\n",
    "for i in range(a,b):\n",
    "    if i%c==0:\n",
    "        print(i)\n",
    "        "
   ]
  },
  {
   "cell_type": "code",
   "execution_count": 33,
   "id": "9b13dccf-868a-4711-831d-8a76144a5c90",
   "metadata": {},
   "outputs": [
    {
     "name": "stdout",
     "output_type": "stream",
     "text": [
      "[5, 12, 34]\n"
     ]
    }
   ],
   "source": [
    "a=[5,12,34]\n",
    "print(a)"
   ]
  },
  {
   "cell_type": "code",
   "execution_count": 34,
   "id": "0d3eaab5-8168-4ffd-8cad-60b30cba2280",
   "metadata": {},
   "outputs": [
    {
     "name": "stdout",
     "output_type": "stream",
     "text": [
      "22\n"
     ]
    }
   ],
   "source": [
    "a=[5,12,22,34]\n",
    "print(a[2])"
   ]
  },
  {
   "cell_type": "code",
   "execution_count": 35,
   "id": "93990a25-f53e-4aa5-8ae5-fad84c1c903d",
   "metadata": {},
   "outputs": [
    {
     "name": "stdout",
     "output_type": "stream",
     "text": [
      "[5, 12, 22]\n"
     ]
    }
   ],
   "source": [
    "a=[5,12,22,34,50]\n",
    "print(a[0:3])"
   ]
  },
  {
   "cell_type": "code",
   "execution_count": 36,
   "id": "62d6de5b-915e-4851-9231-be00efe9d441",
   "metadata": {},
   "outputs": [
    {
     "name": "stdout",
     "output_type": "stream",
     "text": [
      "5\n",
      "12\n",
      "22\n",
      "34\n",
      "50\n"
     ]
    }
   ],
   "source": [
    "a=[5,12,22,34,50]\n",
    "for i in a:\n",
    "    print(i)"
   ]
  },
  {
   "cell_type": "code",
   "execution_count": 37,
   "id": "66212955-75b8-4e03-a461-452b86a0570b",
   "metadata": {},
   "outputs": [
    {
     "name": "stdout",
     "output_type": "stream",
     "text": [
      "(0, 'a')\n",
      "(1, 'b')\n",
      "(2, 'c')\n"
     ]
    }
   ],
   "source": [
    "herfler=['a','b','c']\n",
    "for herf in enumerate(herfler):\n",
    "    print(herf)"
   ]
  },
  {
   "cell_type": "code",
   "execution_count": 38,
   "id": "7744e944-3a9b-40e7-8c07-87d207ba8362",
   "metadata": {},
   "outputs": [
    {
     "name": "stdout",
     "output_type": "stream",
     "text": [
      "[0, 1, 2, 3, 4, 5, 6, 7, 8, 9]\n"
     ]
    }
   ],
   "source": [
    "list = []\n",
    "\n",
    "for i in range(0,10):\n",
    "\tlist.append(i)\n",
    "\n",
    "print(list)\n"
   ]
  },
  {
   "cell_type": "code",
   "execution_count": 39,
   "id": "93ba9a73-a1ff-4bff-8c88-33361b0ca01e",
   "metadata": {},
   "outputs": [
    {
     "name": "stdin",
     "output_type": "stream",
     "text": [
      "Eded daxil edin: 7\n"
     ]
    },
    {
     "name": "stdout",
     "output_type": "stream",
     "text": [
      "[0, 1, 2, 3, 4, 5, 6]\n"
     ]
    }
   ],
   "source": [
    "list = []\n",
    "a=int(input(\"Eded daxil edin:\"))\n",
    "\n",
    "for i in range(0,a):\n",
    "\tlist.append(i)\n",
    "\n",
    "print(list)"
   ]
  },
  {
   "cell_type": "code",
   "execution_count": 40,
   "id": "9a9ecf39-cadc-4356-94ed-894c1f0060ac",
   "metadata": {},
   "outputs": [
    {
     "name": "stdin",
     "output_type": "stream",
     "text": [
      "Eded daxil edin: 1\n",
      "Eded daxil edin: 9\n"
     ]
    },
    {
     "name": "stdout",
     "output_type": "stream",
     "text": [
      "[1, 2, 3, 4, 5, 6, 7, 8]\n"
     ]
    }
   ],
   "source": [
    "list = []\n",
    "a=int(input(\"Eded daxil edin:\"))\n",
    "b=int(input(\"Eded daxil edin:\"))\n",
    "\n",
    "for i in range(a,b):\n",
    "\tlist.append(i)\n",
    "print(list)"
   ]
  },
  {
   "cell_type": "code",
   "execution_count": 41,
   "id": "fd07e737-e4f7-43f9-94fa-060d6c810dcd",
   "metadata": {},
   "outputs": [
    {
     "name": "stdin",
     "output_type": "stream",
     "text": [
      "Eded daxil edin: 10\n",
      "Eded daxil edin: 60\n"
     ]
    },
    {
     "name": "stdout",
     "output_type": "stream",
     "text": [
      "Cüt ədədlər: [10, 12, 14, 16, 18, 20, 22, 24, 26, 28, 30, 32, 34, 36, 38, 40, 42, 44, 46, 48, 50, 52, 54, 56, 58]\n"
     ]
    }
   ],
   "source": [
    "list = []\n",
    "a=int(input(\"Eded daxil edin:\"))\n",
    "b=int(input(\"Eded daxil edin:\"))\n",
    "for i in range(a,b):\n",
    "    if i % 2 == 0:\n",
    "        list.append(i)\n",
    "print(\"Cüt ədədlər:\",list)        "
   ]
  },
  {
   "cell_type": "code",
   "execution_count": 49,
   "id": "cc037ed9-6ff3-4ee9-a543-00fe758f685c",
   "metadata": {},
   "outputs": [
    {
     "name": "stdout",
     "output_type": "stream",
     "text": [
      "100\n",
      "98\n",
      "96\n",
      "94\n",
      "92\n",
      "90\n",
      "88\n",
      "86\n",
      "84\n",
      "82\n",
      "80\n",
      "78\n",
      "76\n",
      "74\n",
      "72\n",
      "70\n",
      "68\n",
      "66\n",
      "64\n",
      "62\n",
      "60\n",
      "58\n",
      "56\n",
      "54\n",
      "52\n",
      "50\n",
      "48\n",
      "46\n",
      "44\n",
      "42\n",
      "40\n",
      "38\n",
      "36\n",
      "34\n",
      "32\n",
      "30\n",
      "28\n",
      "26\n",
      "24\n",
      "22\n",
      "20\n",
      "18\n",
      "16\n",
      "14\n",
      "12\n",
      "10\n",
      "8\n",
      "6\n",
      "4\n",
      "2\n"
     ]
    }
   ],
   "source": [
    "for i in range(100,0,-2):\n",
    "    print(i)"
   ]
  },
  {
   "cell_type": "code",
   "execution_count": 50,
   "id": "26401ebe-7307-4041-938a-add32dc055e9",
   "metadata": {},
   "outputs": [
    {
     "name": "stdout",
     "output_type": "stream",
     "text": [
      "[0, 3, 6, 9, 12, 15, 18, 21, 24, 27]\n"
     ]
    }
   ],
   "source": [
    "list=[]\n",
    "for i in range(0,30):\n",
    "    if i%3==0:\n",
    "        list.append(i)\n",
    "print(list)"
   ]
  },
  {
   "cell_type": "code",
   "execution_count": 51,
   "id": "c7e969ea-801c-4960-b92d-376411faeb69",
   "metadata": {},
   "outputs": [
    {
     "name": "stdout",
     "output_type": "stream",
     "text": [
      "2448\n"
     ]
    }
   ],
   "source": [
    "a=8\n",
    "b=9\n",
    "S=a*b\n",
    "P=(a+b)*2\n",
    "print(S*P)"
   ]
  },
  {
   "cell_type": "code",
   "execution_count": null,
   "id": "5ca12f77-9043-4f02-9fcc-beb5c782fe56",
   "metadata": {},
   "outputs": [],
   "source": []
  }
 ],
 "metadata": {
  "kernelspec": {
   "display_name": "Python 3 (ipykernel)",
   "language": "python",
   "name": "python3"
  },
  "language_info": {
   "codemirror_mode": {
    "name": "ipython",
    "version": 3
   },
   "file_extension": ".py",
   "mimetype": "text/x-python",
   "name": "python",
   "nbconvert_exporter": "python",
   "pygments_lexer": "ipython3",
   "version": "3.11.7"
  }
 },
 "nbformat": 4,
 "nbformat_minor": 5
}
