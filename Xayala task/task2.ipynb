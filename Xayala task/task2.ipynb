{
 "cells": [
  {
   "cell_type": "code",
   "execution_count": 1,
   "id": "025f9e2b-80d7-41a0-8639-34ba0642816e",
   "metadata": {},
   "outputs": [
    {
     "name": "stdout",
     "output_type": "stream",
     "text": [
      "yaşların fərgi: 1\n",
      "yaşların cəmi: 41\n"
     ]
    }
   ],
   "source": [
    "a=21\n",
    "b=20\n",
    "print(\"yaşların fərgi:\",a-b)\n",
    "print(\"yaşların cəmi:\",a+b)"
   ]
  },
  {
   "cell_type": "code",
   "execution_count": 3,
   "id": "1049b7c0-828b-4fe7-bbb8-16fc82e68fd5",
   "metadata": {},
   "outputs": [
    {
     "name": "stdin",
     "output_type": "stream",
     "text": [
      "Ad daxil edin: Xeyale\n"
     ]
    },
    {
     "name": "stdout",
     "output_type": "stream",
     "text": [
      "Salam,Xeyale\n"
     ]
    }
   ],
   "source": [
    "a=input(\"Ad daxil edin:\")\n",
    "if a==\"Xeyale\":\n",
    "    print(\"Salam,Xeyale\")\n"
   ]
  },
  {
   "cell_type": "code",
   "execution_count": 6,
   "id": "ad65e900-5332-480c-a6ce-0ea0d90555d7",
   "metadata": {},
   "outputs": [
    {
     "name": "stdin",
     "output_type": "stream",
     "text": [
      "yan tərəfin ölçüsünü daxil edin: 10\n"
     ]
    },
    {
     "name": "stdout",
     "output_type": "stream",
     "text": [
      "Kubun sahesi: 600\n"
     ]
    }
   ],
   "source": [
    "s=int(input(\"yan tərəfin ölçüsünü daxil edin:\"))\n",
    "S=6*s**2\n",
    "print(\"Kubun sahesi:\",S)\n"
   ]
  },
  {
   "cell_type": "code",
   "execution_count": 11,
   "id": "b2b4a307-fd5c-4e7f-8216-418196d41e88",
   "metadata": {},
   "outputs": [
    {
     "name": "stdin",
     "output_type": "stream",
     "text": [
      "yan tərəfin ölçüsünü daxil edin: 2\n"
     ]
    },
    {
     "name": "stdout",
     "output_type": "stream",
     "text": [
      "Sferanın sahəsi: 50.24\n",
      "Sferanın həcmi: 25.12\n"
     ]
    }
   ],
   "source": [
    "r=int(input(\"yan tərəfin ölçüsünü daxil edin:\"))\n",
    "S=4*3.14*r**2\n",
    "V=4//3*3.14*r**3\n",
    "print(\"Sferanın sahəsi:\",S)\n",
    "print(\"Sferanın həcmi:\",V)"
   ]
  },
  {
   "cell_type": "code",
   "execution_count": 24,
   "id": "a804032b-e69c-48eb-8996-b49acdcabf99",
   "metadata": {},
   "outputs": [
    {
     "name": "stdin",
     "output_type": "stream",
     "text": [
      "yan tərəfin ölçüsünü daxil edin: 10\n",
      "yan tərəfin ölçüsünü daxil edin: 10\n",
      "yan tərəfin ölçüsünü daxil edin: 5\n"
     ]
    },
    {
     "name": "stdout",
     "output_type": "stream",
     "text": [
      "0.001953125\n"
     ]
    }
   ],
   "source": [
    "a=int(input(\"yan tərəfin ölçüsünü daxil edin:\"))\n",
    "b=int(input(\"yan tərəfin ölçüsünü daxil edin:\"))\n",
    "c=int(input(\"yan tərəfin ölçüsünü daxil edin:\"))\n",
    "N=a*(1/2)**b/c\n",
    "print(N)"
   ]
  },
  {
   "cell_type": "code",
   "execution_count": 6,
   "id": "f70c2a74-8e7d-4ccb-8da8-fe2f293d6f8f",
   "metadata": {},
   "outputs": [
    {
     "name": "stdin",
     "output_type": "stream",
     "text": [
      "Bir ədəd daxil edin:  2\n"
     ]
    },
    {
     "name": "stdout",
     "output_type": "stream",
     "text": [
      "2 ədədinin indeksi: 2\n"
     ]
    }
   ],
   "source": [
    "reqemler= list(range(5))\n",
    "a= int(input(\"Bir ədəd daxil edin: \"))\n",
    "if a in reqemler:\n",
    "    index = reqemler.index(a)\n",
    "    print(f\"{a} ədədinin indeksi: {index}\")\n",
    "else:\n",
    "    print(\"Daxil etdiyiniz ədəd 0-100 aralığında deyil.\")"
   ]
  },
  {
   "cell_type": "code",
   "execution_count": 1,
   "id": "d9d4f2e0-915f-4721-9498-f6decbe9d3bd",
   "metadata": {},
   "outputs": [
    {
     "name": "stdout",
     "output_type": "stream",
     "text": [
      "esmer\n"
     ]
    }
   ],
   "source": [
    "a = [\"fuad\", \"xeyale\", \"esmer\", \"nicat\"]\n",
    "for i in a:\n",
    "    if \"a\" not in i:\n",
    "        print(i)"
   ]
  },
  {
   "cell_type": "code",
   "execution_count": null,
   "id": "ac4e8aca-caf3-4d2a-916e-7454099446b2",
   "metadata": {},
   "outputs": [],
   "source": []
  }
 ],
 "metadata": {
  "kernelspec": {
   "display_name": "Python 3 (ipykernel)",
   "language": "python",
   "name": "python3"
  },
  "language_info": {
   "codemirror_mode": {
    "name": "ipython",
    "version": 3
   },
   "file_extension": ".py",
   "mimetype": "text/x-python",
   "name": "python",
   "nbconvert_exporter": "python",
   "pygments_lexer": "ipython3",
   "version": "3.11.7"
  }
 },
 "nbformat": 4,
 "nbformat_minor": 5
}
