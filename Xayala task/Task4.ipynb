{
 "cells": [
  {
   "cell_type": "markdown",
   "id": "01537a9c",
   "metadata": {},
   "source": [
    "## Easy"
   ]
  },
  {
   "cell_type": "markdown",
   "id": "594808d6",
   "metadata": {},
   "source": [
    "Task1\n",
    "Get the user's name and display how many letters are in the name."
   ]
  },
  {
   "cell_type": "code",
   "execution_count": 189,
   "id": "1681661b",
   "metadata": {},
   "outputs": [
    {
     "name": "stdin",
     "output_type": "stream",
     "text": [
      "Ad daxil edin: Xeyale\n"
     ]
    },
    {
     "name": "stdout",
     "output_type": "stream",
     "text": [
      "Adınızda 6 herf var.\n"
     ]
    }
   ],
   "source": [
    "a=input('Ad daxil edin:')\n",
    "herf_sayi=len(a)\n",
    "print(f\"Adınızda {herf_sayi} herf var.\")"
   ]
  },
  {
   "cell_type": "markdown",
   "id": "a76edb42",
   "metadata": {},
   "source": [
    "Task2 \n",
    "Get the user's favourite movie and display each letter on new line."
   ]
  },
  {
   "cell_type": "code",
   "execution_count": 191,
   "id": "78bc11b9",
   "metadata": {},
   "outputs": [
    {
     "name": "stdin",
     "output_type": "stream",
     "text": [
      "Film daxil edin Smile\n"
     ]
    },
    {
     "name": "stdout",
     "output_type": "stream",
     "text": [
      "S\n",
      "m\n",
      "i\n",
      "l\n",
      "e\n"
     ]
    }
   ],
   "source": [
    "movie=input('Film daxil edin')\n",
    "for i in movie:\n",
    "    print(i)"
   ]
  },
  {
   "attachments": {},
   "cell_type": "markdown",
   "id": "38f6a77a-adc5-4212-8678-087d7ee0114d",
   "metadata": {},
   "source": [
    "Task3\n",
    "Ask a user for a sentence. Display each word of the sentence on new line."
   ]
  },
  {
   "cell_type": "code",
   "execution_count": 192,
   "id": "d68c1ff5",
   "metadata": {},
   "outputs": [
    {
     "name": "stdin",
     "output_type": "stream",
     "text": [
      "Cümle daxil edin: Bugün hava çok güzel ve parkta yürüyüş yapmak için harika bir gün.\n"
     ]
    },
    {
     "name": "stdout",
     "output_type": "stream",
     "text": [
      "Bugün\n",
      "hava\n",
      "çok\n",
      "güzel\n",
      "ve\n",
      "parkta\n",
      "yürüyüş\n",
      "yapmak\n",
      "için\n",
      "harika\n",
      "bir\n",
      "gün.\n"
     ]
    }
   ],
   "source": [
    "sentence=input('Cümle daxil edin:')\n",
    "for i in sentence.split(\" \"):\n",
    "    print(i)"
   ]
  },
  {
   "attachments": {},
   "cell_type": "markdown",
   "id": "c4f1fb20",
   "metadata": {},
   "source": [
    "Task4 Ask a user for a text. Display each sentence of the text on new line."
   ]
  },
  {
   "cell_type": "code",
   "execution_count": 18,
   "id": "80e41406",
   "metadata": {},
   "outputs": [
    {
     "name": "stdin",
     "output_type": "stream",
     "text": [
      "Text yazin: The lion inhabits grasslands, savannahs, and shrublands.Other lion subspecies or sister species to the modern lion existed in prehistoric times.The lion is an apex and keystone predator.\n"
     ]
    },
    {
     "name": "stdout",
     "output_type": "stream",
     "text": [
      "The lion inhabits grasslands, savannahs, and shrublands\n",
      "Other lion subspecies or sister species to the modern lion existed in prehistoric times\n",
      "The lion is an apex and keystone predator\n",
      "\n"
     ]
    }
   ],
   "source": [
    "text=input('Text yazin:')\n",
    "for i in text.split(\".\"):\n",
    "    print(i)"
   ]
  },
  {
   "attachments": {},
   "cell_type": "markdown",
   "id": "2fae2f93",
   "metadata": {},
   "source": [
    "Ask a user for a name. If name starts with the letter \"z\" display the message \"Rare name\". The program must be case-insensitive."
   ]
  },
  {
   "cell_type": "code",
   "execution_count": 193,
   "id": "144943d0",
   "metadata": {},
   "outputs": [
    {
     "name": "stdin",
     "output_type": "stream",
     "text": [
      "Ad daxil edin: zeyneb\n"
     ]
    },
    {
     "name": "stdout",
     "output_type": "stream",
     "text": [
      "Rare name\n"
     ]
    }
   ],
   "source": [
    "name=input(\"Ad daxil edin:\")\n",
    "for i in name:\n",
    "    if i[0]==\"z\":\n",
    "        print(\"Rare name\")"
   ]
  },
  {
   "cell_type": "markdown",
   "id": "18bd9e56",
   "metadata": {},
   "source": [
    "As a user for a text and count the amount of vowels and consonants in the text."
   ]
  },
  {
   "cell_type": "code",
   "execution_count": 194,
   "id": "0ab27af6",
   "metadata": {},
   "outputs": [
    {
     "name": "stdin",
     "output_type": "stream",
     "text": [
      "Text daxil edin: Salam Samir otaq haradadir?\n"
     ]
    },
    {
     "name": "stdout",
     "output_type": "stream",
     "text": [
      "textde saitlerin sayi:10\n",
      "textde samitlerin sayi:17\n"
     ]
    }
   ],
   "source": [
    "text=input('Text daxil edin:')\n",
    "sait='aioöuüeəıAİOÖUÜEƏ'\n",
    "sait_sayi=0\n",
    "samit_sayi=0\n",
    "\n",
    "for i in text:\n",
    "    if i in sait:\n",
    "        sait_sayi+=1\n",
    "    else:\n",
    "        samit_sayi+=1\n",
    "print(f'textde saitlerin sayi:{sait_sayi}')\n",
    "print(f'textde samitlerin sayi:{samit_sayi}')"
   ]
  },
  {
   "cell_type": "markdown",
   "id": "3ef0dd3c",
   "metadata": {},
   "source": [
    "As a user for a sentence and display how many special characters (?, ., ', *, etc.) are in the sentence."
   ]
  },
  {
   "cell_type": "code",
   "execution_count": 36,
   "id": "3ef2d8d2",
   "metadata": {},
   "outputs": [
    {
     "name": "stdin",
     "output_type": "stream",
     "text": [
      "Text daxil edin: Salam!!Siz ne vaxt gedeceksiniz?\n"
     ]
    },
    {
     "name": "stdout",
     "output_type": "stream",
     "text": [
      "Textdeki simvol sayi:3\n"
     ]
    }
   ],
   "source": [
    "text=input('Text daxil edin:')\n",
    "simvol='!()/.?,:;[]\\%*'\n",
    "simvol_sayi=0\n",
    "\n",
    "for i in text:\n",
    "    if i in simvol:\n",
    "        simvol_sayi+=1\n",
    "print(f'Textdeki simvol sayi:{simvol_sayi}')\n",
    "    "
   ]
  },
  {
   "cell_type": "markdown",
   "id": "3a2aab12",
   "metadata": {},
   "source": [
    "You are given a list. Join the elements of a list into one string value and display it."
   ]
  },
  {
   "cell_type": "code",
   "execution_count": 165,
   "id": "b839bb4f",
   "metadata": {},
   "outputs": [],
   "source": [
    "\"\"\"\n",
    "LIST 1\n",
    "\"\"\"\n",
    "values = [\"Hello\", \"100\", \"spartans\", \"lost\", \"the\", \"battle\", \"in\", \"100\", \"BC\",\"23\"]\n"
   ]
  },
  {
   "cell_type": "code",
   "execution_count": 2,
   "id": "d6c3abdd",
   "metadata": {},
   "outputs": [],
   "source": [
    "\"\"\"\n",
    "LIST 2\n",
    "\"\"\"\n",
    "values = [\"Hello\", 100, \"spartans\", \"lost\", \"the\", \"battle\", \"in\", 100, \"BC\"]"
   ]
  },
  {
   "cell_type": "markdown",
   "id": "2945df8e",
   "metadata": {},
   "source": [
    "The user inputs an integer value. Display how many digits are in the integer."
   ]
  },
  {
   "cell_type": "code",
   "execution_count": 61,
   "id": "695aaf28",
   "metadata": {},
   "outputs": [
    {
     "name": "stdin",
     "output_type": "stream",
     "text": [
      "Eded daxil edin: 2356\n"
     ]
    },
    {
     "name": "stdout",
     "output_type": "stream",
     "text": [
      "4\n"
     ]
    }
   ],
   "source": [
    "a=input('Eded daxil edin:')\n",
    "reqemler='0123456789'\n",
    "reqem_sayi=0\n",
    "for i in a:\n",
    "    if i in reqemler:\n",
    "        reqem_sayi+=1\n",
    "print(reqem_sayi)"
   ]
  },
  {
   "cell_type": "markdown",
   "id": "ec71c5a3",
   "metadata": {},
   "source": [
    "Ask a user for a text input and extract all digits to a new string.\n",
    "\n",
    "Example\n",
    "\n",
    "Input: I am 20 years old\n",
    "\n",
    "Output: 20"
   ]
  },
  {
   "cell_type": "code",
   "execution_count": 195,
   "id": "aab62ad3",
   "metadata": {},
   "outputs": [
    {
     "name": "stdin",
     "output_type": "stream",
     "text": [
      "soz daxil edin Menim 20 yasim var\n"
     ]
    },
    {
     "name": "stdout",
     "output_type": "stream",
     "text": [
      "20"
     ]
    }
   ],
   "source": [
    "text=input(\"soz daxil edin\")\n",
    "for i in text:\n",
    "    if i in \"0123456789\":\n",
    "        print (i,end='')"
   ]
  },
  {
   "cell_type": "markdown",
   "id": "d31d062e",
   "metadata": {},
   "source": [
    "## Intermediate"
   ]
  },
  {
   "cell_type": "markdown",
   "id": "57a752db",
   "metadata": {},
   "source": [
    "The user inputs a text and then one letter. There must be only one letter. Get the user's letter input while condition is unsatisfied. The program must count the amount of occurances of this letter in the inputted text."
   ]
  },
  {
   "cell_type": "code",
   "execution_count": 73,
   "id": "5620cb70",
   "metadata": {},
   "outputs": [
    {
     "name": "stdin",
     "output_type": "stream",
     "text": [
      "text daxil edin İstifadəçi bir mətn və sonra bir hərf daxil edir. Yalnız bir hərf olmalıdır. Şərt qane edilmədikdə istifadəçinin məktubu daxil edin. \n",
      "herf daxil edin ə\n"
     ]
    },
    {
     "name": "stdout",
     "output_type": "stream",
     "text": [
      "10\n"
     ]
    }
   ],
   "source": [
    "text=input(\"text daxil edin\")\n",
    "herf=input(\"herf daxil edin\")\n",
    "herf_sayi=0\n",
    "for i in text:\n",
    "    if i==herf:\n",
    "        herf_sayi+=1\n",
    "print(herf_sayi)"
   ]
  },
  {
   "cell_type": "markdown",
   "id": "dc687f06",
   "metadata": {},
   "source": [
    "Get a text input from a user. And replace all \"e\" letters to \"$\". Display the result."
   ]
  },
  {
   "cell_type": "code",
   "execution_count": 199,
   "id": "74471d79",
   "metadata": {},
   "outputs": [
    {
     "name": "stdin",
     "output_type": "stream",
     "text": [
      "text daxil edin ELmler\n"
     ]
    },
    {
     "name": "stdout",
     "output_type": "stream",
     "text": [
      "$Lml$r"
     ]
    }
   ],
   "source": [
    "text=input(\"text daxil edin\")\n",
    "for i in text:\n",
    "    if i=='e' or i=='E':\n",
    "        i='$'\n",
    "    print(i,end='')"
   ]
  },
  {
   "cell_type": "markdown",
   "id": "b3a213fd",
   "metadata": {},
   "source": [
    "Get a two word input from the user, seperated by whitespace. Swap the first letters of each word.\n",
    "\n",
    "Example\n",
    "\n",
    "Sample String : 'rat founder'\n",
    "\n",
    "Expected Result : 'fat rounder'"
   ]
  },
  {
   "cell_type": "code",
   "execution_count": 215,
   "id": "2cfc8aaf",
   "metadata": {},
   "outputs": [
    {
     "name": "stdin",
     "output_type": "stream",
     "text": [
      "text daxil edin rat founder\n"
     ]
    },
    {
     "name": "stdout",
     "output_type": "stream",
     "text": [
      "fat rounder\n"
     ]
    }
   ],
   "source": [
    "text=input(\"text daxil edin\")\n",
    "a=''\n",
    "r = False\n",
    "f = False\n",
    "for i in text:\n",
    "    if i=='r' and not r :\n",
    "        a+='f'\n",
    "        r=True\n",
    "    elif i=='f' and not f:\n",
    "        a+='r'\n",
    "        f=True\n",
    "    else:\n",
    "        a+=i\n",
    "print(a)"
   ]
  },
  {
   "cell_type": "markdown",
   "id": "ae75790b",
   "metadata": {},
   "source": [
    "Get user input in the form of text. And find the longest word in the text."
   ]
  },
  {
   "cell_type": "code",
   "execution_count": 99,
   "id": "ff9ddf9f",
   "metadata": {},
   "outputs": [
    {
     "name": "stdin",
     "output_type": "stream",
     "text": [
      "Bir metin girin:  salam xeyale\n"
     ]
    },
    {
     "name": "stdout",
     "output_type": "stream",
     "text": [
      "En uzun soz:xeyale\n"
     ]
    }
   ],
   "source": [
    "text = input('Bir metin girin: ')\n",
    "words = text.split(' ')\n",
    "\n",
    "maks = words[0] \n",
    "\n",
    "for word in words:\n",
    "    if len(word) > len(maks):\n",
    "        maks = word\n",
    "\n",
    "print(f\"En uzun soz:{maks}\")"
   ]
  },
  {
   "cell_type": "markdown",
   "id": "d09839ca",
   "metadata": {},
   "source": [
    "Ask the user for a float input and display all digits upto 2 decimal places with a sign\n",
    "\n",
    "Example\n",
    "\n",
    "Input: 78885.93198123\n",
    "\n",
    "Output: 78885.93"
   ]
  },
  {
   "cell_type": "code",
   "execution_count": 188,
   "id": "e81868e7-d424-42b8-91ab-f018c8c80592",
   "metadata": {},
   "outputs": [
    {
     "name": "stdin",
     "output_type": "stream",
     "text": [
      "Eded daxil edin:  23.46789\n"
     ]
    },
    {
     "name": "stdout",
     "output_type": "stream",
     "text": [
      "23.468\n"
     ]
    }
   ],
   "source": [
    "eded =input(\"Eded daxil edin: \")\n",
    "for i in eded:\n",
    "    if i=='.':\n",
    "        a=float(eded)\n",
    "        print(f'{a:.3f}')"
   ]
  },
  {
   "cell_type": "markdown",
   "id": "ada6a490",
   "metadata": {},
   "source": [
    "##### Ask a user for an input and reverse it.\n",
    "\n",
    "Example\n",
    "\n",
    "Input: Science\n",
    "\n",
    "Output: Ecneics"
   ]
  },
  {
   "cell_type": "code",
   "execution_count": 221,
   "id": "61286b8c",
   "metadata": {},
   "outputs": [
    {
     "name": "stdin",
     "output_type": "stream",
     "text": [
      "text daxil edin science\n",
      "text daxil edin s\n",
      "text daxil edin e\n"
     ]
    },
    {
     "name": "stdout",
     "output_type": "stream",
     "text": [
      "ecisnce\n"
     ]
    }
   ],
   "source": [
    "text=input(\"text daxil edin\")\n",
    "a=input(\"text daxil edin\")\n",
    "b=input(\"text daxil edin\")\n",
    "new=''\n",
    "c = False\n",
    "d = False\n",
    "for i in text:\n",
    "    if i==a and not c:\n",
    "        new+=b\n",
    "        c=True\n",
    "    elif i==b and not d:\n",
    "        new+=a\n",
    "        d=True\n",
    "    else:\n",
    "        new+=i\n",
    "print(new)"
   ]
  },
  {
   "cell_type": "code",
   "execution_count": null,
   "id": "d2247441-f5ce-47a5-b3a5-2e8bb948fc91",
   "metadata": {},
   "outputs": [],
   "source": [
    "text=input(\"text daxil edin\")\n",
    "a=''\n",
    "r = False\n",
    "f = False\n",
    "for i in text:\n",
    "    if i=='r' and not r :\n",
    "        a+='f'\n",
    "        r=True\n",
    "    elif i=='f' and not f:\n",
    "        a+='r'\n",
    "        f=True\n",
    "    else:\n",
    "        a+=i\n",
    "print(a)"
   ]
  },
  {
   "cell_type": "markdown",
   "id": "54885dbb",
   "metadata": {},
   "source": [
    "Ask a user for an integer input and find the sum of its digits.\n",
    "\n",
    "Example\n",
    "\n",
    "Input: 2536\n",
    "\n",
    "Output: 2+5+3+6 = 16"
   ]
  },
  {
   "cell_type": "code",
   "execution_count": 128,
   "id": "d3f9d8be",
   "metadata": {},
   "outputs": [
    {
     "name": "stdin",
     "output_type": "stream",
     "text": [
      "eded daxil edin 345\n"
     ]
    },
    {
     "name": "stdout",
     "output_type": "stream",
     "text": [
      "12\n"
     ]
    }
   ],
   "source": [
    "eded=input(\"eded daxil edin\")\n",
    "cem=0\n",
    "for i in eded:\n",
    "    i=int(i)\n",
    "    cem += i\n",
    "print(cem)"
   ]
  },
  {
   "cell_type": "markdown",
   "id": "975c5fbf",
   "metadata": {},
   "source": [
    "Ask a user for an input and remove all consecutive duplicate occurences.\n",
    "\n",
    "Example\n",
    "\n",
    "Input: Ladder\n",
    "\n",
    "Output: Lader"
   ]
  },
  {
   "cell_type": "code",
   "execution_count": 130,
   "id": "1d970ae2",
   "metadata": {},
   "outputs": [
    {
     "name": "stdin",
     "output_type": "stream",
     "text": [
      "text daxil edin:  ladder\n"
     ]
    },
    {
     "name": "stdout",
     "output_type": "stream",
     "text": [
      "lader\n"
     ]
    }
   ],
   "source": [
    "text = input('text daxil edin: ')\n",
    "a = ''\n",
    "for i in text:\n",
    "    if i not in a:\n",
    "        a += i\n",
    "print(a)"
   ]
  },
  {
   "cell_type": "markdown",
   "id": "7931f544",
   "metadata": {},
   "source": [
    "Write a Python program that will check if all of the letters of the first string are in second string. Your code should ignore whitespace.\n",
    "\n",
    "Example:\n",
    "\n",
    "First: Tom Marvolo Riddle\n",
    "\n",
    "Second: IamLordVoldemort\n",
    "\n",
    "Condition is satisfied\n",
    "\n",
    "First: code\n",
    "\n",
    "Second: Decode\n",
    "\n",
    "Condition is satisfied\n",
    "\n",
    "First: Decode\n",
    "\n",
    "Second: code\n",
    "\n",
    "Condition is not satisfied"
   ]
  },
  {
   "cell_type": "code",
   "execution_count": 164,
   "id": "281eb2a3",
   "metadata": {},
   "outputs": [
    {
     "name": "stdin",
     "output_type": "stream",
     "text": [
      " Decode\n",
      " ciode\n"
     ]
    },
    {
     "name": "stdout",
     "output_type": "stream",
     "text": [
      "Condition is not satisfied\n"
     ]
    }
   ],
   "source": [
    "first=input('')\n",
    "second=input('')\n",
    "for i in second.split():\n",
    "    if first in i:\n",
    "        print('Condition is satisfied')\n",
    "    else:\n",
    "        print('Condition is not satisfied')"
   ]
  },
  {
   "cell_type": "markdown",
   "id": "93c780a7",
   "metadata": {},
   "source": [
    "Display unique characters in a user-inputted string.\n",
    "\n",
    "Example\n",
    "\n",
    "Input: I like flowers\n",
    "\n",
    "Output: i, l, k, e, f, o, w, r, s"
   ]
  },
  {
   "cell_type": "code",
   "execution_count": 158,
   "id": "c345ace1",
   "metadata": {},
   "outputs": [
    {
     "name": "stdin",
     "output_type": "stream",
     "text": [
      "text daxil edin:  i like flowers\n"
     ]
    },
    {
     "name": "stdout",
     "output_type": "stream",
     "text": [
      "i,  , l, k, e, f, o, w, r, s\n"
     ]
    }
   ],
   "source": [
    "text = input('text daxil edin: ')\n",
    "a = ''\n",
    "for i in text:\n",
    "    if i not in a:\n",
    "        a += i\n",
    "b= ', '.join(a)\n",
    "print(b)\n"
   ]
  },
  {
   "cell_type": "markdown",
   "id": "c4c5afd6",
   "metadata": {},
   "source": [
    "Recreate the following pattern\n",
    "\n",
    "1\n",
    "\n",
    "1 1\n",
    "\n",
    "1 1 1\n",
    "\n",
    "1 1 1 1\n",
    "\n",
    "1 1 1 1 1\n",
    "\n",
    "1 1 1 1\n",
    "\n",
    "1 1 1\n",
    "\n",
    "1 1\n",
    "\n",
    "1"
   ]
  }
 ],
 "metadata": {
  "kernelspec": {
   "display_name": "Python 3 (ipykernel)",
   "language": "python",
   "name": "python3"
  },
  "language_info": {
   "codemirror_mode": {
    "name": "ipython",
    "version": 3
   },
   "file_extension": ".py",
   "mimetype": "text/x-python",
   "name": "python",
   "nbconvert_exporter": "python",
   "pygments_lexer": "ipython3",
   "version": "3.11.7"
  }
 },
 "nbformat": 4,
 "nbformat_minor": 5
}
